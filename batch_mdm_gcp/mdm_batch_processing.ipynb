{
 "cells": [
  {
   "cell_type": "markdown",
   "metadata": {},
   "source": [
    "# Master Data Management (MDM) - BigQuery Native Batch Processing\n",
    "\n",
    "This notebook demonstrates a complete end-to-end Master Data Management pipeline using BigQuery's native capabilities:\n",
    "\n",
    "- **Data Generation**: Create realistic sample data with duplicates and variations\n",
    "- **Data Ingestion**: Load data into BigQuery from multiple sources\n",
    "- **Data Standardization**: Clean and normalize data using SQL\n",
    "- **Embedding Generation**: Use BigQuery ML with `gemini-embedding-001`\n",
    "- **Vector Indexing**: Create vector indexes for fast similarity search\n",
    "- **Entity Matching**: Implement exact, fuzzy, vector, business rules, and AI natural language matching\n",
    "- **Confidence Scoring**: Calculate match confidence and make decisions\n",
    "- **Golden Record Creation**: Generate master entities with survivorship rules\n",
    "- **Analysis & Visualization**: Analyze results and performance\n",
    "\n",
    "## Architecture Overview\n",
    "\n",
    "This implementation follows the batch processing path from the MDM architecture:\n",
    "1. **Files/APIs/Databases** → **BigQuery Raw Tables**\n",
    "2. **BigQuery Standardization** → **BigQuery Staging**\n",
    "3. **BigQuery ML Embeddings** → **BigQuery with Embeddings**\n",
    "4. **BigQuery Vector Search** → **Unified Matching Engine**\n",
    "5. **Confidence Scoring** → **Golden Record Creation**\n",
    "6. **Master Entities** → **Analytics & Distribution**"
   ]
  },
  {
   "cell_type": "markdown",
   "metadata": {},
   "source": [
    "## 1. Setup and Configuration"
   ]
  },
  {
   "cell_type": "code",
   "execution_count": 1,
   "metadata": {},
   "outputs": [
    {
     "name": "stdout",
     "output_type": "stream",
     "text": [
      "✅ Libraries imported successfully\n"
     ]
    }
   ],
   "source": [
    "# Import required libraries\n",
    "from bigquery_utils import (\n",
    "    BigQueryMDMHelper,\n",
    "    generate_standardization_sql,\n",
    "    generate_union_sql,\n",
    "    generate_embedding_sql,\n",
    "    generate_exact_matching_sql,\n",
    "    generate_fuzzy_matching_sql,\n",
    "    generate_vector_matching_sql,\n",
    "    generate_business_rules_sql,\n",
    "    generate_combined_scoring_sql,\n",
    "    generate_ai_natural_language_matching_sql\n",
    ")\n",
    "from data_generator import MDMDataGenerator\n",
    "import os\n",
    "import sys\n",
    "import pandas as pd\n",
    "import numpy as np\n",
    "import matplotlib.pyplot as plt\n",
    "import seaborn as sns\n",
    "import plotly.express as px\n",
    "import plotly.graph_objects as go\n",
    "from plotly.subplots import make_subplots\n",
    "from google.cloud import bigquery\n",
    "from google.auth import default\n",
    "import warnings\n",
    "warnings.filterwarnings('ignore')\n",
    "\n",
    "# Set display options\n",
    "pd.set_option('display.max_columns', None)\n",
    "pd.set_option('display.width', None)\n",
    "plt.style.use('seaborn-v0_8')\n",
    "sns.set_palette(\"husl\")\n",
    "\n",
    "print(\"✅ Libraries imported successfully\")"
   ]
  },
  {
   "cell_type": "code",
   "execution_count": 2,
   "metadata": {},
   "outputs": [
    {
     "name": "stdout",
     "output_type": "stream",
     "text": [
      "✅ Connected to BigQuery project: johanesa-playground-326616\n",
      "📊 Dataset: johanesa-playground-326616.mdm_demo\n"
     ]
    }
   ],
   "source": [
    "# Configuration\n",
    "PROJECT_ID = \"your-gcp-project-id\"  # Replace with your GCP project ID\n",
    "DATASET_ID = \"mdm_demo\"\n",
    "LOCATION = \"US\"\n",
    "\n",
    "# Initialize BigQuery helper\n",
    "try:\n",
    "    bq_helper = BigQueryMDMHelper(PROJECT_ID, DATASET_ID)\n",
    "    print(f\"✅ Connected to BigQuery project: {PROJECT_ID}\")\n",
    "    print(f\"📊 Dataset: {bq_helper.dataset_ref}\")\n",
    "except Exception as e:\n",
    "    print(f\"❌ Error connecting to BigQuery: {e}\")\n",
    "    print(\"Please ensure you have:\")\n",
    "    print(\"1. Set up Google Cloud authentication\")\n",
    "    print(\"2. Enabled BigQuery API\")\n",
    "    print(\"3. Updated PROJECT_ID above\")"
   ]
  },
  {
   "cell_type": "markdown",
   "metadata": {},
   "source": [
    "## 2. Generate Sample Data\n",
    "\n",
    "Create realistic customer data from multiple sources with intentional duplicates and variations."
   ]
  },
  {
   "cell_type": "code",
   "execution_count": 3,
   "metadata": {},
   "outputs": [
    {
     "name": "stdout",
     "output_type": "stream",
     "text": [
      "🔄 Generating sample customer data...\n",
      "\n",
      "📈 Dataset Summary:\n",
      "  CRM: 105 records\n",
      "  ERP: 84 records\n",
      "  ECOMMERCE: 95 records\n",
      "\n",
      "📊 Total records: 284\n",
      "👥 Unique customers: 120\n",
      "🔄 Duplication factor: 2.37x\n",
      "\n",
      "🔍 Sample Records:\n",
      "\n",
      "CRM Sample:\n"
     ]
    },
    {
     "data": {
      "text/html": [
       "<div>\n",
       "<style scoped>\n",
       "    .dataframe tbody tr th:only-of-type {\n",
       "        vertical-align: middle;\n",
       "    }\n",
       "\n",
       "    .dataframe tbody tr th {\n",
       "        vertical-align: top;\n",
       "    }\n",
       "\n",
       "    .dataframe thead th {\n",
       "        text-align: right;\n",
       "    }\n",
       "</style>\n",
       "<table border=\"1\" class=\"dataframe\">\n",
       "  <thead>\n",
       "    <tr style=\"text-align: right;\">\n",
       "      <th></th>\n",
       "      <th>record_id</th>\n",
       "      <th>full_name</th>\n",
       "      <th>email</th>\n",
       "      <th>phone</th>\n",
       "      <th>address</th>\n",
       "      <th>source_system</th>\n",
       "    </tr>\n",
       "  </thead>\n",
       "  <tbody>\n",
       "    <tr>\n",
       "      <th>0</th>\n",
       "      <td>50d39e23-7f33-487f-8a18-2938f920a604</td>\n",
       "      <td>Nicholas Gray</td>\n",
       "      <td>blacknicholas@example.org</td>\n",
       "      <td>665.557.7908</td>\n",
       "      <td>25913 Shepherd Stravenue</td>\n",
       "      <td>crm</td>\n",
       "    </tr>\n",
       "    <tr>\n",
       "      <th>1</th>\n",
       "      <td>bc88d115-72c6-4de2-b26a-ae8a158b387e</td>\n",
       "      <td>Diane Escobar</td>\n",
       "      <td>mathewaguilar@outlook.com</td>\n",
       "      <td>(346)829.148</td>\n",
       "      <td>54235 Lee Dam Apt. 141</td>\n",
       "      <td>crm</td>\n",
       "    </tr>\n",
       "    <tr>\n",
       "      <th>2</th>\n",
       "      <td>5ea30438-62d2-4cdf-bea8-35e7aa9fbe48</td>\n",
       "      <td>James Herrera</td>\n",
       "      <td>robertramirez@example.org</td>\n",
       "      <td>478-810-8013</td>\n",
       "      <td>3602 Smith Loaf Suite 746</td>\n",
       "      <td>crm</td>\n",
       "    </tr>\n",
       "  </tbody>\n",
       "</table>\n",
       "</div>"
      ],
      "text/plain": [
       "                              record_id      full_name  \\\n",
       "0  50d39e23-7f33-487f-8a18-2938f920a604  Nicholas Gray   \n",
       "1  bc88d115-72c6-4de2-b26a-ae8a158b387e  Diane Escobar   \n",
       "2  5ea30438-62d2-4cdf-bea8-35e7aa9fbe48  James Herrera   \n",
       "\n",
       "                       email         phone                    address  \\\n",
       "0  blacknicholas@example.org  665.557.7908   25913 Shepherd Stravenue   \n",
       "1  mathewaguilar@outlook.com  (346)829.148     54235 Lee Dam Apt. 141   \n",
       "2  robertramirez@example.org  478-810-8013  3602 Smith Loaf Suite 746   \n",
       "\n",
       "  source_system  \n",
       "0           crm  \n",
       "1           crm  \n",
       "2           crm  "
      ]
     },
     "metadata": {},
     "output_type": "display_data"
    },
    {
     "name": "stdout",
     "output_type": "stream",
     "text": [
      "\n",
      "ERP Sample:\n"
     ]
    },
    {
     "data": {
      "text/html": [
       "<div>\n",
       "<style scoped>\n",
       "    .dataframe tbody tr th:only-of-type {\n",
       "        vertical-align: middle;\n",
       "    }\n",
       "\n",
       "    .dataframe tbody tr th {\n",
       "        vertical-align: top;\n",
       "    }\n",
       "\n",
       "    .dataframe thead th {\n",
       "        text-align: right;\n",
       "    }\n",
       "</style>\n",
       "<table border=\"1\" class=\"dataframe\">\n",
       "  <thead>\n",
       "    <tr style=\"text-align: right;\">\n",
       "      <th></th>\n",
       "      <th>record_id</th>\n",
       "      <th>full_name</th>\n",
       "      <th>email</th>\n",
       "      <th>phone</th>\n",
       "      <th>address</th>\n",
       "      <th>source_system</th>\n",
       "    </tr>\n",
       "  </thead>\n",
       "  <tbody>\n",
       "    <tr>\n",
       "      <th>0</th>\n",
       "      <td>38c621a3-5603-4e6c-9e27-d5d8b898ebf9</td>\n",
       "      <td>Jeffrey Black</td>\n",
       "      <td>finleycasey@gmail.com</td>\n",
       "      <td>545-918-7053</td>\n",
       "      <td>738 Edward Lodge Apt. 385</td>\n",
       "      <td>erp</td>\n",
       "    </tr>\n",
       "    <tr>\n",
       "      <th>1</th>\n",
       "      <td>6b20eea1-79e0-486b-a1fd-10e96ba98ef0</td>\n",
       "      <td>Elaine Nelson</td>\n",
       "      <td>robertroach@example.net</td>\n",
       "      <td>001-791-841-</td>\n",
       "      <td>08737 Young Bridge Apt. 197</td>\n",
       "      <td>erp</td>\n",
       "    </tr>\n",
       "    <tr>\n",
       "      <th>2</th>\n",
       "      <td>6d463866-bfc0-41a9-bba4-d133b5e92295</td>\n",
       "      <td>Caleb Joseph</td>\n",
       "      <td>crawfordwilliam@example.org</td>\n",
       "      <td>292.552.4191</td>\n",
       "      <td>5622 Angela Station</td>\n",
       "      <td>erp</td>\n",
       "    </tr>\n",
       "  </tbody>\n",
       "</table>\n",
       "</div>"
      ],
      "text/plain": [
       "                              record_id      full_name  \\\n",
       "0  38c621a3-5603-4e6c-9e27-d5d8b898ebf9  Jeffrey Black   \n",
       "1  6b20eea1-79e0-486b-a1fd-10e96ba98ef0  Elaine Nelson   \n",
       "2  6d463866-bfc0-41a9-bba4-d133b5e92295   Caleb Joseph   \n",
       "\n",
       "                         email         phone                      address  \\\n",
       "0        finleycasey@gmail.com  545-918-7053    738 Edward Lodge Apt. 385   \n",
       "1      robertroach@example.net  001-791-841-  08737 Young Bridge Apt. 197   \n",
       "2  crawfordwilliam@example.org  292.552.4191          5622 Angela Station   \n",
       "\n",
       "  source_system  \n",
       "0           erp  \n",
       "1           erp  \n",
       "2           erp  "
      ]
     },
     "metadata": {},
     "output_type": "display_data"
    },
    {
     "name": "stdout",
     "output_type": "stream",
     "text": [
      "\n",
      "ECOMMERCE Sample:\n"
     ]
    },
    {
     "data": {
      "text/html": [
       "<div>\n",
       "<style scoped>\n",
       "    .dataframe tbody tr th:only-of-type {\n",
       "        vertical-align: middle;\n",
       "    }\n",
       "\n",
       "    .dataframe tbody tr th {\n",
       "        vertical-align: top;\n",
       "    }\n",
       "\n",
       "    .dataframe thead th {\n",
       "        text-align: right;\n",
       "    }\n",
       "</style>\n",
       "<table border=\"1\" class=\"dataframe\">\n",
       "  <thead>\n",
       "    <tr style=\"text-align: right;\">\n",
       "      <th></th>\n",
       "      <th>record_id</th>\n",
       "      <th>full_name</th>\n",
       "      <th>email</th>\n",
       "      <th>phone</th>\n",
       "      <th>address</th>\n",
       "      <th>source_system</th>\n",
       "    </tr>\n",
       "  </thead>\n",
       "  <tbody>\n",
       "    <tr>\n",
       "      <th>0</th>\n",
       "      <td>17e55345-3166-4758-8a89-cf8fa1e9cb6f</td>\n",
       "      <td>Leslie Villanueva</td>\n",
       "      <td>travis84@example.com</td>\n",
       "      <td>792.808.6780</td>\n",
       "      <td>1875 Alexander Fords</td>\n",
       "      <td>ecommerce</td>\n",
       "    </tr>\n",
       "    <tr>\n",
       "      <th>1</th>\n",
       "      <td>a4242d48-d695-4adf-ad07-1bd83dd61edf</td>\n",
       "      <td>Michael Nichols</td>\n",
       "      <td>john16@example.net</td>\n",
       "      <td>001-951-582-</td>\n",
       "      <td>343 James Gateway</td>\n",
       "      <td>ecommerce</td>\n",
       "    </tr>\n",
       "    <tr>\n",
       "      <th>2</th>\n",
       "      <td>dbc0e5f0-64cf-4e73-bc65-b298f83cb4ba</td>\n",
       "      <td>Troy Ward</td>\n",
       "      <td>tanner82@example.net</td>\n",
       "      <td>(314) 467-8669</td>\n",
       "      <td>177 Anderson Village Apt. 268</td>\n",
       "      <td>ecommerce</td>\n",
       "    </tr>\n",
       "  </tbody>\n",
       "</table>\n",
       "</div>"
      ],
      "text/plain": [
       "                              record_id          full_name  \\\n",
       "0  17e55345-3166-4758-8a89-cf8fa1e9cb6f  Leslie Villanueva   \n",
       "1  a4242d48-d695-4adf-ad07-1bd83dd61edf    Michael Nichols   \n",
       "2  dbc0e5f0-64cf-4e73-bc65-b298f83cb4ba          Troy Ward   \n",
       "\n",
       "                  email           phone                        address  \\\n",
       "0  travis84@example.com    792.808.6780           1875 Alexander Fords   \n",
       "1    john16@example.net    001-951-582-              343 James Gateway   \n",
       "2  tanner82@example.net  (314) 467-8669  177 Anderson Village Apt. 268   \n",
       "\n",
       "  source_system  \n",
       "0     ecommerce  \n",
       "1     ecommerce  \n",
       "2     ecommerce  "
      ]
     },
     "metadata": {},
     "output_type": "display_data"
    }
   ],
   "source": [
    "# Generate sample data\n",
    "print(\"🔄 Generating sample customer data...\")\n",
    "generator = MDMDataGenerator(num_unique_customers=120)\n",
    "datasets = generator.generate_all_datasets()\n",
    "\n",
    "# Display summary statistics\n",
    "print(\"\\n📈 Dataset Summary:\")\n",
    "total_records = 0\n",
    "for source, df in datasets.items():\n",
    "    print(f\"  {source.upper()}: {len(df):,} records\")\n",
    "    total_records += len(df)\n",
    "\n",
    "print(f\"\\n📊 Total records: {total_records:,}\")\n",
    "print(f\"👥 Unique customers: {generator.num_unique_customers:,}\")\n",
    "print(\n",
    "    f\"🔄 Duplication factor: {total_records / generator.num_unique_customers:.2f}x\")\n",
    "\n",
    "# Show sample records from each source\n",
    "print(\"\\n🔍 Sample Records:\")\n",
    "for source, df in datasets.items():\n",
    "    print(f\"\\n{source.upper()} Sample:\")\n",
    "    display(df[['record_id', 'full_name', 'email',\n",
    "            'phone', 'address', 'source_system']].head(3))"
   ]
  },
  {
   "cell_type": "markdown",
   "metadata": {},
   "source": [
    "## 3. Data Ingestion to BigQuery\n",
    "\n",
    "Load the generated data into BigQuery raw tables."
   ]
  },
  {
   "cell_type": "code",
   "execution_count": 4,
   "metadata": {},
   "outputs": [
    {
     "name": "stdout",
     "output_type": "stream",
     "text": [
      "🔄 Creating BigQuery dataset...\n",
      "Dataset johanesa-playground-326616.mdm_demo created or already exists\n",
      "\n",
      "🔄 Loading data to BigQuery...\n",
      "  Loading crm data to raw_crm_customers...\n",
      "Loaded 105 rows to johanesa-playground-326616.mdm_demo.raw_crm_customers\n",
      "  Loading erp data to raw_erp_customers...\n",
      "Loaded 84 rows to johanesa-playground-326616.mdm_demo.raw_erp_customers\n",
      "  Loading ecommerce data to raw_ecommerce_customers...\n",
      "Loaded 95 rows to johanesa-playground-326616.mdm_demo.raw_ecommerce_customers\n",
      "\n",
      "✅ Data ingestion completed!\n",
      "\n",
      "📊 Table Information:\n",
      "  raw_crm_customers: 105 rows, 31,826 bytes\n",
      "  raw_erp_customers: 84 rows, 25,294 bytes\n",
      "  raw_ecommerce_customers: 95 rows, 29,379 bytes\n"
     ]
    }
   ],
   "source": [
    "# Create dataset\n",
    "print(\"🔄 Creating BigQuery dataset...\")\n",
    "bq_helper.create_dataset()\n",
    "\n",
    "# Load data to BigQuery\n",
    "print(\"\\n🔄 Loading data to BigQuery...\")\n",
    "for source, df in datasets.items():\n",
    "    table_name = f\"raw_{source}_customers\"\n",
    "    print(f\"  Loading {source} data to {table_name}...\")\n",
    "    bq_helper.load_dataframe_to_table(df, table_name)\n",
    "\n",
    "print(\"\\n✅ Data ingestion completed!\")\n",
    "\n",
    "# Verify data loading\n",
    "print(\"\\n📊 Table Information:\")\n",
    "for source in datasets.keys():\n",
    "    table_name = f\"raw_{source}_customers\"\n",
    "    info = bq_helper.get_table_info(table_name)\n",
    "    if info:\n",
    "        print(\n",
    "            f\"  {table_name}: {info['num_rows']:,} rows, {info['num_bytes']:,} bytes\")"
   ]
  },
  {
   "cell_type": "markdown",
   "metadata": {},
   "source": [
    "## 4. Data Standardization\n",
    "\n",
    "Clean and standardize data from all sources using BigQuery SQL."
   ]
  },
  {
   "cell_type": "code",
   "execution_count": 5,
   "metadata": {},
   "outputs": [
    {
     "name": "stdout",
     "output_type": "stream",
     "text": [
      "🔄 Combining raw data from all sources...\n",
      "✅ Raw data combined\n",
      "\n",
      "🔄 Standardizing data...\n",
      "✅ Data standardization completed\n",
      "\n",
      "🔍 Standardization Sample:\n"
     ]
    },
    {
     "data": {
      "text/html": [
       "<div>\n",
       "<style scoped>\n",
       "    .dataframe tbody tr th:only-of-type {\n",
       "        vertical-align: middle;\n",
       "    }\n",
       "\n",
       "    .dataframe tbody tr th {\n",
       "        vertical-align: top;\n",
       "    }\n",
       "\n",
       "    .dataframe thead th {\n",
       "        text-align: right;\n",
       "    }\n",
       "</style>\n",
       "<table border=\"1\" class=\"dataframe\">\n",
       "  <thead>\n",
       "    <tr style=\"text-align: right;\">\n",
       "      <th></th>\n",
       "      <th>record_id</th>\n",
       "      <th>source_system</th>\n",
       "      <th>full_name</th>\n",
       "      <th>full_name_clean</th>\n",
       "      <th>email</th>\n",
       "      <th>email_clean</th>\n",
       "      <th>phone</th>\n",
       "      <th>phone_clean</th>\n",
       "      <th>address</th>\n",
       "      <th>address_clean</th>\n",
       "    </tr>\n",
       "  </thead>\n",
       "  <tbody>\n",
       "    <tr>\n",
       "      <th>0</th>\n",
       "      <td>9cc3de58-7f29-4144-be08-f383855558de</td>\n",
       "      <td>crm</td>\n",
       "      <td>Jeffrey White</td>\n",
       "      <td>JEFFREY WHITE</td>\n",
       "      <td>hartmanerik@example.net</td>\n",
       "      <td>hartmanerik@example.net</td>\n",
       "      <td>+1-661-553-3</td>\n",
       "      <td>16615533</td>\n",
       "      <td>015 Allen Row Apt. 056</td>\n",
       "      <td>015 ALLEN ROW APT. 056</td>\n",
       "    </tr>\n",
       "    <tr>\n",
       "      <th>1</th>\n",
       "      <td>bd01e855-3530-4a71-a236-2950508554c3</td>\n",
       "      <td>ecommerce</td>\n",
       "      <td>Jeffrey White</td>\n",
       "      <td>JEFFREY WHITE</td>\n",
       "      <td>hartmanerik@example.net</td>\n",
       "      <td>hartmanerik@example.net</td>\n",
       "      <td>+1-661-553-3</td>\n",
       "      <td>16615533</td>\n",
       "      <td>015 Allen Row Apt. 056</td>\n",
       "      <td>015 ALLEN ROW APT. 056</td>\n",
       "    </tr>\n",
       "    <tr>\n",
       "      <th>2</th>\n",
       "      <td>8b1c5227-c8de-4dd3-854f-5eed060a97fa</td>\n",
       "      <td>crm</td>\n",
       "      <td>Jeffrey White</td>\n",
       "      <td>JEFFREY WHITE</td>\n",
       "      <td>hartmanerik@example.net</td>\n",
       "      <td>hartmanerik@example.net</td>\n",
       "      <td>+1-661-553-3</td>\n",
       "      <td>16615533</td>\n",
       "      <td>015 Allen Row Apt. 056</td>\n",
       "      <td>015 ALLEN ROW APT. 056</td>\n",
       "    </tr>\n",
       "    <tr>\n",
       "      <th>3</th>\n",
       "      <td>eea2d9b1-1c53-4dd3-a2d2-632431b972f0</td>\n",
       "      <td>erp</td>\n",
       "      <td>Jeffrey White</td>\n",
       "      <td>JEFFREY WHITE</td>\n",
       "      <td>hartmanerik@outlook.com</td>\n",
       "      <td>hartmanerik@outlook.com</td>\n",
       "      <td>+1-661-553-3</td>\n",
       "      <td>16615533</td>\n",
       "      <td>015 Allen Row Apt. 056</td>\n",
       "      <td>015 ALLEN ROW APT. 056</td>\n",
       "    </tr>\n",
       "    <tr>\n",
       "      <th>4</th>\n",
       "      <td>fcbafa57-3cc5-44a7-924a-d88bb16d18ba</td>\n",
       "      <td>ecommerce</td>\n",
       "      <td>Jeffrey White</td>\n",
       "      <td>JEFFREY WHITE</td>\n",
       "      <td>hartmanerik@example.net</td>\n",
       "      <td>hartmanerik@example.net</td>\n",
       "      <td>+1-661-553-3</td>\n",
       "      <td>16615533</td>\n",
       "      <td>015 Allen Row Apt. 056</td>\n",
       "      <td>015 ALLEN ROW APT. 056</td>\n",
       "    </tr>\n",
       "  </tbody>\n",
       "</table>\n",
       "</div>"
      ],
      "text/plain": [
       "                              record_id source_system      full_name  \\\n",
       "0  9cc3de58-7f29-4144-be08-f383855558de           crm  Jeffrey White   \n",
       "1  bd01e855-3530-4a71-a236-2950508554c3     ecommerce  Jeffrey White   \n",
       "2  8b1c5227-c8de-4dd3-854f-5eed060a97fa           crm  Jeffrey White   \n",
       "3  eea2d9b1-1c53-4dd3-a2d2-632431b972f0           erp  Jeffrey White   \n",
       "4  fcbafa57-3cc5-44a7-924a-d88bb16d18ba     ecommerce  Jeffrey White   \n",
       "\n",
       "  full_name_clean                    email              email_clean  \\\n",
       "0   JEFFREY WHITE  hartmanerik@example.net  hartmanerik@example.net   \n",
       "1   JEFFREY WHITE  hartmanerik@example.net  hartmanerik@example.net   \n",
       "2   JEFFREY WHITE  hartmanerik@example.net  hartmanerik@example.net   \n",
       "3   JEFFREY WHITE  hartmanerik@outlook.com  hartmanerik@outlook.com   \n",
       "4   JEFFREY WHITE  hartmanerik@example.net  hartmanerik@example.net   \n",
       "\n",
       "          phone phone_clean                 address           address_clean  \n",
       "0  +1-661-553-3    16615533  015 Allen Row Apt. 056  015 ALLEN ROW APT. 056  \n",
       "1  +1-661-553-3    16615533  015 Allen Row Apt. 056  015 ALLEN ROW APT. 056  \n",
       "2  +1-661-553-3    16615533  015 Allen Row Apt. 056  015 ALLEN ROW APT. 056  \n",
       "3  +1-661-553-3    16615533  015 Allen Row Apt. 056  015 ALLEN ROW APT. 056  \n",
       "4  +1-661-553-3    16615533  015 Allen Row Apt. 056  015 ALLEN ROW APT. 056  "
      ]
     },
     "metadata": {},
     "output_type": "display_data"
    }
   ],
   "source": [
    "# Combine all raw data into a single table\n",
    "print(\"🔄 Combining raw data from all sources...\")\n",
    "\n",
    "combine_sql = generate_union_sql(bq_helper.dataset_ref)\n",
    "\n",
    "bq_helper.execute_query(combine_sql)\n",
    "print(\"✅ Raw data combined\")\n",
    "\n",
    "# Standardize the combined data\n",
    "print(\"\\n🔄 Standardizing data...\")\n",
    "standardization_sql = generate_standardization_sql(\n",
    "    f\"{bq_helper.dataset_ref}.raw_customers_combined\",\n",
    "    f\"{bq_helper.dataset_ref}.customers_standardized\"\n",
    ")\n",
    "\n",
    "bq_helper.execute_query(standardization_sql)\n",
    "print(\"✅ Data standardization completed\")\n",
    "\n",
    "# Show standardization results\n",
    "sample_query = f\"\"\"\n",
    "SELECT\n",
    "  record_id,\n",
    "  source_system,\n",
    "  full_name,\n",
    "  full_name_clean,\n",
    "  email,\n",
    "  email_clean,\n",
    "  phone,\n",
    "  phone_clean,\n",
    "  address,\n",
    "  address_clean\n",
    "FROM `{bq_helper.dataset_ref}.customers_standardized`\n",
    "LIMIT 5\n",
    "\"\"\"\n",
    "\n",
    "sample_df = bq_helper.execute_query(sample_query)\n",
    "print(\"\\n🔍 Standardization Sample:\")\n",
    "display(sample_df)"
   ]
  },
  {
   "cell_type": "markdown",
   "metadata": {},
   "source": [
    "## 5. Embedding Generation with BigQuery ML\n",
    "\n",
    "Generate embeddings using BigQuery's native ML.GENERATE_EMBEDDING function with the latest `gemini-embedding-001` model."
   ]
  },
  {
   "cell_type": "code",
   "execution_count": 6,
   "metadata": {},
   "outputs": [
    {
     "name": "stdout",
     "output_type": "stream",
     "text": [
      "\n",
      "🔄 Creating embedding model...\n",
      "✅ Embedding model created successfully\n"
     ]
    }
   ],
   "source": [
    "# Create embedding model\n",
    "print(\"\\n🔄 Creating embedding model...\")\n",
    "model_sql = f\"\"\"\n",
    "CREATE OR REPLACE MODEL `{bq_helper.dataset_ref}.embedding_model`\n",
    "REMOTE WITH CONNECTION DEFAULT\n",
    "OPTIONS(\n",
    "  ENDPOINT = 'gemini-embedding-001'\n",
    ")\n",
    "\"\"\"\n",
    "\n",
    "try:\n",
    "    bq_helper.execute_query(model_sql)\n",
    "    print(\"✅ Embedding model created successfully\")\n",
    "except Exception as e:\n",
    "    print(f\"❌ Error creating model: {e}\")\n",
    "    print(\"Please ensure:\")\n",
    "    print(\"1. You have necessary permissions\")\n",
    "    print(\"2. Vertex AI API is enabled\")"
   ]
  },
  {
   "cell_type": "code",
   "execution_count": 7,
   "metadata": {},
   "outputs": [
    {
     "name": "stdout",
     "output_type": "stream",
     "text": [
      "🔄 Generating embeddings...\n",
      "✅ Embeddings generated successfully\n",
      "📊 Embedding Statistics:\n",
      "  Total records: 284\n",
      "  Records with embeddings: 284\n",
      "  Embedding dimension: 3072\n"
     ]
    }
   ],
   "source": [
    "# Generate embeddings\n",
    "print(\"🔄 Generating embeddings...\")\n",
    "embedding_sql = generate_embedding_sql(\n",
    "    f\"{bq_helper.dataset_ref}.customers_standardized\",\n",
    "    f\"{bq_helper.dataset_ref}.customers_with_embeddings\",\n",
    "    f\"{bq_helper.dataset_ref}.embedding_model\"\n",
    ")\n",
    "\n",
    "try:\n",
    "    bq_helper.execute_query(embedding_sql)\n",
    "    print(\"✅ Embeddings generated successfully\")\n",
    "\n",
    "    # Check embedding dimensions\n",
    "    check_sql = f\"\"\"\n",
    "    SELECT\n",
    "      COUNT(*) as total_records,\n",
    "      COUNT(ml_generate_embedding_result) as records_with_embeddings,\n",
    "      ANY_VALUE(ARRAY_LENGTH(ml_generate_embedding_result)) AS embedding_dimension\n",
    "    FROM `{bq_helper.dataset_ref}.customers_with_embeddings`\n",
    "    WHERE ml_generate_embedding_result IS NOT NULL\n",
    "    LIMIT 1\n",
    "    \"\"\"\n",
    "\n",
    "    result = bq_helper.execute_query(check_sql)\n",
    "    if not result.empty:\n",
    "        print(f\"📊 Embedding Statistics:\")\n",
    "        print(f\"  Total records: {result.iloc[0]['total_records']:,}\")\n",
    "        print(\n",
    "            f\"  Records with embeddings: {result.iloc[0]['records_with_embeddings']:,}\")\n",
    "        print(\n",
    "            f\"  Embedding dimension: {result.iloc[0]['embedding_dimension']}\")\n",
    "\n",
    "except Exception as e:\n",
    "    print(f\"❌ Error generating embeddings: {e}\")\n",
    "    print(\"This might be due to:\")\n",
    "    print(\"1. Insufficient permissions\")\n",
    "    print(\"2. API quotas or limits\")"
   ]
  },
  {
   "cell_type": "markdown",
   "metadata": {},
   "source": [
    "## 6. Vector Index Creation\n",
    "\n",
    "Create vector indexes for efficient similarity search."
   ]
  },
  {
   "cell_type": "code",
   "execution_count": 8,
   "metadata": {},
   "outputs": [
    {
     "name": "stdout",
     "output_type": "stream",
     "text": [
      "🔄 Creating vector index...\n",
      "Error executing query: 400 GET https://bigquery.googleapis.com/bigquery/v2/projects/johanesa-playground-326616/queries/e86ed321-0075-446c-b7ce-276bb943e376?maxResults=0&location=US&prettyPrint=false: Total rows 284 is smaller than min allowed 5000 for CREATE VECTOR INDEX query with the IVF index type. Please use VECTOR_SEARCH table-valued function directly to perform the similarity search.\n",
      "\n",
      "Location: US\n",
      "Job ID: e86ed321-0075-446c-b7ce-276bb943e376\n",
      "\n",
      "⚠️ Vector index creation failed: 400 GET https://bigquery.googleapis.com/bigquery/v2/projects/johanesa-playground-326616/queries/e86ed321-0075-446c-b7ce-276bb943e376?maxResults=0&location=US&prettyPrint=false: Total rows 284 is smaller than min allowed 5000 for CREATE VECTOR INDEX query with the IVF index type. Please use VECTOR_SEARCH table-valued function directly to perform the similarity search.\n",
      "\n",
      "Location: US\n",
      "Job ID: e86ed321-0075-446c-b7ce-276bb943e376\n",
      "\n",
      "Vector search will still work but may be slower\n",
      "Vector indexes require specific BigQuery editions and regions\n"
     ]
    }
   ],
   "source": [
    "# Note: Vector index creation (with IVF) requires minimum 5,000 rows\n",
    "# For our sample dataset, we'll use direct vector search\n",
    "# which is actually more efficient for small datasets\n",
    "\n",
    "# Create vector index for fast similarity search (will results an error)\n",
    "print(\"🔄 Creating vector index...\")\n",
    "\n",
    "vector_index_sql = f\"\"\"\n",
    "CREATE VECTOR INDEX IF NOT EXISTS customer_embedding_index\n",
    "ON `{bq_helper.dataset_ref}.customers_with_embeddings`(ml_generate_embedding_result)\n",
    "OPTIONS(\n",
    "  index_type = 'IVF',\n",
    "  distance_type = 'COSINE'\n",
    ")\n",
    "\"\"\"\n",
    "\n",
    "try:\n",
    "    bq_helper.execute_query(vector_index_sql)\n",
    "    print(\"✅ Vector index created successfully\")\n",
    "    print(\"📈 This will significantly speed up vector similarity searches\")\n",
    "except Exception as e:\n",
    "    print(f\"⚠️ Vector index creation failed: {e}\")\n",
    "    print(\"Vector search will still work but may be slower\")\n",
    "    print(\"Vector indexes require specific BigQuery editions and regions\")"
   ]
  },
  {
   "cell_type": "markdown",
   "metadata": {},
   "source": [
    "## 7. Entity Matching\n",
    "\n",
    "Implement multiple matching strategies using BigQuery SQL:\n",
    "- **Exact Matching**: Direct field comparison\n",
    "- **Fuzzy Matching**: String similarity algorithms\n",
    "- **Vector Matching**: Semantic similarity using embeddings\n",
    "- **Business Rules**: Domain-specific logic\n",
    "- **AI Natural Language**: Direct AI comparison using Gemini 2.5 Pro"
   ]
  },
  {
   "cell_type": "code",
   "execution_count": 9,
   "metadata": {},
   "outputs": [
    {
     "name": "stdout",
     "output_type": "stream",
     "text": [
      "🔄 Running exact matching...\n",
      "✅ Exact matching completed\n",
      "📊 Exact Match Results: 258 total matches\n",
      "  📧 Email matches: 153\n",
      "  📞 Phone matches: 233\n",
      "  🆔 ID matches: 258\n"
     ]
    }
   ],
   "source": [
    "# 7.1 Exact Matching\n",
    "print(\"🔄 Running exact matching...\")\n",
    "exact_sql = generate_exact_matching_sql(\n",
    "    f\"{bq_helper.dataset_ref}.customers_with_embeddings\")\n",
    "bq_helper.execute_query(exact_sql)\n",
    "print(\"✅ Exact matching completed\")\n",
    "\n",
    "# Check exact match results\n",
    "exact_count_sql = f\"\"\"\n",
    "SELECT\n",
    "  COUNT(*) as total_exact_matches,\n",
    "  COUNT(CASE WHEN email_exact_score > 0 THEN 1 END) as email_matches,\n",
    "  COUNT(CASE WHEN phone_exact_score > 0 THEN 1 END) as phone_matches,\n",
    "  COUNT(CASE WHEN id_exact_score > 0 THEN 1 END) as id_matches\n",
    "FROM `{bq_helper.dataset_ref}.customers_with_embeddings_exact_matches`\n",
    "\"\"\"\n",
    "\n",
    "exact_stats = bq_helper.execute_query(exact_count_sql)\n",
    "print(\n",
    "    f\"📊 Exact Match Results: {exact_stats.iloc[0]['total_exact_matches']} total matches\")\n",
    "print(f\"  📧 Email matches: {exact_stats.iloc[0]['email_matches']}\")\n",
    "print(f\"  📞 Phone matches: {exact_stats.iloc[0]['phone_matches']}\")\n",
    "print(f\"  🆔 ID matches: {exact_stats.iloc[0]['id_matches']}\")"
   ]
  },
  {
   "cell_type": "code",
   "execution_count": 10,
   "metadata": {},
   "outputs": [
    {
     "name": "stdout",
     "output_type": "stream",
     "text": [
      "🔄 Running fuzzy matching...\n",
      "✅ Fuzzy matching completed\n",
      "📊 Fuzzy Match Results: 890.0 total matches\n",
      "  👤 Avg name score: 0.695\n",
      "  🏠 Avg address score: 0.496\n",
      "  📈 Avg overall score: 0.596\n"
     ]
    }
   ],
   "source": [
    "# 7.2 Fuzzy Matching\n",
    "print(\"🔄 Running fuzzy matching...\")\n",
    "fuzzy_sql = generate_fuzzy_matching_sql(\n",
    "    f\"{bq_helper.dataset_ref}.customers_with_embeddings\")\n",
    "bq_helper.execute_query(fuzzy_sql)\n",
    "print(\"✅ Fuzzy matching completed\")\n",
    "\n",
    "# Check fuzzy match results\n",
    "fuzzy_count_sql = f\"\"\"\n",
    "SELECT\n",
    "  COUNT(*) as total_fuzzy_matches,\n",
    "  AVG(name_fuzzy_score) as avg_name_score,\n",
    "  AVG(address_fuzzy_score) as avg_address_score,\n",
    "  AVG(fuzzy_overall_score) as avg_overall_score\n",
    "FROM `{bq_helper.dataset_ref}.customers_with_embeddings_fuzzy_matches`\n",
    "\"\"\"\n",
    "\n",
    "fuzzy_stats = bq_helper.execute_query(fuzzy_count_sql)\n",
    "print(\n",
    "    f\"📊 Fuzzy Match Results: {fuzzy_stats.iloc[0]['total_fuzzy_matches']} total matches\")\n",
    "print(f\"  👤 Avg name score: {fuzzy_stats.iloc[0]['avg_name_score']:.3f}\")\n",
    "print(f\"  🏠 Avg address score: {fuzzy_stats.iloc[0]['avg_address_score']:.3f}\")\n",
    "print(f\"  📈 Avg overall score: {fuzzy_stats.iloc[0]['avg_overall_score']:.3f}\")"
   ]
  },
  {
   "cell_type": "code",
   "execution_count": 12,
   "metadata": {},
   "outputs": [
    {
     "name": "stdout",
     "output_type": "stream",
     "text": [
      "🔄 Running vector similarity matching...\n",
      "✅ Vector matching completed\n",
      "📊 Vector Match Results: 40186.0 total matches\n",
      "  📈 Avg similarity: 0.801\n",
      "  📉 Min similarity: 0.706\n",
      "  📈 Max similarity: 1.000\n"
     ]
    }
   ],
   "source": [
    "# 7.3 Vector Matching\n",
    "print(\"🔄 Running vector similarity matching...\")\n",
    "vector_sql = generate_vector_matching_sql(\n",
    "    f\"{bq_helper.dataset_ref}.customers_with_embeddings\")\n",
    "\n",
    "try:\n",
    "    bq_helper.execute_query(vector_sql)\n",
    "    print(\"✅ Vector matching completed\")\n",
    "\n",
    "    # Check vector match results\n",
    "    vector_count_sql = f\"\"\"\n",
    "    SELECT\n",
    "      COUNT(*) as total_vector_matches,\n",
    "      AVG(vector_similarity_score) as avg_similarity,\n",
    "      MIN(vector_similarity_score) as min_similarity,\n",
    "      MAX(vector_similarity_score) as max_similarity\n",
    "    FROM `{bq_helper.dataset_ref}.customers_with_embeddings_vector_matches`\n",
    "    \"\"\"\n",
    "\n",
    "    vector_stats = bq_helper.execute_query(vector_count_sql)\n",
    "    print(\n",
    "        f\"📊 Vector Match Results: {vector_stats.iloc[0]['total_vector_matches']} total matches\")\n",
    "    print(f\"  📈 Avg similarity: {vector_stats.iloc[0]['avg_similarity']:.3f}\")\n",
    "    print(f\"  📉 Min similarity: {vector_stats.iloc[0]['min_similarity']:.3f}\")\n",
    "    print(f\"  📈 Max similarity: {vector_stats.iloc[0]['max_similarity']:.3f}\")\n",
    "\n",
    "except Exception as e:\n",
    "    print(f\"⚠️ Vector matching failed: {e}\")\n",
    "    print(\"This might be due to missing embeddings or vector index issues\")"
   ]
  },
  {
   "cell_type": "code",
   "execution_count": 13,
   "metadata": {},
   "outputs": [
    {
     "name": "stdout",
     "output_type": "stream",
     "text": [
      "🔄 Running business rules matching...\n",
      "✅ Business rules matching completed\n",
      "📊 Business Rules Results: 40186 total matches\n",
      "  🏢 Company matches: 230\n",
      "  📍 Location matches: 258\n",
      "  🎂 Age matches: 6017\n",
      "  💰 Income matches: 9961\n"
     ]
    }
   ],
   "source": [
    "# 7.4 Business Rules Matching\n",
    "print(\"🔄 Running business rules matching...\")\n",
    "business_sql = generate_business_rules_sql(\n",
    "    f\"{bq_helper.dataset_ref}.customers_with_embeddings\")\n",
    "bq_helper.execute_query(business_sql)\n",
    "print(\"✅ Business rules matching completed\")\n",
    "\n",
    "# Check business rules results\n",
    "business_count_sql = f\"\"\"\n",
    "SELECT\n",
    "  COUNT(*) as total_business_matches,\n",
    "  COUNT(CASE WHEN same_company_score > 0 THEN 1 END) as company_matches,\n",
    "  COUNT(CASE WHEN same_location_score > 0 THEN 1 END) as location_matches,\n",
    "  COUNT(CASE WHEN age_compatibility_score > 0 THEN 1 END) as age_matches,\n",
    "  COUNT(CASE WHEN income_compatibility_score > 0 THEN 1 END) as income_matches\n",
    "FROM `{bq_helper.dataset_ref}.customers_with_embeddings_business_matches`\n",
    "\"\"\"\n",
    "\n",
    "business_stats = bq_helper.execute_query(business_count_sql)\n",
    "print(\n",
    "    f\"📊 Business Rules Results: {business_stats.iloc[0]['total_business_matches']} total matches\")\n",
    "print(f\"  🏢 Company matches: {business_stats.iloc[0]['company_matches']}\")\n",
    "print(f\"  📍 Location matches: {business_stats.iloc[0]['location_matches']}\")\n",
    "print(f\"  🎂 Age matches: {business_stats.iloc[0]['age_matches']}\")\n",
    "print(f\"  💰 Income matches: {business_stats.iloc[0]['income_matches']}\")"
   ]
  },
  {
   "cell_type": "code",
   "execution_count": 14,
   "metadata": {},
   "outputs": [
    {
     "name": "stdout",
     "output_type": "stream",
     "text": [
      "\n",
      "🔄 Creating Gemini 2.5 Pro model...\n",
      "✅ Gemini model created successfully\n"
     ]
    }
   ],
   "source": [
    "# Create Gemini 2.5 Pro model\n",
    "print(\"\\n🔄 Creating Gemini 2.5 Pro model...\")\n",
    "model_sql = f\"\"\"\n",
    "CREATE OR REPLACE MODEL `{bq_helper.dataset_ref}.gemini_25_pro_model`\n",
    "REMOTE WITH CONNECTION DEFAULT\n",
    "OPTIONS(\n",
    "  ENDPOINT = 'gemini-2.5-pro'\n",
    ")\n",
    "\"\"\"\n",
    "\n",
    "try:\n",
    "    bq_helper.execute_query(model_sql)\n",
    "    print(\"✅ Gemini model created successfully\")\n",
    "except Exception as e:\n",
    "    print(f\"❌ Error creating model: {e}\")\n",
    "    print(\"Please ensure:\")\n",
    "    print(\"1. You have necessary permissions\")\n",
    "    print(\"2. Vertex AI API is enabled\")"
   ]
  },
  {
   "cell_type": "code",
   "execution_count": null,
   "metadata": {},
   "outputs": [
    {
     "name": "stdout",
     "output_type": "stream",
     "text": [
      "🤖 Running AI natural language matching...\n",
      "✅ AI natural language matching completed\n",
      "📊 AI Natural Language Results: 1.0 total matches\n",
      "  🤖 Avg AI score: 0.900\n",
      "  🎯 Avg confidence: 0.950\n",
      "  📉 Min AI score: 0.900\n",
      "  📈 Max AI score: 0.900\n",
      "\n",
      "🔍 Sample AI Explanations:\n",
      "  Score: 0.900 | Confidence: 0.950\n",
      "  Explanation: The email, phone number, and address are identical, which are strong unique identifiers for an individual. The first name also matches. The difference in the last name ('BILLS' vs 'WZLLIAMS') is highly likely to be a typographical error given the exact match on all other fields.\n",
      "\n"
     ]
    }
   ],
   "source": [
    "# 7.5 AI Natural Language Matching\n",
    "print(\"🤖 Running AI natural language matching...\")\n",
    "\n",
    "# Generate AI natural language matching (LIMIT 500 records for testing purposes only)\n",
    "ai_sql = generate_ai_natural_language_matching_sql(\n",
    "    f\"{bq_helper.dataset_ref}.customers_with_embeddings\",\n",
    "    f\"{bq_helper.dataset_ref}.gemini_25_pro_model\"\n",
    ")\n",
    "bq_helper.execute_query(ai_sql)\n",
    "print(\"✅ AI natural language matching completed\")\n",
    "\n",
    "# Check AI match results\n",
    "ai_count_sql = f\"\"\"\n",
    "SELECT\n",
    "  COUNT(*) as total_ai_matches,\n",
    "  AVG(ai_score) as avg_ai_score,\n",
    "  AVG(confidence) as avg_confidence,\n",
    "  MIN(ai_score) as min_ai_score,\n",
    "  MAX(ai_score) as max_ai_score\n",
    "FROM `{bq_helper.dataset_ref}.customers_with_embeddings_ai_natural_language_matches`\n",
    "\"\"\"\n",
    "\n",
    "ai_stats = bq_helper.execute_query(ai_count_sql)\n",
    "print(\n",
    "    f\"📊 AI Natural Language Results: {ai_stats.iloc[0]['total_ai_matches']} total matches\")\n",
    "print(f\"  🤖 Avg AI score: {ai_stats.iloc[0]['avg_ai_score']:.3f}\")\n",
    "print(f\"  🎯 Avg confidence: {ai_stats.iloc[0]['avg_confidence']:.3f}\")\n",
    "print(f\"  📉 Min AI score: {ai_stats.iloc[0]['min_ai_score']:.3f}\")\n",
    "print(f\"  📈 Max AI score: {ai_stats.iloc[0]['max_ai_score']:.3f}\")\n",
    "\n",
    "# Show sample AI explanations\n",
    "sample_explanations_sql = f\"\"\"\n",
    "SELECT\n",
    "  ai_score,\n",
    "  confidence,\n",
    "  explanation\n",
    "FROM `{bq_helper.dataset_ref}.customers_with_embeddings_ai_natural_language_matches`\n",
    "ORDER BY ai_score DESC\n",
    "LIMIT 5\n",
    "\"\"\"\n",
    "\n",
    "explanations = bq_helper.execute_query(sample_explanations_sql)\n",
    "print(\"\\n🔍 Sample AI Explanations:\")\n",
    "for _, row in explanations.iterrows():\n",
    "    print(\n",
    "        f\"  Score: {row['ai_score']:.3f} | Confidence: {row['confidence']:.3f}\")\n",
    "    print(f\"  Explanation: {row['explanation']}\")\n",
    "    print()"
   ]
  },
  {
   "cell_type": "markdown",
   "metadata": {},
   "source": [
    "## 8. Combined Scoring and Confidence Assessment\n",
    "\n",
    "Combine all 5 matching strategies with weighted scoring and calculate confidence levels."
   ]
  },
  {
   "cell_type": "code",
   "execution_count": 16,
   "metadata": {},
   "outputs": [
    {
     "name": "stdout",
     "output_type": "stream",
     "text": [
      "🔄 Combining match scores from 5 strategies...\n",
      "✅ Combined scoring completed\n",
      "\n",
      "📊 Match Decision Summary:\n"
     ]
    },
    {
     "data": {
      "text/html": [
       "<div>\n",
       "<style scoped>\n",
       "    .dataframe tbody tr th:only-of-type {\n",
       "        vertical-align: middle;\n",
       "    }\n",
       "\n",
       "    .dataframe tbody tr th {\n",
       "        vertical-align: top;\n",
       "    }\n",
       "\n",
       "    .dataframe thead th {\n",
       "        text-align: right;\n",
       "    }\n",
       "</style>\n",
       "<table border=\"1\" class=\"dataframe\">\n",
       "  <thead>\n",
       "    <tr style=\"text-align: right;\">\n",
       "      <th></th>\n",
       "      <th>match_decision</th>\n",
       "      <th>confidence_level</th>\n",
       "      <th>count</th>\n",
       "      <th>avg_score</th>\n",
       "      <th>min_score</th>\n",
       "      <th>max_score</th>\n",
       "    </tr>\n",
       "  </thead>\n",
       "  <tbody>\n",
       "    <tr>\n",
       "      <th>0</th>\n",
       "      <td>auto_merge</td>\n",
       "      <td>high</td>\n",
       "      <td>258</td>\n",
       "      <td>0.889265</td>\n",
       "      <td>0.841038</td>\n",
       "      <td>0.939639</td>\n",
       "    </tr>\n",
       "    <tr>\n",
       "      <th>1</th>\n",
       "      <td>no_match</td>\n",
       "      <td>low</td>\n",
       "      <td>126</td>\n",
       "      <td>0.314257</td>\n",
       "      <td>0.300431</td>\n",
       "      <td>0.372880</td>\n",
       "    </tr>\n",
       "  </tbody>\n",
       "</table>\n",
       "</div>"
      ],
      "text/plain": [
       "  match_decision confidence_level  count  avg_score  min_score  max_score\n",
       "0     auto_merge             high    258   0.889265   0.841038   0.939639\n",
       "1       no_match              low    126   0.314257   0.300431   0.372880"
      ]
     },
     "metadata": {},
     "output_type": "display_data"
    },
    {
     "name": "stdout",
     "output_type": "stream",
     "text": [
      "\n",
      "🏆 Top 10 Matches (5-Strategy Analysis):\n"
     ]
    },
    {
     "data": {
      "text/html": [
       "<div>\n",
       "<style scoped>\n",
       "    .dataframe tbody tr th:only-of-type {\n",
       "        vertical-align: middle;\n",
       "    }\n",
       "\n",
       "    .dataframe tbody tr th {\n",
       "        vertical-align: top;\n",
       "    }\n",
       "\n",
       "    .dataframe thead th {\n",
       "        text-align: right;\n",
       "    }\n",
       "</style>\n",
       "<table border=\"1\" class=\"dataframe\">\n",
       "  <thead>\n",
       "    <tr style=\"text-align: right;\">\n",
       "      <th></th>\n",
       "      <th>record1_id</th>\n",
       "      <th>record2_id</th>\n",
       "      <th>source1</th>\n",
       "      <th>source2</th>\n",
       "      <th>exact_score</th>\n",
       "      <th>fuzzy_score</th>\n",
       "      <th>vector_score</th>\n",
       "      <th>business_score</th>\n",
       "      <th>ai_score</th>\n",
       "      <th>combined_score</th>\n",
       "      <th>match_decision</th>\n",
       "      <th>confidence_level</th>\n",
       "    </tr>\n",
       "  </thead>\n",
       "  <tbody>\n",
       "    <tr>\n",
       "      <th>0</th>\n",
       "      <td>2e73c751-36cc-4c34-a13f-c284d776f78f</td>\n",
       "      <td>639edff4-2f06-489b-a1cc-a1f7a9d37228</td>\n",
       "      <td>crm</td>\n",
       "      <td>ecommerce</td>\n",
       "      <td>1.0</td>\n",
       "      <td>0.821429</td>\n",
       "      <td>0.971408</td>\n",
       "      <td>1.0</td>\n",
       "      <td>0.9</td>\n",
       "      <td>0.939639</td>\n",
       "      <td>auto_merge</td>\n",
       "      <td>high</td>\n",
       "    </tr>\n",
       "    <tr>\n",
       "      <th>1</th>\n",
       "      <td>86dfdb83-6a43-4540-9bee-33ac0d05087e</td>\n",
       "      <td>dba1ead8-cb25-433c-bf04-26dde2854d58</td>\n",
       "      <td>crm</td>\n",
       "      <td>ecommerce</td>\n",
       "      <td>1.0</td>\n",
       "      <td>1.000000</td>\n",
       "      <td>1.000000</td>\n",
       "      <td>1.0</td>\n",
       "      <td>0.0</td>\n",
       "      <td>0.900000</td>\n",
       "      <td>auto_merge</td>\n",
       "      <td>high</td>\n",
       "    </tr>\n",
       "    <tr>\n",
       "      <th>2</th>\n",
       "      <td>53a7bd0d-cd87-4250-a198-f076bbd7a159</td>\n",
       "      <td>c772f5d1-5498-4ed9-bf75-55d66b0c5b70</td>\n",
       "      <td>crm</td>\n",
       "      <td>ecommerce</td>\n",
       "      <td>1.0</td>\n",
       "      <td>1.000000</td>\n",
       "      <td>1.000000</td>\n",
       "      <td>1.0</td>\n",
       "      <td>0.0</td>\n",
       "      <td>0.900000</td>\n",
       "      <td>auto_merge</td>\n",
       "      <td>high</td>\n",
       "    </tr>\n",
       "    <tr>\n",
       "      <th>3</th>\n",
       "      <td>5c70a4f6-33e9-496d-82c5-5fb732f15cea</td>\n",
       "      <td>a958739a-b715-470a-a690-d956fd6eeaf1</td>\n",
       "      <td>crm</td>\n",
       "      <td>erp</td>\n",
       "      <td>1.0</td>\n",
       "      <td>1.000000</td>\n",
       "      <td>1.000000</td>\n",
       "      <td>1.0</td>\n",
       "      <td>0.0</td>\n",
       "      <td>0.900000</td>\n",
       "      <td>auto_merge</td>\n",
       "      <td>high</td>\n",
       "    </tr>\n",
       "    <tr>\n",
       "      <th>4</th>\n",
       "      <td>07f548fb-d516-4880-857d-5023d87951c8</td>\n",
       "      <td>17e55345-3166-4758-8a89-cf8fa1e9cb6f</td>\n",
       "      <td>crm</td>\n",
       "      <td>ecommerce</td>\n",
       "      <td>1.0</td>\n",
       "      <td>1.000000</td>\n",
       "      <td>1.000000</td>\n",
       "      <td>1.0</td>\n",
       "      <td>0.0</td>\n",
       "      <td>0.900000</td>\n",
       "      <td>auto_merge</td>\n",
       "      <td>high</td>\n",
       "    </tr>\n",
       "    <tr>\n",
       "      <th>5</th>\n",
       "      <td>07f548fb-d516-4880-857d-5023d87951c8</td>\n",
       "      <td>8239b80b-3f4e-4b2d-84db-f1bbd7d5f63d</td>\n",
       "      <td>crm</td>\n",
       "      <td>erp</td>\n",
       "      <td>1.0</td>\n",
       "      <td>1.000000</td>\n",
       "      <td>1.000000</td>\n",
       "      <td>1.0</td>\n",
       "      <td>0.0</td>\n",
       "      <td>0.900000</td>\n",
       "      <td>auto_merge</td>\n",
       "      <td>high</td>\n",
       "    </tr>\n",
       "    <tr>\n",
       "      <th>6</th>\n",
       "      <td>32e5a809-33cc-43cf-a382-cad0cf132311</td>\n",
       "      <td>a6842750-0850-4c64-ab3e-6f279f52dc5f</td>\n",
       "      <td>crm</td>\n",
       "      <td>erp</td>\n",
       "      <td>1.0</td>\n",
       "      <td>1.000000</td>\n",
       "      <td>1.000000</td>\n",
       "      <td>1.0</td>\n",
       "      <td>0.0</td>\n",
       "      <td>0.900000</td>\n",
       "      <td>auto_merge</td>\n",
       "      <td>high</td>\n",
       "    </tr>\n",
       "    <tr>\n",
       "      <th>7</th>\n",
       "      <td>4d9e1e03-ea7a-4ae7-a5e0-14197efa0fac</td>\n",
       "      <td>66863d62-863e-499b-816a-7d2cf9dcc0a3</td>\n",
       "      <td>crm</td>\n",
       "      <td>erp</td>\n",
       "      <td>1.0</td>\n",
       "      <td>1.000000</td>\n",
       "      <td>1.000000</td>\n",
       "      <td>1.0</td>\n",
       "      <td>0.0</td>\n",
       "      <td>0.900000</td>\n",
       "      <td>auto_merge</td>\n",
       "      <td>high</td>\n",
       "    </tr>\n",
       "    <tr>\n",
       "      <th>8</th>\n",
       "      <td>68777f71-42fe-40f7-8300-cac484c6a852</td>\n",
       "      <td>7e8876ef-1625-4db7-b47b-457d72a0dfc8</td>\n",
       "      <td>crm</td>\n",
       "      <td>ecommerce</td>\n",
       "      <td>1.0</td>\n",
       "      <td>1.000000</td>\n",
       "      <td>1.000000</td>\n",
       "      <td>1.0</td>\n",
       "      <td>0.0</td>\n",
       "      <td>0.900000</td>\n",
       "      <td>auto_merge</td>\n",
       "      <td>high</td>\n",
       "    </tr>\n",
       "    <tr>\n",
       "      <th>9</th>\n",
       "      <td>1c0e229b-2908-4e5b-9542-327651bae956</td>\n",
       "      <td>f2a57786-742f-467e-bad4-6c23e8016391</td>\n",
       "      <td>crm</td>\n",
       "      <td>ecommerce</td>\n",
       "      <td>1.0</td>\n",
       "      <td>1.000000</td>\n",
       "      <td>1.000000</td>\n",
       "      <td>1.0</td>\n",
       "      <td>0.0</td>\n",
       "      <td>0.900000</td>\n",
       "      <td>auto_merge</td>\n",
       "      <td>high</td>\n",
       "    </tr>\n",
       "  </tbody>\n",
       "</table>\n",
       "</div>"
      ],
      "text/plain": [
       "                             record1_id                            record2_id  \\\n",
       "0  2e73c751-36cc-4c34-a13f-c284d776f78f  639edff4-2f06-489b-a1cc-a1f7a9d37228   \n",
       "1  86dfdb83-6a43-4540-9bee-33ac0d05087e  dba1ead8-cb25-433c-bf04-26dde2854d58   \n",
       "2  53a7bd0d-cd87-4250-a198-f076bbd7a159  c772f5d1-5498-4ed9-bf75-55d66b0c5b70   \n",
       "3  5c70a4f6-33e9-496d-82c5-5fb732f15cea  a958739a-b715-470a-a690-d956fd6eeaf1   \n",
       "4  07f548fb-d516-4880-857d-5023d87951c8  17e55345-3166-4758-8a89-cf8fa1e9cb6f   \n",
       "5  07f548fb-d516-4880-857d-5023d87951c8  8239b80b-3f4e-4b2d-84db-f1bbd7d5f63d   \n",
       "6  32e5a809-33cc-43cf-a382-cad0cf132311  a6842750-0850-4c64-ab3e-6f279f52dc5f   \n",
       "7  4d9e1e03-ea7a-4ae7-a5e0-14197efa0fac  66863d62-863e-499b-816a-7d2cf9dcc0a3   \n",
       "8  68777f71-42fe-40f7-8300-cac484c6a852  7e8876ef-1625-4db7-b47b-457d72a0dfc8   \n",
       "9  1c0e229b-2908-4e5b-9542-327651bae956  f2a57786-742f-467e-bad4-6c23e8016391   \n",
       "\n",
       "  source1    source2  exact_score  fuzzy_score  vector_score  business_score  \\\n",
       "0     crm  ecommerce          1.0     0.821429      0.971408             1.0   \n",
       "1     crm  ecommerce          1.0     1.000000      1.000000             1.0   \n",
       "2     crm  ecommerce          1.0     1.000000      1.000000             1.0   \n",
       "3     crm        erp          1.0     1.000000      1.000000             1.0   \n",
       "4     crm  ecommerce          1.0     1.000000      1.000000             1.0   \n",
       "5     crm        erp          1.0     1.000000      1.000000             1.0   \n",
       "6     crm        erp          1.0     1.000000      1.000000             1.0   \n",
       "7     crm        erp          1.0     1.000000      1.000000             1.0   \n",
       "8     crm  ecommerce          1.0     1.000000      1.000000             1.0   \n",
       "9     crm  ecommerce          1.0     1.000000      1.000000             1.0   \n",
       "\n",
       "   ai_score  combined_score match_decision confidence_level  \n",
       "0       0.9        0.939639     auto_merge             high  \n",
       "1       0.0        0.900000     auto_merge             high  \n",
       "2       0.0        0.900000     auto_merge             high  \n",
       "3       0.0        0.900000     auto_merge             high  \n",
       "4       0.0        0.900000     auto_merge             high  \n",
       "5       0.0        0.900000     auto_merge             high  \n",
       "6       0.0        0.900000     auto_merge             high  \n",
       "7       0.0        0.900000     auto_merge             high  \n",
       "8       0.0        0.900000     auto_merge             high  \n",
       "9       0.0        0.900000     auto_merge             high  "
      ]
     },
     "metadata": {},
     "output_type": "display_data"
    }
   ],
   "source": [
    "# Combine all matching scores (now with 5 strategies)\n",
    "print(\"🔄 Combining match scores from 5 strategies...\")\n",
    "combined_sql = generate_combined_scoring_sql(\n",
    "    bq_helper.dataset_ref,\n",
    "    \"customers_with_embeddings\"\n",
    ")\n",
    "bq_helper.execute_query(combined_sql)\n",
    "print(\"✅ Combined scoring completed\")\n",
    "\n",
    "# Analyze combined results\n",
    "analysis_sql = f\"\"\"\n",
    "SELECT\n",
    "  match_decision,\n",
    "  confidence_level,\n",
    "  COUNT(*) as count,\n",
    "  AVG(combined_score) as avg_score,\n",
    "  MIN(combined_score) as min_score,\n",
    "  MAX(combined_score) as max_score\n",
    "FROM `{bq_helper.dataset_ref}.customers_with_embeddings_combined_matches`\n",
    "GROUP BY match_decision, confidence_level\n",
    "ORDER BY avg_score DESC\n",
    "\"\"\"\n",
    "\n",
    "analysis_df = bq_helper.execute_query(analysis_sql)\n",
    "print(\"\\n📊 Match Decision Summary:\")\n",
    "display(analysis_df)\n",
    "\n",
    "# Show top matches\n",
    "top_matches_sql = f\"\"\"\n",
    "SELECT\n",
    "  record1_id,\n",
    "  record2_id,\n",
    "  source1,\n",
    "  source2,\n",
    "  exact_score,\n",
    "  fuzzy_score,\n",
    "  vector_score,\n",
    "  business_score,\n",
    "  ai_score,\n",
    "  combined_score,\n",
    "  match_decision,\n",
    "  confidence_level\n",
    "FROM `{bq_helper.dataset_ref}.customers_with_embeddings_combined_matches`\n",
    "ORDER BY combined_score DESC\n",
    "LIMIT 10\n",
    "\"\"\"\n",
    "\n",
    "top_matches_df = bq_helper.execute_query(top_matches_sql)\n",
    "print(\"\\n🏆 Top 10 Matches (5-Strategy Analysis):\")\n",
    "display(top_matches_df)"
   ]
  },
  {
   "cell_type": "markdown",
   "metadata": {},
   "source": [
    "## 9. Golden Record Creation\n",
    "\n",
    "Create master entities using survivorship rules and merge decisions."
   ]
  },
  {
   "cell_type": "code",
   "execution_count": 17,
   "metadata": {},
   "outputs": [
    {
     "name": "stdout",
     "output_type": "stream",
     "text": [
      "🔄 Creating golden records...\n",
      "✅ Golden records created successfully\n",
      "📊 Golden Record Statistics:\n",
      "  Total golden records: 265.0\n",
      "  Avg sources per record: 1.00\n",
      "  Max sources per record: 1.0\n"
     ]
    }
   ],
   "source": [
    "# Create golden records with survivorship rules\n",
    "print(\"🔄 Creating golden records...\")\n",
    "\n",
    "golden_record_sql = f\"\"\"\n",
    "CREATE OR REPLACE TABLE `{bq_helper.dataset_ref}.golden_records` AS\n",
    "WITH match_clusters AS (\n",
    "  -- Create clusters of matching records\n",
    "  SELECT\n",
    "    record1_id,\n",
    "    record2_id,\n",
    "    combined_score\n",
    "  FROM `{bq_helper.dataset_ref}.customers_with_embeddings_combined_matches`\n",
    "  WHERE match_decision IN ('auto_merge', 'human_review')\n",
    "),\n",
    "survivorship_rules AS (\n",
    "  -- Apply survivorship rules to select best values\n",
    "  SELECT\n",
    "    GENERATE_UUID() as master_id,\n",
    "    ARRAY_AGG(record_id) as source_record_ids,\n",
    "\n",
    "    -- Name: Most complete (longest)\n",
    "    ARRAY_AGG(full_name_clean ORDER BY LENGTH(full_name_clean) DESC LIMIT 1)[OFFSET(0)] as master_name,\n",
    "\n",
    "    -- Email: Most recent and complete\n",
    "    ARRAY_AGG(email_clean ORDER BY\n",
    "      CASE WHEN email_clean IS NOT NULL THEN 1 ELSE 0 END DESC,\n",
    "      processed_at DESC LIMIT 1)[OFFSET(0)] as master_email,\n",
    "\n",
    "    -- Phone: Most recent and complete\n",
    "    ARRAY_AGG(phone_clean ORDER BY\n",
    "      CASE WHEN phone_clean IS NOT NULL THEN 1 ELSE 0 END DESC,\n",
    "      processed_at DESC LIMIT 1)[OFFSET(0)] as master_phone,\n",
    "\n",
    "    -- Address: Most complete\n",
    "    ARRAY_AGG(address_clean ORDER BY LENGTH(address_clean) DESC LIMIT 1)[OFFSET(0)] as master_address,\n",
    "    ARRAY_AGG(city_clean ORDER BY LENGTH(city_clean) DESC LIMIT 1)[OFFSET(0)] as master_city,\n",
    "    ARRAY_AGG(state_clean ORDER BY LENGTH(state_clean) DESC LIMIT 1)[OFFSET(0)] as master_state,\n",
    "\n",
    "    -- Other fields: Most recent\n",
    "    ARRAY_AGG(company ORDER BY processed_at DESC LIMIT 1)[OFFSET(0)] as master_company,\n",
    "    ARRAY_AGG(annual_income ORDER BY processed_at DESC LIMIT 1)[OFFSET(0)] as master_income,\n",
    "    ARRAY_AGG(customer_segment ORDER BY processed_at DESC LIMIT 1)[OFFSET(0)] as master_segment,\n",
    "\n",
    "    -- Metadata\n",
    "    COUNT(*) as source_record_count,\n",
    "    ARRAY_AGG(DISTINCT source_system) as source_systems,\n",
    "    MIN(registration_date) as first_seen,\n",
    "    MAX(last_activity_date) as last_activity,\n",
    "    CURRENT_TIMESTAMP() as created_at\n",
    "\n",
    "  FROM `{bq_helper.dataset_ref}.customers_with_embeddings` c\n",
    "  WHERE record_id IN (\n",
    "    SELECT DISTINCT record1_id FROM match_clusters\n",
    "    UNION DISTINCT\n",
    "    SELECT DISTINCT record2_id FROM match_clusters\n",
    "  )\n",
    "  GROUP BY 1  -- Group by some clustering logic (simplified)\n",
    ")\n",
    "SELECT * FROM survivorship_rules\n",
    "\"\"\"\n",
    "\n",
    "try:\n",
    "    bq_helper.execute_query(golden_record_sql)\n",
    "    print(\"✅ Golden records created successfully\")\n",
    "\n",
    "    # Check golden record statistics\n",
    "    golden_stats_sql = f\"\"\"\n",
    "    SELECT\n",
    "      COUNT(*) as total_golden_records,\n",
    "      AVG(source_record_count) as avg_sources_per_record,\n",
    "      MAX(source_record_count) as max_sources_per_record\n",
    "    FROM `{bq_helper.dataset_ref}.golden_records`\n",
    "    \"\"\"\n",
    "\n",
    "    golden_stats = bq_helper.execute_query(golden_stats_sql)\n",
    "    print(f\"📊 Golden Record Statistics:\")\n",
    "    print(\n",
    "        f\"  Total golden records: {golden_stats.iloc[0]['total_golden_records']}\")\n",
    "    print(\n",
    "        f\"  Avg sources per record: {golden_stats.iloc[0]['avg_sources_per_record']:.2f}\")\n",
    "    print(\n",
    "        f\"  Max sources per record: {golden_stats.iloc[0]['max_sources_per_record']}\")\n",
    "\n",
    "except Exception as e:\n",
    "    print(f\"❌ Error creating golden records: {e}\")"
   ]
  },
  {
   "cell_type": "markdown",
   "metadata": {},
   "source": [
    "## 10. Analysis and Visualization\n",
    "\n",
    "Analyze the MDM pipeline results and create visualizations."
   ]
  },
  {
   "cell_type": "code",
   "execution_count": 18,
   "metadata": {},
   "outputs": [
    {
     "name": "stdout",
     "output_type": "stream",
     "text": [
      "📊 Analyzing MDM Pipeline Results...\n",
      "\n",
      "📈 Pipeline Statistics:\n"
     ]
    },
    {
     "data": {
      "text/html": [
       "<div>\n",
       "<style scoped>\n",
       "    .dataframe tbody tr th:only-of-type {\n",
       "        vertical-align: middle;\n",
       "    }\n",
       "\n",
       "    .dataframe tbody tr th {\n",
       "        vertical-align: top;\n",
       "    }\n",
       "\n",
       "    .dataframe thead th {\n",
       "        text-align: right;\n",
       "    }\n",
       "</style>\n",
       "<table border=\"1\" class=\"dataframe\">\n",
       "  <thead>\n",
       "    <tr style=\"text-align: right;\">\n",
       "      <th></th>\n",
       "      <th>stage</th>\n",
       "      <th>record_count</th>\n",
       "    </tr>\n",
       "  </thead>\n",
       "  <tbody>\n",
       "    <tr>\n",
       "      <th>0</th>\n",
       "      <td>Raw Records</td>\n",
       "      <td>284</td>\n",
       "    </tr>\n",
       "    <tr>\n",
       "      <th>1</th>\n",
       "      <td>Standardized Records</td>\n",
       "      <td>284</td>\n",
       "    </tr>\n",
       "    <tr>\n",
       "      <th>2</th>\n",
       "      <td>Records with Embeddings</td>\n",
       "      <td>284</td>\n",
       "    </tr>\n",
       "    <tr>\n",
       "      <th>3</th>\n",
       "      <td>Golden Records</td>\n",
       "      <td>265</td>\n",
       "    </tr>\n",
       "  </tbody>\n",
       "</table>\n",
       "</div>"
      ],
      "text/plain": [
       "                     stage  record_count\n",
       "0              Raw Records           284\n",
       "1     Standardized Records           284\n",
       "2  Records with Embeddings           284\n",
       "3           Golden Records           265"
      ]
     },
     "metadata": {},
     "output_type": "display_data"
    },
    {
     "data": {
      "application/vnd.plotly.v1+json": {
       "config": {
        "plotlyServerURL": "https://plot.ly"
       },
       "data": [
        {
         "hovertemplate": "Number of Records=%{x}<br>Pipeline Stage=%{y}<extra></extra>",
         "legendgroup": "",
         "marker": {
          "color": "#636efa"
         },
         "name": "",
         "orientation": "h",
         "showlegend": false,
         "type": "funnel",
         "x": {
          "bdata": "HAEcARwBCQE=",
          "dtype": "i2"
         },
         "xaxis": "x",
         "y": [
          "Raw Records",
          "Standardized Records",
          "Records with Embeddings",
          "Golden Records"
         ],
         "yaxis": "y"
        }
       ],
       "layout": {
        "legend": {
         "tracegroupgap": 0
        },
        "template": {
         "data": {
          "bar": [
           {
            "error_x": {
             "color": "#2a3f5f"
            },
            "error_y": {
             "color": "#2a3f5f"
            },
            "marker": {
             "line": {
              "color": "#E5ECF6",
              "width": 0.5
             },
             "pattern": {
              "fillmode": "overlay",
              "size": 10,
              "solidity": 0.2
             }
            },
            "type": "bar"
           }
          ],
          "barpolar": [
           {
            "marker": {
             "line": {
              "color": "#E5ECF6",
              "width": 0.5
             },
             "pattern": {
              "fillmode": "overlay",
              "size": 10,
              "solidity": 0.2
             }
            },
            "type": "barpolar"
           }
          ],
          "carpet": [
           {
            "aaxis": {
             "endlinecolor": "#2a3f5f",
             "gridcolor": "white",
             "linecolor": "white",
             "minorgridcolor": "white",
             "startlinecolor": "#2a3f5f"
            },
            "baxis": {
             "endlinecolor": "#2a3f5f",
             "gridcolor": "white",
             "linecolor": "white",
             "minorgridcolor": "white",
             "startlinecolor": "#2a3f5f"
            },
            "type": "carpet"
           }
          ],
          "choropleth": [
           {
            "colorbar": {
             "outlinewidth": 0,
             "ticks": ""
            },
            "type": "choropleth"
           }
          ],
          "contour": [
           {
            "colorbar": {
             "outlinewidth": 0,
             "ticks": ""
            },
            "colorscale": [
             [
              0,
              "#0d0887"
             ],
             [
              0.1111111111111111,
              "#46039f"
             ],
             [
              0.2222222222222222,
              "#7201a8"
             ],
             [
              0.3333333333333333,
              "#9c179e"
             ],
             [
              0.4444444444444444,
              "#bd3786"
             ],
             [
              0.5555555555555556,
              "#d8576b"
             ],
             [
              0.6666666666666666,
              "#ed7953"
             ],
             [
              0.7777777777777778,
              "#fb9f3a"
             ],
             [
              0.8888888888888888,
              "#fdca26"
             ],
             [
              1,
              "#f0f921"
             ]
            ],
            "type": "contour"
           }
          ],
          "contourcarpet": [
           {
            "colorbar": {
             "outlinewidth": 0,
             "ticks": ""
            },
            "type": "contourcarpet"
           }
          ],
          "heatmap": [
           {
            "colorbar": {
             "outlinewidth": 0,
             "ticks": ""
            },
            "colorscale": [
             [
              0,
              "#0d0887"
             ],
             [
              0.1111111111111111,
              "#46039f"
             ],
             [
              0.2222222222222222,
              "#7201a8"
             ],
             [
              0.3333333333333333,
              "#9c179e"
             ],
             [
              0.4444444444444444,
              "#bd3786"
             ],
             [
              0.5555555555555556,
              "#d8576b"
             ],
             [
              0.6666666666666666,
              "#ed7953"
             ],
             [
              0.7777777777777778,
              "#fb9f3a"
             ],
             [
              0.8888888888888888,
              "#fdca26"
             ],
             [
              1,
              "#f0f921"
             ]
            ],
            "type": "heatmap"
           }
          ],
          "histogram": [
           {
            "marker": {
             "pattern": {
              "fillmode": "overlay",
              "size": 10,
              "solidity": 0.2
             }
            },
            "type": "histogram"
           }
          ],
          "histogram2d": [
           {
            "colorbar": {
             "outlinewidth": 0,
             "ticks": ""
            },
            "colorscale": [
             [
              0,
              "#0d0887"
             ],
             [
              0.1111111111111111,
              "#46039f"
             ],
             [
              0.2222222222222222,
              "#7201a8"
             ],
             [
              0.3333333333333333,
              "#9c179e"
             ],
             [
              0.4444444444444444,
              "#bd3786"
             ],
             [
              0.5555555555555556,
              "#d8576b"
             ],
             [
              0.6666666666666666,
              "#ed7953"
             ],
             [
              0.7777777777777778,
              "#fb9f3a"
             ],
             [
              0.8888888888888888,
              "#fdca26"
             ],
             [
              1,
              "#f0f921"
             ]
            ],
            "type": "histogram2d"
           }
          ],
          "histogram2dcontour": [
           {
            "colorbar": {
             "outlinewidth": 0,
             "ticks": ""
            },
            "colorscale": [
             [
              0,
              "#0d0887"
             ],
             [
              0.1111111111111111,
              "#46039f"
             ],
             [
              0.2222222222222222,
              "#7201a8"
             ],
             [
              0.3333333333333333,
              "#9c179e"
             ],
             [
              0.4444444444444444,
              "#bd3786"
             ],
             [
              0.5555555555555556,
              "#d8576b"
             ],
             [
              0.6666666666666666,
              "#ed7953"
             ],
             [
              0.7777777777777778,
              "#fb9f3a"
             ],
             [
              0.8888888888888888,
              "#fdca26"
             ],
             [
              1,
              "#f0f921"
             ]
            ],
            "type": "histogram2dcontour"
           }
          ],
          "mesh3d": [
           {
            "colorbar": {
             "outlinewidth": 0,
             "ticks": ""
            },
            "type": "mesh3d"
           }
          ],
          "parcoords": [
           {
            "line": {
             "colorbar": {
              "outlinewidth": 0,
              "ticks": ""
             }
            },
            "type": "parcoords"
           }
          ],
          "pie": [
           {
            "automargin": true,
            "type": "pie"
           }
          ],
          "scatter": [
           {
            "fillpattern": {
             "fillmode": "overlay",
             "size": 10,
             "solidity": 0.2
            },
            "type": "scatter"
           }
          ],
          "scatter3d": [
           {
            "line": {
             "colorbar": {
              "outlinewidth": 0,
              "ticks": ""
             }
            },
            "marker": {
             "colorbar": {
              "outlinewidth": 0,
              "ticks": ""
             }
            },
            "type": "scatter3d"
           }
          ],
          "scattercarpet": [
           {
            "marker": {
             "colorbar": {
              "outlinewidth": 0,
              "ticks": ""
             }
            },
            "type": "scattercarpet"
           }
          ],
          "scattergeo": [
           {
            "marker": {
             "colorbar": {
              "outlinewidth": 0,
              "ticks": ""
             }
            },
            "type": "scattergeo"
           }
          ],
          "scattergl": [
           {
            "marker": {
             "colorbar": {
              "outlinewidth": 0,
              "ticks": ""
             }
            },
            "type": "scattergl"
           }
          ],
          "scattermap": [
           {
            "marker": {
             "colorbar": {
              "outlinewidth": 0,
              "ticks": ""
             }
            },
            "type": "scattermap"
           }
          ],
          "scattermapbox": [
           {
            "marker": {
             "colorbar": {
              "outlinewidth": 0,
              "ticks": ""
             }
            },
            "type": "scattermapbox"
           }
          ],
          "scatterpolar": [
           {
            "marker": {
             "colorbar": {
              "outlinewidth": 0,
              "ticks": ""
             }
            },
            "type": "scatterpolar"
           }
          ],
          "scatterpolargl": [
           {
            "marker": {
             "colorbar": {
              "outlinewidth": 0,
              "ticks": ""
             }
            },
            "type": "scatterpolargl"
           }
          ],
          "scatterternary": [
           {
            "marker": {
             "colorbar": {
              "outlinewidth": 0,
              "ticks": ""
             }
            },
            "type": "scatterternary"
           }
          ],
          "surface": [
           {
            "colorbar": {
             "outlinewidth": 0,
             "ticks": ""
            },
            "colorscale": [
             [
              0,
              "#0d0887"
             ],
             [
              0.1111111111111111,
              "#46039f"
             ],
             [
              0.2222222222222222,
              "#7201a8"
             ],
             [
              0.3333333333333333,
              "#9c179e"
             ],
             [
              0.4444444444444444,
              "#bd3786"
             ],
             [
              0.5555555555555556,
              "#d8576b"
             ],
             [
              0.6666666666666666,
              "#ed7953"
             ],
             [
              0.7777777777777778,
              "#fb9f3a"
             ],
             [
              0.8888888888888888,
              "#fdca26"
             ],
             [
              1,
              "#f0f921"
             ]
            ],
            "type": "surface"
           }
          ],
          "table": [
           {
            "cells": {
             "fill": {
              "color": "#EBF0F8"
             },
             "line": {
              "color": "white"
             }
            },
            "header": {
             "fill": {
              "color": "#C8D4E3"
             },
             "line": {
              "color": "white"
             }
            },
            "type": "table"
           }
          ]
         },
         "layout": {
          "annotationdefaults": {
           "arrowcolor": "#2a3f5f",
           "arrowhead": 0,
           "arrowwidth": 1
          },
          "autotypenumbers": "strict",
          "coloraxis": {
           "colorbar": {
            "outlinewidth": 0,
            "ticks": ""
           }
          },
          "colorscale": {
           "diverging": [
            [
             0,
             "#8e0152"
            ],
            [
             0.1,
             "#c51b7d"
            ],
            [
             0.2,
             "#de77ae"
            ],
            [
             0.3,
             "#f1b6da"
            ],
            [
             0.4,
             "#fde0ef"
            ],
            [
             0.5,
             "#f7f7f7"
            ],
            [
             0.6,
             "#e6f5d0"
            ],
            [
             0.7,
             "#b8e186"
            ],
            [
             0.8,
             "#7fbc41"
            ],
            [
             0.9,
             "#4d9221"
            ],
            [
             1,
             "#276419"
            ]
           ],
           "sequential": [
            [
             0,
             "#0d0887"
            ],
            [
             0.1111111111111111,
             "#46039f"
            ],
            [
             0.2222222222222222,
             "#7201a8"
            ],
            [
             0.3333333333333333,
             "#9c179e"
            ],
            [
             0.4444444444444444,
             "#bd3786"
            ],
            [
             0.5555555555555556,
             "#d8576b"
            ],
            [
             0.6666666666666666,
             "#ed7953"
            ],
            [
             0.7777777777777778,
             "#fb9f3a"
            ],
            [
             0.8888888888888888,
             "#fdca26"
            ],
            [
             1,
             "#f0f921"
            ]
           ],
           "sequentialminus": [
            [
             0,
             "#0d0887"
            ],
            [
             0.1111111111111111,
             "#46039f"
            ],
            [
             0.2222222222222222,
             "#7201a8"
            ],
            [
             0.3333333333333333,
             "#9c179e"
            ],
            [
             0.4444444444444444,
             "#bd3786"
            ],
            [
             0.5555555555555556,
             "#d8576b"
            ],
            [
             0.6666666666666666,
             "#ed7953"
            ],
            [
             0.7777777777777778,
             "#fb9f3a"
            ],
            [
             0.8888888888888888,
             "#fdca26"
            ],
            [
             1,
             "#f0f921"
            ]
           ]
          },
          "colorway": [
           "#636efa",
           "#EF553B",
           "#00cc96",
           "#ab63fa",
           "#FFA15A",
           "#19d3f3",
           "#FF6692",
           "#B6E880",
           "#FF97FF",
           "#FECB52"
          ],
          "font": {
           "color": "#2a3f5f"
          },
          "geo": {
           "bgcolor": "white",
           "lakecolor": "white",
           "landcolor": "#E5ECF6",
           "showlakes": true,
           "showland": true,
           "subunitcolor": "white"
          },
          "hoverlabel": {
           "align": "left"
          },
          "hovermode": "closest",
          "mapbox": {
           "style": "light"
          },
          "paper_bgcolor": "white",
          "plot_bgcolor": "#E5ECF6",
          "polar": {
           "angularaxis": {
            "gridcolor": "white",
            "linecolor": "white",
            "ticks": ""
           },
           "bgcolor": "#E5ECF6",
           "radialaxis": {
            "gridcolor": "white",
            "linecolor": "white",
            "ticks": ""
           }
          },
          "scene": {
           "xaxis": {
            "backgroundcolor": "#E5ECF6",
            "gridcolor": "white",
            "gridwidth": 2,
            "linecolor": "white",
            "showbackground": true,
            "ticks": "",
            "zerolinecolor": "white"
           },
           "yaxis": {
            "backgroundcolor": "#E5ECF6",
            "gridcolor": "white",
            "gridwidth": 2,
            "linecolor": "white",
            "showbackground": true,
            "ticks": "",
            "zerolinecolor": "white"
           },
           "zaxis": {
            "backgroundcolor": "#E5ECF6",
            "gridcolor": "white",
            "gridwidth": 2,
            "linecolor": "white",
            "showbackground": true,
            "ticks": "",
            "zerolinecolor": "white"
           }
          },
          "shapedefaults": {
           "line": {
            "color": "#2a3f5f"
           }
          },
          "ternary": {
           "aaxis": {
            "gridcolor": "white",
            "linecolor": "white",
            "ticks": ""
           },
           "baxis": {
            "gridcolor": "white",
            "linecolor": "white",
            "ticks": ""
           },
           "bgcolor": "#E5ECF6",
           "caxis": {
            "gridcolor": "white",
            "linecolor": "white",
            "ticks": ""
           }
          },
          "title": {
           "x": 0.05
          },
          "xaxis": {
           "automargin": true,
           "gridcolor": "white",
           "linecolor": "white",
           "ticks": "",
           "title": {
            "standoff": 15
           },
           "zerolinecolor": "white",
           "zerolinewidth": 2
          },
          "yaxis": {
           "automargin": true,
           "gridcolor": "white",
           "linecolor": "white",
           "ticks": "",
           "title": {
            "standoff": 15
           },
           "zerolinecolor": "white",
           "zerolinewidth": 2
          }
         }
        },
        "title": {
         "text": "MDM Pipeline Data Flow"
        },
        "xaxis": {
         "anchor": "y",
         "domain": [
          0,
          1
         ],
         "title": {
          "text": "Number of Records"
         }
        },
        "yaxis": {
         "anchor": "x",
         "domain": [
          0,
          1
         ],
         "title": {
          "text": "Pipeline Stage"
         }
        }
       }
      }
     },
     "metadata": {},
     "output_type": "display_data"
    }
   ],
   "source": [
    "# Create comprehensive analysis\n",
    "print(\"📊 Analyzing MDM Pipeline Results...\")\n",
    "\n",
    "# Get overall statistics\n",
    "overall_stats_sql = f\"\"\"\n",
    "WITH stats AS (\n",
    "  SELECT\n",
    "    'Raw Records' as stage,\n",
    "    COUNT(*) as record_count\n",
    "  FROM `{bq_helper.dataset_ref}.raw_customers_combined`\n",
    "\n",
    "  UNION ALL\n",
    "\n",
    "  SELECT\n",
    "    'Standardized Records' as stage,\n",
    "    COUNT(*) as record_count\n",
    "  FROM `{bq_helper.dataset_ref}.customers_standardized`\n",
    "\n",
    "  UNION ALL\n",
    "\n",
    "  SELECT\n",
    "    'Records with Embeddings' as stage,\n",
    "    COUNT(*) as record_count\n",
    "  FROM `{bq_helper.dataset_ref}.customers_with_embeddings`\n",
    "  WHERE ml_generate_embedding_result IS NOT NULL\n",
    "\n",
    "  UNION ALL\n",
    "\n",
    "  SELECT\n",
    "    'Golden Records' as stage,\n",
    "    COUNT(*) as record_count\n",
    "  FROM `{bq_helper.dataset_ref}.golden_records`\n",
    ")\n",
    "SELECT * FROM stats ORDER BY record_count DESC\n",
    "\"\"\"\n",
    "\n",
    "overall_stats = bq_helper.execute_query(overall_stats_sql)\n",
    "print(\"\\n📈 Pipeline Statistics:\")\n",
    "display(overall_stats)\n",
    "\n",
    "# Visualize pipeline flow\n",
    "fig = px.funnel(\n",
    "    overall_stats,\n",
    "    x='record_count',\n",
    "    y='stage',\n",
    "    title='MDM Pipeline Data Flow',\n",
    "    labels={'record_count': 'Number of Records', 'stage': 'Pipeline Stage'}\n",
    ")\n",
    "fig.show()"
   ]
  },
  {
   "cell_type": "code",
   "execution_count": 19,
   "metadata": {},
   "outputs": [
    {
     "name": "stdout",
     "output_type": "stream",
     "text": [
      "\n",
      "🎯 5-Strategy Matching Effectiveness:\n"
     ]
    },
    {
     "data": {
      "text/html": [
       "<div>\n",
       "<style scoped>\n",
       "    .dataframe tbody tr th:only-of-type {\n",
       "        vertical-align: middle;\n",
       "    }\n",
       "\n",
       "    .dataframe tbody tr th {\n",
       "        vertical-align: top;\n",
       "    }\n",
       "\n",
       "    .dataframe thead th {\n",
       "        text-align: right;\n",
       "    }\n",
       "</style>\n",
       "<table border=\"1\" class=\"dataframe\">\n",
       "  <thead>\n",
       "    <tr style=\"text-align: right;\">\n",
       "      <th></th>\n",
       "      <th>strategy</th>\n",
       "      <th>matches_found</th>\n",
       "      <th>avg_score</th>\n",
       "    </tr>\n",
       "  </thead>\n",
       "  <tbody>\n",
       "    <tr>\n",
       "      <th>0</th>\n",
       "      <td>Fuzzy Matching</td>\n",
       "      <td>384</td>\n",
       "      <td>0.832410</td>\n",
       "    </tr>\n",
       "    <tr>\n",
       "      <th>1</th>\n",
       "      <td>Vector Matching</td>\n",
       "      <td>384</td>\n",
       "      <td>0.934118</td>\n",
       "    </tr>\n",
       "    <tr>\n",
       "      <th>2</th>\n",
       "      <td>Business Rules</td>\n",
       "      <td>340</td>\n",
       "      <td>0.782059</td>\n",
       "    </tr>\n",
       "    <tr>\n",
       "      <th>3</th>\n",
       "      <td>Exact Matching</td>\n",
       "      <td>258</td>\n",
       "      <td>1.000000</td>\n",
       "    </tr>\n",
       "    <tr>\n",
       "      <th>4</th>\n",
       "      <td>AI Natural Language</td>\n",
       "      <td>1</td>\n",
       "      <td>0.900000</td>\n",
       "    </tr>\n",
       "  </tbody>\n",
       "</table>\n",
       "</div>"
      ],
      "text/plain": [
       "              strategy  matches_found  avg_score\n",
       "0       Fuzzy Matching            384   0.832410\n",
       "1      Vector Matching            384   0.934118\n",
       "2       Business Rules            340   0.782059\n",
       "3       Exact Matching            258   1.000000\n",
       "4  AI Natural Language              1   0.900000"
      ]
     },
     "metadata": {},
     "output_type": "display_data"
    },
    {
     "data": {
      "application/vnd.plotly.v1+json": {
       "config": {
        "plotlyServerURL": "https://plot.ly"
       },
       "data": [
        {
         "name": "Matches",
         "type": "bar",
         "x": [
          "Fuzzy Matching",
          "Vector Matching",
          "Business Rules",
          "Exact Matching",
          "AI Natural Language"
         ],
         "xaxis": "x",
         "y": {
          "bdata": "gAGAAVQBAgEBAA==",
          "dtype": "i2"
         },
         "yaxis": "y"
        },
        {
         "name": "Avg Score",
         "type": "bar",
         "x": [
          "Fuzzy Matching",
          "Vector Matching",
          "Business Rules",
          "Exact Matching",
          "AI Natural Language"
         ],
         "xaxis": "x2",
         "y": {
          "bdata": "kCkj/xmj6j8xbSFoSuTtPwRt0zmgBuk/AAAAAAAA8D/NzMzMzMzsPw==",
          "dtype": "f8"
         },
         "yaxis": "y2"
        }
       ],
       "layout": {
        "annotations": [
         {
          "font": {
           "size": 16
          },
          "showarrow": false,
          "text": "Matches Found by Strategy",
          "x": 0.225,
          "xanchor": "center",
          "xref": "paper",
          "y": 1,
          "yanchor": "bottom",
          "yref": "paper"
         },
         {
          "font": {
           "size": 16
          },
          "showarrow": false,
          "text": "Average Score by Strategy",
          "x": 0.775,
          "xanchor": "center",
          "xref": "paper",
          "y": 1,
          "yanchor": "bottom",
          "yref": "paper"
         }
        ],
        "showlegend": false,
        "template": {
         "data": {
          "bar": [
           {
            "error_x": {
             "color": "#2a3f5f"
            },
            "error_y": {
             "color": "#2a3f5f"
            },
            "marker": {
             "line": {
              "color": "#E5ECF6",
              "width": 0.5
             },
             "pattern": {
              "fillmode": "overlay",
              "size": 10,
              "solidity": 0.2
             }
            },
            "type": "bar"
           }
          ],
          "barpolar": [
           {
            "marker": {
             "line": {
              "color": "#E5ECF6",
              "width": 0.5
             },
             "pattern": {
              "fillmode": "overlay",
              "size": 10,
              "solidity": 0.2
             }
            },
            "type": "barpolar"
           }
          ],
          "carpet": [
           {
            "aaxis": {
             "endlinecolor": "#2a3f5f",
             "gridcolor": "white",
             "linecolor": "white",
             "minorgridcolor": "white",
             "startlinecolor": "#2a3f5f"
            },
            "baxis": {
             "endlinecolor": "#2a3f5f",
             "gridcolor": "white",
             "linecolor": "white",
             "minorgridcolor": "white",
             "startlinecolor": "#2a3f5f"
            },
            "type": "carpet"
           }
          ],
          "choropleth": [
           {
            "colorbar": {
             "outlinewidth": 0,
             "ticks": ""
            },
            "type": "choropleth"
           }
          ],
          "contour": [
           {
            "colorbar": {
             "outlinewidth": 0,
             "ticks": ""
            },
            "colorscale": [
             [
              0,
              "#0d0887"
             ],
             [
              0.1111111111111111,
              "#46039f"
             ],
             [
              0.2222222222222222,
              "#7201a8"
             ],
             [
              0.3333333333333333,
              "#9c179e"
             ],
             [
              0.4444444444444444,
              "#bd3786"
             ],
             [
              0.5555555555555556,
              "#d8576b"
             ],
             [
              0.6666666666666666,
              "#ed7953"
             ],
             [
              0.7777777777777778,
              "#fb9f3a"
             ],
             [
              0.8888888888888888,
              "#fdca26"
             ],
             [
              1,
              "#f0f921"
             ]
            ],
            "type": "contour"
           }
          ],
          "contourcarpet": [
           {
            "colorbar": {
             "outlinewidth": 0,
             "ticks": ""
            },
            "type": "contourcarpet"
           }
          ],
          "heatmap": [
           {
            "colorbar": {
             "outlinewidth": 0,
             "ticks": ""
            },
            "colorscale": [
             [
              0,
              "#0d0887"
             ],
             [
              0.1111111111111111,
              "#46039f"
             ],
             [
              0.2222222222222222,
              "#7201a8"
             ],
             [
              0.3333333333333333,
              "#9c179e"
             ],
             [
              0.4444444444444444,
              "#bd3786"
             ],
             [
              0.5555555555555556,
              "#d8576b"
             ],
             [
              0.6666666666666666,
              "#ed7953"
             ],
             [
              0.7777777777777778,
              "#fb9f3a"
             ],
             [
              0.8888888888888888,
              "#fdca26"
             ],
             [
              1,
              "#f0f921"
             ]
            ],
            "type": "heatmap"
           }
          ],
          "histogram": [
           {
            "marker": {
             "pattern": {
              "fillmode": "overlay",
              "size": 10,
              "solidity": 0.2
             }
            },
            "type": "histogram"
           }
          ],
          "histogram2d": [
           {
            "colorbar": {
             "outlinewidth": 0,
             "ticks": ""
            },
            "colorscale": [
             [
              0,
              "#0d0887"
             ],
             [
              0.1111111111111111,
              "#46039f"
             ],
             [
              0.2222222222222222,
              "#7201a8"
             ],
             [
              0.3333333333333333,
              "#9c179e"
             ],
             [
              0.4444444444444444,
              "#bd3786"
             ],
             [
              0.5555555555555556,
              "#d8576b"
             ],
             [
              0.6666666666666666,
              "#ed7953"
             ],
             [
              0.7777777777777778,
              "#fb9f3a"
             ],
             [
              0.8888888888888888,
              "#fdca26"
             ],
             [
              1,
              "#f0f921"
             ]
            ],
            "type": "histogram2d"
           }
          ],
          "histogram2dcontour": [
           {
            "colorbar": {
             "outlinewidth": 0,
             "ticks": ""
            },
            "colorscale": [
             [
              0,
              "#0d0887"
             ],
             [
              0.1111111111111111,
              "#46039f"
             ],
             [
              0.2222222222222222,
              "#7201a8"
             ],
             [
              0.3333333333333333,
              "#9c179e"
             ],
             [
              0.4444444444444444,
              "#bd3786"
             ],
             [
              0.5555555555555556,
              "#d8576b"
             ],
             [
              0.6666666666666666,
              "#ed7953"
             ],
             [
              0.7777777777777778,
              "#fb9f3a"
             ],
             [
              0.8888888888888888,
              "#fdca26"
             ],
             [
              1,
              "#f0f921"
             ]
            ],
            "type": "histogram2dcontour"
           }
          ],
          "mesh3d": [
           {
            "colorbar": {
             "outlinewidth": 0,
             "ticks": ""
            },
            "type": "mesh3d"
           }
          ],
          "parcoords": [
           {
            "line": {
             "colorbar": {
              "outlinewidth": 0,
              "ticks": ""
             }
            },
            "type": "parcoords"
           }
          ],
          "pie": [
           {
            "automargin": true,
            "type": "pie"
           }
          ],
          "scatter": [
           {
            "fillpattern": {
             "fillmode": "overlay",
             "size": 10,
             "solidity": 0.2
            },
            "type": "scatter"
           }
          ],
          "scatter3d": [
           {
            "line": {
             "colorbar": {
              "outlinewidth": 0,
              "ticks": ""
             }
            },
            "marker": {
             "colorbar": {
              "outlinewidth": 0,
              "ticks": ""
             }
            },
            "type": "scatter3d"
           }
          ],
          "scattercarpet": [
           {
            "marker": {
             "colorbar": {
              "outlinewidth": 0,
              "ticks": ""
             }
            },
            "type": "scattercarpet"
           }
          ],
          "scattergeo": [
           {
            "marker": {
             "colorbar": {
              "outlinewidth": 0,
              "ticks": ""
             }
            },
            "type": "scattergeo"
           }
          ],
          "scattergl": [
           {
            "marker": {
             "colorbar": {
              "outlinewidth": 0,
              "ticks": ""
             }
            },
            "type": "scattergl"
           }
          ],
          "scattermap": [
           {
            "marker": {
             "colorbar": {
              "outlinewidth": 0,
              "ticks": ""
             }
            },
            "type": "scattermap"
           }
          ],
          "scattermapbox": [
           {
            "marker": {
             "colorbar": {
              "outlinewidth": 0,
              "ticks": ""
             }
            },
            "type": "scattermapbox"
           }
          ],
          "scatterpolar": [
           {
            "marker": {
             "colorbar": {
              "outlinewidth": 0,
              "ticks": ""
             }
            },
            "type": "scatterpolar"
           }
          ],
          "scatterpolargl": [
           {
            "marker": {
             "colorbar": {
              "outlinewidth": 0,
              "ticks": ""
             }
            },
            "type": "scatterpolargl"
           }
          ],
          "scatterternary": [
           {
            "marker": {
             "colorbar": {
              "outlinewidth": 0,
              "ticks": ""
             }
            },
            "type": "scatterternary"
           }
          ],
          "surface": [
           {
            "colorbar": {
             "outlinewidth": 0,
             "ticks": ""
            },
            "colorscale": [
             [
              0,
              "#0d0887"
             ],
             [
              0.1111111111111111,
              "#46039f"
             ],
             [
              0.2222222222222222,
              "#7201a8"
             ],
             [
              0.3333333333333333,
              "#9c179e"
             ],
             [
              0.4444444444444444,
              "#bd3786"
             ],
             [
              0.5555555555555556,
              "#d8576b"
             ],
             [
              0.6666666666666666,
              "#ed7953"
             ],
             [
              0.7777777777777778,
              "#fb9f3a"
             ],
             [
              0.8888888888888888,
              "#fdca26"
             ],
             [
              1,
              "#f0f921"
             ]
            ],
            "type": "surface"
           }
          ],
          "table": [
           {
            "cells": {
             "fill": {
              "color": "#EBF0F8"
             },
             "line": {
              "color": "white"
             }
            },
            "header": {
             "fill": {
              "color": "#C8D4E3"
             },
             "line": {
              "color": "white"
             }
            },
            "type": "table"
           }
          ]
         },
         "layout": {
          "annotationdefaults": {
           "arrowcolor": "#2a3f5f",
           "arrowhead": 0,
           "arrowwidth": 1
          },
          "autotypenumbers": "strict",
          "coloraxis": {
           "colorbar": {
            "outlinewidth": 0,
            "ticks": ""
           }
          },
          "colorscale": {
           "diverging": [
            [
             0,
             "#8e0152"
            ],
            [
             0.1,
             "#c51b7d"
            ],
            [
             0.2,
             "#de77ae"
            ],
            [
             0.3,
             "#f1b6da"
            ],
            [
             0.4,
             "#fde0ef"
            ],
            [
             0.5,
             "#f7f7f7"
            ],
            [
             0.6,
             "#e6f5d0"
            ],
            [
             0.7,
             "#b8e186"
            ],
            [
             0.8,
             "#7fbc41"
            ],
            [
             0.9,
             "#4d9221"
            ],
            [
             1,
             "#276419"
            ]
           ],
           "sequential": [
            [
             0,
             "#0d0887"
            ],
            [
             0.1111111111111111,
             "#46039f"
            ],
            [
             0.2222222222222222,
             "#7201a8"
            ],
            [
             0.3333333333333333,
             "#9c179e"
            ],
            [
             0.4444444444444444,
             "#bd3786"
            ],
            [
             0.5555555555555556,
             "#d8576b"
            ],
            [
             0.6666666666666666,
             "#ed7953"
            ],
            [
             0.7777777777777778,
             "#fb9f3a"
            ],
            [
             0.8888888888888888,
             "#fdca26"
            ],
            [
             1,
             "#f0f921"
            ]
           ],
           "sequentialminus": [
            [
             0,
             "#0d0887"
            ],
            [
             0.1111111111111111,
             "#46039f"
            ],
            [
             0.2222222222222222,
             "#7201a8"
            ],
            [
             0.3333333333333333,
             "#9c179e"
            ],
            [
             0.4444444444444444,
             "#bd3786"
            ],
            [
             0.5555555555555556,
             "#d8576b"
            ],
            [
             0.6666666666666666,
             "#ed7953"
            ],
            [
             0.7777777777777778,
             "#fb9f3a"
            ],
            [
             0.8888888888888888,
             "#fdca26"
            ],
            [
             1,
             "#f0f921"
            ]
           ]
          },
          "colorway": [
           "#636efa",
           "#EF553B",
           "#00cc96",
           "#ab63fa",
           "#FFA15A",
           "#19d3f3",
           "#FF6692",
           "#B6E880",
           "#FF97FF",
           "#FECB52"
          ],
          "font": {
           "color": "#2a3f5f"
          },
          "geo": {
           "bgcolor": "white",
           "lakecolor": "white",
           "landcolor": "#E5ECF6",
           "showlakes": true,
           "showland": true,
           "subunitcolor": "white"
          },
          "hoverlabel": {
           "align": "left"
          },
          "hovermode": "closest",
          "mapbox": {
           "style": "light"
          },
          "paper_bgcolor": "white",
          "plot_bgcolor": "#E5ECF6",
          "polar": {
           "angularaxis": {
            "gridcolor": "white",
            "linecolor": "white",
            "ticks": ""
           },
           "bgcolor": "#E5ECF6",
           "radialaxis": {
            "gridcolor": "white",
            "linecolor": "white",
            "ticks": ""
           }
          },
          "scene": {
           "xaxis": {
            "backgroundcolor": "#E5ECF6",
            "gridcolor": "white",
            "gridwidth": 2,
            "linecolor": "white",
            "showbackground": true,
            "ticks": "",
            "zerolinecolor": "white"
           },
           "yaxis": {
            "backgroundcolor": "#E5ECF6",
            "gridcolor": "white",
            "gridwidth": 2,
            "linecolor": "white",
            "showbackground": true,
            "ticks": "",
            "zerolinecolor": "white"
           },
           "zaxis": {
            "backgroundcolor": "#E5ECF6",
            "gridcolor": "white",
            "gridwidth": 2,
            "linecolor": "white",
            "showbackground": true,
            "ticks": "",
            "zerolinecolor": "white"
           }
          },
          "shapedefaults": {
           "line": {
            "color": "#2a3f5f"
           }
          },
          "ternary": {
           "aaxis": {
            "gridcolor": "white",
            "linecolor": "white",
            "ticks": ""
           },
           "baxis": {
            "gridcolor": "white",
            "linecolor": "white",
            "ticks": ""
           },
           "bgcolor": "#E5ECF6",
           "caxis": {
            "gridcolor": "white",
            "linecolor": "white",
            "ticks": ""
           }
          },
          "title": {
           "x": 0.05
          },
          "xaxis": {
           "automargin": true,
           "gridcolor": "white",
           "linecolor": "white",
           "ticks": "",
           "title": {
            "standoff": 15
           },
           "zerolinecolor": "white",
           "zerolinewidth": 2
          },
          "yaxis": {
           "automargin": true,
           "gridcolor": "white",
           "linecolor": "white",
           "ticks": "",
           "title": {
            "standoff": 15
           },
           "zerolinecolor": "white",
           "zerolinewidth": 2
          }
         }
        },
        "title": {
         "text": "5-Strategy Matching Analysis"
        },
        "xaxis": {
         "anchor": "y",
         "domain": [
          0,
          0.45
         ]
        },
        "xaxis2": {
         "anchor": "y2",
         "domain": [
          0.55,
          1
         ]
        },
        "yaxis": {
         "anchor": "x",
         "domain": [
          0,
          1
         ]
        },
        "yaxis2": {
         "anchor": "x2",
         "domain": [
          0,
          1
         ]
        }
       }
      }
     },
     "metadata": {},
     "output_type": "display_data"
    }
   ],
   "source": [
    "# Analyze 5-strategy matching effectiveness\n",
    "strategy_analysis_sql = f\"\"\"\n",
    "SELECT\n",
    "  'Exact Matching' as strategy,\n",
    "  COUNT(*) as matches_found,\n",
    "  AVG(exact_score) as avg_score\n",
    "FROM `{bq_helper.dataset_ref}.customers_with_embeddings_combined_matches`\n",
    "WHERE exact_score > 0\n",
    "\n",
    "UNION ALL\n",
    "\n",
    "SELECT\n",
    "  'Fuzzy Matching' as strategy,\n",
    "  COUNT(*) as matches_found,\n",
    "  AVG(fuzzy_score) as avg_score\n",
    "FROM `{bq_helper.dataset_ref}.customers_with_embeddings_combined_matches`\n",
    "WHERE fuzzy_score > 0\n",
    "\n",
    "UNION ALL\n",
    "\n",
    "SELECT\n",
    "  'Vector Matching' as strategy,\n",
    "  COUNT(*) as matches_found,\n",
    "  AVG(vector_score) as avg_score\n",
    "FROM `{bq_helper.dataset_ref}.customers_with_embeddings_combined_matches`\n",
    "WHERE vector_score > 0\n",
    "\n",
    "UNION ALL\n",
    "\n",
    "SELECT\n",
    "  'Business Rules' as strategy,\n",
    "  COUNT(*) as matches_found,\n",
    "  AVG(business_score) as avg_score\n",
    "FROM `{bq_helper.dataset_ref}.customers_with_embeddings_combined_matches`\n",
    "WHERE business_score > 0\n",
    "\n",
    "UNION ALL\n",
    "\n",
    "SELECT\n",
    "  'AI Natural Language' as strategy,\n",
    "  COUNT(*) as matches_found,\n",
    "  AVG(ai_score) as avg_score\n",
    "FROM `{bq_helper.dataset_ref}.customers_with_embeddings_combined_matches`\n",
    "WHERE ai_score > 0\n",
    "\n",
    "ORDER BY matches_found DESC\n",
    "\"\"\"\n",
    "\n",
    "strategy_stats = bq_helper.execute_query(strategy_analysis_sql)\n",
    "print(\"\\n🎯 5-Strategy Matching Effectiveness:\")\n",
    "display(strategy_stats)\n",
    "\n",
    "# Create visualization\n",
    "fig = make_subplots(\n",
    "    rows=1, cols=2,\n",
    "    subplot_titles=('Matches Found by Strategy', 'Average Score by Strategy'),\n",
    "    specs=[[{'type': 'bar'}, {'type': 'bar'}]]\n",
    ")\n",
    "\n",
    "fig.add_trace(\n",
    "    go.Bar(x=strategy_stats['strategy'],\n",
    "           y=strategy_stats['matches_found'], name='Matches'),\n",
    "    row=1, col=1\n",
    ")\n",
    "\n",
    "fig.add_trace(\n",
    "    go.Bar(x=strategy_stats['strategy'],\n",
    "           y=strategy_stats['avg_score'], name='Avg Score'),\n",
    "    row=1, col=2\n",
    ")\n",
    "\n",
    "fig.update_layout(title_text=\"5-Strategy Matching Analysis\", showlegend=False)\n",
    "fig.show()"
   ]
  },
  {
   "cell_type": "code",
   "execution_count": 20,
   "metadata": {},
   "outputs": [
    {
     "name": "stdout",
     "output_type": "stream",
     "text": [
      "\n",
      "📊 Confidence Score Distribution:\n"
     ]
    },
    {
     "data": {
      "text/html": [
       "<div>\n",
       "<style scoped>\n",
       "    .dataframe tbody tr th:only-of-type {\n",
       "        vertical-align: middle;\n",
       "    }\n",
       "\n",
       "    .dataframe tbody tr th {\n",
       "        vertical-align: top;\n",
       "    }\n",
       "\n",
       "    .dataframe thead th {\n",
       "        text-align: right;\n",
       "    }\n",
       "</style>\n",
       "<table border=\"1\" class=\"dataframe\">\n",
       "  <thead>\n",
       "    <tr style=\"text-align: right;\">\n",
       "      <th></th>\n",
       "      <th>score_bucket</th>\n",
       "      <th>count</th>\n",
       "      <th>match_decision</th>\n",
       "    </tr>\n",
       "  </thead>\n",
       "  <tbody>\n",
       "    <tr>\n",
       "      <th>0</th>\n",
       "      <td>0.3</td>\n",
       "      <td>120</td>\n",
       "      <td>no_match</td>\n",
       "    </tr>\n",
       "    <tr>\n",
       "      <th>1</th>\n",
       "      <td>0.4</td>\n",
       "      <td>6</td>\n",
       "      <td>no_match</td>\n",
       "    </tr>\n",
       "    <tr>\n",
       "      <th>2</th>\n",
       "      <td>0.8</td>\n",
       "      <td>19</td>\n",
       "      <td>auto_merge</td>\n",
       "    </tr>\n",
       "    <tr>\n",
       "      <th>3</th>\n",
       "      <td>0.9</td>\n",
       "      <td>239</td>\n",
       "      <td>auto_merge</td>\n",
       "    </tr>\n",
       "  </tbody>\n",
       "</table>\n",
       "</div>"
      ],
      "text/plain": [
       "   score_bucket  count match_decision\n",
       "0           0.3    120       no_match\n",
       "1           0.4      6       no_match\n",
       "2           0.8     19     auto_merge\n",
       "3           0.9    239     auto_merge"
      ]
     },
     "metadata": {},
     "output_type": "display_data"
    },
    {
     "data": {
      "application/vnd.plotly.v1+json": {
       "config": {
        "plotlyServerURL": "https://plot.ly"
       },
       "data": [
        {
         "bingroup": "x",
         "histfunc": "sum",
         "hovertemplate": "match_decision=no_match<br>Confidence Score=%{x}<br>sum of Number of Matches=%{y}<extra></extra>",
         "legendgroup": "no_match",
         "marker": {
          "color": "#636efa",
          "pattern": {
           "shape": ""
          }
         },
         "name": "no_match",
         "orientation": "v",
         "showlegend": true,
         "type": "histogram",
         "x": {
          "bdata": "MzMzMzMz0z+amZmZmZnZPw==",
          "dtype": "f8"
         },
         "xaxis": "x",
         "y": {
          "bdata": "eAY=",
          "dtype": "i1"
         },
         "yaxis": "y"
        },
        {
         "bingroup": "x",
         "histfunc": "sum",
         "hovertemplate": "match_decision=auto_merge<br>Confidence Score=%{x}<br>sum of Number of Matches=%{y}<extra></extra>",
         "legendgroup": "auto_merge",
         "marker": {
          "color": "#EF553B",
          "pattern": {
           "shape": ""
          }
         },
         "name": "auto_merge",
         "orientation": "v",
         "showlegend": true,
         "type": "histogram",
         "x": {
          "bdata": "mpmZmZmZ6T/NzMzMzMzsPw==",
          "dtype": "f8"
         },
         "xaxis": "x",
         "y": {
          "bdata": "EwDvAA==",
          "dtype": "i2"
         },
         "yaxis": "y"
        }
       ],
       "layout": {
        "barmode": "relative",
        "legend": {
         "title": {
          "text": "match_decision"
         },
         "tracegroupgap": 0
        },
        "template": {
         "data": {
          "bar": [
           {
            "error_x": {
             "color": "#2a3f5f"
            },
            "error_y": {
             "color": "#2a3f5f"
            },
            "marker": {
             "line": {
              "color": "#E5ECF6",
              "width": 0.5
             },
             "pattern": {
              "fillmode": "overlay",
              "size": 10,
              "solidity": 0.2
             }
            },
            "type": "bar"
           }
          ],
          "barpolar": [
           {
            "marker": {
             "line": {
              "color": "#E5ECF6",
              "width": 0.5
             },
             "pattern": {
              "fillmode": "overlay",
              "size": 10,
              "solidity": 0.2
             }
            },
            "type": "barpolar"
           }
          ],
          "carpet": [
           {
            "aaxis": {
             "endlinecolor": "#2a3f5f",
             "gridcolor": "white",
             "linecolor": "white",
             "minorgridcolor": "white",
             "startlinecolor": "#2a3f5f"
            },
            "baxis": {
             "endlinecolor": "#2a3f5f",
             "gridcolor": "white",
             "linecolor": "white",
             "minorgridcolor": "white",
             "startlinecolor": "#2a3f5f"
            },
            "type": "carpet"
           }
          ],
          "choropleth": [
           {
            "colorbar": {
             "outlinewidth": 0,
             "ticks": ""
            },
            "type": "choropleth"
           }
          ],
          "contour": [
           {
            "colorbar": {
             "outlinewidth": 0,
             "ticks": ""
            },
            "colorscale": [
             [
              0,
              "#0d0887"
             ],
             [
              0.1111111111111111,
              "#46039f"
             ],
             [
              0.2222222222222222,
              "#7201a8"
             ],
             [
              0.3333333333333333,
              "#9c179e"
             ],
             [
              0.4444444444444444,
              "#bd3786"
             ],
             [
              0.5555555555555556,
              "#d8576b"
             ],
             [
              0.6666666666666666,
              "#ed7953"
             ],
             [
              0.7777777777777778,
              "#fb9f3a"
             ],
             [
              0.8888888888888888,
              "#fdca26"
             ],
             [
              1,
              "#f0f921"
             ]
            ],
            "type": "contour"
           }
          ],
          "contourcarpet": [
           {
            "colorbar": {
             "outlinewidth": 0,
             "ticks": ""
            },
            "type": "contourcarpet"
           }
          ],
          "heatmap": [
           {
            "colorbar": {
             "outlinewidth": 0,
             "ticks": ""
            },
            "colorscale": [
             [
              0,
              "#0d0887"
             ],
             [
              0.1111111111111111,
              "#46039f"
             ],
             [
              0.2222222222222222,
              "#7201a8"
             ],
             [
              0.3333333333333333,
              "#9c179e"
             ],
             [
              0.4444444444444444,
              "#bd3786"
             ],
             [
              0.5555555555555556,
              "#d8576b"
             ],
             [
              0.6666666666666666,
              "#ed7953"
             ],
             [
              0.7777777777777778,
              "#fb9f3a"
             ],
             [
              0.8888888888888888,
              "#fdca26"
             ],
             [
              1,
              "#f0f921"
             ]
            ],
            "type": "heatmap"
           }
          ],
          "histogram": [
           {
            "marker": {
             "pattern": {
              "fillmode": "overlay",
              "size": 10,
              "solidity": 0.2
             }
            },
            "type": "histogram"
           }
          ],
          "histogram2d": [
           {
            "colorbar": {
             "outlinewidth": 0,
             "ticks": ""
            },
            "colorscale": [
             [
              0,
              "#0d0887"
             ],
             [
              0.1111111111111111,
              "#46039f"
             ],
             [
              0.2222222222222222,
              "#7201a8"
             ],
             [
              0.3333333333333333,
              "#9c179e"
             ],
             [
              0.4444444444444444,
              "#bd3786"
             ],
             [
              0.5555555555555556,
              "#d8576b"
             ],
             [
              0.6666666666666666,
              "#ed7953"
             ],
             [
              0.7777777777777778,
              "#fb9f3a"
             ],
             [
              0.8888888888888888,
              "#fdca26"
             ],
             [
              1,
              "#f0f921"
             ]
            ],
            "type": "histogram2d"
           }
          ],
          "histogram2dcontour": [
           {
            "colorbar": {
             "outlinewidth": 0,
             "ticks": ""
            },
            "colorscale": [
             [
              0,
              "#0d0887"
             ],
             [
              0.1111111111111111,
              "#46039f"
             ],
             [
              0.2222222222222222,
              "#7201a8"
             ],
             [
              0.3333333333333333,
              "#9c179e"
             ],
             [
              0.4444444444444444,
              "#bd3786"
             ],
             [
              0.5555555555555556,
              "#d8576b"
             ],
             [
              0.6666666666666666,
              "#ed7953"
             ],
             [
              0.7777777777777778,
              "#fb9f3a"
             ],
             [
              0.8888888888888888,
              "#fdca26"
             ],
             [
              1,
              "#f0f921"
             ]
            ],
            "type": "histogram2dcontour"
           }
          ],
          "mesh3d": [
           {
            "colorbar": {
             "outlinewidth": 0,
             "ticks": ""
            },
            "type": "mesh3d"
           }
          ],
          "parcoords": [
           {
            "line": {
             "colorbar": {
              "outlinewidth": 0,
              "ticks": ""
             }
            },
            "type": "parcoords"
           }
          ],
          "pie": [
           {
            "automargin": true,
            "type": "pie"
           }
          ],
          "scatter": [
           {
            "fillpattern": {
             "fillmode": "overlay",
             "size": 10,
             "solidity": 0.2
            },
            "type": "scatter"
           }
          ],
          "scatter3d": [
           {
            "line": {
             "colorbar": {
              "outlinewidth": 0,
              "ticks": ""
             }
            },
            "marker": {
             "colorbar": {
              "outlinewidth": 0,
              "ticks": ""
             }
            },
            "type": "scatter3d"
           }
          ],
          "scattercarpet": [
           {
            "marker": {
             "colorbar": {
              "outlinewidth": 0,
              "ticks": ""
             }
            },
            "type": "scattercarpet"
           }
          ],
          "scattergeo": [
           {
            "marker": {
             "colorbar": {
              "outlinewidth": 0,
              "ticks": ""
             }
            },
            "type": "scattergeo"
           }
          ],
          "scattergl": [
           {
            "marker": {
             "colorbar": {
              "outlinewidth": 0,
              "ticks": ""
             }
            },
            "type": "scattergl"
           }
          ],
          "scattermap": [
           {
            "marker": {
             "colorbar": {
              "outlinewidth": 0,
              "ticks": ""
             }
            },
            "type": "scattermap"
           }
          ],
          "scattermapbox": [
           {
            "marker": {
             "colorbar": {
              "outlinewidth": 0,
              "ticks": ""
             }
            },
            "type": "scattermapbox"
           }
          ],
          "scatterpolar": [
           {
            "marker": {
             "colorbar": {
              "outlinewidth": 0,
              "ticks": ""
             }
            },
            "type": "scatterpolar"
           }
          ],
          "scatterpolargl": [
           {
            "marker": {
             "colorbar": {
              "outlinewidth": 0,
              "ticks": ""
             }
            },
            "type": "scatterpolargl"
           }
          ],
          "scatterternary": [
           {
            "marker": {
             "colorbar": {
              "outlinewidth": 0,
              "ticks": ""
             }
            },
            "type": "scatterternary"
           }
          ],
          "surface": [
           {
            "colorbar": {
             "outlinewidth": 0,
             "ticks": ""
            },
            "colorscale": [
             [
              0,
              "#0d0887"
             ],
             [
              0.1111111111111111,
              "#46039f"
             ],
             [
              0.2222222222222222,
              "#7201a8"
             ],
             [
              0.3333333333333333,
              "#9c179e"
             ],
             [
              0.4444444444444444,
              "#bd3786"
             ],
             [
              0.5555555555555556,
              "#d8576b"
             ],
             [
              0.6666666666666666,
              "#ed7953"
             ],
             [
              0.7777777777777778,
              "#fb9f3a"
             ],
             [
              0.8888888888888888,
              "#fdca26"
             ],
             [
              1,
              "#f0f921"
             ]
            ],
            "type": "surface"
           }
          ],
          "table": [
           {
            "cells": {
             "fill": {
              "color": "#EBF0F8"
             },
             "line": {
              "color": "white"
             }
            },
            "header": {
             "fill": {
              "color": "#C8D4E3"
             },
             "line": {
              "color": "white"
             }
            },
            "type": "table"
           }
          ]
         },
         "layout": {
          "annotationdefaults": {
           "arrowcolor": "#2a3f5f",
           "arrowhead": 0,
           "arrowwidth": 1
          },
          "autotypenumbers": "strict",
          "coloraxis": {
           "colorbar": {
            "outlinewidth": 0,
            "ticks": ""
           }
          },
          "colorscale": {
           "diverging": [
            [
             0,
             "#8e0152"
            ],
            [
             0.1,
             "#c51b7d"
            ],
            [
             0.2,
             "#de77ae"
            ],
            [
             0.3,
             "#f1b6da"
            ],
            [
             0.4,
             "#fde0ef"
            ],
            [
             0.5,
             "#f7f7f7"
            ],
            [
             0.6,
             "#e6f5d0"
            ],
            [
             0.7,
             "#b8e186"
            ],
            [
             0.8,
             "#7fbc41"
            ],
            [
             0.9,
             "#4d9221"
            ],
            [
             1,
             "#276419"
            ]
           ],
           "sequential": [
            [
             0,
             "#0d0887"
            ],
            [
             0.1111111111111111,
             "#46039f"
            ],
            [
             0.2222222222222222,
             "#7201a8"
            ],
            [
             0.3333333333333333,
             "#9c179e"
            ],
            [
             0.4444444444444444,
             "#bd3786"
            ],
            [
             0.5555555555555556,
             "#d8576b"
            ],
            [
             0.6666666666666666,
             "#ed7953"
            ],
            [
             0.7777777777777778,
             "#fb9f3a"
            ],
            [
             0.8888888888888888,
             "#fdca26"
            ],
            [
             1,
             "#f0f921"
            ]
           ],
           "sequentialminus": [
            [
             0,
             "#0d0887"
            ],
            [
             0.1111111111111111,
             "#46039f"
            ],
            [
             0.2222222222222222,
             "#7201a8"
            ],
            [
             0.3333333333333333,
             "#9c179e"
            ],
            [
             0.4444444444444444,
             "#bd3786"
            ],
            [
             0.5555555555555556,
             "#d8576b"
            ],
            [
             0.6666666666666666,
             "#ed7953"
            ],
            [
             0.7777777777777778,
             "#fb9f3a"
            ],
            [
             0.8888888888888888,
             "#fdca26"
            ],
            [
             1,
             "#f0f921"
            ]
           ]
          },
          "colorway": [
           "#636efa",
           "#EF553B",
           "#00cc96",
           "#ab63fa",
           "#FFA15A",
           "#19d3f3",
           "#FF6692",
           "#B6E880",
           "#FF97FF",
           "#FECB52"
          ],
          "font": {
           "color": "#2a3f5f"
          },
          "geo": {
           "bgcolor": "white",
           "lakecolor": "white",
           "landcolor": "#E5ECF6",
           "showlakes": true,
           "showland": true,
           "subunitcolor": "white"
          },
          "hoverlabel": {
           "align": "left"
          },
          "hovermode": "closest",
          "mapbox": {
           "style": "light"
          },
          "paper_bgcolor": "white",
          "plot_bgcolor": "#E5ECF6",
          "polar": {
           "angularaxis": {
            "gridcolor": "white",
            "linecolor": "white",
            "ticks": ""
           },
           "bgcolor": "#E5ECF6",
           "radialaxis": {
            "gridcolor": "white",
            "linecolor": "white",
            "ticks": ""
           }
          },
          "scene": {
           "xaxis": {
            "backgroundcolor": "#E5ECF6",
            "gridcolor": "white",
            "gridwidth": 2,
            "linecolor": "white",
            "showbackground": true,
            "ticks": "",
            "zerolinecolor": "white"
           },
           "yaxis": {
            "backgroundcolor": "#E5ECF6",
            "gridcolor": "white",
            "gridwidth": 2,
            "linecolor": "white",
            "showbackground": true,
            "ticks": "",
            "zerolinecolor": "white"
           },
           "zaxis": {
            "backgroundcolor": "#E5ECF6",
            "gridcolor": "white",
            "gridwidth": 2,
            "linecolor": "white",
            "showbackground": true,
            "ticks": "",
            "zerolinecolor": "white"
           }
          },
          "shapedefaults": {
           "line": {
            "color": "#2a3f5f"
           }
          },
          "ternary": {
           "aaxis": {
            "gridcolor": "white",
            "linecolor": "white",
            "ticks": ""
           },
           "baxis": {
            "gridcolor": "white",
            "linecolor": "white",
            "ticks": ""
           },
           "bgcolor": "#E5ECF6",
           "caxis": {
            "gridcolor": "white",
            "linecolor": "white",
            "ticks": ""
           }
          },
          "title": {
           "x": 0.05
          },
          "xaxis": {
           "automargin": true,
           "gridcolor": "white",
           "linecolor": "white",
           "ticks": "",
           "title": {
            "standoff": 15
           },
           "zerolinecolor": "white",
           "zerolinewidth": 2
          },
          "yaxis": {
           "automargin": true,
           "gridcolor": "white",
           "linecolor": "white",
           "ticks": "",
           "title": {
            "standoff": 15
           },
           "zerolinecolor": "white",
           "zerolinewidth": 2
          }
         }
        },
        "title": {
         "text": "Distribution of Match Confidence Scores (5-Strategy)"
        },
        "xaxis": {
         "anchor": "y",
         "domain": [
          0,
          1
         ],
         "title": {
          "text": "Confidence Score"
         }
        },
        "yaxis": {
         "anchor": "x",
         "domain": [
          0,
          1
         ],
         "title": {
          "text": "sum of Number of Matches"
         }
        }
       }
      }
     },
     "metadata": {},
     "output_type": "display_data"
    }
   ],
   "source": [
    "# Analyze confidence distribution\n",
    "confidence_dist_sql = f\"\"\"\n",
    "SELECT\n",
    "  ROUND(combined_score, 1) as score_bucket,\n",
    "  COUNT(*) as count,\n",
    "  match_decision\n",
    "FROM `{bq_helper.dataset_ref}.customers_with_embeddings_combined_matches`\n",
    "GROUP BY score_bucket, match_decision\n",
    "ORDER BY score_bucket\n",
    "\"\"\"\n",
    "\n",
    "confidence_dist = bq_helper.execute_query(confidence_dist_sql)\n",
    "print(\"\\n📊 Confidence Score Distribution:\")\n",
    "display(confidence_dist.head(10))\n",
    "\n",
    "# Create confidence distribution plot\n",
    "fig = px.histogram(\n",
    "    confidence_dist,\n",
    "    x='score_bucket',\n",
    "    y='count',\n",
    "    color='match_decision',\n",
    "    title='Distribution of Match Confidence Scores (5-Strategy)',\n",
    "    labels={'score_bucket': 'Confidence Score', 'count': 'Number of Matches'}\n",
    ")\n",
    "fig.show()"
   ]
  },
  {
   "cell_type": "markdown",
   "metadata": {},
   "source": [
    "## 11. Performance Metrics and Summary\n",
    "\n",
    "Calculate key performance indicators for the 5-strategy MDM pipeline."
   ]
  },
  {
   "cell_type": "code",
   "execution_count": 22,
   "metadata": {},
   "outputs": [
    {
     "name": "stdout",
     "output_type": "stream",
     "text": [
      "📈 Calculating 5-Strategy MDM Performance Metrics...\n",
      "\n",
      "📊 Data Quality Metrics:\n"
     ]
    },
    {
     "data": {
      "text/html": [
       "<div>\n",
       "<style scoped>\n",
       "    .dataframe tbody tr th:only-of-type {\n",
       "        vertical-align: middle;\n",
       "    }\n",
       "\n",
       "    .dataframe tbody tr th {\n",
       "        vertical-align: top;\n",
       "    }\n",
       "\n",
       "    .dataframe thead th {\n",
       "        text-align: right;\n",
       "    }\n",
       "</style>\n",
       "<table border=\"1\" class=\"dataframe\">\n",
       "  <thead>\n",
       "    <tr style=\"text-align: right;\">\n",
       "      <th></th>\n",
       "      <th>total_records</th>\n",
       "      <th>email_completeness_pct</th>\n",
       "      <th>phone_completeness_pct</th>\n",
       "      <th>address_completeness_pct</th>\n",
       "      <th>email_uniqueness_pct</th>\n",
       "      <th>phone_uniqueness_pct</th>\n",
       "    </tr>\n",
       "  </thead>\n",
       "  <tbody>\n",
       "    <tr>\n",
       "      <th>0</th>\n",
       "      <td>284</td>\n",
       "      <td>100.0</td>\n",
       "      <td>96.13</td>\n",
       "      <td>100.0</td>\n",
       "      <td>60.92</td>\n",
       "      <td>44.32</td>\n",
       "    </tr>\n",
       "  </tbody>\n",
       "</table>\n",
       "</div>"
      ],
      "text/plain": [
       "   total_records  email_completeness_pct  phone_completeness_pct  \\\n",
       "0            284                   100.0                   96.13   \n",
       "\n",
       "   address_completeness_pct  email_uniqueness_pct  phone_uniqueness_pct  \n",
       "0                     100.0                 60.92                 44.32  "
      ]
     },
     "metadata": {},
     "output_type": "display_data"
    },
    {
     "name": "stdout",
     "output_type": "stream",
     "text": [
      "\n",
      "🎯 5-Strategy Matching Effectiveness:\n"
     ]
    },
    {
     "data": {
      "text/html": [
       "<div>\n",
       "<style scoped>\n",
       "    .dataframe tbody tr th:only-of-type {\n",
       "        vertical-align: middle;\n",
       "    }\n",
       "\n",
       "    .dataframe tbody tr th {\n",
       "        vertical-align: top;\n",
       "    }\n",
       "\n",
       "    .dataframe thead th {\n",
       "        text-align: right;\n",
       "    }\n",
       "</style>\n",
       "<table border=\"1\" class=\"dataframe\">\n",
       "  <thead>\n",
       "    <tr style=\"text-align: right;\">\n",
       "      <th></th>\n",
       "      <th>total_potential_matches</th>\n",
       "      <th>auto_merge_count</th>\n",
       "      <th>human_review_count</th>\n",
       "      <th>no_match_count</th>\n",
       "      <th>auto_merge_rate_pct</th>\n",
       "      <th>human_review_rate_pct</th>\n",
       "      <th>avg_combined_score</th>\n",
       "    </tr>\n",
       "  </thead>\n",
       "  <tbody>\n",
       "    <tr>\n",
       "      <th>0</th>\n",
       "      <td>384</td>\n",
       "      <td>258</td>\n",
       "      <td>0</td>\n",
       "      <td>126</td>\n",
       "      <td>67.19</td>\n",
       "      <td>0.0</td>\n",
       "      <td>0.701</td>\n",
       "    </tr>\n",
       "  </tbody>\n",
       "</table>\n",
       "</div>"
      ],
      "text/plain": [
       "   total_potential_matches  auto_merge_count  human_review_count  \\\n",
       "0                      384               258                   0   \n",
       "\n",
       "   no_match_count  auto_merge_rate_pct  human_review_rate_pct  \\\n",
       "0             126                67.19                    0.0   \n",
       "\n",
       "   avg_combined_score  \n",
       "0               0.701  "
      ]
     },
     "metadata": {},
     "output_type": "display_data"
    }
   ],
   "source": [
    "# Calculate key metrics\n",
    "print(\"📈 Calculating 5-Strategy MDM Performance Metrics...\")\n",
    "\n",
    "# Data quality metrics\n",
    "quality_metrics_sql = f\"\"\"\n",
    "WITH quality_stats AS (\n",
    "  SELECT\n",
    "    COUNT(*) as total_records,\n",
    "    COUNT(CASE WHEN email_clean IS NOT NULL THEN 1 END) / COUNT(*) as email_completeness,\n",
    "    COUNT(CASE WHEN phone_clean IS NOT NULL THEN 1 END) / COUNT(*) as phone_completeness,\n",
    "    COUNT(CASE WHEN address_clean IS NOT NULL THEN 1 END) / COUNT(*) as address_completeness,\n",
    "    COUNT(DISTINCT email_clean) / COUNT(CASE WHEN email_clean IS NOT NULL THEN 1 END) as email_uniqueness,\n",
    "    COUNT(DISTINCT phone_clean) / COUNT(CASE WHEN phone_clean IS NOT NULL THEN 1 END) as phone_uniqueness\n",
    "  FROM `{bq_helper.dataset_ref}.customers_standardized`\n",
    ")\n",
    "SELECT\n",
    "  total_records,\n",
    "  ROUND(email_completeness * 100, 2) as email_completeness_pct,\n",
    "  ROUND(phone_completeness * 100, 2) as phone_completeness_pct,\n",
    "  ROUND(address_completeness * 100, 2) as address_completeness_pct,\n",
    "  ROUND(email_uniqueness * 100, 2) as email_uniqueness_pct,\n",
    "  ROUND(phone_uniqueness * 100, 2) as phone_uniqueness_pct\n",
    "FROM quality_stats\n",
    "\"\"\"\n",
    "\n",
    "quality_metrics = bq_helper.execute_query(quality_metrics_sql)\n",
    "print(\"\\n📊 Data Quality Metrics:\")\n",
    "display(quality_metrics)\n",
    "\n",
    "# Matching effectiveness\n",
    "matching_metrics_sql = f\"\"\"\n",
    "WITH matching_stats AS (\n",
    "  SELECT\n",
    "    COUNT(*) as total_potential_matches,\n",
    "    COUNT(CASE WHEN match_decision = 'auto_merge' THEN 1 END) as auto_merge_count,\n",
    "    COUNT(CASE WHEN match_decision = 'human_review' THEN 1 END) as human_review_count,\n",
    "    COUNT(CASE WHEN match_decision = 'no_match' THEN 1 END) as no_match_count,\n",
    "    AVG(combined_score) as avg_combined_score\n",
    "  FROM `{bq_helper.dataset_ref}.customers_with_embeddings_combined_matches`\n",
    ")\n",
    "SELECT\n",
    "  total_potential_matches,\n",
    "  auto_merge_count,\n",
    "  human_review_count,\n",
    "  no_match_count,\n",
    "  ROUND(auto_merge_count / total_potential_matches * 100, 2) as auto_merge_rate_pct,\n",
    "  ROUND(human_review_count / total_potential_matches * 100, 2) as human_review_rate_pct,\n",
    "  ROUND(avg_combined_score, 3) as avg_combined_score\n",
    "FROM matching_stats\n",
    "\"\"\"\n",
    "\n",
    "matching_metrics = bq_helper.execute_query(matching_metrics_sql)\n",
    "print(\"\\n🎯 5-Strategy Matching Effectiveness:\")\n",
    "display(matching_metrics)"
   ]
  },
  {
   "cell_type": "code",
   "execution_count": 23,
   "metadata": {},
   "outputs": [
    {
     "name": "stdout",
     "output_type": "stream",
     "text": [
      "\n",
      "============================================================\n",
      "🎉 5-STRATEGY MDM PIPELINE EXECUTION SUMMARY\n",
      "============================================================\n",
      "\n",
      "📊 DATA PROCESSING:\n",
      "  • Generated 284 sample records from 3 sources\n",
      "  • Representing 120 unique customers\n",
      "  • Duplication factor: 2.37x\n",
      "\n",
      "📈 DATA QUALITY:\n",
      "  • Email completeness: 100.0%\n",
      "  • Phone completeness: 96.1%\n",
      "  • Address completeness: 100.0%\n",
      "\n",
      "🎯 5-STRATEGY MATCHING RESULTS:\n",
      "  • Total potential matches: 384.0\n",
      "  • Auto-merge rate: 67.2%\n",
      "  • Human review rate: 0.0%\n",
      "  • Average combined score: 0.701\n",
      "\n",
      "🏗️ ENHANCED ARCHITECTURE HIGHLIGHTS:\n",
      "  • 100% BigQuery-native implementation\n",
      "  • Latest gemini-embedding-001 model for vector matching\n",
      "  • NEW: Gemini 2.5 Pro for AI natural language matching\n",
      "  • Vector indexes for fast similarity search\n",
      "  • 5-strategy matching (exact, fuzzy, vector, rules, AI)\n",
      "  • Enhanced weighted ensemble scoring\n",
      "  • AI-powered explanations for match decisions\n",
      "  • Automated confidence scoring and decision making\n",
      "  • Survivorship rules for golden record creation\n",
      "\n",
      "✅ 5-STRATEGY PIPELINE COMPLETED SUCCESSFULLY!\n",
      "============================================================\n"
     ]
    }
   ],
   "source": [
    "# Final summary\n",
    "print(\"\\n\" + \"=\"*60)\n",
    "print(\"🎉 5-STRATEGY MDM PIPELINE EXECUTION SUMMARY\")\n",
    "print(\"=\"*60)\n",
    "\n",
    "print(f\"\\n📊 DATA PROCESSING:\")\n",
    "print(\n",
    "    f\"  • Generated {total_records:,} sample records from {len(datasets)} sources\")\n",
    "print(f\"  • Representing {generator.num_unique_customers:,} unique customers\")\n",
    "print(\n",
    "    f\"  • Duplication factor: {total_records / generator.num_unique_customers:.2f}x\")\n",
    "\n",
    "if not quality_metrics.empty:\n",
    "    print(f\"\\n📈 DATA QUALITY:\")\n",
    "    print(\n",
    "        f\"  • Email completeness: {quality_metrics.iloc[0]['email_completeness_pct']:.1f}%\")\n",
    "    print(\n",
    "        f\"  • Phone completeness: {quality_metrics.iloc[0]['phone_completeness_pct']:.1f}%\")\n",
    "    print(\n",
    "        f\"  • Address completeness: {quality_metrics.iloc[0]['address_completeness_pct']:.1f}%\")\n",
    "\n",
    "if not matching_metrics.empty:\n",
    "    print(f\"\\n🎯 5-STRATEGY MATCHING RESULTS:\")\n",
    "    print(\n",
    "        f\"  • Total potential matches: {matching_metrics.iloc[0]['total_potential_matches']:,}\")\n",
    "    print(\n",
    "        f\"  • Auto-merge rate: {matching_metrics.iloc[0]['auto_merge_rate_pct']:.1f}%\")\n",
    "    print(\n",
    "        f\"  • Human review rate: {matching_metrics.iloc[0]['human_review_rate_pct']:.1f}%\")\n",
    "    print(\n",
    "        f\"  • Average combined score: {matching_metrics.iloc[0]['avg_combined_score']:.3f}\")\n",
    "\n",
    "print(f\"\\n🏗️ ENHANCED ARCHITECTURE HIGHLIGHTS:\")\n",
    "print(f\"  • 100% BigQuery-native implementation\")\n",
    "print(f\"  • Latest gemini-embedding-001 model for vector matching\")\n",
    "print(f\"  • NEW: Gemini 2.5 Pro for AI natural language matching\")\n",
    "print(f\"  • Vector indexes for fast similarity search\")\n",
    "print(f\"  • 5-strategy matching (exact, fuzzy, vector, rules, AI)\")\n",
    "print(f\"  • Enhanced weighted ensemble scoring\")\n",
    "print(f\"  • AI-powered explanations for match decisions\")\n",
    "print(f\"  • Automated confidence scoring and decision making\")\n",
    "print(f\"  • Survivorship rules for golden record creation\")\n",
    "\n",
    "print(f\"\\n✅ 5-STRATEGY PIPELINE COMPLETED SUCCESSFULLY!\")\n",
    "print(\"=\"*60)"
   ]
  }
 ],
 "metadata": {
  "kernelspec": {
   "display_name": ".venv",
   "language": "python",
   "name": "python3"
  },
  "language_info": {
   "codemirror_mode": {
    "name": "ipython",
    "version": 3
   },
   "file_extension": ".py",
   "mimetype": "text/x-python",
   "name": "python",
   "nbconvert_exporter": "python",
   "pygments_lexer": "ipython3",
   "version": "3.12.11"
  }
 },
 "nbformat": 4,
 "nbformat_minor": 4
}
