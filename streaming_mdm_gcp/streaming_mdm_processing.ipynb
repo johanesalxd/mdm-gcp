{
 "cells": [
  {
   "cell_type": "markdown",
   "metadata": {},
   "source": [
    "# Master Data Management (MDM) - Spanner Native Streaming Processing\n",
    "\n",
    "This notebook demonstrates a complete end-to-end streaming Master Data Management pipeline using Spanner's native capabilities:\n",
    "\n",
    "- **Golden Record Bootstrap**: Load existing golden records from BigQuery batch processing\n",
    "- **Spanner Infrastructure**: Set up minimal Spanner instance for real-time processing\n",
    "- **Data Migration**: Transfer golden records to Spanner for real-time matching\n",
    "- **Streaming Data Generation**: Create 100 new customer records for processing\n",
    "- **4-Way Real-time Matching**: Exact, fuzzy, vector, and business rules matching\n",
    "- **Synchronous Processing**: Sub-second processing with immediate feedback\n",
    "- **Golden Record Updates**: Apply survivorship rules and update master entities\n",
    "- **Live Performance Tracking**: Real-time metrics and Spanner transaction logging\n",
    "\n",
    "## Architecture Overview\n",
    "\n",
    "This implementation follows the streaming processing path:\n",
    "1. **BigQuery Golden Records** → **Spanner Migration**\n",
    "2. **Kafka-like Stream** → **Real-time Standardization**\n",
    "3. **Spanner Vector Search** → **4-Way Matching Engine**\n",
    "4. **Confidence Scoring** → **AUTO_MERGE/CREATE_NEW Decisions**\n",
    "5. **Golden Record Updates** → **Spanner Transaction Logging**"
   ]
  },
  {
   "cell_type": "markdown",
   "metadata": {},
   "source": [
    "## 1. Setup and Configuration"
   ]
  },
  {
   "cell_type": "code",
   "execution_count": 1,
   "metadata": {},
   "outputs": [
    {
     "name": "stdout",
     "output_type": "stream",
     "text": [
      "✅ Libraries imported successfully\n"
     ]
    }
   ],
   "source": [
    "# Import required libraries\n",
    "import warnings\n",
    "from datetime import datetime\n",
    "import time\n",
    "from plotly.subplots import make_subplots\n",
    "import plotly.graph_objects as go\n",
    "import plotly.express as px\n",
    "import seaborn as sns\n",
    "import matplotlib.pyplot as plt\n",
    "import pandas as pd\n",
    "from batch_mdm_gcp.data_generator import MDMDataGenerator\n",
    "from batch_mdm_gcp.bigquery_utils import BigQueryMDMHelper\n",
    "from spanner_utils import SpannerMDMHelper\n",
    "from streaming_processor import StreamingMDMProcessor\n",
    "import sys\n",
    "import os\n",
    "import random\n",
    "\n",
    "sys.path.append('..')\n",
    "warnings.filterwarnings('ignore')\n",
    "\n",
    "# Set display options\n",
    "pd.set_option('display.max_columns', None)\n",
    "pd.set_option('display.width', None)\n",
    "plt.style.use('seaborn-v0_8')\n",
    "sns.set_palette(\"husl\")\n",
    "\n",
    "print(\"✅ Libraries imported successfully\")"
   ]
  },
  {
   "cell_type": "code",
   "execution_count": null,
   "metadata": {},
   "outputs": [
    {
     "name": "stdout",
     "output_type": "stream",
     "text": [
      "📋 Configuration loaded:\n",
      "  Target records: 100\n",
      "  Target latency: <400ms\n",
      "  Auto-merge threshold: ≥0.85\n",
      "  Create new threshold: <0.65\n"
     ]
    }
   ],
   "source": [
    "# =============================================================================\n",
    "# CONFIGURATION CONSTANTS - Centralized Settings\n",
    "# =============================================================================\n",
    "\n",
    "# GCP Configuration\n",
    "PROJECT_ID = \"your-project-id\"  # Replace with your GCP project ID\n",
    "DATASET_ID = \"mdm_demo\"  # BigQuery dataset (from batch processing)\n",
    "INSTANCE_ID = \"mdm-streaming-demo\"  # Spanner instance\n",
    "DATABASE_ID = \"mdm_streaming\"  # Spanner database\n",
    "LOCATION = \"US\"\n",
    "\n",
    "# Processing Configuration\n",
    "NUM_STREAMING_RECORDS = 100\n",
    "PROCESSING_DELAY_SEC = 0.1  # 10 record per second for demo\n",
    "TARGET_LATENCY_MS = 400  # Target processing time per record\n",
    "\n",
    "# Decision Thresholds\n",
    "AUTO_MERGE_THRESHOLD = 0.85\n",
    "CREATE_NEW_THRESHOLD = 0.65\n",
    "\n",
    "print(\"📋 Configuration loaded:\")\n",
    "print(f\"  Target records: {NUM_STREAMING_RECORDS}\")\n",
    "print(f\"  Target latency: <{TARGET_LATENCY_MS}ms\")\n",
    "print(f\"  Auto-merge threshold: ≥{AUTO_MERGE_THRESHOLD}\")\n",
    "print(f\"  Create new threshold: <{CREATE_NEW_THRESHOLD}\")"
   ]
  },
  {
   "cell_type": "code",
   "execution_count": 3,
   "metadata": {},
   "outputs": [
    {
     "name": "stdout",
     "output_type": "stream",
     "text": [
      "✅ Connected to BigQuery project: johanesa-playground-326616\n",
      "📊 BigQuery dataset: johanesa-playground-326616.mdm_demo\n",
      "✅ Connected to Spanner project: johanesa-playground-326616\n",
      "🗃️ Spanner instance: mdm-streaming-demo\n",
      "🗃️ Spanner database: mdm_streaming\n"
     ]
    }
   ],
   "source": [
    "# Initialize helpers\n",
    "try:\n",
    "    # BigQuery helper (for loading golden records)\n",
    "    bq_helper = BigQueryMDMHelper(PROJECT_ID, DATASET_ID)\n",
    "    print(f\"✅ Connected to BigQuery project: {PROJECT_ID}\")\n",
    "    print(f\"📊 BigQuery dataset: {bq_helper.dataset_ref}\")\n",
    "\n",
    "    # Spanner helper (for streaming processing)\n",
    "    spanner_helper = SpannerMDMHelper(PROJECT_ID, INSTANCE_ID, DATABASE_ID)\n",
    "    print(f\"✅ Connected to Spanner project: {PROJECT_ID}\")\n",
    "    print(f\"🗃️ Spanner instance: {INSTANCE_ID}\")\n",
    "    print(f\"🗃️ Spanner database: {DATABASE_ID}\")\n",
    "\n",
    "except Exception as e:\n",
    "    print(f\"❌ Error connecting: {e}\")\n",
    "    print(\"Please ensure you have:\")\n",
    "    print(\"1. Set up Google Cloud authentication\")\n",
    "    print(\"2. Enabled BigQuery and Spanner APIs\")\n",
    "    print(\"3. Updated PROJECT_ID above\")"
   ]
  },
  {
   "cell_type": "markdown",
   "metadata": {},
   "source": [
    "## 2. Helper Functions"
   ]
  },
  {
   "cell_type": "code",
   "execution_count": 4,
   "metadata": {},
   "outputs": [
    {
     "name": "stdout",
     "output_type": "stream",
     "text": [
      "✅ Helper functions defined\n"
     ]
    }
   ],
   "source": [
    "def update_statistics(result, action_counts, confidence_counts):\n",
    "    \"\"\"Update running statistics with current result.\"\"\"\n",
    "    action = result.get('action', 'ERROR')\n",
    "    confidence = result.get('confidence', 'LOW')\n",
    "\n",
    "    action_counts[action] = action_counts.get(action, 0) + 1\n",
    "    confidence_counts[confidence] = confidence_counts.get(confidence, 0) + 1\n",
    "\n",
    "\n",
    "print(\"✅ Helper functions defined\")"
   ]
  },
  {
   "cell_type": "markdown",
   "metadata": {},
   "source": [
    "## 3. Spanner Infrastructure Setup\n",
    "\n",
    "Create minimal Spanner infrastructure for the streaming demo."
   ]
  },
  {
   "cell_type": "code",
   "execution_count": 5,
   "metadata": {},
   "outputs": [
    {
     "name": "stdout",
     "output_type": "stream",
     "text": [
      "🔄 Setting up Spanner infrastructure...\n",
      "⚠️ Remember to delete the instance after demo to avoid charges\n",
      "\n",
      "  ✅ Instance mdm-streaming-demo already exists\n",
      "  ✅ Database mdm_streaming already exists\n",
      "  🔄 Checking schema status...\n"
     ]
    },
    {
     "name": "stderr",
     "output_type": "stream",
     "text": [
      "Created multiplexed session.\n"
     ]
    },
    {
     "name": "stdout",
     "output_type": "stream",
     "text": [
      "  ✅ Schema exists and ready (fast path)\n",
      "\n",
      "✅ Spanner infrastructure ready!\n",
      "📊 Instance: mdm-streaming-demo (100 processing units)\n",
      "🗃️ Database: mdm_streaming\n",
      "📋 Schema: golden_entities, match_results tables created\n"
     ]
    }
   ],
   "source": [
    "print(\"🔄 Setting up Spanner infrastructure...\")\n",
    "print(\"⚠️ Remember to delete the instance after demo to avoid charges\")\n",
    "print()\n",
    "\n",
    "try:\n",
    "    # Create Spanner instance (minimal configuration)\n",
    "    spanner_helper.create_instance_if_needed(processing_units=100)\n",
    "\n",
    "    # Create database\n",
    "    spanner_helper.create_database_if_needed()\n",
    "\n",
    "    # Create schema (aligned with BigQuery golden_records)\n",
    "    spanner_helper.create_or_replace_schema()\n",
    "\n",
    "    print(\"\\n✅ Spanner infrastructure ready!\")\n",
    "    print(f\"📊 Instance: {INSTANCE_ID} (100 processing units)\")\n",
    "    print(f\"🗃️ Database: {DATABASE_ID}\")\n",
    "    print(f\"📋 Schema: golden_entities, match_results tables created\")\n",
    "\n",
    "except Exception as e:\n",
    "    print(f\"❌ Error setting up Spanner infrastructure: {e}\")\n",
    "    print(\"Please check your GCP permissions and try again.\")"
   ]
  },
  {
   "cell_type": "markdown",
   "metadata": {},
   "source": [
    "## 4. Load Golden Records from BigQuery\n",
    "\n",
    "Bootstrap the streaming system with existing golden records from batch processing."
   ]
  },
  {
   "cell_type": "code",
   "execution_count": 6,
   "metadata": {},
   "outputs": [
    {
     "name": "stdout",
     "output_type": "stream",
     "text": [
      "🔄 Loading golden records from BigQuery batch processing...\n",
      "  🔄 Loading golden records from BigQuery...\n",
      "  🗑️ Cleared table: golden_entities\n",
      "  ✅ Loaded 100 golden records from BigQuery\n",
      "\n",
      "✅ Successfully migrated 100 golden records to Spanner\n",
      "📊 Current golden entities in Spanner: 100\n",
      "\n",
      "🔍 Sample Golden Records in Spanner:\n"
     ]
    },
    {
     "data": {
      "text/html": [
       "<div>\n",
       "<style scoped>\n",
       "    .dataframe tbody tr th:only-of-type {\n",
       "        vertical-align: middle;\n",
       "    }\n",
       "\n",
       "    .dataframe tbody tr th {\n",
       "        vertical-align: top;\n",
       "    }\n",
       "\n",
       "    .dataframe thead th {\n",
       "        text-align: right;\n",
       "    }\n",
       "</style>\n",
       "<table border=\"1\" class=\"dataframe\">\n",
       "  <thead>\n",
       "    <tr style=\"text-align: right;\">\n",
       "      <th></th>\n",
       "      <th>entity_id</th>\n",
       "      <th>master_name</th>\n",
       "      <th>master_email</th>\n",
       "      <th>master_phone</th>\n",
       "      <th>source_count</th>\n",
       "      <th>path</th>\n",
       "    </tr>\n",
       "  </thead>\n",
       "  <tbody>\n",
       "    <tr>\n",
       "      <th>0</th>\n",
       "      <td>0284c4456f5ecfa6b768f23eb98d6f0f694b</td>\n",
       "      <td>JAMES HORTON</td>\n",
       "      <td>jross@example.net</td>\n",
       "      <td>001901463</td>\n",
       "      <td>2</td>\n",
       "      <td>batch_migrated</td>\n",
       "    </tr>\n",
       "    <tr>\n",
       "      <th>1</th>\n",
       "      <td>0337d5978aa00c9cc65779d8e410d858387d</td>\n",
       "      <td>LAUREN BYRD</td>\n",
       "      <td>davidtodd@outlook.com</td>\n",
       "      <td>433620616</td>\n",
       "      <td>3</td>\n",
       "      <td>batch_migrated</td>\n",
       "    </tr>\n",
       "    <tr>\n",
       "      <th>2</th>\n",
       "      <td>064acc1718b073764e63539db2e41fe84351</td>\n",
       "      <td>SHAUNXJONES</td>\n",
       "      <td>patrickdarin@example.com</td>\n",
       "      <td>18124382</td>\n",
       "      <td>4</td>\n",
       "      <td>batch_migrated</td>\n",
       "    </tr>\n",
       "    <tr>\n",
       "      <th>3</th>\n",
       "      <td>07a2038841964b97649af78fea800ebcb29c</td>\n",
       "      <td>DAVID WALKER</td>\n",
       "      <td>andrew83@outlook.com</td>\n",
       "      <td>5016031051</td>\n",
       "      <td>3</td>\n",
       "      <td>batch_migrated</td>\n",
       "    </tr>\n",
       "    <tr>\n",
       "      <th>4</th>\n",
       "      <td>0894b8e347814bdbb43518d52da1f72e0cd4</td>\n",
       "      <td>ANTHONY VAUGHAN</td>\n",
       "      <td>leescott@example.com</td>\n",
       "      <td>563768970</td>\n",
       "      <td>3</td>\n",
       "      <td>batch_migrated</td>\n",
       "    </tr>\n",
       "  </tbody>\n",
       "</table>\n",
       "</div>"
      ],
      "text/plain": [
       "                              entity_id      master_name  \\\n",
       "0  0284c4456f5ecfa6b768f23eb98d6f0f694b     JAMES HORTON   \n",
       "1  0337d5978aa00c9cc65779d8e410d858387d      LAUREN BYRD   \n",
       "2  064acc1718b073764e63539db2e41fe84351      SHAUNXJONES   \n",
       "3  07a2038841964b97649af78fea800ebcb29c     DAVID WALKER   \n",
       "4  0894b8e347814bdbb43518d52da1f72e0cd4  ANTHONY VAUGHAN   \n",
       "\n",
       "               master_email master_phone  source_count            path  \n",
       "0         jross@example.net    001901463             2  batch_migrated  \n",
       "1     davidtodd@outlook.com    433620616             3  batch_migrated  \n",
       "2  patrickdarin@example.com     18124382             4  batch_migrated  \n",
       "3      andrew83@outlook.com   5016031051             3  batch_migrated  \n",
       "4      leescott@example.com    563768970             3  batch_migrated  "
      ]
     },
     "metadata": {},
     "output_type": "display_data"
    }
   ],
   "source": [
    "print(\"🔄 Loading golden records from BigQuery batch processing...\")\n",
    "\n",
    "try:\n",
    "    # Load golden records from BigQuery\n",
    "    golden_count = spanner_helper.load_golden_records_from_bigquery(bq_helper)\n",
    "\n",
    "    if golden_count > 0:\n",
    "        print(\n",
    "            f\"\\n✅ Successfully migrated {golden_count} golden records to Spanner\")\n",
    "\n",
    "        # Verify the migration\n",
    "        current_count = spanner_helper.get_table_count(\"golden_entities\")\n",
    "        print(f\"📊 Current golden entities in Spanner: {current_count}\")\n",
    "\n",
    "        # Show sample records\n",
    "        sample_query = \"\"\"\n",
    "        SELECT entity_id, master_name, master_email, master_phone,\n",
    "               source_record_count, processing_path\n",
    "        FROM golden_entities\n",
    "        LIMIT 5\n",
    "        \"\"\"\n",
    "\n",
    "        sample_df = spanner_helper.execute_sql(sample_query)\n",
    "        if not sample_df.empty:\n",
    "            print(\"\\n🔍 Sample Golden Records in Spanner:\")\n",
    "            sample_df.columns = ['entity_id', 'master_name',\n",
    "                                 'master_email', 'master_phone', 'source_count', 'path']\n",
    "            display(sample_df)\n",
    "    else:\n",
    "        print(\"⚠️ No golden records found in BigQuery\")\n",
    "        print(\"💡 Run the batch processing notebook first to create golden records\")\n",
    "\n",
    "except Exception as e:\n",
    "    print(f\"❌ Error loading golden records: {e}\")\n",
    "    print(\"💡 Make sure you've run the batch processing notebook first\")"
   ]
  },
  {
   "cell_type": "markdown",
   "metadata": {},
   "source": [
    "## 5. Generate New Streaming Data\n",
    "\n",
    "Create new customer records to simulate streaming data."
   ]
  },
  {
   "cell_type": "code",
   "execution_count": 7,
   "metadata": {},
   "outputs": [
    {
     "name": "stdout",
     "output_type": "stream",
     "text": [
      "🔄 Generating 100 new streaming records...\n",
      "\n",
      "📈 Streaming Data Summary:\n",
      "  Total streaming records: 100\n",
      "  ECOMMERCE: 32 records\n",
      "  CRM: 41 records\n",
      "  ERP: 27 records\n",
      "\n",
      "🔍 Sample Streaming Records:\n"
     ]
    },
    {
     "data": {
      "text/html": [
       "<div>\n",
       "<style scoped>\n",
       "    .dataframe tbody tr th:only-of-type {\n",
       "        vertical-align: middle;\n",
       "    }\n",
       "\n",
       "    .dataframe tbody tr th {\n",
       "        vertical-align: top;\n",
       "    }\n",
       "\n",
       "    .dataframe thead th {\n",
       "        text-align: right;\n",
       "    }\n",
       "</style>\n",
       "<table border=\"1\" class=\"dataframe\">\n",
       "  <thead>\n",
       "    <tr style=\"text-align: right;\">\n",
       "      <th></th>\n",
       "      <th>record_id</th>\n",
       "      <th>full_name</th>\n",
       "      <th>email</th>\n",
       "      <th>phone</th>\n",
       "      <th>source_system</th>\n",
       "    </tr>\n",
       "  </thead>\n",
       "  <tbody>\n",
       "    <tr>\n",
       "      <th>0</th>\n",
       "      <td>667d7d03-b77a-424d-9be7-a9806bfbaa0f</td>\n",
       "      <td>Sarah Pope</td>\n",
       "      <td>keith98@example.com</td>\n",
       "      <td>None</td>\n",
       "      <td>ecommerce</td>\n",
       "    </tr>\n",
       "    <tr>\n",
       "      <th>1</th>\n",
       "      <td>054677cf-0a53-4258-9c56-f68bb161cb5c</td>\n",
       "      <td>Tina Ferguson</td>\n",
       "      <td>qvargas@example.org</td>\n",
       "      <td>562-972-0465</td>\n",
       "      <td>crm</td>\n",
       "    </tr>\n",
       "    <tr>\n",
       "      <th>2</th>\n",
       "      <td>7dd1297a-6dbe-4250-9bb6-049829af680b</td>\n",
       "      <td>Justin Hughes</td>\n",
       "      <td>melissachan@example.org</td>\n",
       "      <td>433.446.8007</td>\n",
       "      <td>ecommerce</td>\n",
       "    </tr>\n",
       "  </tbody>\n",
       "</table>\n",
       "</div>"
      ],
      "text/plain": [
       "                              record_id      full_name  \\\n",
       "0  667d7d03-b77a-424d-9be7-a9806bfbaa0f     Sarah Pope   \n",
       "1  054677cf-0a53-4258-9c56-f68bb161cb5c  Tina Ferguson   \n",
       "2  7dd1297a-6dbe-4250-9bb6-049829af680b  Justin Hughes   \n",
       "\n",
       "                     email         phone source_system  \n",
       "0      keith98@example.com          None     ecommerce  \n",
       "1      qvargas@example.org  562-972-0465           crm  \n",
       "2  melissachan@example.org  433.446.8007     ecommerce  "
      ]
     },
     "metadata": {},
     "output_type": "display_data"
    },
    {
     "name": "stdout",
     "output_type": "stream",
     "text": [
      "\n",
      "✅ Streaming data ready for processing!\n"
     ]
    }
   ],
   "source": [
    "print(f\"🔄 Generating {NUM_STREAMING_RECORDS} new streaming records...\")\n",
    "\n",
    "try:\n",
    "    # Generate new streaming data (different from batch data)\n",
    "    generator = MDMDataGenerator(num_unique_customers=NUM_STREAMING_RECORDS)\n",
    "    streaming_datasets = generator.generate_all_datasets()\n",
    "\n",
    "    # Combine all streaming records\n",
    "    all_streaming_records = []\n",
    "    for source, df in streaming_datasets.items():\n",
    "        for _, record in df.iterrows():\n",
    "            all_streaming_records.append(record.to_dict())\n",
    "\n",
    "    # Shuffle to simulate random streaming order\n",
    "    random.shuffle(all_streaming_records)\n",
    "\n",
    "    # Take exactly NUM_STREAMING_RECORDS\n",
    "    streaming_records = all_streaming_records[:NUM_STREAMING_RECORDS]\n",
    "\n",
    "    print(f\"\\n📈 Streaming Data Summary:\")\n",
    "    print(f\"  Total streaming records: {len(streaming_records)}\")\n",
    "\n",
    "    # Show source distribution\n",
    "    source_counts = {}\n",
    "    for record in streaming_records:\n",
    "        source = record.get('source_system', 'unknown')\n",
    "        source_counts[source] = source_counts.get(source, 0) + 1\n",
    "\n",
    "    for source, count in source_counts.items():\n",
    "        print(f\"  {source.upper()}: {count} records\")\n",
    "\n",
    "    print(f\"\\n🔍 Sample Streaming Records:\")\n",
    "    sample_streaming = pd.DataFrame(streaming_records[:3])\n",
    "    display(sample_streaming[['record_id', 'full_name',\n",
    "            'email', 'phone', 'source_system']].head(3))\n",
    "\n",
    "    print(\"\\n✅ Streaming data ready for processing!\")\n",
    "\n",
    "except Exception as e:\n",
    "    print(f\"❌ Error generating streaming data: {e}\")\n",
    "    streaming_records = []"
   ]
  },
  {
   "cell_type": "markdown",
   "metadata": {},
   "source": [
    "## 6. Initialize Streaming Processor\n",
    "\n",
    "Set up the 4-way matching processor."
   ]
  },
  {
   "cell_type": "code",
   "execution_count": 8,
   "metadata": {},
   "outputs": [
    {
     "name": "stdout",
     "output_type": "stream",
     "text": [
      "🔄 Initializing 4-way streaming processor...\n",
      "\n",
      "📊 Processor Configuration:\n",
      "  Matching strategies: 4 (exact, fuzzy, vector, business)\n",
      "  Strategy weights:\n",
      "    exact: 33%\n",
      "    fuzzy: 28%\n",
      "    vector: 22%\n",
      "    business: 17%\n",
      "\n",
      "⚖️ Decision Thresholds:\n",
      "  Auto-merge: ≥0.8\n",
      "  Create new: <0.6\n",
      "\n",
      "✅ Streaming processor ready!\n",
      "🎯 Target: <400ms processing time per record\n"
     ]
    }
   ],
   "source": [
    "print(\"🔄 Initializing 4-way streaming processor...\")\n",
    "\n",
    "try:\n",
    "    # Initialize the streaming processor\n",
    "    processor = StreamingMDMProcessor(spanner_helper)\n",
    "\n",
    "    print(\"\\n📊 Processor Configuration:\")\n",
    "    print(f\"  Matching strategies: 4 (exact, fuzzy, vector, business)\")\n",
    "    print(f\"  Strategy weights:\")\n",
    "    for strategy, weight in processor.weights.items():\n",
    "        print(f\"    {strategy}: {weight*100:.0f}%\")\n",
    "\n",
    "    print(f\"\\n⚖️ Decision Thresholds:\")\n",
    "    print(f\"  Auto-merge: ≥{processor.auto_merge_threshold}\")\n",
    "    print(f\"  Create new: <{processor.create_new_threshold}\")\n",
    "\n",
    "    print(\"\\n✅ Streaming processor ready!\")\n",
    "    print(f\"🎯 Target: <{TARGET_LATENCY_MS}ms processing time per record\")\n",
    "\n",
    "except Exception as e:\n",
    "    print(f\"❌ Error initializing processor: {e}\")\n",
    "    processor = None"
   ]
  },
  {
   "cell_type": "markdown",
   "metadata": {},
   "source": [
    "## 7. Streaming Processing Loop\n",
    "\n",
    "Process each record with sleep in between to simulate real-time pipeline."
   ]
  },
  {
   "cell_type": "code",
   "execution_count": 9,
   "metadata": {},
   "outputs": [
    {
     "name": "stdout",
     "output_type": "stream",
     "text": [
      "🚀 Starting Streaming MDM Simulation (100 records, per 100ms)\n",
      "================================================================================\n",
      "\n",
      "📨 Record 1/100: Sarah Pope (keith98@example.com) - ecommerce Source\n",
      "  ⚡ Exact matching: 1 matches found\n",
      "  🔍 Fuzzy matching: 1 matches found\n",
      "  🧮 Vector matching: 0 matches found\n",
      "  📋 Business rules: 2 matches found\n",
      "  📊 Combined score: 0.66 (MEDIUM confidence) → HUMAN_REVIEW\n",
      "  🗃️ → HUMAN_REVIEW Spanner (entity_id: cca28b3d..., merged with existing cca28b3d8f984e8148c4e31fc5929a9cac5c)\n",
      "  ⏱️ Processing time: 1690ms\n",
      "  🗃️ → Stored match result in Spanner (match_id: 7cce7ca7...)\n",
      "\n",
      "📨 Record 2/100: Tina Ferguson (qvargas@example.org) - crm Source\n",
      "  ⚡ Exact matching: 2 matches found\n",
      "  🔍 Fuzzy matching: 1 matches found\n",
      "  🧮 Vector matching: 0 matches found\n",
      "  📋 Business rules: 2 matches found\n",
      "  📊 Combined score: 0.66 (MEDIUM confidence) → HUMAN_REVIEW\n",
      "  🗃️ → HUMAN_REVIEW Spanner (entity_id: 8abd04fd..., merged with existing 8abd04fd75b1b0e24c978298a5abb28c1303)\n",
      "  ⏱️ Processing time: 1894ms\n",
      "  🗃️ → Stored match result in Spanner (match_id: 53293e75...)\n",
      "\n",
      "📨 Record 3/100: Justin Hughes (melissachan@example.org) - ecommerce Source\n",
      "  ⚡ Exact matching: 1 matches found\n",
      "  🔍 Fuzzy matching: 2 matches found\n",
      "  🧮 Vector matching: 0 matches found\n",
      "  📋 Business rules: 1 matches found\n",
      "  📊 Combined score: 0.64 (MEDIUM confidence) → HUMAN_REVIEW\n",
      "  🗃️ → HUMAN_REVIEW Spanner (entity_id: 0e13c562..., merged with existing 0e13c56296a8cbc09c31b76754e7ee133023)\n",
      "  ⏱️ Processing time: 1699ms\n",
      "  🗃️ → Stored match result in Spanner (match_id: 8de9a247...)\n",
      "\n",
      "📨 Record 4/100: Vincent Herrera (jennifercarter@example.org) - crm Source\n",
      "  ⚡ Exact matching: 0 matches found\n",
      "  🔍 Fuzzy matching: 0 matches found\n",
      "  🧮 Vector matching: 3 matches found\n",
      "  📋 Business rules: 0 matches found\n",
      "  📊 Combined score: 0.19 (LOW confidence) → CREATE_NEW\n",
      "  🗃️ → CREATE_NEW Spanner (entity_id: 35884410..., new record created)\n",
      "  ⏱️ Processing time: 1921ms\n",
      "  🗃️ → Stored match result in Spanner (match_id: 9a346fe9...)\n",
      "\n",
      "📨 Record 5/100: Heidi Spencer (robertbentley@example.net) - erp Source\n",
      "  ⚡ Exact matching: 1 matches found\n",
      "  🔍 Fuzzy matching: 1 matches found\n",
      "  🧮 Vector matching: 0 matches found\n",
      "  📋 Business rules: 1 matches found\n",
      "  📊 Combined score: 0.64 (MEDIUM confidence) → HUMAN_REVIEW\n",
      "  🗃️ → HUMAN_REVIEW Spanner (entity_id: 3668130f..., merged with existing 3668130fc627783292912e940b99187bbf26)\n",
      "  ⏱️ Processing time: 1740ms\n",
      "  🗃️ → Stored match result in Spanner (match_id: a0b33601...)\n",
      "\n",
      "📨 Record 6/100: Michael Ball (wbishop@example.net) - crm Source\n",
      "  ⚡ Exact matching: 0 matches found\n",
      "  🔍 Fuzzy matching: 0 matches found\n",
      "  🧮 Vector matching: 0 matches found\n",
      "  📋 Business rules: 0 matches found\n",
      "  📊 Combined score: 0.00 (LOW confidence) → CREATE_NEW\n",
      "  🗃️ → CREATE_NEW Spanner (entity_id: f82ed3c7..., new record created)\n",
      "  ⏱️ Processing time: 2033ms\n",
      "  ⚠️ → Failed to store match result: 400 record2_id must not be NULL in table match_results.\n",
      "\n",
      "📨 Record 7/100: Douglas Taylor (julie69@yahoo.com) - crm Source\n",
      "  ⚡ Exact matching: 1 matches found\n",
      "  🔍 Fuzzy matching: 1 matches found\n",
      "  🧮 Vector matching: 2 matches found\n",
      "  📋 Business rules: 2 matches found\n",
      "  📊 Combined score: 0.66 (MEDIUM confidence) → HUMAN_REVIEW\n",
      "  🗃️ → HUMAN_REVIEW Spanner (entity_id: 23c61674..., merged with existing 23c616742e565f8e1b370fded1964d16b5a0)\n",
      "  ⏱️ Processing time: 1970ms\n",
      "  🗃️ → Stored match result in Spanner (match_id: f6f8fc98...)\n",
      "\n",
      "📨 Record 8/100: Michael Norton (watsonrichard@example.net) - ecommerce Source\n",
      "  ⚡ Exact matching: 2 matches found\n",
      "  🔍 Fuzzy matching: 2 matches found\n",
      "  🧮 Vector matching: 0 matches found\n",
      "  📋 Business rules: 2 matches found\n",
      "  📊 Combined score: 0.66 (MEDIUM confidence) → HUMAN_REVIEW\n",
      "  🗃️ → HUMAN_REVIEW Spanner (entity_id: c7676004..., merged with existing c767600444929aaa62b350317f596f62a78b)\n",
      "  ⏱️ Processing time: 1976ms\n",
      "  🗃️ → Stored match result in Spanner (match_id: e8e0d166...)\n",
      "\n",
      "📨 Record 9/100: Jeffrey Black (finleycasey@outlook.com) - crm Source\n",
      "  ⚡ Exact matching: 1 matches found\n",
      "  🔍 Fuzzy matching: 2 matches found\n",
      "  🧮 Vector matching: 1 matches found\n",
      "  📋 Business rules: 2 matches found\n",
      "  📊 Combined score: 0.66 (MEDIUM confidence) → HUMAN_REVIEW\n",
      "  🗃️ → HUMAN_REVIEW Spanner (entity_id: ab23658c..., merged with existing ab23658cea714a65ef14359788de3b5c96c7)\n",
      "  ⏱️ Processing time: 2891ms\n",
      "  🗃️ → Stored match result in Spanner (match_id: 327f3d92...)\n",
      "\n",
      "📨 Record 10/100: Julie Thompson (opatel@example.net) - crm Source\n",
      "  ⚡ Exact matching: 2 matches found\n",
      "  🔍 Fuzzy matching: 1 matches found\n",
      "  🧮 Vector matching: 0 matches found\n",
      "  📋 Business rules: 2 matches found\n",
      "  📊 Combined score: 0.66 (MEDIUM confidence) → HUMAN_REVIEW\n",
      "  🗃️ → HUMAN_REVIEW Spanner (entity_id: a5d7ef80..., merged with existing a5d7ef80477db113dc2e0e8332ad0059ebda)\n",
      "  ⏱️ Processing time: 2055ms\n",
      "  🗃️ → Stored match result in Spanner (match_id: c9eb1448...)\n",
      "\n",
      "📨 Record 11/100: David Walker (andrew83@example.net) - erp Source\n",
      "  ⚡ Exact matching: 1 matches found\n",
      "  🔍 Fuzzy matching: 1 matches found\n",
      "  🧮 Vector matching: 0 matches found\n",
      "  📋 Business rules: 2 matches found\n",
      "  📊 Combined score: 0.66 (MEDIUM confidence) → HUMAN_REVIEW\n",
      "  🗃️ → HUMAN_REVIEW Spanner (entity_id: 07a20388..., merged with existing 07a2038841964b97649af78fea800ebcb29c)\n",
      "  ⏱️ Processing time: 1991ms\n",
      "  🗃️ → Stored match result in Spanner (match_id: ee1f0601...)\n",
      "\n",
      "📨 Record 12/100: Nicole Humphrey (patrick79@hotmail.com) - erp Source\n",
      "  ⚡ Exact matching: 0 matches found\n",
      "  🔍 Fuzzy matching: 0 matches found\n",
      "  🧮 Vector matching: 2 matches found\n",
      "  📋 Business rules: 0 matches found\n",
      "  📊 Combined score: 0.18 (LOW confidence) → CREATE_NEW\n",
      "  🗃️ → CREATE_NEW Spanner (entity_id: 62962622..., new record created)\n",
      "  ⏱️ Processing time: 2005ms\n",
      "  🗃️ → Stored match result in Spanner (match_id: e7a5678f...)\n",
      "\n",
      "📨 Record 13/100: Jack Preston (warrenmary@example.org) - crm Source\n",
      "  ⚡ Exact matching: 2 matches found\n",
      "  🔍 Fuzzy matching: 1 matches found\n",
      "  🧮 Vector matching: 2 matches found\n",
      "  📋 Business rules: 2 matches found\n",
      "  📊 Combined score: 0.66 (MEDIUM confidence) → HUMAN_REVIEW\n",
      "  🗃️ → HUMAN_REVIEW Spanner (entity_id: 4484e508..., merged with existing 4484e508835f44cc74c102bd1f1206001125)\n",
      "  ⏱️ Processing time: 2004ms\n",
      "  🗃️ → Stored match result in Spanner (match_id: 3e1b8fca...)\n",
      "\n",
      "📨 Record 14/100: Daniel Wright (gabriel90@example.net) - erp Source\n",
      "  ⚡ Exact matching: 2 matches found\n",
      "  🔍 Fuzzy matching: 0 matches found\n",
      "  🧮 Vector matching: 0 matches found\n",
      "  📋 Business rules: 1 matches found\n",
      "  📊 Combined score: 0.38 (LOW confidence) → CREATE_NEW\n",
      "  🗃️ → CREATE_NEW Spanner (entity_id: 3eb98eaf..., new record created)\n",
      "  ⏱️ Processing time: 2005ms\n",
      "  🗃️ → Stored match result in Spanner (match_id: e4e1f9d6...)\n",
      "\n",
      "📨 Record 15/100: Michelle Anderson (kristy39@example.com) - crm Source\n",
      "  ⚡ Exact matching: 0 matches found\n",
      "  🔍 Fuzzy matching: 0 matches found\n",
      "  🧮 Vector matching: 2 matches found\n",
      "  📋 Business rules: 0 matches found\n",
      "  📊 Combined score: 0.18 (LOW confidence) → CREATE_NEW\n",
      "  🗃️ → CREATE_NEW Spanner (entity_id: 9f509945..., new record created)\n",
      "  ⏱️ Processing time: 1787ms\n",
      "  🗃️ → Stored match result in Spanner (match_id: 1ffc91e2...)\n",
      "\n",
      "📨 Record 16/100: Phillip Anderson (maryavila@example.com) - crm Source\n",
      "  ⚡ Exact matching: 2 matches found\n",
      "  🔍 Fuzzy matching: 1 matches found\n",
      "  🧮 Vector matching: 2 matches found\n",
      "  📋 Business rules: 2 matches found\n",
      "  📊 Combined score: 0.66 (MEDIUM confidence) → HUMAN_REVIEW\n",
      "  🗃️ → HUMAN_REVIEW Spanner (entity_id: adfdb249..., merged with existing adfdb249f1dbac0e13353dd11d956557acc7)\n",
      "  ⏱️ Processing time: 1997ms\n",
      "  🗃️ → Stored match result in Spanner (match_id: 837a4baa...)\n",
      "\n",
      "📨 Record 17/100: Lorraine Santiago (sean43@example.org) - erp Source\n",
      "  ⚡ Exact matching: 2 matches found\n",
      "  🔍 Fuzzy matching: 1 matches found\n",
      "  🧮 Vector matching: 4 matches found\n",
      "  📋 Business rules: 2 matches found\n",
      "  📊 Combined score: 0.66 (MEDIUM confidence) → HUMAN_REVIEW\n",
      "  🗃️ → HUMAN_REVIEW Spanner (entity_id: 6b49034a..., merged with existing 6b49034a53437c09b7c717110fee1bc2a2cd)\n",
      "  ⏱️ Processing time: 1996ms\n",
      "  🗃️ → Stored match result in Spanner (match_id: 869ad4fe...)\n",
      "\n",
      "📨 Record 18/100: Lauren Byrd (davidtodd@outlook.com) - crm Source\n",
      "  ⚡ Exact matching: 2 matches found\n",
      "  🔍 Fuzzy matching: 1 matches found\n",
      "  🧮 Vector matching: 1 matches found\n",
      "  📋 Business rules: 2 matches found\n",
      "  📊 Combined score: 0.66 (MEDIUM confidence) → HUMAN_REVIEW\n",
      "  🗃️ → HUMAN_REVIEW Spanner (entity_id: 0337d597..., merged with existing 0337d5978aa00c9cc65779d8e410d858387d)\n",
      "  ⏱️ Processing time: 1993ms\n",
      "  🗃️ → Stored match result in Spanner (match_id: 9a918657...)\n",
      "\n",
      "📨 Record 19/100: Casey Sanchez (eric84@example.net) - erp Source\n",
      "  ⚡ Exact matching: 2 matches found\n",
      "  🔍 Fuzzy matching: 1 matches found\n",
      "  🧮 Vector matching: 0 matches found\n",
      "  📋 Business rules: 2 matches found\n",
      "  📊 Combined score: 0.66 (MEDIUM confidence) → HUMAN_REVIEW\n",
      "  🗃️ → HUMAN_REVIEW Spanner (entity_id: 0cf4f67e..., merged with existing 0cf4f67eb273d8999866b3481e891177a3ca)\n",
      "  ⏱️ Processing time: 1994ms\n",
      "  🗃️ → Stored match result in Spanner (match_id: 3bdd3675...)\n",
      "\n",
      "📨 Record 20/100: Marcus Wilson (anna99@yahoo.com) - ecommerce Source\n",
      "  ⚡ Exact matching: 1 matches found\n",
      "  🔍 Fuzzy matching: 1 matches found\n",
      "  🧮 Vector matching: 0 matches found\n",
      "  📋 Business rules: 2 matches found\n",
      "  📊 Combined score: 0.66 (MEDIUM confidence) → HUMAN_REVIEW\n",
      "  🗃️ → HUMAN_REVIEW Spanner (entity_id: be5e76b9..., merged with existing be5e76b902121fc7e5b69d04b4a0d9d67c53)\n",
      "  ⏱️ Processing time: 2000ms\n",
      "  🗃️ → Stored match result in Spanner (match_id: 33b75599...)\n",
      "\n",
      "📨 Record 21/100: Claudia Richards (oscar98@example.com) - ecommerce Source\n",
      "  ⚡ Exact matching: 1 matches found\n",
      "  🔍 Fuzzy matching: 1 matches found\n",
      "  🧮 Vector matching: 6 matches found\n",
      "  📋 Business rules: 2 matches found\n",
      "  📊 Combined score: 0.66 (MEDIUM confidence) → HUMAN_REVIEW\n",
      "  🗃️ → HUMAN_REVIEW Spanner (entity_id: 73a26a02..., merged with existing 73a26a02df385dcd6b880c1b766633225551)\n",
      "  ⏱️ Processing time: 1994ms\n",
      "  🗃️ → Stored match result in Spanner (match_id: 0fbb36c3...)\n",
      "\n",
      "📨 Record 22/100: Gina Chzrch (smithjohn@example.net) - ecommerce Source\n",
      "  ⚡ Exact matching: 1 matches found\n",
      "  🔍 Fuzzy matching: 1 matches found\n",
      "  🧮 Vector matching: 1 matches found\n",
      "  📋 Business rules: 2 matches found\n",
      "  📊 Combined score: 0.66 (MEDIUM confidence) → HUMAN_REVIEW\n",
      "  🗃️ → HUMAN_REVIEW Spanner (entity_id: 40d02b2f..., merged with existing 40d02b2f86e06b09f3ffe1f30f959b919803)\n",
      "  ⏱️ Processing time: 2002ms\n",
      "  🗃️ → Stored match result in Spanner (match_id: 64810307...)\n",
      "\n",
      "📨 Record 23/100: Justin xohen (rbrown@example.net) - ecommerce Source\n",
      "  ⚡ Exact matching: 2 matches found\n",
      "  🔍 Fuzzy matching: 2 matches found\n",
      "  🧮 Vector matching: 5 matches found\n",
      "  📋 Business rules: 2 matches found\n",
      "  📊 Combined score: 0.66 (MEDIUM confidence) → HUMAN_REVIEW\n",
      "  🗃️ → HUMAN_REVIEW Spanner (entity_id: 4f5e1d63..., merged with existing 4f5e1d6382e1b460bccdddbdac67db15b0a3)\n",
      "  ⏱️ Processing time: 2002ms\n",
      "  🗃️ → Stored match result in Spanner (match_id: fc651164...)\n",
      "\n",
      "📨 Record 24/100: Sarah Pope (keith98@example.com) - crm Source\n",
      "  ⚡ Exact matching: 2 matches found\n",
      "  🔍 Fuzzy matching: 1 matches found\n",
      "  🧮 Vector matching: 2 matches found\n",
      "  📋 Business rules: 2 matches found\n",
      "  📊 Combined score: 0.88 (HIGH confidence) → AUTO_MERGE\n",
      "  🗃️ → AUTO_MERGE Spanner (entity_id: cca28b3d..., merged with existing cca28b3d8f984e8148c4e31fc5929a9cac5c)\n",
      "  ⏱️ Processing time: 1999ms\n",
      "  🗃️ → Stored match result in Spanner (match_id: a1fb57dc...)\n",
      "\n",
      "📨 Record 25/100: Steven Spencer (colelisa@example.net) - crm Source\n",
      "  ⚡ Exact matching: 2 matches found\n",
      "  🔍 Fuzzy matching: 1 matches found\n",
      "  🧮 Vector matching: 5 matches found\n",
      "  📋 Business rules: 2 matches found\n",
      "  📊 Combined score: 0.66 (MEDIUM confidence) → HUMAN_REVIEW\n",
      "  🗃️ → HUMAN_REVIEW Spanner (entity_id: dbf9907a..., merged with existing dbf9907a315ea4b34b493e9315bfa0d8af81)\n",
      "  ⏱️ Processing time: 1998ms\n",
      "  🗃️ → Stored match result in Spanner (match_id: 9737cd52...)\n",
      "\n",
      "📨 Record 26/100: Ryan Richards (heatherthompson@example.org) - ecommerce Source\n",
      "  ⚡ Exact matching: 2 matches found\n",
      "  🔍 Fuzzy matching: 1 matches found\n",
      "  🧮 Vector matching: 3 matches found\n",
      "  📋 Business rules: 2 matches found\n",
      "  📊 Combined score: 0.66 (MEDIUM confidence) → HUMAN_REVIEW\n",
      "  🗃️ → HUMAN_REVIEW Spanner (entity_id: 2cefa7ea..., merged with existing 2cefa7ea05e31fb0fb898fe0cb2bcab41f6e)\n",
      "  ⏱️ Processing time: 2005ms\n",
      "  🗃️ → Stored match result in Spanner (match_id: 69080536...)\n",
      "\n",
      "📨 Record 27/100: Kevin Holmes (juliephillips@example.org) - erp Source\n",
      "  ⚡ Exact matching: 2 matches found\n",
      "  🔍 Fuzzy matching: 1 matches found\n",
      "  🧮 Vector matching: 3 matches found\n",
      "  📋 Business rules: 2 matches found\n",
      "  📊 Combined score: 0.66 (MEDIUM confidence) → HUMAN_REVIEW\n",
      "  🗃️ → HUMAN_REVIEW Spanner (entity_id: b59d1f94..., merged with existing b59d1f9465d9a0ec8dbef678dbfc53cb142c)\n",
      "  ⏱️ Processing time: 2006ms\n",
      "  🗃️ → Stored match result in Spanner (match_id: 5f1bbd7a...)\n",
      "\n",
      "📨 Record 28/100: James Horton (jross@outlook.com) - ecommerce Source\n",
      "  ⚡ Exact matching: 1 matches found\n",
      "  🔍 Fuzzy matching: 2 matches found\n",
      "  🧮 Vector matching: 2 matches found\n",
      "  📋 Business rules: 2 matches found\n",
      "  📊 Combined score: 0.66 (MEDIUM confidence) → HUMAN_REVIEW\n",
      "  🗃️ → HUMAN_REVIEW Spanner (entity_id: 0284c445..., merged with existing 0284c4456f5ecfa6b768f23eb98d6f0f694b)\n",
      "  ⏱️ Processing time: 2011ms\n",
      "  🗃️ → Stored match result in Spanner (match_id: fed4d586...)\n",
      "\n",
      "📨 Record 29/100: Michelle Nicholson (cameronmckinney@yahoo.com) - crm Source\n",
      "  ⚡ Exact matching: 0 matches found\n",
      "  🔍 Fuzzy matching: 2 matches found\n",
      "  🧮 Vector matching: 5 matches found\n",
      "  📋 Business rules: 0 matches found\n",
      "  📊 Combined score: 0.20 (LOW confidence) → CREATE_NEW\n",
      "  🗃️ → CREATE_NEW Spanner (entity_id: b743b7ad..., new record created)\n",
      "  ⏱️ Processing time: 2011ms\n",
      "  🗃️ → Stored match result in Spanner (match_id: 3cd278c1...)\n",
      "\n",
      "📨 Record 30/100: Abigail Warren (ibarron@example.com) - crm Source\n",
      "  ⚡ Exact matching: 2 matches found\n",
      "  🔍 Fuzzy matching: 1 matches found\n",
      "  🧮 Vector matching: 4 matches found\n",
      "  📋 Business rules: 2 matches found\n",
      "  📊 Combined score: 0.66 (MEDIUM confidence) → HUMAN_REVIEW\n",
      "  🗃️ → HUMAN_REVIEW Spanner (entity_id: 4abbd9ce..., merged with existing 4abbd9ce9f0b3e991439f161db46dbfe25e7)\n",
      "  ⏱️ Processing time: 2008ms\n",
      "  🗃️ → Stored match result in Spanner (match_id: 944cc1c0...)\n",
      "\n",
      "📨 Record 31/100: Charles Schultz (rebeccabailey@example.net) - erp Source\n",
      "  ⚡ Exact matching: 1 matches found\n",
      "  🔍 Fuzzy matching: 1 matches found\n",
      "  🧮 Vector matching: 5 matches found\n",
      "  📋 Business rules: 2 matches found\n",
      "  📊 Combined score: 0.66 (MEDIUM confidence) → HUMAN_REVIEW\n",
      "  🗃️ → HUMAN_REVIEW Spanner (entity_id: f2deb263..., merged with existing f2deb263a010ac65990125d53545926b66d9)\n",
      "  ⏱️ Processing time: 2013ms\n",
      "  🗃️ → Stored match result in Spanner (match_id: c7906a44...)\n",
      "\n",
      "📨 Record 32/100: Eric Parks (lewismelissa@yahoo.com) - crm Source\n",
      "  ⚡ Exact matching: 1 matches found\n",
      "  🔍 Fuzzy matching: 1 matches found\n",
      "  🧮 Vector matching: 0 matches found\n",
      "  📋 Business rules: 2 matches found\n",
      "  📊 Combined score: 0.66 (MEDIUM confidence) → HUMAN_REVIEW\n",
      "  🗃️ → HUMAN_REVIEW Spanner (entity_id: 9c48b8ac..., merged with existing 9c48b8acfe90b07eca46c920f60b9355466c)\n",
      "  ⏱️ Processing time: 2011ms\n",
      "  🗃️ → Stored match result in Spanner (match_id: 5eecd85b...)\n",
      "\n",
      "📨 Record 33/100: James Brooks (amberosborne@example.net) - erp Source\n",
      "  ⚡ Exact matching: 0 matches found\n",
      "  🔍 Fuzzy matching: 1 matches found\n",
      "  🧮 Vector matching: 7 matches found\n",
      "  📋 Business rules: 2 matches found\n",
      "  📊 Combined score: 0.33 (LOW confidence) → CREATE_NEW\n",
      "  🗃️ → CREATE_NEW Spanner (entity_id: 7f4948ec..., new record created)\n",
      "  ⏱️ Processing time: 2332ms\n",
      "  🗃️ → Stored match result in Spanner (match_id: d66ec794...)\n",
      "\n",
      "📨 Record 34/100: Patricia Stevens (ryangross@example.net) - ecommerce Source\n",
      "  ⚡ Exact matching: 2 matches found\n",
      "  🔍 Fuzzy matching: 2 matches found\n",
      "  🧮 Vector matching: 3 matches found\n",
      "  📋 Business rules: 2 matches found\n",
      "  📊 Combined score: 0.66 (MEDIUM confidence) → HUMAN_REVIEW\n",
      "  🗃️ → HUMAN_REVIEW Spanner (entity_id: 8b89f32e..., merged with existing 8b89f32e019a389267d092c24b449c2c9b46)\n",
      "  ⏱️ Processing time: 2045ms\n",
      "  🗃️ → Stored match result in Spanner (match_id: d6f4462c...)\n",
      "\n",
      "📨 Record 35/100: Jbnnifer Gill (robin55@example.com) - crm Source\n",
      "  ⚡ Exact matching: 1 matches found\n",
      "  🔍 Fuzzy matching: 0 matches found\n",
      "  🧮 Vector matching: 5 matches found\n",
      "  📋 Business rules: 2 matches found\n",
      "  📊 Combined score: 0.38 (LOW confidence) → CREATE_NEW\n",
      "  🗃️ → CREATE_NEW Spanner (entity_id: 59457f54..., new record created)\n",
      "  ⏱️ Processing time: 2039ms\n",
      "  🗃️ → Stored match result in Spanner (match_id: fa680102...)\n",
      "\n",
      "📨 Record 36/100: Patricia Baker (ylopez@example.com) - ecommerce Source\n",
      "  ⚡ Exact matching: 2 matches found\n",
      "  🔍 Fuzzy matching: 2 matches found\n",
      "  🧮 Vector matching: 0 matches found\n",
      "  📋 Business rules: 2 matches found\n",
      "  📊 Combined score: 0.38 (LOW confidence) → CREATE_NEW\n",
      "  🗃️ → CREATE_NEW Spanner (entity_id: 5d190bf6..., new record created)\n",
      "  ⏱️ Processing time: 2025ms\n",
      "  🗃️ → Stored match result in Spanner (match_id: c1f8364a...)\n",
      "\n",
      "📨 Record 37/100: Vanessa Reed (xanderson@example.net) - ecommerce Source\n",
      "  ⚡ Exact matching: 0 matches found\n",
      "  🔍 Fuzzy matching: 0 matches found\n",
      "  🧮 Vector matching: 11 matches found\n",
      "  📋 Business rules: 0 matches found\n",
      "  📊 Combined score: 0.19 (LOW confidence) → CREATE_NEW\n",
      "  🗃️ → CREATE_NEW Spanner (entity_id: 047db959..., new record created)\n",
      "  ⏱️ Processing time: 2017ms\n",
      "  🗃️ → Stored match result in Spanner (match_id: 08ed1784...)\n",
      "\n",
      "📨 Record 38/100: Brandi Hernandez (bobbydiaz@example.org) - ecommerce Source\n",
      "  ⚡ Exact matching: 2 matches found\n",
      "  🔍 Fuzzy matching: 1 matches found\n",
      "  🧮 Vector matching: 6 matches found\n",
      "  📋 Business rules: 1 matches found\n",
      "  📊 Combined score: 0.64 (MEDIUM confidence) → HUMAN_REVIEW\n",
      "  🗃️ → HUMAN_REVIEW Spanner (entity_id: 7a38ccf9..., merged with existing 7a38ccf94b39a1b0517765a5350ed125c5d7)\n",
      "  ⏱️ Processing time: 1809ms\n",
      "  🗃️ → Stored match result in Spanner (match_id: 71931a46...)\n",
      "\n",
      "📨 Record 39/100: Eric Parks (lewismelissa@example.org) - erp Source\n",
      "  ⚡ Exact matching: 1 matches found\n",
      "  🔍 Fuzzy matching: 1 matches found\n",
      "  🧮 Vector matching: 8 matches found\n",
      "  📋 Business rules: 2 matches found\n",
      "  📊 Combined score: 0.66 (MEDIUM confidence) → HUMAN_REVIEW\n",
      "  🗃️ → HUMAN_REVIEW Spanner (entity_id: 9c48b8ac..., merged with existing 9c48b8acfe90b07eca46c920f60b9355466c)\n",
      "  ⏱️ Processing time: 2021ms\n",
      "  🗃️ → Stored match result in Spanner (match_id: c9a4b066...)\n",
      "\n",
      "📨 Record 40/100: Ryan Richards (heatherthompson@yahoo.com) - crm Source\n",
      "  ⚡ Exact matching: 1 matches found\n",
      "  🔍 Fuzzy matching: 1 matches found\n",
      "  🧮 Vector matching: 8 matches found\n",
      "  📋 Business rules: 2 matches found\n",
      "  📊 Combined score: 0.66 (MEDIUM confidence) → HUMAN_REVIEW\n",
      "  🗃️ → HUMAN_REVIEW Spanner (entity_id: 2cefa7ea..., merged with existing 2cefa7ea05e31fb0fb898fe0cb2bcab41f6e)\n",
      "  ⏱️ Processing time: 2013ms\n",
      "  🗃️ → Stored match result in Spanner (match_id: fd3485bd...)\n",
      "\n",
      "📨 Record 41/100: Crystal Thompson (smithjoshua@example.org) - crm Source\n",
      "  ⚡ Exact matching: 2 matches found\n",
      "  🔍 Fuzzy matching: 1 matches found\n",
      "  🧮 Vector matching: 2 matches found\n",
      "  📋 Business rules: 2 matches found\n",
      "  📊 Combined score: 0.66 (MEDIUM confidence) → HUMAN_REVIEW\n",
      "  🗃️ → HUMAN_REVIEW Spanner (entity_id: 0abc76e9..., merged with existing 0abc76e9da05791d798f881b1df93b020e21)\n",
      "  ⏱️ Processing time: 2015ms\n",
      "  🗃️ → Stored match result in Spanner (match_id: 677e1af1...)\n",
      "\n",
      "📨 Record 42/100: Phillip Anderson (maryavila@example.com) - erp Source\n",
      "  ⚡ Exact matching: 2 matches found\n",
      "  🔍 Fuzzy matching: 1 matches found\n",
      "  🧮 Vector matching: 3 matches found\n",
      "  📋 Business rules: 2 matches found\n",
      "  📊 Combined score: 0.88 (HIGH confidence) → AUTO_MERGE\n",
      "  🗃️ → AUTO_MERGE Spanner (entity_id: adfdb249..., merged with existing adfdb249f1dbac0e13353dd11d956557acc7)\n",
      "  ⏱️ Processing time: 2019ms\n",
      "  🗃️ → Stored match result in Spanner (match_id: b1e3a529...)\n",
      "\n",
      "📨 Record 43/100: Christina Ramirez (christian32@example.net) - crm Source\n",
      "  ⚡ Exact matching: 2 matches found\n",
      "  🔍 Fuzzy matching: 2 matches found\n",
      "  🧮 Vector matching: 3 matches found\n",
      "  📋 Business rules: 2 matches found\n",
      "  📊 Combined score: 0.66 (MEDIUM confidence) → HUMAN_REVIEW\n",
      "  🗃️ → HUMAN_REVIEW Spanner (entity_id: 761243b0..., merged with existing 761243b08ccc5b8a087bd13d039b350a77a5)\n",
      "  ⏱️ Processing time: 2019ms\n",
      "  🗃️ → Stored match result in Spanner (match_id: 1b7ed0e1...)\n",
      "\n",
      "📨 Record 44/100: Michelle Nicholson (cameronmckinney@example.com) - crm Source\n",
      "  ⚡ Exact matching: 0 matches found\n",
      "  🔍 Fuzzy matching: 3 matches found\n",
      "  🧮 Vector matching: 8 matches found\n",
      "  📋 Business rules: 2 matches found\n",
      "  📊 Combined score: 0.33 (LOW confidence) → CREATE_NEW\n",
      "  🗃️ → CREATE_NEW Spanner (entity_id: 02ecdee4..., new record created)\n",
      "  ⏱️ Processing time: 1997ms\n",
      "  🗃️ → Stored match result in Spanner (match_id: 66ae5ae9...)\n",
      "\n",
      "📨 Record 45/100: Patricix Miller (jessebenson@example.net) - crm Source\n",
      "  ⚡ Exact matching: 2 matches found\n",
      "  🔍 Fuzzy matching: 2 matches found\n",
      "  🧮 Vector matching: 2 matches found\n",
      "  📋 Business rules: 2 matches found\n",
      "  📊 Combined score: 0.66 (MEDIUM confidence) → HUMAN_REVIEW\n",
      "  🗃️ → HUMAN_REVIEW Spanner (entity_id: cdffeeff..., merged with existing cdffeeff15263ff19e8875c75ac5cc805474)\n",
      "  ⏱️ Processing time: 2008ms\n",
      "  🗃️ → Stored match result in Spanner (match_id: 5da40c41...)\n",
      "\n",
      "📨 Record 46/100: Jason Gomez (campbellcarla@example.net) - erp Source\n",
      "  ⚡ Exact matching: 1 matches found\n",
      "  🔍 Fuzzy matching: 1 matches found\n",
      "  🧮 Vector matching: 0 matches found\n",
      "  📋 Business rules: 2 matches found\n",
      "  📊 Combined score: 0.66 (MEDIUM confidence) → HUMAN_REVIEW\n",
      "  🗃️ → HUMAN_REVIEW Spanner (entity_id: 19fcb066..., merged with existing 19fcb0664fe12e144e7ef37766bfdf7ec94f)\n",
      "  ⏱️ Processing time: 2003ms\n",
      "  🗃️ → Stored match result in Spanner (match_id: 25090277...)\n",
      "\n",
      "📨 Record 47/100: Gregory Chase (gwilcox@hotmail.com) - crm Source\n",
      "  ⚡ Exact matching: 0 matches found\n",
      "  🔍 Fuzzy matching: 0 matches found\n",
      "  🧮 Vector matching: 8 matches found\n",
      "  📋 Business rules: 0 matches found\n",
      "  📊 Combined score: 0.18 (LOW confidence) → CREATE_NEW\n",
      "  🗃️ → CREATE_NEW Spanner (entity_id: 098a84ba..., new record created)\n",
      "  ⏱️ Processing time: 2005ms\n",
      "  🗃️ → Stored match result in Spanner (match_id: b449bd31...)\n",
      "\n",
      "📨 Record 48/100: Claudia Richards (oscar98@example.com) - crm Source\n",
      "  ⚡ Exact matching: 2 matches found\n",
      "  🔍 Fuzzy matching: 1 matches found\n",
      "  🧮 Vector matching: 1 matches found\n",
      "  📋 Business rules: 1 matches found\n",
      "  📊 Combined score: 0.64 (MEDIUM confidence) → HUMAN_REVIEW\n",
      "  🗃️ → HUMAN_REVIEW Spanner (entity_id: 73a26a02..., merged with existing 73a26a02df385dcd6b880c1b766633225551)\n",
      "  ⏱️ Processing time: 1802ms\n",
      "  🗃️ → Stored match result in Spanner (match_id: 4e239719...)\n",
      "\n",
      "📨 Record 49/100: Shelia Richardson (jeffreyanderson@example.org) - ecommerce Source\n",
      "  ⚡ Exact matching: 2 matches found\n",
      "  🔍 Fuzzy matching: 1 matches found\n",
      "  🧮 Vector matching: 5 matches found\n",
      "  📋 Business rules: 2 matches found\n",
      "  📊 Combined score: 0.66 (MEDIUM confidence) → HUMAN_REVIEW\n",
      "  🗃️ → HUMAN_REVIEW Spanner (entity_id: 9e11dc14..., merged with existing 9e11dc1414cd26e6321645b9a444accb6fb2)\n",
      "  ⏱️ Processing time: 1983ms\n",
      "  🗃️ → Stored match result in Spanner (match_id: 1127b173...)\n",
      "\n",
      "📨 Record 50/100: Lance Smith (hdavis@example.com) - crm Source\n",
      "  ⚡ Exact matching: 2 matches found\n",
      "  🔍 Fuzzy matching: 1 matches found\n",
      "  🧮 Vector matching: 12 matches found\n",
      "  📋 Business rules: 2 matches found\n",
      "  📊 Combined score: 0.66 (MEDIUM confidence) → HUMAN_REVIEW\n",
      "  🗃️ → HUMAN_REVIEW Spanner (entity_id: 1aa43cea..., merged with existing 1aa43cea3178a73cef874368a4d71d5541ba)\n",
      "  ⏱️ Processing time: 1985ms\n",
      "  🗃️ → Stored match result in Spanner (match_id: 1df5e7ca...)\n",
      "\n",
      "📨 Record 51/100: Ashley Jackson (rjackson@example.com) - crm Source\n",
      "  ⚡ Exact matching: 2 matches found\n",
      "  🔍 Fuzzy matching: 1 matches found\n",
      "  🧮 Vector matching: 2 matches found\n",
      "  📋 Business rules: 2 matches found\n",
      "  📊 Combined score: 0.66 (MEDIUM confidence) → HUMAN_REVIEW\n",
      "  🗃️ → HUMAN_REVIEW Spanner (entity_id: 88fddf88..., merged with existing 88fddf88452306955b62ffe289e4eab36a0e)\n",
      "  ⏱️ Processing time: 1989ms\n",
      "  🗃️ → Stored match result in Spanner (match_id: 455e9fb2...)\n",
      "\n",
      "📨 Record 52/100: Elaine Nelson (robertroach@example.net) - crm Source\n",
      "  ⚡ Exact matching: 0 matches found\n",
      "  🔍 Fuzzy matching: 0 matches found\n",
      "  🧮 Vector matching: 4 matches found\n",
      "  📋 Business rules: 0 matches found\n",
      "  📊 Combined score: 0.18 (LOW confidence) → CREATE_NEW\n",
      "  🗃️ → CREATE_NEW Spanner (entity_id: 445da1f6..., new record created)\n",
      "  ⏱️ Processing time: 1786ms\n",
      "  🗃️ → Stored match result in Spanner (match_id: d5cb6af1...)\n",
      "\n",
      "📨 Record 53/100: Julie Thompson (opatel@example.net) - ecommerce Source\n",
      "  ⚡ Exact matching: 2 matches found\n",
      "  🔍 Fuzzy matching: 1 matches found\n",
      "  🧮 Vector matching: 3 matches found\n",
      "  📋 Business rules: 2 matches found\n",
      "  📊 Combined score: 0.88 (HIGH confidence) → AUTO_MERGE\n",
      "  🗃️ → AUTO_MERGE Spanner (entity_id: a5d7ef80..., merged with existing a5d7ef80477db113dc2e0e8332ad0059ebda)\n",
      "  ⏱️ Processing time: 1996ms\n",
      "  🗃️ → Stored match result in Spanner (match_id: 857470e1...)\n",
      "\n",
      "📨 Record 54/100: Abigail Warren (ibarron@example.com) - crm Source\n",
      "  ⚡ Exact matching: 2 matches found\n",
      "  🔍 Fuzzy matching: 1 matches found\n",
      "  🧮 Vector matching: 9 matches found\n",
      "  📋 Business rules: 2 matches found\n",
      "  📊 Combined score: 0.88 (HIGH confidence) → AUTO_MERGE\n",
      "  🗃️ → AUTO_MERGE Spanner (entity_id: 4abbd9ce..., merged with existing 4abbd9ce9f0b3e991439f161db46dbfe25e7)\n",
      "  ⏱️ Processing time: 1996ms\n",
      "  🗃️ → Stored match result in Spanner (match_id: 7f6771da...)\n",
      "\n",
      "📨 Record 55/100: Hannah Brewer (bwest@outlook.com) - crm Source\n",
      "  ⚡ Exact matching: 1 matches found\n",
      "  🔍 Fuzzy matching: 1 matches found\n",
      "  🧮 Vector matching: 2 matches found\n",
      "  📋 Business rules: 1 matches found\n",
      "  📊 Combined score: 0.64 (MEDIUM confidence) → HUMAN_REVIEW\n",
      "  🗃️ → HUMAN_REVIEW Spanner (entity_id: b5036c04..., merged with existing b5036c045f8cb36981791496a3e71b3b6b87)\n",
      "  ⏱️ Processing time: 1791ms\n",
      "  🗃️ → Stored match result in Spanner (match_id: 9abbfe67...)\n",
      "\n",
      "📨 Record 56/100: Michelle Martinez (johndawson@example.org) - ecommerce Source\n",
      "  ⚡ Exact matching: 2 matches found\n",
      "  🔍 Fuzzy matching: 2 matches found\n",
      "  🧮 Vector matching: 1 matches found\n",
      "  📋 Business rules: 2 matches found\n",
      "  📊 Combined score: 0.66 (MEDIUM confidence) → HUMAN_REVIEW\n",
      "  🗃️ → HUMAN_REVIEW Spanner (entity_id: fc91de66..., merged with existing fc91de66473d58b36d9a5acef8cc8ef267d3)\n",
      "  ⏱️ Processing time: 2000ms\n",
      "  🗃️ → Stored match result in Spanner (match_id: 327c9826...)\n",
      "\n",
      "📨 Record 57/100: Eric Yu (yorkcasey@outlook.com) - crm Source\n",
      "  ⚡ Exact matching: 0 matches found\n",
      "  🔍 Fuzzy matching: 1 matches found\n",
      "  🧮 Vector matching: 2 matches found\n",
      "  📋 Business rules: 2 matches found\n",
      "  📊 Combined score: 0.33 (LOW confidence) → CREATE_NEW\n",
      "  🗃️ → CREATE_NEW Spanner (entity_id: 9279d424..., new record created)\n",
      "  ⏱️ Processing time: 1791ms\n",
      "  🗃️ → Stored match result in Spanner (match_id: 45b88195...)\n",
      "\n",
      "📨 Record 58/100: Scott Sampson (cory58@example.net) - ecommerce Source\n",
      "  ⚡ Exact matching: 2 matches found\n",
      "  🔍 Fuzzy matching: 1 matches found\n",
      "  🧮 Vector matching: 10 matches found\n",
      "  📋 Business rules: 2 matches found\n",
      "  📊 Combined score: 0.66 (MEDIUM confidence) → HUMAN_REVIEW\n",
      "  🗃️ → HUMAN_REVIEW Spanner (entity_id: 68cdf5ae..., merged with existing 68cdf5aeab9af2dc3476d1bb68c894e5e595)\n",
      "  ⏱️ Processing time: 2018ms\n",
      "  🗃️ → Stored match result in Spanner (match_id: e4a29c60...)\n",
      "\n",
      "📨 Record 59/100: Nicholas Chavez (mitchellgriffith@outlook.com) - crm Source\n",
      "  ⚡ Exact matching: 0 matches found\n",
      "  🔍 Fuzzy matching: 2 matches found\n",
      "  🧮 Vector matching: 5 matches found\n",
      "  📋 Business rules: 2 matches found\n",
      "  📊 Combined score: 0.33 (LOW confidence) → CREATE_NEW\n",
      "  🗃️ → CREATE_NEW Spanner (entity_id: 2e370bcc..., new record created)\n",
      "  ⏱️ Processing time: 2013ms\n",
      "  🗃️ → Stored match result in Spanner (match_id: ecc084b3...)\n",
      "\n",
      "📨 Record 60/100: Daniel Lambert (orose@example.com) - erp Source\n",
      "  ⚡ Exact matching: 2 matches found\n",
      "  🔍 Fuzzy matching: 1 matches found\n",
      "  🧮 Vector matching: 8 matches found\n",
      "  📋 Business rules: 2 matches found\n",
      "  📊 Combined score: 0.66 (MEDIUM confidence) → HUMAN_REVIEW\n",
      "  🗃️ → HUMAN_REVIEW Spanner (entity_id: 0a6113e7..., merged with existing 0a6113e70171d04c91c9759e4951a50f242d)\n",
      "  ⏱️ Processing time: 2004ms\n",
      "  🗃️ → Stored match result in Spanner (match_id: 5d19babd...)\n",
      "\n",
      "📨 Record 61/100: Cynthia Pierce (colleenmendez@example.org) - crm Source\n",
      "  ⚡ Exact matching: 2 matches found\n",
      "  🔍 Fuzzy matching: 1 matches found\n",
      "  🧮 Vector matching: 17 matches found\n",
      "  📋 Business rules: 2 matches found\n",
      "  📊 Combined score: 0.66 (MEDIUM confidence) → HUMAN_REVIEW\n",
      "  🗃️ → HUMAN_REVIEW Spanner (entity_id: 3d78a070..., merged with existing 3d78a0707d0156f5b699cb8ddf49dc87d228)\n",
      "  ⏱️ Processing time: 2009ms\n",
      "  🗃️ → Stored match result in Spanner (match_id: 5dff98ff...)\n",
      "\n",
      "📨 Record 62/100: Diane Escobar (mathewaguilar@hotmail.com) - crm Source\n",
      "  ⚡ Exact matching: 1 matches found\n",
      "  🔍 Fuzzy matching: 1 matches found\n",
      "  🧮 Vector matching: 5 matches found\n",
      "  📋 Business rules: 2 matches found\n",
      "  📊 Combined score: 0.66 (MEDIUM confidence) → HUMAN_REVIEW\n",
      "  🗃️ → HUMAN_REVIEW Spanner (entity_id: 87b7b874..., merged with existing 87b7b8744b27fcff0b1093dc92f318701ff0)\n",
      "  ⏱️ Processing time: 2001ms\n",
      "  🗃️ → Stored match result in Spanner (match_id: 97add625...)\n",
      "\n",
      "📨 Record 63/100: Vincent Herrera (jennifercarter@example.org) - erp Source\n",
      "  ⚡ Exact matching: 2 matches found\n",
      "  🔍 Fuzzy matching: 1 matches found\n",
      "  🧮 Vector matching: 20 matches found\n",
      "  📋 Business rules: 2 matches found\n",
      "  📊 Combined score: 0.88 (HIGH confidence) → AUTO_MERGE\n",
      "  🗃️ → AUTO_MERGE Spanner (entity_id: 35884410..., merged with existing 35884410c041b1e3e8a0c9a823b1e7eb01d3)\n",
      "  ⏱️ Processing time: 2000ms\n",
      "  🗃️ → Stored match result in Spanner (match_id: d3d95bcf...)\n",
      "\n",
      "📨 Record 64/100: Jeffery Coleman (kennethkidd@example.com) - ecommerce Source\n",
      "  ⚡ Exact matching: 2 matches found\n",
      "  🔍 Fuzzy matching: 1 matches found\n",
      "  🧮 Vector matching: 0 matches found\n",
      "  📋 Business rules: 2 matches found\n",
      "  📊 Combined score: 0.66 (MEDIUM confidence) → HUMAN_REVIEW\n",
      "  🗃️ → HUMAN_REVIEW Spanner (entity_id: 3c3bfb89..., merged with existing 3c3bfb893c68d51d368c6253c8a7a8f1e389)\n",
      "  ⏱️ Processing time: 2005ms\n",
      "  🗃️ → Stored match result in Spanner (match_id: ca42d0c1...)\n",
      "\n",
      "📨 Record 65/100: James Brooks (amberosborne@example.net) - crm Source\n",
      "  ⚡ Exact matching: 2 matches found\n",
      "  🔍 Fuzzy matching: 2 matches found\n",
      "  🧮 Vector matching: 9 matches found\n",
      "  📋 Business rules: 4 matches found\n",
      "  📊 Combined score: 0.88 (HIGH confidence) → AUTO_MERGE\n",
      "  🗃️ → AUTO_MERGE Spanner (entity_id: 7f4948ec..., merged with existing 7f4948ec74d1acdcc9093fd4509d6ffedf38)\n",
      "  ⏱️ Processing time: 2003ms\n",
      "  🗃️ → Stored match result in Spanner (match_id: ae4c493f...)\n",
      "\n",
      "📨 Record 66/100: Lisa Sawyer (michael56@example.net) - erp Source\n",
      "  ⚡ Exact matching: 0 matches found\n",
      "  🔍 Fuzzy matching: 0 matches found\n",
      "  🧮 Vector matching: 7 matches found\n",
      "  📋 Business rules: 0 matches found\n",
      "  📊 Combined score: 0.19 (LOW confidence) → CREATE_NEW\n",
      "  🗃️ → CREATE_NEW Spanner (entity_id: 396e0b92..., new record created)\n",
      "  ⏱️ Processing time: 1997ms\n",
      "  🗃️ → Stored match result in Spanner (match_id: 4ab771be...)\n",
      "\n",
      "📨 Record 67/100: Mary Coohran (lweaver@example.com) - erp Source\n",
      "  ⚡ Exact matching: 2 matches found\n",
      "  🔍 Fuzzy matching: 1 matches found\n",
      "  🧮 Vector matching: 8 matches found\n",
      "  📋 Business rules: 2 matches found\n",
      "  📊 Combined score: 0.66 (MEDIUM confidence) → HUMAN_REVIEW\n",
      "  🗃️ → HUMAN_REVIEW Spanner (entity_id: d274fda5..., merged with existing d274fda5d038d2518615e90487b2a68c9983)\n",
      "  ⏱️ Processing time: 2003ms\n",
      "  🗃️ → Stored match result in Spanner (match_id: c52c8e4a...)\n",
      "\n",
      "📨 Record 68/100: Molly Gomez (yhill@yahoo.com) - ecommerce Source\n",
      "  ⚡ Exact matching: 1 matches found\n",
      "  🔍 Fuzzy matching: 1 matches found\n",
      "  🧮 Vector matching: 1 matches found\n",
      "  📋 Business rules: 2 matches found\n",
      "  📊 Combined score: 0.66 (MEDIUM confidence) → HUMAN_REVIEW\n",
      "  🗃️ → HUMAN_REVIEW Spanner (entity_id: d0323b64..., merged with existing d0323b64b10b9b976bb5685b34795bf3a344)\n",
      "  ⏱️ Processing time: 2034ms\n",
      "  🗃️ → Stored match result in Spanner (match_id: 6f326090...)\n",
      "\n",
      "📨 Record 69/100: Shaun Jones (patrickdarin@example.com) - erp Source\n",
      "  ⚡ Exact matching: 1 matches found\n",
      "  🔍 Fuzzy matching: 2 matches found\n",
      "  🧮 Vector matching: 6 matches found\n",
      "  📋 Business rules: 1 matches found\n",
      "  📊 Combined score: 0.64 (MEDIUM confidence) → HUMAN_REVIEW\n",
      "  🗃️ → HUMAN_REVIEW Spanner (entity_id: 064acc17..., merged with existing 064acc1718b073764e63539db2e41fe84351)\n",
      "  ⏱️ Processing time: 1798ms\n",
      "  🗃️ → Stored match result in Spanner (match_id: 943944ce...)\n",
      "\n",
      "📨 Record 70/100: Kimterly Howard (kcooper@example.net) - ecommerce Source\n",
      "  ⚡ Exact matching: 2 matches found\n",
      "  🔍 Fuzzy matching: 1 matches found\n",
      "  🧮 Vector matching: 6 matches found\n",
      "  📋 Business rules: 2 matches found\n",
      "  📊 Combined score: 0.66 (MEDIUM confidence) → HUMAN_REVIEW\n",
      "  🗃️ → HUMAN_REVIEW Spanner (entity_id: 6e8b8cf2..., merged with existing 6e8b8cf2897368cf1567459f1f5144143b75)\n",
      "  ⏱️ Processing time: 2000ms\n",
      "  🗃️ → Stored match result in Spanner (match_id: 77ddba61...)\n",
      "\n",
      "📨 Record 71/100: Christopher Shaffer (edwardsnicole@example.org) - crm Source\n",
      "  ⚡ Exact matching: 1 matches found\n",
      "  🔍 Fuzzy matching: 1 matches found\n",
      "  🧮 Vector matching: 11 matches found\n",
      "  📋 Business rules: 2 matches found\n",
      "  📊 Combined score: 0.66 (MEDIUM confidence) → HUMAN_REVIEW\n",
      "  🗃️ → HUMAN_REVIEW Spanner (entity_id: 37927760..., merged with existing 3792776021fdd5e509845cdbb8d439d5789c)\n",
      "  ⏱️ Processing time: 2035ms\n",
      "  🗃️ → Stored match result in Spanner (match_id: 608833b7...)\n",
      "\n",
      "📨 Record 72/100: Michele James (courtney78@yahoo.com) - erp Source\n",
      "  ⚡ Exact matching: 1 matches found\n",
      "  🔍 Fuzzy matching: 1 matches found\n",
      "  🧮 Vector matching: 5 matches found\n",
      "  📋 Business rules: 2 matches found\n",
      "  📊 Combined score: 0.66 (MEDIUM confidence) → HUMAN_REVIEW\n",
      "  🗃️ → HUMAN_REVIEW Spanner (entity_id: 4c22ccd1..., merged with existing 4c22ccd12fb97948f46ed3a4c9319eac8a64)\n",
      "  ⏱️ Processing time: 2004ms\n",
      "  🗃️ → Stored match result in Spanner (match_id: 6e628791...)\n",
      "\n",
      "📨 Record 73/100: Patricia Bush (kdunlap@example.net) - ecommerce Source\n",
      "  ⚡ Exact matching: 0 matches found\n",
      "  🔍 Fuzzy matching: 1 matches found\n",
      "  🧮 Vector matching: 0 matches found\n",
      "  📋 Business rules: 0 matches found\n",
      "  📊 Combined score: 0.20 (LOW confidence) → CREATE_NEW\n",
      "  🗃️ → CREATE_NEW Spanner (entity_id: 891debde..., new record created)\n",
      "  ⏱️ Processing time: 2001ms\n",
      "  🗃️ → Stored match result in Spanner (match_id: f85ec1ca...)\n",
      "\n",
      "📨 Record 74/100: David Walker (andrew83@example.net) - ecommerce Source\n",
      "  ⚡ Exact matching: 2 matches found\n",
      "  🔍 Fuzzy matching: 1 matches found\n",
      "  🧮 Vector matching: 9 matches found\n",
      "  📋 Business rules: 2 matches found\n",
      "  📊 Combined score: 0.88 (HIGH confidence) → AUTO_MERGE\n",
      "  🗃️ → AUTO_MERGE Spanner (entity_id: 07a20388..., merged with existing 07a2038841964b97649af78fea800ebcb29c)\n",
      "  ⏱️ Processing time: 2006ms\n",
      "  🗃️ → Stored match result in Spanner (match_id: be7ce2e2...)\n",
      "\n",
      "📨 Record 75/100: Karen Parrish (schmittcaroline@example.com) - ecommerce Source\n",
      "  ⚡ Exact matching: 0 matches found\n",
      "  🔍 Fuzzy matching: 1 matches found\n",
      "  🧮 Vector matching: 9 matches found\n",
      "  📋 Business rules: 2 matches found\n",
      "  📊 Combined score: 0.33 (LOW confidence) → CREATE_NEW\n",
      "  🗃️ → CREATE_NEW Spanner (entity_id: f9a7f8f1..., new record created)\n",
      "  ⏱️ Processing time: 1784ms\n",
      "  🗃️ → Stored match result in Spanner (match_id: d4fad3d9...)\n",
      "\n",
      "📨 Record 76/100: Claudia Richards (oscar98@example.com) - erp Source\n",
      "  ⚡ Exact matching: 2 matches found\n",
      "  🔍 Fuzzy matching: 1 matches found\n",
      "  🧮 Vector matching: 16 matches found\n",
      "  📋 Business rules: 2 matches found\n",
      "  📊 Combined score: 0.66 (MEDIUM confidence) → HUMAN_REVIEW\n",
      "  🗃️ → HUMAN_REVIEW Spanner (entity_id: 73a26a02..., merged with existing 73a26a02df385dcd6b880c1b766633225551)\n",
      "  ⏱️ Processing time: 1998ms\n",
      "  🗃️ → Stored match result in Spanner (match_id: ab7b66f0...)\n",
      "\n",
      "📨 Record 77/100: Elaine Nelson (robertroach@example.net) - ecommerce Source\n",
      "  ⚡ Exact matching: 2 matches found\n",
      "  🔍 Fuzzy matching: 1 matches found\n",
      "  🧮 Vector matching: 6 matches found\n",
      "  📋 Business rules: 1 matches found\n",
      "  📊 Combined score: 0.64 (MEDIUM confidence) → HUMAN_REVIEW\n",
      "  🗃️ → HUMAN_REVIEW Spanner (entity_id: 445da1f6..., merged with existing 445da1f6d8a5b2196bc1be28b6b4c8a417ee)\n",
      "  ⏱️ Processing time: 1994ms\n",
      "  🗃️ → Stored match result in Spanner (match_id: 713bd2fe...)\n",
      "\n",
      "📨 Record 78/100: Jack Preston (warrenmary@example.org) - ecommerce Source\n",
      "  ⚡ Exact matching: 2 matches found\n",
      "  🔍 Fuzzy matching: 1 matches found\n",
      "  🧮 Vector matching: 6 matches found\n",
      "  📋 Business rules: 2 matches found\n",
      "  📊 Combined score: 0.88 (HIGH confidence) → AUTO_MERGE\n",
      "  🗃️ → AUTO_MERGE Spanner (entity_id: 4484e508..., merged with existing 4484e508835f44cc74c102bd1f1206001125)\n",
      "  ⏱️ Processing time: 1995ms\n",
      "  🗃️ → Stored match result in Spanner (match_id: 6118c3a0...)\n",
      "\n",
      "📨 Record 79/100: Deborah Kerr (charlesmartin@example.com) - crm Source\n",
      "  ⚡ Exact matching: 0 matches found\n",
      "  🔍 Fuzzy matching: 1 matches found\n",
      "  🧮 Vector matching: 4 matches found\n",
      "  📋 Business rules: 2 matches found\n",
      "  📊 Combined score: 0.33 (LOW confidence) → CREATE_NEW\n",
      "  🗃️ → CREATE_NEW Spanner (entity_id: 232c567d..., new record created)\n",
      "  ⏱️ Processing time: 2004ms\n",
      "  🗃️ → Stored match result in Spanner (match_id: e430cd63...)\n",
      "\n",
      "📨 Record 80/100: David Walker (andrew83@example.net) - ecommerce Source\n",
      "  ⚡ Exact matching: 2 matches found\n",
      "  🔍 Fuzzy matching: 1 matches found\n",
      "  🧮 Vector matching: 9 matches found\n",
      "  📋 Business rules: 2 matches found\n",
      "  📊 Combined score: 0.88 (HIGH confidence) → AUTO_MERGE\n",
      "  🗃️ → AUTO_MERGE Spanner (entity_id: 07a20388..., merged with existing 07a2038841964b97649af78fea800ebcb29c)\n",
      "  ⏱️ Processing time: 2167ms\n",
      "  🗃️ → Stored match result in Spanner (match_id: 2afd1b1d...)\n",
      "\n",
      "📨 Record 81/100: Rachel Ramos (christopherboone@hotmail.com) - ecommerce Source\n",
      "  ⚡ Exact matching: 1 matches found\n",
      "  🔍 Fuzzy matching: 1 matches found\n",
      "  🧮 Vector matching: 3 matches found\n",
      "  📋 Business rules: 2 matches found\n",
      "  📊 Combined score: 0.66 (MEDIUM confidence) → HUMAN_REVIEW\n",
      "  🗃️ → HUMAN_REVIEW Spanner (entity_id: 98906d9b..., merged with existing 98906d9bd8e16fad4efccccd7e8a270e76b4)\n",
      "  ⏱️ Processing time: 1993ms\n",
      "  🗃️ → Stored match result in Spanner (match_id: f0be1d71...)\n",
      "\n",
      "📨 Record 82/100: Jeffrey Black (finleycasey@example.com) - erp Source\n",
      "  ⚡ Exact matching: 1 matches found\n",
      "  🔍 Fuzzy matching: 2 matches found\n",
      "  🧮 Vector matching: 1 matches found\n",
      "  📋 Business rules: 2 matches found\n",
      "  📊 Combined score: 0.66 (MEDIUM confidence) → HUMAN_REVIEW\n",
      "  🗃️ → HUMAN_REVIEW Spanner (entity_id: ab23658c..., merged with existing ab23658cea714a65ef14359788de3b5c96c7)\n",
      "  ⏱️ Processing time: 1991ms\n",
      "  🗃️ → Stored match result in Spanner (match_id: fedc066e...)\n",
      "\n",
      "📨 Record 83/100: Scott Sampson (cory58@example.net) - crm Source\n",
      "  ⚡ Exact matching: 2 matches found\n",
      "  🔍 Fuzzy matching: 1 matches found\n",
      "  🧮 Vector matching: 14 matches found\n",
      "  📋 Business rules: 2 matches found\n",
      "  📊 Combined score: 0.88 (HIGH confidence) → AUTO_MERGE\n",
      "  🗃️ → AUTO_MERGE Spanner (entity_id: 68cdf5ae..., merged with existing 68cdf5aeab9af2dc3476d1bb68c894e5e595)\n",
      "  ⏱️ Processing time: 1998ms\n",
      "  🗃️ → Stored match result in Spanner (match_id: 9589919f...)\n",
      "\n",
      "📨 Record 84/100: Vanessa Reed (xanderson@example.net) - ecommerce Source\n",
      "  ⚡ Exact matching: 2 matches found\n",
      "  🔍 Fuzzy matching: 1 matches found\n",
      "  🧮 Vector matching: 17 matches found\n",
      "  📋 Business rules: 2 matches found\n",
      "  📊 Combined score: 0.88 (HIGH confidence) → AUTO_MERGE\n",
      "  🗃️ → AUTO_MERGE Spanner (entity_id: 047db959..., merged with existing 047db959202c14e4e60d5db53b947b7f910e)\n",
      "  ⏱️ Processing time: 2041ms\n",
      "  🗃️ → Stored match result in Spanner (match_id: 6a131ecd...)\n",
      "\n",
      "📨 Record 85/100: Crystal Thompson (smithjoshua@example.org) - ecommerce Source\n",
      "  ⚡ Exact matching: 2 matches found\n",
      "  🔍 Fuzzy matching: 1 matches found\n",
      "  🧮 Vector matching: 3 matches found\n",
      "  📋 Business rules: 1 matches found\n",
      "  📊 Combined score: 0.64 (MEDIUM confidence) → HUMAN_REVIEW\n",
      "  🗃️ → HUMAN_REVIEW Spanner (entity_id: 0abc76e9..., merged with existing 0abc76e9da05791d798f881b1df93b020e21)\n",
      "  ⏱️ Processing time: 1808ms\n",
      "  🗃️ → Stored match result in Spanner (match_id: baca0317...)\n",
      "\n",
      "📨 Record 86/100: James Horton (jross@example.net) - erp Source\n",
      "  ⚡ Exact matching: 1 matches found\n",
      "  🔍 Fuzzy matching: 2 matches found\n",
      "  🧮 Vector matching: 4 matches found\n",
      "  📋 Business rules: 2 matches found\n",
      "  📊 Combined score: 0.66 (MEDIUM confidence) → HUMAN_REVIEW\n",
      "  🗃️ → HUMAN_REVIEW Spanner (entity_id: 0284c445..., merged with existing 0284c4456f5ecfa6b768f23eb98d6f0f694b)\n",
      "  ⏱️ Processing time: 1994ms\n",
      "  🗃️ → Stored match result in Spanner (match_id: 26b5c6c2...)\n",
      "\n",
      "📨 Record 87/100: Hannah Brewer (bwest@example.org) - ecommerce Source\n",
      "  ⚡ Exact matching: 1 matches found\n",
      "  🔍 Fuzzy matching: 1 matches found\n",
      "  🧮 Vector matching: 3 matches found\n",
      "  📋 Business rules: 2 matches found\n",
      "  📊 Combined score: 0.66 (MEDIUM confidence) → HUMAN_REVIEW\n",
      "  🗃️ → HUMAN_REVIEW Spanner (entity_id: b5036c04..., merged with existing b5036c045f8cb36981791496a3e71b3b6b87)\n",
      "  ⏱️ Processing time: 1991ms\n",
      "  🗃️ → Stored match result in Spanner (match_id: 1002d311...)\n",
      "\n",
      "📨 Record 88/100: Nicholas Montoya (stevenslaurie@example.com) - ecommerce Source\n",
      "  ⚡ Exact matching: 2 matches found\n",
      "  🔍 Fuzzy matching: 3 matches found\n",
      "  🧮 Vector matching: 4 matches found\n",
      "  📋 Business rules: 2 matches found\n",
      "  📊 Combined score: 0.66 (MEDIUM confidence) → HUMAN_REVIEW\n",
      "  🗃️ → HUMAN_REVIEW Spanner (entity_id: 375d0f1c..., merged with existing 375d0f1c582f5d6137339525a9b96a6ed618)\n",
      "  ⏱️ Processing time: 2000ms\n",
      "  🗃️ → Stored match result in Spanner (match_id: a93c437b...)\n",
      "\n",
      "📨 Record 89/100: Patricia Bush (kdunlap@example.net) - erp Source\n",
      "  ⚡ Exact matching: 1 matches found\n",
      "  🔍 Fuzzy matching: 2 matches found\n",
      "  🧮 Vector matching: 3 matches found\n",
      "  📋 Business rules: 2 matches found\n",
      "  📊 Combined score: 0.66 (MEDIUM confidence) → HUMAN_REVIEW\n",
      "  🗃️ → HUMAN_REVIEW Spanner (entity_id: 891debde..., merged with existing 891debdeb1f249d42145585b1f705ee78158)\n",
      "  ⏱️ Processing time: 1994ms\n",
      "  🗃️ → Stored match result in Spanner (match_id: 84e5855c...)\n",
      "\n",
      "📨 Record 90/100: Thomas Santos (manuel01@example.net) - erp Source\n",
      "  ⚡ Exact matching: 0 matches found\n",
      "  🔍 Fuzzy matching: 0 matches found\n",
      "  🧮 Vector matching: 8 matches found\n",
      "  📋 Business rules: 0 matches found\n",
      "  📊 Combined score: 0.18 (LOW confidence) → CREATE_NEW\n",
      "  🗃️ → CREATE_NEW Spanner (entity_id: 306af1c3..., new record created)\n",
      "  ⏱️ Processing time: 1992ms\n",
      "  🗃️ → Stored match result in Spanner (match_id: 1b7ea5d8...)\n",
      "\n",
      "📨 Record 91/100: David Walker (andrew83@example.net) - crm Source\n",
      "  ⚡ Exact matching: 2 matches found\n",
      "  🔍 Fuzzy matching: 1 matches found\n",
      "  🧮 Vector matching: 8 matches found\n",
      "  📋 Business rules: 2 matches found\n",
      "  📊 Combined score: 0.88 (HIGH confidence) → AUTO_MERGE\n",
      "  🗃️ → AUTO_MERGE Spanner (entity_id: 07a20388..., merged with existing 07a2038841964b97649af78fea800ebcb29c)\n",
      "  ⏱️ Processing time: 1994ms\n",
      "  🗃️ → Stored match result in Spanner (match_id: 9ba67df2...)\n",
      "\n",
      "📨 Record 92/100: Michelle Anderson (kristy39@example.com) - erp Source\n",
      "  ⚡ Exact matching: 2 matches found\n",
      "  🔍 Fuzzy matching: 3 matches found\n",
      "  🧮 Vector matching: 15 matches found\n",
      "  📋 Business rules: 1 matches found\n",
      "  📊 Combined score: 0.64 (MEDIUM confidence) → HUMAN_REVIEW\n",
      "  🗃️ → HUMAN_REVIEW Spanner (entity_id: 9f509945..., merged with existing 9f509945f326e6e2cab3d7ce818017880ae9)\n",
      "  ⏱️ Processing time: 1994ms\n",
      "  🗃️ → Stored match result in Spanner (match_id: 06f91f2c...)\n",
      "\n",
      "📨 Record 93/100: Jenny Lee (nicholas99@example.org) - ecommerce Source\n",
      "  ⚡ Exact matching: 0 matches found\n",
      "  🔍 Fuzzy matching: 0 matches found\n",
      "  🧮 Vector matching: 4 matches found\n",
      "  📋 Business rules: 0 matches found\n",
      "  📊 Combined score: 0.19 (LOW confidence) → CREATE_NEW\n",
      "  🗃️ → CREATE_NEW Spanner (entity_id: 78aedcf4..., new record created)\n",
      "  ⏱️ Processing time: 1996ms\n",
      "  🗃️ → Stored match result in Spanner (match_id: c5345648...)\n",
      "\n",
      "📨 Record 94/100: Stephen Brown (tchambers@example.net) - crm Source\n",
      "  ⚡ Exact matching: 2 matches found\n",
      "  🔍 Fuzzy matching: 1 matches found\n",
      "  🧮 Vector matching: 1 matches found\n",
      "  📋 Business rules: 2 matches found\n",
      "  📊 Combined score: 0.66 (MEDIUM confidence) → HUMAN_REVIEW\n",
      "  🗃️ → HUMAN_REVIEW Spanner (entity_id: 4f940b2f..., merged with existing 4f940b2f36477c1da80c97704f469490d2c1)\n",
      "  ⏱️ Processing time: 1994ms\n",
      "  🗃️ → Stored match result in Spanner (match_id: f5869adf...)\n",
      "\n",
      "📨 Record 95/100: Nicholas Montoya (stevenslaurie@example.com) - crm Source\n",
      "  ⚡ Exact matching: 2 matches found\n",
      "  🔍 Fuzzy matching: 3 matches found\n",
      "  🧮 Vector matching: 5 matches found\n",
      "  📋 Business rules: 2 matches found\n",
      "  📊 Combined score: 0.88 (HIGH confidence) → AUTO_MERGE\n",
      "  🗃️ → AUTO_MERGE Spanner (entity_id: 375d0f1c..., merged with existing 375d0f1c582f5d6137339525a9b96a6ed618)\n",
      "  ⏱️ Processing time: 1998ms\n",
      "  🗃️ → Stored match result in Spanner (match_id: 91a7114f...)\n",
      "\n",
      "📨 Record 96/100: Shelia Richardson (jeffreyanderson@example.org) - erp Source\n",
      "  ⚡ Exact matching: 2 matches found\n",
      "  🔍 Fuzzy matching: 1 matches found\n",
      "  🧮 Vector matching: 4 matches found\n",
      "  📋 Business rules: 2 matches found\n",
      "  📊 Combined score: 0.66 (MEDIUM confidence) → HUMAN_REVIEW\n",
      "  🗃️ → HUMAN_REVIEW Spanner (entity_id: 9e11dc14..., merged with existing 9e11dc1414cd26e6321645b9a444accb6fb2)\n",
      "  ⏱️ Processing time: 1999ms\n",
      "  🗃️ → Stored match result in Spanner (match_id: 20c442bf...)\n",
      "\n",
      "📨 Record 97/100: Raymond Ramirez (rasmussenjoshua@example.net) - crm Source\n",
      "  ⚡ Exact matching: 2 matches found\n",
      "  🔍 Fuzzy matching: 1 matches found\n",
      "  🧮 Vector matching: 8 matches found\n",
      "  📋 Business rules: 1 matches found\n",
      "  📊 Combined score: 0.64 (MEDIUM confidence) → HUMAN_REVIEW\n",
      "  🗃️ → HUMAN_REVIEW Spanner (entity_id: 171682e6..., merged with existing 171682e68c2d6004b11d6df3d2e8f1bffb2e)\n",
      "  ⏱️ Processing time: 1794ms\n",
      "  🗃️ → Stored match result in Spanner (match_id: aab9335c...)\n",
      "\n",
      "📨 Record 98/100: Shannon Brown (stephanie72@outlook.com) - crm Source\n",
      "  ⚡ Exact matching: 1 matches found\n",
      "  🔍 Fuzzy matching: 1 matches found\n",
      "  🧮 Vector matching: 7 matches found\n",
      "  📋 Business rules: 2 matches found\n",
      "  📊 Combined score: 0.66 (MEDIUM confidence) → HUMAN_REVIEW\n",
      "  🗃️ → HUMAN_REVIEW Spanner (entity_id: 89b40330..., merged with existing 89b4033099f04ee20e6d8f7b679baadcdbc9)\n",
      "  ⏱️ Processing time: 2093ms\n",
      "  🗃️ → Stored match result in Spanner (match_id: 0c88c255...)\n",
      "\n",
      "📨 Record 99/100: Kaitlyn Baker (xcarson@example.org) - erp Source\n",
      "  ⚡ Exact matching: 2 matches found\n",
      "  🔍 Fuzzy matching: 1 matches found\n",
      "  🧮 Vector matching: 15 matches found\n",
      "  📋 Business rules: 2 matches found\n",
      "  📊 Combined score: 0.66 (MEDIUM confidence) → HUMAN_REVIEW\n",
      "  🗃️ → HUMAN_REVIEW Spanner (entity_id: 8a59f849..., merged with existing 8a59f849bf6f07f8f456133dba52a8507aff)\n",
      "  ⏱️ Processing time: 2003ms\n",
      "  🗃️ → Stored match result in Spanner (match_id: 532b46e7...)\n",
      "\n",
      "📨 Record 100/100: Christopher Shaffer (edwardsnicole@example.org) - erp Source\n",
      "  ⚡ Exact matching: 2 matches found\n",
      "  🔍 Fuzzy matching: 1 matches found\n",
      "  🧮 Vector matching: 1 matches found\n",
      "  📋 Business rules: 1 matches found\n",
      "  📊 Combined score: 0.64 (MEDIUM confidence) → HUMAN_REVIEW\n",
      "  🗃️ → HUMAN_REVIEW Spanner (entity_id: 37927760..., merged with existing 3792776021fdd5e509845cdbb8d439d5789c)\n",
      "  ⏱️ Processing time: 1824ms\n",
      "  🗃️ → Stored match result in Spanner (match_id: 39a7e4ef...)\n",
      "\n",
      "🎉 Streaming Simulation Complete!\n",
      "==================================================\n",
      "📊 Processing Summary:\n",
      "  Records processed: 100\n",
      "  Total time: 240.2 seconds\n",
      "  Average processing time: 1985ms\n",
      "  Throughput: 0.4 records/second\n",
      "\n",
      "⚖️ Decision Distribution:\n",
      "  HUMAN_REVIEW: 66 (66.0%)\n",
      "  CREATE_NEW: 21 (21.0%)\n",
      "  AUTO_MERGE: 13 (13.0%)\n",
      "\n",
      "🎯 Confidence Distribution:\n",
      "  MEDIUM: 66 (66.0%)\n",
      "  LOW: 21 (21.0%)\n",
      "  HIGH: 13 (13.0%)\n",
      "\n",
      "📁 Results stored in Spanner table: match_results\n",
      "💡 Use Section 8 to analyze the results from Spanner\n"
     ]
    }
   ],
   "source": [
    "print(\n",
    "    f\"🚀 Starting Streaming MDM Simulation ({NUM_STREAMING_RECORDS} records, per 100ms)\")\n",
    "print(\"=\" * 80)\n",
    "print()\n",
    "\n",
    "# Validate prerequisites\n",
    "if not streaming_records:\n",
    "    print(\"❌ No streaming records available. Please run data generation first.\")\n",
    "elif not processor:\n",
    "    print(\"❌ Processor not initialized. Please run processor setup first.\")\n",
    "else:\n",
    "    # Track overall statistics\n",
    "    start_time = time.time()\n",
    "    total_processing_time = 0\n",
    "    action_counts = {}\n",
    "    confidence_counts = {}\n",
    "\n",
    "    # Process each record\n",
    "    for i, record in enumerate(streaming_records, 1):\n",
    "        record_start = time.time()\n",
    "\n",
    "        # Process the record with match details\n",
    "        result = processor.process_record(\n",
    "            record, i, NUM_STREAMING_RECORDS, include_match_details=True)\n",
    "\n",
    "        # Store match result in Spanner\n",
    "        try:\n",
    "            match_id = processor.store_match_result(record, result)\n",
    "            print(\n",
    "                f\"  🗃️ → Stored match result in Spanner (match_id: {match_id[:8]}...)\")\n",
    "        except Exception as e:\n",
    "            print(f\"  ⚠️ → Failed to store match result: {e}\")\n",
    "\n",
    "        # Update statistics\n",
    "        total_processing_time += result.get('processing_time_ms', 0)\n",
    "        update_statistics(result, action_counts, confidence_counts)\n",
    "\n",
    "        # Sleep to maintain processing pace\n",
    "        elapsed = time.time() - record_start\n",
    "        sleep_time = max(0, PROCESSING_DELAY_SEC - elapsed)\n",
    "        if sleep_time > 0:\n",
    "            print(f\"  ⏱️ Next record in {sleep_time:.1f}s...\")\n",
    "            time.sleep(sleep_time)\n",
    "\n",
    "        print()  # Empty line for readability\n",
    "\n",
    "    # Calculate final statistics\n",
    "    total_time = time.time() - start_time\n",
    "\n",
    "    print(\"🎉 Streaming Simulation Complete!\")\n",
    "    print(\"=\" * 50)\n",
    "    print(f\"📊 Processing Summary:\")\n",
    "    print(f\"  Records processed: {NUM_STREAMING_RECORDS}\")\n",
    "    print(f\"  Total time: {total_time:.1f} seconds\")\n",
    "    print(\n",
    "        f\"  Average processing time: {total_processing_time/NUM_STREAMING_RECORDS:.0f}ms\")\n",
    "    print(\n",
    "        f\"  Throughput: {NUM_STREAMING_RECORDS/total_time:.1f} records/second\")\n",
    "\n",
    "    print(f\"\\n⚖️ Decision Distribution:\")\n",
    "    for action, count in action_counts.items():\n",
    "        percentage = (count / NUM_STREAMING_RECORDS) * 100\n",
    "        print(f\"  {action}: {count} ({percentage:.1f}%)\")\n",
    "\n",
    "    print(f\"\\n🎯 Confidence Distribution:\")\n",
    "    for confidence, count in confidence_counts.items():\n",
    "        percentage = (count / NUM_STREAMING_RECORDS) * 100\n",
    "        print(f\"  {confidence}: {count} ({percentage:.1f}%)\")\n",
    "\n",
    "    print(f\"\\n📁 Results stored in Spanner table: match_results\")\n",
    "    print(\"💡 Use Section 8 to analyze the results from Spanner\")"
   ]
  },
  {
   "cell_type": "markdown",
   "metadata": {},
   "source": [
    "## 8. Analysis and Visualization\n",
    "\n",
    "Analyze the streaming processing results."
   ]
  },
  {
   "cell_type": "code",
   "execution_count": 10,
   "metadata": {},
   "outputs": [
    {
     "name": "stdout",
     "output_type": "stream",
     "text": [
      "📊 Analyzing streaming processing results from Spanner...\n",
      "\n",
      "⚡ Performance Analysis:\n",
      "  Average processing time: 1967ms\n",
      "  Median processing time: 1999ms\n",
      "  95th percentile: 2034ms\n",
      "  Max processing time: 2890ms\n",
      "\n",
      "🎯 Matching Effectiveness:\n",
      "  Average combined score: 0.607\n",
      "  Records with exact matches: 166\n",
      "  Records with fuzzy matches: 176\n",
      "  Records with vector matches: 47\n",
      "  Records with business matches: 178\n"
     ]
    }
   ],
   "source": [
    "print(\"📊 Analyzing streaming processing results from Spanner...\")\n",
    "\n",
    "# Query transaction data from Spanner\n",
    "transactions_query = \"\"\"\n",
    "SELECT\n",
    "    record1_id, source1,\n",
    "    exact_score, fuzzy_score, vector_score, business_score,\n",
    "    combined_score, confidence_level, match_decision,\n",
    "    processing_time_ms, matched_at\n",
    "FROM match_results\n",
    "WHERE matched_at >= TIMESTAMP_SUB(CURRENT_TIMESTAMP(), INTERVAL 1 HOUR)\n",
    "ORDER BY matched_at DESC\n",
    "\"\"\"\n",
    "\n",
    "transactions_df = spanner_helper.execute_sql(transactions_query)\n",
    "\n",
    "# Rename columns for compatibility with existing analysis\n",
    "transactions_df.columns = [\n",
    "    'record_id', 'source_system',\n",
    "    'exact_score', 'fuzzy_score', 'vector_score', 'business_score',\n",
    "    'combined_score', 'confidence', 'action',\n",
    "    'processing_time_ms', 'matched_at'\n",
    "]\n",
    "\n",
    "# Add calculated columns for match counts\n",
    "transactions_df['exact_matches'] = (\n",
    "    transactions_df['exact_score'] > 0).astype(int)\n",
    "transactions_df['fuzzy_matches'] = (\n",
    "    transactions_df['fuzzy_score'] > 0).astype(int)\n",
    "transactions_df['vector_matches'] = (\n",
    "    transactions_df['vector_score'] > 0).astype(int)\n",
    "transactions_df['business_matches'] = (\n",
    "    transactions_df['business_score'] > 0).astype(int)\n",
    "\n",
    "\n",
    "# Performance analysis\n",
    "print(\"\\n⚡ Performance Analysis:\")\n",
    "print(\n",
    "    f\"  Average processing time: {transactions_df['processing_time_ms'].mean():.0f}ms\")\n",
    "print(\n",
    "    f\"  Median processing time: {transactions_df['processing_time_ms'].median():.0f}ms\")\n",
    "print(\n",
    "    f\"  95th percentile: {transactions_df['processing_time_ms'].quantile(0.95):.0f}ms\")\n",
    "print(\n",
    "    f\"  Max processing time: {transactions_df['processing_time_ms'].max():.0f}ms\")\n",
    "\n",
    "# Matching effectiveness\n",
    "print(\"\\n🎯 Matching Effectiveness:\")\n",
    "print(\n",
    "    f\"  Average combined score: {transactions_df['combined_score'].mean():.3f}\")\n",
    "print(\n",
    "    f\"  Records with exact matches: {(transactions_df['exact_matches'] > 0).sum()}\")\n",
    "print(\n",
    "    f\"  Records with fuzzy matches: {(transactions_df['fuzzy_matches'] > 0).sum()}\")\n",
    "print(\n",
    "    f\"  Records with vector matches: {(transactions_df['vector_matches'] > 0).sum()}\")\n",
    "print(\n",
    "    f\"  Records with business matches: {(transactions_df['business_matches'] > 0).sum()}\")"
   ]
  },
  {
   "cell_type": "code",
   "execution_count": 11,
   "metadata": {},
   "outputs": [
    {
     "name": "stdout",
     "output_type": "stream",
     "text": [
      "📈 Creating performance visualizations...\n"
     ]
    },
    {
     "data": {
      "application/vnd.plotly.v1+json": {
       "config": {
        "plotlyServerURL": "https://plot.ly"
       },
       "data": [
        {
         "name": "Processing Time (ms)",
         "type": "histogram",
         "x": {
          "bdata": "HwfTBy0IAQfOB84HyQfLB8oHyQfIB8oH0AfGB8kHEAf4B80HxwfIB3cI0wfKB8oHzgf4BtUH0AfUB/IH0AcFB/EH0wfNB9MH1QfQB9AH2AfUB9wH4Qf/Bs8H/gbMB8sH+gbFB8EHvwcJB9QH0gfXB8wH4gfiB94H3QfkBxEH4AfoB/YH/AcbCdoH3AfXB9oH2wfVB9QHzgfPB9IH0QfKB9AHygfJB8wHzQf7BtQH1AfVB8cHBwhKC7gHsgfMBoEHogZlB5kGAwfPB8kHDQfRB9cH0wfRB8wH0gfSB9YH0QfQB9UHBAfdB9MH0wfPB9YHywfTB9AH0Qf+BtcHzwfUB9wH2QcTB+AH9QfZB9wH2wfjB+AH3wfgB+EH2Ad+B90HDAfdB90HGAfdB90H3gcTB+0H2QfbB9AHzgfiB9sH3QfeBxAH4gflB+oHhwmvB6cHowegB5kHlweoB6cHpAe2B68HqwesB6YHpAeiB6AHoQfSBpsHpAehB6IHoQeeB5IHfwebBl0HiQZBB4IGtAVuBpkF",
          "dtype": "i2"
         },
         "xaxis": "x",
         "yaxis": "y"
        },
        {
         "domain": {
          "x": [
           0.55,
           1
          ],
          "y": [
           0.625,
           1
          ]
         },
         "labels": [
          "HUMAN_REVIEW",
          "CREATE_NEW",
          "AUTO_MERGE"
         ],
         "name": "Actions",
         "type": "pie",
         "values": {
          "bdata": "hAApABwA",
          "dtype": "i2"
         }
        },
        {
         "domain": {
          "x": [
           0,
           0.45
          ],
          "y": [
           0,
           0.375
          ]
         },
         "labels": [
          "MEDIUM",
          "LOW",
          "HIGH"
         ],
         "name": "Confidence",
         "type": "pie",
         "values": {
          "bdata": "hAApABwA",
          "dtype": "i2"
         }
        },
        {
         "name": "Combined Score",
         "type": "histogram",
         "x": {
          "bdata": "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",
          "dtype": "f8"
         },
         "xaxis": "x2",
         "yaxis": "y2"
        }
       ],
       "layout": {
        "annotations": [
         {
          "font": {
           "size": 16
          },
          "showarrow": false,
          "text": "Processing Time Distribution",
          "x": 0.225,
          "xanchor": "center",
          "xref": "paper",
          "y": 1,
          "yanchor": "bottom",
          "yref": "paper"
         },
         {
          "font": {
           "size": 16
          },
          "showarrow": false,
          "text": "Action Distribution",
          "x": 0.775,
          "xanchor": "center",
          "xref": "paper",
          "y": 1,
          "yanchor": "bottom",
          "yref": "paper"
         },
         {
          "font": {
           "size": 16
          },
          "showarrow": false,
          "text": "Confidence Distribution",
          "x": 0.225,
          "xanchor": "center",
          "xref": "paper",
          "y": 0.375,
          "yanchor": "bottom",
          "yref": "paper"
         },
         {
          "font": {
           "size": 16
          },
          "showarrow": false,
          "text": "Combined Score Distribution",
          "x": 0.775,
          "xanchor": "center",
          "xref": "paper",
          "y": 0.375,
          "yanchor": "bottom",
          "yref": "paper"
         }
        ],
        "showlegend": false,
        "template": {
         "data": {
          "bar": [
           {
            "error_x": {
             "color": "#2a3f5f"
            },
            "error_y": {
             "color": "#2a3f5f"
            },
            "marker": {
             "line": {
              "color": "#E5ECF6",
              "width": 0.5
             },
             "pattern": {
              "fillmode": "overlay",
              "size": 10,
              "solidity": 0.2
             }
            },
            "type": "bar"
           }
          ],
          "barpolar": [
           {
            "marker": {
             "line": {
              "color": "#E5ECF6",
              "width": 0.5
             },
             "pattern": {
              "fillmode": "overlay",
              "size": 10,
              "solidity": 0.2
             }
            },
            "type": "barpolar"
           }
          ],
          "carpet": [
           {
            "aaxis": {
             "endlinecolor": "#2a3f5f",
             "gridcolor": "white",
             "linecolor": "white",
             "minorgridcolor": "white",
             "startlinecolor": "#2a3f5f"
            },
            "baxis": {
             "endlinecolor": "#2a3f5f",
             "gridcolor": "white",
             "linecolor": "white",
             "minorgridcolor": "white",
             "startlinecolor": "#2a3f5f"
            },
            "type": "carpet"
           }
          ],
          "choropleth": [
           {
            "colorbar": {
             "outlinewidth": 0,
             "ticks": ""
            },
            "type": "choropleth"
           }
          ],
          "contour": [
           {
            "colorbar": {
             "outlinewidth": 0,
             "ticks": ""
            },
            "colorscale": [
             [
              0,
              "#0d0887"
             ],
             [
              0.1111111111111111,
              "#46039f"
             ],
             [
              0.2222222222222222,
              "#7201a8"
             ],
             [
              0.3333333333333333,
              "#9c179e"
             ],
             [
              0.4444444444444444,
              "#bd3786"
             ],
             [
              0.5555555555555556,
              "#d8576b"
             ],
             [
              0.6666666666666666,
              "#ed7953"
             ],
             [
              0.7777777777777778,
              "#fb9f3a"
             ],
             [
              0.8888888888888888,
              "#fdca26"
             ],
             [
              1,
              "#f0f921"
             ]
            ],
            "type": "contour"
           }
          ],
          "contourcarpet": [
           {
            "colorbar": {
             "outlinewidth": 0,
             "ticks": ""
            },
            "type": "contourcarpet"
           }
          ],
          "heatmap": [
           {
            "colorbar": {
             "outlinewidth": 0,
             "ticks": ""
            },
            "colorscale": [
             [
              0,
              "#0d0887"
             ],
             [
              0.1111111111111111,
              "#46039f"
             ],
             [
              0.2222222222222222,
              "#7201a8"
             ],
             [
              0.3333333333333333,
              "#9c179e"
             ],
             [
              0.4444444444444444,
              "#bd3786"
             ],
             [
              0.5555555555555556,
              "#d8576b"
             ],
             [
              0.6666666666666666,
              "#ed7953"
             ],
             [
              0.7777777777777778,
              "#fb9f3a"
             ],
             [
              0.8888888888888888,
              "#fdca26"
             ],
             [
              1,
              "#f0f921"
             ]
            ],
            "type": "heatmap"
           }
          ],
          "histogram": [
           {
            "marker": {
             "pattern": {
              "fillmode": "overlay",
              "size": 10,
              "solidity": 0.2
             }
            },
            "type": "histogram"
           }
          ],
          "histogram2d": [
           {
            "colorbar": {
             "outlinewidth": 0,
             "ticks": ""
            },
            "colorscale": [
             [
              0,
              "#0d0887"
             ],
             [
              0.1111111111111111,
              "#46039f"
             ],
             [
              0.2222222222222222,
              "#7201a8"
             ],
             [
              0.3333333333333333,
              "#9c179e"
             ],
             [
              0.4444444444444444,
              "#bd3786"
             ],
             [
              0.5555555555555556,
              "#d8576b"
             ],
             [
              0.6666666666666666,
              "#ed7953"
             ],
             [
              0.7777777777777778,
              "#fb9f3a"
             ],
             [
              0.8888888888888888,
              "#fdca26"
             ],
             [
              1,
              "#f0f921"
             ]
            ],
            "type": "histogram2d"
           }
          ],
          "histogram2dcontour": [
           {
            "colorbar": {
             "outlinewidth": 0,
             "ticks": ""
            },
            "colorscale": [
             [
              0,
              "#0d0887"
             ],
             [
              0.1111111111111111,
              "#46039f"
             ],
             [
              0.2222222222222222,
              "#7201a8"
             ],
             [
              0.3333333333333333,
              "#9c179e"
             ],
             [
              0.4444444444444444,
              "#bd3786"
             ],
             [
              0.5555555555555556,
              "#d8576b"
             ],
             [
              0.6666666666666666,
              "#ed7953"
             ],
             [
              0.7777777777777778,
              "#fb9f3a"
             ],
             [
              0.8888888888888888,
              "#fdca26"
             ],
             [
              1,
              "#f0f921"
             ]
            ],
            "type": "histogram2dcontour"
           }
          ],
          "mesh3d": [
           {
            "colorbar": {
             "outlinewidth": 0,
             "ticks": ""
            },
            "type": "mesh3d"
           }
          ],
          "parcoords": [
           {
            "line": {
             "colorbar": {
              "outlinewidth": 0,
              "ticks": ""
             }
            },
            "type": "parcoords"
           }
          ],
          "pie": [
           {
            "automargin": true,
            "type": "pie"
           }
          ],
          "scatter": [
           {
            "fillpattern": {
             "fillmode": "overlay",
             "size": 10,
             "solidity": 0.2
            },
            "type": "scatter"
           }
          ],
          "scatter3d": [
           {
            "line": {
             "colorbar": {
              "outlinewidth": 0,
              "ticks": ""
             }
            },
            "marker": {
             "colorbar": {
              "outlinewidth": 0,
              "ticks": ""
             }
            },
            "type": "scatter3d"
           }
          ],
          "scattercarpet": [
           {
            "marker": {
             "colorbar": {
              "outlinewidth": 0,
              "ticks": ""
             }
            },
            "type": "scattercarpet"
           }
          ],
          "scattergeo": [
           {
            "marker": {
             "colorbar": {
              "outlinewidth": 0,
              "ticks": ""
             }
            },
            "type": "scattergeo"
           }
          ],
          "scattergl": [
           {
            "marker": {
             "colorbar": {
              "outlinewidth": 0,
              "ticks": ""
             }
            },
            "type": "scattergl"
           }
          ],
          "scattermap": [
           {
            "marker": {
             "colorbar": {
              "outlinewidth": 0,
              "ticks": ""
             }
            },
            "type": "scattermap"
           }
          ],
          "scattermapbox": [
           {
            "marker": {
             "colorbar": {
              "outlinewidth": 0,
              "ticks": ""
             }
            },
            "type": "scattermapbox"
           }
          ],
          "scatterpolar": [
           {
            "marker": {
             "colorbar": {
              "outlinewidth": 0,
              "ticks": ""
             }
            },
            "type": "scatterpolar"
           }
          ],
          "scatterpolargl": [
           {
            "marker": {
             "colorbar": {
              "outlinewidth": 0,
              "ticks": ""
             }
            },
            "type": "scatterpolargl"
           }
          ],
          "scatterternary": [
           {
            "marker": {
             "colorbar": {
              "outlinewidth": 0,
              "ticks": ""
             }
            },
            "type": "scatterternary"
           }
          ],
          "surface": [
           {
            "colorbar": {
             "outlinewidth": 0,
             "ticks": ""
            },
            "colorscale": [
             [
              0,
              "#0d0887"
             ],
             [
              0.1111111111111111,
              "#46039f"
             ],
             [
              0.2222222222222222,
              "#7201a8"
             ],
             [
              0.3333333333333333,
              "#9c179e"
             ],
             [
              0.4444444444444444,
              "#bd3786"
             ],
             [
              0.5555555555555556,
              "#d8576b"
             ],
             [
              0.6666666666666666,
              "#ed7953"
             ],
             [
              0.7777777777777778,
              "#fb9f3a"
             ],
             [
              0.8888888888888888,
              "#fdca26"
             ],
             [
              1,
              "#f0f921"
             ]
            ],
            "type": "surface"
           }
          ],
          "table": [
           {
            "cells": {
             "fill": {
              "color": "#EBF0F8"
             },
             "line": {
              "color": "white"
             }
            },
            "header": {
             "fill": {
              "color": "#C8D4E3"
             },
             "line": {
              "color": "white"
             }
            },
            "type": "table"
           }
          ]
         },
         "layout": {
          "annotationdefaults": {
           "arrowcolor": "#2a3f5f",
           "arrowhead": 0,
           "arrowwidth": 1
          },
          "autotypenumbers": "strict",
          "coloraxis": {
           "colorbar": {
            "outlinewidth": 0,
            "ticks": ""
           }
          },
          "colorscale": {
           "diverging": [
            [
             0,
             "#8e0152"
            ],
            [
             0.1,
             "#c51b7d"
            ],
            [
             0.2,
             "#de77ae"
            ],
            [
             0.3,
             "#f1b6da"
            ],
            [
             0.4,
             "#fde0ef"
            ],
            [
             0.5,
             "#f7f7f7"
            ],
            [
             0.6,
             "#e6f5d0"
            ],
            [
             0.7,
             "#b8e186"
            ],
            [
             0.8,
             "#7fbc41"
            ],
            [
             0.9,
             "#4d9221"
            ],
            [
             1,
             "#276419"
            ]
           ],
           "sequential": [
            [
             0,
             "#0d0887"
            ],
            [
             0.1111111111111111,
             "#46039f"
            ],
            [
             0.2222222222222222,
             "#7201a8"
            ],
            [
             0.3333333333333333,
             "#9c179e"
            ],
            [
             0.4444444444444444,
             "#bd3786"
            ],
            [
             0.5555555555555556,
             "#d8576b"
            ],
            [
             0.6666666666666666,
             "#ed7953"
            ],
            [
             0.7777777777777778,
             "#fb9f3a"
            ],
            [
             0.8888888888888888,
             "#fdca26"
            ],
            [
             1,
             "#f0f921"
            ]
           ],
           "sequentialminus": [
            [
             0,
             "#0d0887"
            ],
            [
             0.1111111111111111,
             "#46039f"
            ],
            [
             0.2222222222222222,
             "#7201a8"
            ],
            [
             0.3333333333333333,
             "#9c179e"
            ],
            [
             0.4444444444444444,
             "#bd3786"
            ],
            [
             0.5555555555555556,
             "#d8576b"
            ],
            [
             0.6666666666666666,
             "#ed7953"
            ],
            [
             0.7777777777777778,
             "#fb9f3a"
            ],
            [
             0.8888888888888888,
             "#fdca26"
            ],
            [
             1,
             "#f0f921"
            ]
           ]
          },
          "colorway": [
           "#636efa",
           "#EF553B",
           "#00cc96",
           "#ab63fa",
           "#FFA15A",
           "#19d3f3",
           "#FF6692",
           "#B6E880",
           "#FF97FF",
           "#FECB52"
          ],
          "font": {
           "color": "#2a3f5f"
          },
          "geo": {
           "bgcolor": "white",
           "lakecolor": "white",
           "landcolor": "#E5ECF6",
           "showlakes": true,
           "showland": true,
           "subunitcolor": "white"
          },
          "hoverlabel": {
           "align": "left"
          },
          "hovermode": "closest",
          "mapbox": {
           "style": "light"
          },
          "paper_bgcolor": "white",
          "plot_bgcolor": "#E5ECF6",
          "polar": {
           "angularaxis": {
            "gridcolor": "white",
            "linecolor": "white",
            "ticks": ""
           },
           "bgcolor": "#E5ECF6",
           "radialaxis": {
            "gridcolor": "white",
            "linecolor": "white",
            "ticks": ""
           }
          },
          "scene": {
           "xaxis": {
            "backgroundcolor": "#E5ECF6",
            "gridcolor": "white",
            "gridwidth": 2,
            "linecolor": "white",
            "showbackground": true,
            "ticks": "",
            "zerolinecolor": "white"
           },
           "yaxis": {
            "backgroundcolor": "#E5ECF6",
            "gridcolor": "white",
            "gridwidth": 2,
            "linecolor": "white",
            "showbackground": true,
            "ticks": "",
            "zerolinecolor": "white"
           },
           "zaxis": {
            "backgroundcolor": "#E5ECF6",
            "gridcolor": "white",
            "gridwidth": 2,
            "linecolor": "white",
            "showbackground": true,
            "ticks": "",
            "zerolinecolor": "white"
           }
          },
          "shapedefaults": {
           "line": {
            "color": "#2a3f5f"
           }
          },
          "ternary": {
           "aaxis": {
            "gridcolor": "white",
            "linecolor": "white",
            "ticks": ""
           },
           "baxis": {
            "gridcolor": "white",
            "linecolor": "white",
            "ticks": ""
           },
           "bgcolor": "#E5ECF6",
           "caxis": {
            "gridcolor": "white",
            "linecolor": "white",
            "ticks": ""
           }
          },
          "title": {
           "x": 0.05
          },
          "xaxis": {
           "automargin": true,
           "gridcolor": "white",
           "linecolor": "white",
           "ticks": "",
           "title": {
            "standoff": 15
           },
           "zerolinecolor": "white",
           "zerolinewidth": 2
          },
          "yaxis": {
           "automargin": true,
           "gridcolor": "white",
           "linecolor": "white",
           "ticks": "",
           "title": {
            "standoff": 15
           },
           "zerolinecolor": "white",
           "zerolinewidth": 2
          }
         }
        },
        "title": {
         "text": "Streaming MDM Performance Analysis"
        },
        "xaxis": {
         "anchor": "y",
         "domain": [
          0,
          0.45
         ]
        },
        "xaxis2": {
         "anchor": "y2",
         "domain": [
          0.55,
          1
         ]
        },
        "yaxis": {
         "anchor": "x",
         "domain": [
          0.625,
          1
         ]
        },
        "yaxis2": {
         "anchor": "x2",
         "domain": [
          0,
          0.375
         ]
        }
       }
      }
     },
     "metadata": {},
     "output_type": "display_data"
    },
    {
     "name": "stdout",
     "output_type": "stream",
     "text": [
      "✅ Visualizations created!\n"
     ]
    }
   ],
   "source": [
    "# Create visualizations\n",
    "print(\"📈 Creating performance visualizations...\")\n",
    "\n",
    "# Processing time distribution\n",
    "fig = make_subplots(\n",
    "    rows=2, cols=2,\n",
    "    subplot_titles=('Processing Time Distribution', 'Action Distribution',\n",
    "                    'Confidence Distribution', 'Combined Score Distribution'),\n",
    "    specs=[[{'type': 'histogram'}, {'type': 'pie'}],\n",
    "           [{'type': 'pie'}, {'type': 'histogram'}]]\n",
    ")\n",
    "\n",
    "# Processing time histogram\n",
    "fig.add_trace(\n",
    "    go.Histogram(\n",
    "        x=transactions_df['processing_time_ms'], name='Processing Time (ms)'),\n",
    "    row=1, col=1\n",
    ")\n",
    "\n",
    "# Action distribution pie chart\n",
    "action_counts = transactions_df['action'].value_counts()\n",
    "fig.add_trace(\n",
    "    go.Pie(labels=action_counts.index,\n",
    "           values=action_counts.values, name='Actions'),\n",
    "    row=1, col=2\n",
    ")\n",
    "\n",
    "# Confidence distribution pie chart\n",
    "confidence_counts = transactions_df['confidence'].value_counts()\n",
    "fig.add_trace(\n",
    "    go.Pie(labels=confidence_counts.index,\n",
    "           values=confidence_counts.values, name='Confidence'),\n",
    "    row=2, col=1\n",
    ")\n",
    "\n",
    "# Combined score histogram\n",
    "fig.add_trace(\n",
    "    go.Histogram(x=transactions_df['combined_score'], name='Combined Score'),\n",
    "    row=2, col=2\n",
    ")\n",
    "\n",
    "fig.update_layout(\n",
    "    title_text=\"Streaming MDM Performance Analysis\", showlegend=False)\n",
    "fig.show()\n",
    "\n",
    "print(\"✅ Visualizations created!\")"
   ]
  },
  {
   "cell_type": "code",
   "execution_count": 12,
   "metadata": {},
   "outputs": [
    {
     "name": "stdout",
     "output_type": "stream",
     "text": [
      "🎯 4-Strategy Effectiveness Analysis:\n"
     ]
    },
    {
     "data": {
      "text/html": [
       "<div>\n",
       "<style scoped>\n",
       "    .dataframe tbody tr th:only-of-type {\n",
       "        vertical-align: middle;\n",
       "    }\n",
       "\n",
       "    .dataframe tbody tr th {\n",
       "        vertical-align: top;\n",
       "    }\n",
       "\n",
       "    .dataframe thead th {\n",
       "        text-align: right;\n",
       "    }\n",
       "</style>\n",
       "<table border=\"1\" class=\"dataframe\">\n",
       "  <thead>\n",
       "    <tr style=\"text-align: right;\">\n",
       "      <th></th>\n",
       "      <th>Strategy</th>\n",
       "      <th>Records_with_Matches</th>\n",
       "      <th>Average_Score</th>\n",
       "    </tr>\n",
       "  </thead>\n",
       "  <tbody>\n",
       "    <tr>\n",
       "      <th>0</th>\n",
       "      <td>Exact</td>\n",
       "      <td>166</td>\n",
       "      <td>0.825871</td>\n",
       "    </tr>\n",
       "    <tr>\n",
       "      <th>1</th>\n",
       "      <td>Fuzzy</td>\n",
       "      <td>176</td>\n",
       "      <td>0.870015</td>\n",
       "    </tr>\n",
       "    <tr>\n",
       "      <th>2</th>\n",
       "      <td>Vector</td>\n",
       "      <td>47</td>\n",
       "      <td>0.217409</td>\n",
       "    </tr>\n",
       "    <tr>\n",
       "      <th>3</th>\n",
       "      <td>Business</td>\n",
       "      <td>178</td>\n",
       "      <td>0.253234</td>\n",
       "    </tr>\n",
       "  </tbody>\n",
       "</table>\n",
       "</div>"
      ],
      "text/plain": [
       "   Strategy  Records_with_Matches  Average_Score\n",
       "0     Exact                   166       0.825871\n",
       "1     Fuzzy                   176       0.870015\n",
       "2    Vector                    47       0.217409\n",
       "3  Business                   178       0.253234"
      ]
     },
     "metadata": {},
     "output_type": "display_data"
    },
    {
     "data": {
      "application/vnd.plotly.v1+json": {
       "config": {
        "plotlyServerURL": "https://plot.ly"
       },
       "data": [
        {
         "hovertemplate": "Strategy=%{x}<br>Records with Matches=%{y}<extra></extra>",
         "legendgroup": "",
         "marker": {
          "color": "#636efa",
          "pattern": {
           "shape": ""
          }
         },
         "name": "",
         "orientation": "v",
         "showlegend": false,
         "textposition": "auto",
         "type": "bar",
         "x": [
          "Exact",
          "Fuzzy",
          "Vector",
          "Business"
         ],
         "xaxis": "x",
         "y": {
          "bdata": "pgCwAC8AsgA=",
          "dtype": "i2"
         },
         "yaxis": "y"
        }
       ],
       "layout": {
        "barmode": "relative",
        "legend": {
         "tracegroupgap": 0
        },
        "template": {
         "data": {
          "bar": [
           {
            "error_x": {
             "color": "#2a3f5f"
            },
            "error_y": {
             "color": "#2a3f5f"
            },
            "marker": {
             "line": {
              "color": "#E5ECF6",
              "width": 0.5
             },
             "pattern": {
              "fillmode": "overlay",
              "size": 10,
              "solidity": 0.2
             }
            },
            "type": "bar"
           }
          ],
          "barpolar": [
           {
            "marker": {
             "line": {
              "color": "#E5ECF6",
              "width": 0.5
             },
             "pattern": {
              "fillmode": "overlay",
              "size": 10,
              "solidity": 0.2
             }
            },
            "type": "barpolar"
           }
          ],
          "carpet": [
           {
            "aaxis": {
             "endlinecolor": "#2a3f5f",
             "gridcolor": "white",
             "linecolor": "white",
             "minorgridcolor": "white",
             "startlinecolor": "#2a3f5f"
            },
            "baxis": {
             "endlinecolor": "#2a3f5f",
             "gridcolor": "white",
             "linecolor": "white",
             "minorgridcolor": "white",
             "startlinecolor": "#2a3f5f"
            },
            "type": "carpet"
           }
          ],
          "choropleth": [
           {
            "colorbar": {
             "outlinewidth": 0,
             "ticks": ""
            },
            "type": "choropleth"
           }
          ],
          "contour": [
           {
            "colorbar": {
             "outlinewidth": 0,
             "ticks": ""
            },
            "colorscale": [
             [
              0,
              "#0d0887"
             ],
             [
              0.1111111111111111,
              "#46039f"
             ],
             [
              0.2222222222222222,
              "#7201a8"
             ],
             [
              0.3333333333333333,
              "#9c179e"
             ],
             [
              0.4444444444444444,
              "#bd3786"
             ],
             [
              0.5555555555555556,
              "#d8576b"
             ],
             [
              0.6666666666666666,
              "#ed7953"
             ],
             [
              0.7777777777777778,
              "#fb9f3a"
             ],
             [
              0.8888888888888888,
              "#fdca26"
             ],
             [
              1,
              "#f0f921"
             ]
            ],
            "type": "contour"
           }
          ],
          "contourcarpet": [
           {
            "colorbar": {
             "outlinewidth": 0,
             "ticks": ""
            },
            "type": "contourcarpet"
           }
          ],
          "heatmap": [
           {
            "colorbar": {
             "outlinewidth": 0,
             "ticks": ""
            },
            "colorscale": [
             [
              0,
              "#0d0887"
             ],
             [
              0.1111111111111111,
              "#46039f"
             ],
             [
              0.2222222222222222,
              "#7201a8"
             ],
             [
              0.3333333333333333,
              "#9c179e"
             ],
             [
              0.4444444444444444,
              "#bd3786"
             ],
             [
              0.5555555555555556,
              "#d8576b"
             ],
             [
              0.6666666666666666,
              "#ed7953"
             ],
             [
              0.7777777777777778,
              "#fb9f3a"
             ],
             [
              0.8888888888888888,
              "#fdca26"
             ],
             [
              1,
              "#f0f921"
             ]
            ],
            "type": "heatmap"
           }
          ],
          "histogram": [
           {
            "marker": {
             "pattern": {
              "fillmode": "overlay",
              "size": 10,
              "solidity": 0.2
             }
            },
            "type": "histogram"
           }
          ],
          "histogram2d": [
           {
            "colorbar": {
             "outlinewidth": 0,
             "ticks": ""
            },
            "colorscale": [
             [
              0,
              "#0d0887"
             ],
             [
              0.1111111111111111,
              "#46039f"
             ],
             [
              0.2222222222222222,
              "#7201a8"
             ],
             [
              0.3333333333333333,
              "#9c179e"
             ],
             [
              0.4444444444444444,
              "#bd3786"
             ],
             [
              0.5555555555555556,
              "#d8576b"
             ],
             [
              0.6666666666666666,
              "#ed7953"
             ],
             [
              0.7777777777777778,
              "#fb9f3a"
             ],
             [
              0.8888888888888888,
              "#fdca26"
             ],
             [
              1,
              "#f0f921"
             ]
            ],
            "type": "histogram2d"
           }
          ],
          "histogram2dcontour": [
           {
            "colorbar": {
             "outlinewidth": 0,
             "ticks": ""
            },
            "colorscale": [
             [
              0,
              "#0d0887"
             ],
             [
              0.1111111111111111,
              "#46039f"
             ],
             [
              0.2222222222222222,
              "#7201a8"
             ],
             [
              0.3333333333333333,
              "#9c179e"
             ],
             [
              0.4444444444444444,
              "#bd3786"
             ],
             [
              0.5555555555555556,
              "#d8576b"
             ],
             [
              0.6666666666666666,
              "#ed7953"
             ],
             [
              0.7777777777777778,
              "#fb9f3a"
             ],
             [
              0.8888888888888888,
              "#fdca26"
             ],
             [
              1,
              "#f0f921"
             ]
            ],
            "type": "histogram2dcontour"
           }
          ],
          "mesh3d": [
           {
            "colorbar": {
             "outlinewidth": 0,
             "ticks": ""
            },
            "type": "mesh3d"
           }
          ],
          "parcoords": [
           {
            "line": {
             "colorbar": {
              "outlinewidth": 0,
              "ticks": ""
             }
            },
            "type": "parcoords"
           }
          ],
          "pie": [
           {
            "automargin": true,
            "type": "pie"
           }
          ],
          "scatter": [
           {
            "fillpattern": {
             "fillmode": "overlay",
             "size": 10,
             "solidity": 0.2
            },
            "type": "scatter"
           }
          ],
          "scatter3d": [
           {
            "line": {
             "colorbar": {
              "outlinewidth": 0,
              "ticks": ""
             }
            },
            "marker": {
             "colorbar": {
              "outlinewidth": 0,
              "ticks": ""
             }
            },
            "type": "scatter3d"
           }
          ],
          "scattercarpet": [
           {
            "marker": {
             "colorbar": {
              "outlinewidth": 0,
              "ticks": ""
             }
            },
            "type": "scattercarpet"
           }
          ],
          "scattergeo": [
           {
            "marker": {
             "colorbar": {
              "outlinewidth": 0,
              "ticks": ""
             }
            },
            "type": "scattergeo"
           }
          ],
          "scattergl": [
           {
            "marker": {
             "colorbar": {
              "outlinewidth": 0,
              "ticks": ""
             }
            },
            "type": "scattergl"
           }
          ],
          "scattermap": [
           {
            "marker": {
             "colorbar": {
              "outlinewidth": 0,
              "ticks": ""
             }
            },
            "type": "scattermap"
           }
          ],
          "scattermapbox": [
           {
            "marker": {
             "colorbar": {
              "outlinewidth": 0,
              "ticks": ""
             }
            },
            "type": "scattermapbox"
           }
          ],
          "scatterpolar": [
           {
            "marker": {
             "colorbar": {
              "outlinewidth": 0,
              "ticks": ""
             }
            },
            "type": "scatterpolar"
           }
          ],
          "scatterpolargl": [
           {
            "marker": {
             "colorbar": {
              "outlinewidth": 0,
              "ticks": ""
             }
            },
            "type": "scatterpolargl"
           }
          ],
          "scatterternary": [
           {
            "marker": {
             "colorbar": {
              "outlinewidth": 0,
              "ticks": ""
             }
            },
            "type": "scatterternary"
           }
          ],
          "surface": [
           {
            "colorbar": {
             "outlinewidth": 0,
             "ticks": ""
            },
            "colorscale": [
             [
              0,
              "#0d0887"
             ],
             [
              0.1111111111111111,
              "#46039f"
             ],
             [
              0.2222222222222222,
              "#7201a8"
             ],
             [
              0.3333333333333333,
              "#9c179e"
             ],
             [
              0.4444444444444444,
              "#bd3786"
             ],
             [
              0.5555555555555556,
              "#d8576b"
             ],
             [
              0.6666666666666666,
              "#ed7953"
             ],
             [
              0.7777777777777778,
              "#fb9f3a"
             ],
             [
              0.8888888888888888,
              "#fdca26"
             ],
             [
              1,
              "#f0f921"
             ]
            ],
            "type": "surface"
           }
          ],
          "table": [
           {
            "cells": {
             "fill": {
              "color": "#EBF0F8"
             },
             "line": {
              "color": "white"
             }
            },
            "header": {
             "fill": {
              "color": "#C8D4E3"
             },
             "line": {
              "color": "white"
             }
            },
            "type": "table"
           }
          ]
         },
         "layout": {
          "annotationdefaults": {
           "arrowcolor": "#2a3f5f",
           "arrowhead": 0,
           "arrowwidth": 1
          },
          "autotypenumbers": "strict",
          "coloraxis": {
           "colorbar": {
            "outlinewidth": 0,
            "ticks": ""
           }
          },
          "colorscale": {
           "diverging": [
            [
             0,
             "#8e0152"
            ],
            [
             0.1,
             "#c51b7d"
            ],
            [
             0.2,
             "#de77ae"
            ],
            [
             0.3,
             "#f1b6da"
            ],
            [
             0.4,
             "#fde0ef"
            ],
            [
             0.5,
             "#f7f7f7"
            ],
            [
             0.6,
             "#e6f5d0"
            ],
            [
             0.7,
             "#b8e186"
            ],
            [
             0.8,
             "#7fbc41"
            ],
            [
             0.9,
             "#4d9221"
            ],
            [
             1,
             "#276419"
            ]
           ],
           "sequential": [
            [
             0,
             "#0d0887"
            ],
            [
             0.1111111111111111,
             "#46039f"
            ],
            [
             0.2222222222222222,
             "#7201a8"
            ],
            [
             0.3333333333333333,
             "#9c179e"
            ],
            [
             0.4444444444444444,
             "#bd3786"
            ],
            [
             0.5555555555555556,
             "#d8576b"
            ],
            [
             0.6666666666666666,
             "#ed7953"
            ],
            [
             0.7777777777777778,
             "#fb9f3a"
            ],
            [
             0.8888888888888888,
             "#fdca26"
            ],
            [
             1,
             "#f0f921"
            ]
           ],
           "sequentialminus": [
            [
             0,
             "#0d0887"
            ],
            [
             0.1111111111111111,
             "#46039f"
            ],
            [
             0.2222222222222222,
             "#7201a8"
            ],
            [
             0.3333333333333333,
             "#9c179e"
            ],
            [
             0.4444444444444444,
             "#bd3786"
            ],
            [
             0.5555555555555556,
             "#d8576b"
            ],
            [
             0.6666666666666666,
             "#ed7953"
            ],
            [
             0.7777777777777778,
             "#fb9f3a"
            ],
            [
             0.8888888888888888,
             "#fdca26"
            ],
            [
             1,
             "#f0f921"
            ]
           ]
          },
          "colorway": [
           "#636efa",
           "#EF553B",
           "#00cc96",
           "#ab63fa",
           "#FFA15A",
           "#19d3f3",
           "#FF6692",
           "#B6E880",
           "#FF97FF",
           "#FECB52"
          ],
          "font": {
           "color": "#2a3f5f"
          },
          "geo": {
           "bgcolor": "white",
           "lakecolor": "white",
           "landcolor": "#E5ECF6",
           "showlakes": true,
           "showland": true,
           "subunitcolor": "white"
          },
          "hoverlabel": {
           "align": "left"
          },
          "hovermode": "closest",
          "mapbox": {
           "style": "light"
          },
          "paper_bgcolor": "white",
          "plot_bgcolor": "#E5ECF6",
          "polar": {
           "angularaxis": {
            "gridcolor": "white",
            "linecolor": "white",
            "ticks": ""
           },
           "bgcolor": "#E5ECF6",
           "radialaxis": {
            "gridcolor": "white",
            "linecolor": "white",
            "ticks": ""
           }
          },
          "scene": {
           "xaxis": {
            "backgroundcolor": "#E5ECF6",
            "gridcolor": "white",
            "gridwidth": 2,
            "linecolor": "white",
            "showbackground": true,
            "ticks": "",
            "zerolinecolor": "white"
           },
           "yaxis": {
            "backgroundcolor": "#E5ECF6",
            "gridcolor": "white",
            "gridwidth": 2,
            "linecolor": "white",
            "showbackground": true,
            "ticks": "",
            "zerolinecolor": "white"
           },
           "zaxis": {
            "backgroundcolor": "#E5ECF6",
            "gridcolor": "white",
            "gridwidth": 2,
            "linecolor": "white",
            "showbackground": true,
            "ticks": "",
            "zerolinecolor": "white"
           }
          },
          "shapedefaults": {
           "line": {
            "color": "#2a3f5f"
           }
          },
          "ternary": {
           "aaxis": {
            "gridcolor": "white",
            "linecolor": "white",
            "ticks": ""
           },
           "baxis": {
            "gridcolor": "white",
            "linecolor": "white",
            "ticks": ""
           },
           "bgcolor": "#E5ECF6",
           "caxis": {
            "gridcolor": "white",
            "linecolor": "white",
            "ticks": ""
           }
          },
          "title": {
           "x": 0.05
          },
          "xaxis": {
           "automargin": true,
           "gridcolor": "white",
           "linecolor": "white",
           "ticks": "",
           "title": {
            "standoff": 15
           },
           "zerolinecolor": "white",
           "zerolinewidth": 2
          },
          "yaxis": {
           "automargin": true,
           "gridcolor": "white",
           "linecolor": "white",
           "ticks": "",
           "title": {
            "standoff": 15
           },
           "zerolinecolor": "white",
           "zerolinewidth": 2
          }
         }
        },
        "title": {
         "text": "4-Strategy Matching Effectiveness"
        },
        "xaxis": {
         "anchor": "y",
         "domain": [
          0,
          1
         ],
         "title": {
          "text": "Strategy"
         }
        },
        "yaxis": {
         "anchor": "x",
         "domain": [
          0,
          1
         ],
         "title": {
          "text": "Records with Matches"
         }
        }
       }
      }
     },
     "metadata": {},
     "output_type": "display_data"
    },
    {
     "name": "stdout",
     "output_type": "stream",
     "text": [
      "✅ Strategy analysis complete!\n"
     ]
    }
   ],
   "source": [
    "# Strategy effectiveness analysis\n",
    "print(\"🎯 4-Strategy Effectiveness Analysis:\")\n",
    "\n",
    "strategy_stats = pd.DataFrame({\n",
    "    'Strategy': ['Exact', 'Fuzzy', 'Vector', 'Business'],\n",
    "    'Records_with_Matches': [\n",
    "        (transactions_df['exact_matches'] > 0).sum(),\n",
    "        (transactions_df['fuzzy_matches'] > 0).sum(),\n",
    "        (transactions_df['vector_matches'] > 0).sum(),\n",
    "        (transactions_df['business_matches'] > 0).sum()\n",
    "    ],\n",
    "    'Average_Score': [\n",
    "        transactions_df['exact_score'].mean(),\n",
    "        transactions_df['fuzzy_score'].mean(),\n",
    "        transactions_df['vector_score'].mean(),\n",
    "        transactions_df['business_score'].mean()\n",
    "    ]\n",
    "})\n",
    "\n",
    "display(strategy_stats)\n",
    "\n",
    "# Strategy effectiveness chart\n",
    "fig = px.bar(\n",
    "    strategy_stats,\n",
    "    x='Strategy',\n",
    "    y='Records_with_Matches',\n",
    "    title='4-Strategy Matching Effectiveness',\n",
    "    labels={'Records_with_Matches': 'Records with Matches'}\n",
    ")\n",
    "fig.show()\n",
    "\n",
    "print(\"✅ Strategy analysis complete!\")"
   ]
  },
  {
   "cell_type": "markdown",
   "metadata": {},
   "source": [
    "## 9. Final Golden Record Analysis\n",
    "\n",
    "Analyze the final state of golden records in Spanner."
   ]
  },
  {
   "cell_type": "code",
   "execution_count": 13,
   "metadata": {},
   "outputs": [
    {
     "name": "stdout",
     "output_type": "stream",
     "text": [
      "🏆 Analyzing final golden record state...\n",
      "\n",
      "📊 Final golden entities count: 118\n",
      "\n",
      "🔄 Processing Path Distribution:\n"
     ]
    },
    {
     "data": {
      "text/html": [
       "<div>\n",
       "<style scoped>\n",
       "    .dataframe tbody tr th:only-of-type {\n",
       "        vertical-align: middle;\n",
       "    }\n",
       "\n",
       "    .dataframe tbody tr th {\n",
       "        vertical-align: top;\n",
       "    }\n",
       "\n",
       "    .dataframe thead th {\n",
       "        text-align: right;\n",
       "    }\n",
       "</style>\n",
       "<table border=\"1\" class=\"dataframe\">\n",
       "  <thead>\n",
       "    <tr style=\"text-align: right;\">\n",
       "      <th></th>\n",
       "      <th>processing_path</th>\n",
       "      <th>count</th>\n",
       "    </tr>\n",
       "  </thead>\n",
       "  <tbody>\n",
       "    <tr>\n",
       "      <th>0</th>\n",
       "      <td>batch_migrated</td>\n",
       "      <td>97</td>\n",
       "    </tr>\n",
       "    <tr>\n",
       "      <th>1</th>\n",
       "      <td>stream</td>\n",
       "      <td>18</td>\n",
       "    </tr>\n",
       "    <tr>\n",
       "      <th>2</th>\n",
       "      <td>stream_updated</td>\n",
       "      <td>3</td>\n",
       "    </tr>\n",
       "  </tbody>\n",
       "</table>\n",
       "</div>"
      ],
      "text/plain": [
       "  processing_path  count\n",
       "0  batch_migrated     97\n",
       "1          stream     18\n",
       "2  stream_updated      3"
      ]
     },
     "metadata": {},
     "output_type": "display_data"
    },
    {
     "name": "stdout",
     "output_type": "stream",
     "text": [
      "\n",
      "📈 Source Record Count Distribution:\n"
     ]
    },
    {
     "data": {
      "text/html": [
       "<div>\n",
       "<style scoped>\n",
       "    .dataframe tbody tr th:only-of-type {\n",
       "        vertical-align: middle;\n",
       "    }\n",
       "\n",
       "    .dataframe tbody tr th {\n",
       "        vertical-align: top;\n",
       "    }\n",
       "\n",
       "    .dataframe thead th {\n",
       "        text-align: right;\n",
       "    }\n",
       "</style>\n",
       "<table border=\"1\" class=\"dataframe\">\n",
       "  <thead>\n",
       "    <tr style=\"text-align: right;\">\n",
       "      <th></th>\n",
       "      <th>source_record_count</th>\n",
       "      <th>entities</th>\n",
       "    </tr>\n",
       "  </thead>\n",
       "  <tbody>\n",
       "    <tr>\n",
       "      <th>0</th>\n",
       "      <td>1</td>\n",
       "      <td>12</td>\n",
       "    </tr>\n",
       "    <tr>\n",
       "      <th>1</th>\n",
       "      <td>2</td>\n",
       "      <td>25</td>\n",
       "    </tr>\n",
       "    <tr>\n",
       "      <th>2</th>\n",
       "      <td>3</td>\n",
       "      <td>38</td>\n",
       "    </tr>\n",
       "    <tr>\n",
       "      <th>3</th>\n",
       "      <td>4</td>\n",
       "      <td>28</td>\n",
       "    </tr>\n",
       "    <tr>\n",
       "      <th>4</th>\n",
       "      <td>5</td>\n",
       "      <td>11</td>\n",
       "    </tr>\n",
       "    <tr>\n",
       "      <th>5</th>\n",
       "      <td>6</td>\n",
       "      <td>1</td>\n",
       "    </tr>\n",
       "    <tr>\n",
       "      <th>6</th>\n",
       "      <td>7</td>\n",
       "      <td>1</td>\n",
       "    </tr>\n",
       "    <tr>\n",
       "      <th>7</th>\n",
       "      <td>8</td>\n",
       "      <td>1</td>\n",
       "    </tr>\n",
       "    <tr>\n",
       "      <th>8</th>\n",
       "      <td>20</td>\n",
       "      <td>1</td>\n",
       "    </tr>\n",
       "  </tbody>\n",
       "</table>\n",
       "</div>"
      ],
      "text/plain": [
       "   source_record_count  entities\n",
       "0                    1        12\n",
       "1                    2        25\n",
       "2                    3        38\n",
       "3                    4        28\n",
       "4                    5        11\n",
       "5                    6         1\n",
       "6                    7         1\n",
       "7                    8         1\n",
       "8                   20         1"
      ]
     },
     "metadata": {},
     "output_type": "display_data"
    },
    {
     "name": "stdout",
     "output_type": "stream",
     "text": [
      "\n",
      "🔄 Sample Updated Records (Streaming):\n"
     ]
    },
    {
     "data": {
      "text/html": [
       "<div>\n",
       "<style scoped>\n",
       "    .dataframe tbody tr th:only-of-type {\n",
       "        vertical-align: middle;\n",
       "    }\n",
       "\n",
       "    .dataframe tbody tr th {\n",
       "        vertical-align: top;\n",
       "    }\n",
       "\n",
       "    .dataframe thead th {\n",
       "        text-align: right;\n",
       "    }\n",
       "</style>\n",
       "<table border=\"1\" class=\"dataframe\">\n",
       "  <thead>\n",
       "    <tr style=\"text-align: right;\">\n",
       "      <th></th>\n",
       "      <th>entity_id</th>\n",
       "      <th>master_name</th>\n",
       "      <th>master_email</th>\n",
       "      <th>source_count</th>\n",
       "      <th>path</th>\n",
       "      <th>updated_at</th>\n",
       "    </tr>\n",
       "  </thead>\n",
       "  <tbody>\n",
       "    <tr>\n",
       "      <th>0</th>\n",
       "      <td>78aedcf43f85e0d58c1d5bc6ed655c5c72cc</td>\n",
       "      <td>JENNY LEE</td>\n",
       "      <td>nicholas99@example.org</td>\n",
       "      <td>1</td>\n",
       "      <td>stream</td>\n",
       "      <td>2025-09-24 03:19:42.576113+00:00</td>\n",
       "    </tr>\n",
       "    <tr>\n",
       "      <th>1</th>\n",
       "      <td>9f509945f326e6e2cab3d7ce818017880ae9</td>\n",
       "      <td>MICHELLE ANDERSON</td>\n",
       "      <td>kristy39@example.com</td>\n",
       "      <td>2</td>\n",
       "      <td>stream</td>\n",
       "      <td>2025-09-24 03:19:40.164469+00:00</td>\n",
       "    </tr>\n",
       "    <tr>\n",
       "      <th>2</th>\n",
       "      <td>306af1c38098323935481f1186d41abaef25</td>\n",
       "      <td>THOMAS SANTOS</td>\n",
       "      <td>manuel01@example.net</td>\n",
       "      <td>1</td>\n",
       "      <td>stream</td>\n",
       "      <td>2025-09-24 03:19:35.344794+00:00</td>\n",
       "    </tr>\n",
       "    <tr>\n",
       "      <th>3</th>\n",
       "      <td>891debdeb1f249d42145585b1f705ee78158</td>\n",
       "      <td>PATRICIA BUSH</td>\n",
       "      <td>kdunlap@example.net</td>\n",
       "      <td>2</td>\n",
       "      <td>stream</td>\n",
       "      <td>2025-09-24 03:19:32.935288+00:00</td>\n",
       "    </tr>\n",
       "    <tr>\n",
       "      <th>4</th>\n",
       "      <td>047db959202c14e4e60d5db53b947b7f910e</td>\n",
       "      <td>VANESSA REED</td>\n",
       "      <td>xanderson@example.net</td>\n",
       "      <td>2</td>\n",
       "      <td>stream</td>\n",
       "      <td>2025-09-24 03:19:21.067182+00:00</td>\n",
       "    </tr>\n",
       "    <tr>\n",
       "      <th>5</th>\n",
       "      <td>232c567def005c8373f6c1b1df8628c22df1</td>\n",
       "      <td>DEBORAH KERR</td>\n",
       "      <td>charlesmartin@example.com</td>\n",
       "      <td>1</td>\n",
       "      <td>stream</td>\n",
       "      <td>2025-09-24 03:19:08.773526+00:00</td>\n",
       "    </tr>\n",
       "    <tr>\n",
       "      <th>6</th>\n",
       "      <td>445da1f6d8a5b2196bc1be28b6b4c8a417ee</td>\n",
       "      <td>ELAINE NELSON</td>\n",
       "      <td>robertroach@example.net</td>\n",
       "      <td>2</td>\n",
       "      <td>stream</td>\n",
       "      <td>2025-09-24 03:19:03.938260+00:00</td>\n",
       "    </tr>\n",
       "    <tr>\n",
       "      <th>7</th>\n",
       "      <td>f9a7f8f136e1c9ffed2f2997959cb8ad337b</td>\n",
       "      <td>KAREN PARRISH</td>\n",
       "      <td>schmittcaroline@example.com</td>\n",
       "      <td>1</td>\n",
       "      <td>stream</td>\n",
       "      <td>2025-09-24 03:18:59.109269+00:00</td>\n",
       "    </tr>\n",
       "    <tr>\n",
       "      <th>8</th>\n",
       "      <td>396e0b92a221683bdd0981c1661d31debc27</td>\n",
       "      <td>LISA SAWYER</td>\n",
       "      <td>michael56@example.net</td>\n",
       "      <td>1</td>\n",
       "      <td>stream</td>\n",
       "      <td>2025-09-24 03:18:37.669700+00:00</td>\n",
       "    </tr>\n",
       "    <tr>\n",
       "      <th>9</th>\n",
       "      <td>7f4948ec74d1acdcc9093fd4509d6ffedf38</td>\n",
       "      <td>JAMES BROOKS</td>\n",
       "      <td>amberosborne@example.net</td>\n",
       "      <td>2</td>\n",
       "      <td>stream</td>\n",
       "      <td>2025-09-24 03:18:35.252661+00:00</td>\n",
       "    </tr>\n",
       "  </tbody>\n",
       "</table>\n",
       "</div>"
      ],
      "text/plain": [
       "                              entity_id        master_name  \\\n",
       "0  78aedcf43f85e0d58c1d5bc6ed655c5c72cc          JENNY LEE   \n",
       "1  9f509945f326e6e2cab3d7ce818017880ae9  MICHELLE ANDERSON   \n",
       "2  306af1c38098323935481f1186d41abaef25      THOMAS SANTOS   \n",
       "3  891debdeb1f249d42145585b1f705ee78158      PATRICIA BUSH   \n",
       "4  047db959202c14e4e60d5db53b947b7f910e       VANESSA REED   \n",
       "5  232c567def005c8373f6c1b1df8628c22df1       DEBORAH KERR   \n",
       "6  445da1f6d8a5b2196bc1be28b6b4c8a417ee      ELAINE NELSON   \n",
       "7  f9a7f8f136e1c9ffed2f2997959cb8ad337b      KAREN PARRISH   \n",
       "8  396e0b92a221683bdd0981c1661d31debc27        LISA SAWYER   \n",
       "9  7f4948ec74d1acdcc9093fd4509d6ffedf38       JAMES BROOKS   \n",
       "\n",
       "                  master_email  source_count    path  \\\n",
       "0       nicholas99@example.org             1  stream   \n",
       "1         kristy39@example.com             2  stream   \n",
       "2         manuel01@example.net             1  stream   \n",
       "3          kdunlap@example.net             2  stream   \n",
       "4        xanderson@example.net             2  stream   \n",
       "5    charlesmartin@example.com             1  stream   \n",
       "6      robertroach@example.net             2  stream   \n",
       "7  schmittcaroline@example.com             1  stream   \n",
       "8        michael56@example.net             1  stream   \n",
       "9     amberosborne@example.net             2  stream   \n",
       "\n",
       "                        updated_at  \n",
       "0 2025-09-24 03:19:42.576113+00:00  \n",
       "1 2025-09-24 03:19:40.164469+00:00  \n",
       "2 2025-09-24 03:19:35.344794+00:00  \n",
       "3 2025-09-24 03:19:32.935288+00:00  \n",
       "4 2025-09-24 03:19:21.067182+00:00  \n",
       "5 2025-09-24 03:19:08.773526+00:00  \n",
       "6 2025-09-24 03:19:03.938260+00:00  \n",
       "7 2025-09-24 03:18:59.109269+00:00  \n",
       "8 2025-09-24 03:18:37.669700+00:00  \n",
       "9 2025-09-24 03:18:35.252661+00:00  "
      ]
     },
     "metadata": {},
     "output_type": "display_data"
    },
    {
     "name": "stdout",
     "output_type": "stream",
     "text": [
      "\n",
      "✅ Golden record analysis complete!\n"
     ]
    }
   ],
   "source": [
    "print(\"🏆 Analyzing final golden record state...\")\n",
    "\n",
    "# Get final golden record count\n",
    "final_count = spanner_helper.get_table_count(\"golden_entities\")\n",
    "print(f\"\\n📊 Final golden entities count: {final_count}\")\n",
    "\n",
    "# Analyze processing paths\n",
    "path_query = \"\"\"\n",
    "SELECT processing_path, COUNT(*) as count\n",
    "FROM golden_entities\n",
    "GROUP BY processing_path\n",
    "ORDER BY count DESC\n",
    "\"\"\"\n",
    "\n",
    "path_df = spanner_helper.execute_sql(path_query)\n",
    "if not path_df.empty:\n",
    "    path_df.columns = ['processing_path', 'count']\n",
    "    print(\"\\n🔄 Processing Path Distribution:\")\n",
    "    display(path_df)\n",
    "\n",
    "# Analyze source record counts\n",
    "source_query = \"\"\"\n",
    "SELECT source_record_count, COUNT(*) as entities\n",
    "FROM golden_entities\n",
    "GROUP BY source_record_count\n",
    "ORDER BY source_record_count\n",
    "\"\"\"\n",
    "\n",
    "source_df = spanner_helper.execute_sql(source_query)\n",
    "if not source_df.empty:\n",
    "    source_df.columns = ['source_record_count', 'entities']\n",
    "    print(\"\\n📈 Source Record Count Distribution:\")\n",
    "    display(source_df)\n",
    "\n",
    "# Show sample updated records\n",
    "updated_query = \"\"\"\n",
    "SELECT entity_id, master_name, master_email, source_record_count,\n",
    "       processing_path, updated_at\n",
    "FROM golden_entities\n",
    "WHERE processing_path = 'stream'\n",
    "ORDER BY updated_at DESC\n",
    "LIMIT 10\n",
    "\"\"\"\n",
    "\n",
    "updated_df = spanner_helper.execute_sql(updated_query)\n",
    "if not updated_df.empty:\n",
    "    updated_df.columns = ['entity_id', 'master_name',\n",
    "                          'master_email', 'source_count', 'path', 'updated_at']\n",
    "    print(\"\\n🔄 Sample Updated Records (Streaming):\")\n",
    "    display(updated_df)\n",
    "\n",
    "print(\"\\n✅ Golden record analysis complete!\")"
   ]
  },
  {
   "cell_type": "markdown",
   "metadata": {},
   "source": [
    "## 10. Performance Metrics and Summary\n",
    "\n",
    "Calculate key performance indicators for the 4-strategy streaming MDM pipeline."
   ]
  },
  {
   "cell_type": "code",
   "execution_count": 14,
   "metadata": {},
   "outputs": [
    {
     "name": "stdout",
     "output_type": "stream",
     "text": [
      "📈 Calculating 4-Strategy Streaming MDM Performance Metrics...\n",
      "\n",
      "📊 Pipeline Statistics:\n",
      "  Initial golden records (from BigQuery): 100\n",
      "  Streaming records processed: 100\n",
      "  Final golden records: 118\n",
      "  Net new entities created: 18\n",
      "  Entity consolidation rate: 82.0%\n",
      "\n",
      "⚡ Performance Metrics:\n",
      "  Average processing time: 1967ms\n",
      "  Sub-second guarantee: 0/201 (0.0%)\n",
      "  Target <400ms: 0/201 (0.0%)\n",
      "\n",
      "🎯 4-Strategy Matching Results:\n",
      "  Auto-merge rate: 28/100 (28.0%)\n",
      "  New entity rate: 41/100 (41.0%)\n",
      "  Average confidence score: 0.607\n",
      "\n",
      "✅ Performance analysis complete!\n"
     ]
    }
   ],
   "source": [
    "print(\"📈 Calculating 4-Strategy Streaming MDM Performance Metrics...\")\n",
    "\n",
    "# Overall pipeline statistics\n",
    "initial_golden_count = golden_count if 'golden_count' in locals() else 0\n",
    "final_golden_count = spanner_helper.get_table_count(\"golden_entities\")\n",
    "new_entities_created = final_golden_count - initial_golden_count\n",
    "\n",
    "print(f\"\\n📊 Pipeline Statistics:\")\n",
    "print(f\"  Initial golden records (from BigQuery): {initial_golden_count}\")\n",
    "print(f\"  Streaming records processed: {NUM_STREAMING_RECORDS}\")\n",
    "print(f\"  Final golden records: {final_golden_count}\")\n",
    "print(f\"  Net new entities created: {new_entities_created}\")\n",
    "print(\n",
    "    f\"  Entity consolidation rate: {((NUM_STREAMING_RECORDS - new_entities_created) / NUM_STREAMING_RECORDS * 100):.1f}%\")\n",
    "\n",
    "# Performance metrics from transactions\n",
    "if 'transactions_df' in locals() and not transactions_df.empty:\n",
    "    print(f\"\\n⚡ Performance Metrics:\")\n",
    "    print(\n",
    "        f\"  Average processing time: {transactions_df['processing_time_ms'].mean():.0f}ms\")\n",
    "    print(\n",
    "        f\"  Sub-second guarantee: {(transactions_df['processing_time_ms'] < 1000).sum()}/{len(transactions_df)} ({(transactions_df['processing_time_ms'] < 1000).mean()*100:.1f}%)\")\n",
    "    print(\n",
    "        f\"  Target <400ms: {(transactions_df['processing_time_ms'] < 400).sum()}/{len(transactions_df)} ({(transactions_df['processing_time_ms'] < 400).mean()*100:.1f}%)\")\n",
    "\n",
    "    print(f\"\\n🎯 4-Strategy Matching Results:\")\n",
    "    print(\n",
    "        f\"  Auto-merge rate: {action_counts.get('AUTO_MERGE', 0)}/{NUM_STREAMING_RECORDS} ({action_counts.get('AUTO_MERGE', 0)/NUM_STREAMING_RECORDS*100:.1f}%)\")\n",
    "    print(\n",
    "        f\"  New entity rate: {action_counts.get('CREATE_NEW', 0)}/{NUM_STREAMING_RECORDS} ({action_counts.get('CREATE_NEW', 0)/NUM_STREAMING_RECORDS*100:.1f}%)\")\n",
    "    print(\n",
    "        f\"  Average confidence score: {transactions_df['combined_score'].mean():.3f}\")\n",
    "\n",
    "print(\"\\n✅ Performance analysis complete!\")"
   ]
  },
  {
   "cell_type": "markdown",
   "metadata": {},
   "source": [
    "## 11. Cleanup and Cost Management\n",
    "\n",
    "Optional cleanup to avoid ongoing Spanner charges."
   ]
  },
  {
   "cell_type": "code",
   "execution_count": 15,
   "metadata": {},
   "outputs": [
    {
     "name": "stdout",
     "output_type": "stream",
     "text": [
      "🧹 Demo Cleanup Options:\n",
      "==================================================\n",
      "💰 Current Spanner instance: mdm-streaming-demo\n",
      "📊 Processing units: 100 (regional)\n",
      "🗃️ Database: mdm_streaming\n",
      "\n",
      "⚠️ To avoid ongoing charges, you can delete the Spanner instance:\n",
      "   gcloud spanner instances delete mdm-streaming-demo --quiet\n",
      "\n",
      "💡 The BigQuery golden records remain unchanged for future use.\n",
      "✅ Streaming MDM demo completed successfully!\n"
     ]
    }
   ],
   "source": [
    "print(\"🧹 Demo Cleanup Options:\")\n",
    "print(\"=\" * 50)\n",
    "print(f\"💰 Current Spanner instance: {INSTANCE_ID}\")\n",
    "print(f\"📊 Processing units: 100 (regional)\")\n",
    "print(f\"🗃️ Database: {DATABASE_ID}\")\n",
    "print()\n",
    "print(\"⚠️ To avoid ongoing charges, you can delete the Spanner instance:\")\n",
    "print(f\"   gcloud spanner instances delete {INSTANCE_ID} --quiet\")\n",
    "print()\n",
    "print(\"💡 The BigQuery golden records remain unchanged for future use.\")\n",
    "print(\"✅ Streaming MDM demo completed successfully!\")"
   ]
  }
 ],
 "metadata": {
  "kernelspec": {
   "display_name": ".venv",
   "language": "python",
   "name": "python3"
  },
  "language_info": {
   "codemirror_mode": {
    "name": "ipython",
    "version": 3
   },
   "file_extension": ".py",
   "mimetype": "text/x-python",
   "name": "python",
   "nbconvert_exporter": "python",
   "pygments_lexer": "ipython3",
   "version": "3.12.11"
  }
 },
 "nbformat": 4,
 "nbformat_minor": 4
}
