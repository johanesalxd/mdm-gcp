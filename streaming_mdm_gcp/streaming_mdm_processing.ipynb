{
 "cells": [
  {
   "cell_type": "markdown",
   "metadata": {},
   "source": [
    "# Master Data Management (MDM) - Spanner Native Streaming Processing\n",
    "\n",
    "This notebook demonstrates a complete end-to-end streaming Master Data Management pipeline using Spanner's native capabilities:\n",
    "\n",
    "- **Golden Record Bootstrap**: Load existing golden records from BigQuery batch processing\n",
    "- **Spanner Infrastructure**: Set up minimal Spanner instance for real-time processing\n",
    "- **Data Migration**: Transfer golden records to Spanner for real-time matching\n",
    "- **Streaming Data Generation**: Create 100 new customer records for processing\n",
    "- **4-Way Real-time Matching**: Exact, fuzzy, vector, and business rules matching\n",
    "- **Synchronous Processing**: Sub-second processing with immediate feedback\n",
    "- **Golden Record Updates**: Apply survivorship rules and update master entities\n",
    "- **Live Performance Tracking**: Real-time metrics and Spanner transaction logging\n",
    "\n",
    "## Architecture Overview\n",
    "\n",
    "This implementation demonstrates **Traditional 4-Way Matching** for streaming MDM:\n",
    "\n",
    "### 🎯 **Traditional 4-Way Streaming Flow**\n",
    "1. **BigQuery Golden Records** → **Spanner Migration** (with embeddings)\n",
    "2. **New Streaming Record** → **4-Way Matching Process**\n",
    "3. **Exact Matching** → **Email/Phone Index Lookups**\n",
    "4. **Fuzzy Matching** → **Name/Address Similarity**\n",
    "5. **Vector Matching** → **Existing Embeddings Search**\n",
    "6. **Business Rules** → **Company/Location Logic**\n",
    "7. **Score Combination** → **Weighted Decision**\n",
    "8. **Golden Record Updates** → **Spanner Transaction Logging**\n",
    "\n",
    "\n",
    "### 🚧 **Current Vector Matching Limitation**\n",
    "\n",
    "**Important**: This demo has a vector matching gap that affects the 4-way strategy:\n",
    "\n",
    "- ✅ **Exact Matching**: Fully operational (email/phone indexes)\n",
    "- ✅ **Fuzzy Matching**: Fully operational (name/address similarity)  \n",
    "- 🚧 **Vector Matching**: **Architecturally supported but operationally limited**\n",
    "- ✅ **Business Rules**: Fully operational (company/location logic)\n",
    "\n",
    "**Root Cause**: New streaming records arrive without embeddings, and the system doesn't generate them in real-time.\n",
    "\n",
    "**Current Behavior**: Vector matching always returns empty (contributes 0.0 to combined score).\n",
    "\n",
    "**Roadmap**: Full 4-way matching will be enabled when Vertex AI integration is added for real-time embedding generation (+200-500ms latency cost).\n",
    "\n",
    "\n",
    "### 🎯 **Consistent Processing Approach**\n",
    "- **All Records**: Run all 4 strategies for comprehensive matching\n",
    "- **Vector Search**: Uses existing embeddings only (no generation)\n",
    "- **Performance**: Optimized for sub-400ms processing per record"
   ]
  },
  {
   "cell_type": "markdown",
   "metadata": {},
   "source": [
    "## 1. Setup and Configuration"
   ]
  },
  {
   "cell_type": "code",
   "execution_count": 1,
   "metadata": {},
   "outputs": [
    {
     "name": "stdout",
     "output_type": "stream",
     "text": [
      "✅ Libraries imported successfully\n"
     ]
    }
   ],
   "source": [
    "# Import required libraries\n",
    "import warnings\n",
    "from datetime import datetime\n",
    "import time\n",
    "from plotly.subplots import make_subplots\n",
    "import plotly.graph_objects as go\n",
    "import plotly.express as px\n",
    "import seaborn as sns\n",
    "import matplotlib.pyplot as plt\n",
    "import pandas as pd\n",
    "from batch_mdm_gcp.data_generator import MDMDataGenerator\n",
    "from batch_mdm_gcp.bigquery_utils import BigQueryMDMHelper\n",
    "from spanner_utils import SpannerMDMHelper\n",
    "from streaming_processor import StreamingMDMProcessor\n",
    "import sys\n",
    "import os\n",
    "import random\n",
    "\n",
    "sys.path.append('..')\n",
    "warnings.filterwarnings('ignore')\n",
    "\n",
    "# Set display options\n",
    "pd.set_option('display.max_columns', None)\n",
    "pd.set_option('display.width', None)\n",
    "plt.style.use('seaborn-v0_8')\n",
    "sns.set_palette(\"husl\")\n",
    "\n",
    "print(\"✅ Libraries imported successfully\")"
   ]
  },
  {
   "cell_type": "code",
   "execution_count": 2,
   "metadata": {},
   "outputs": [
    {
     "name": "stdout",
     "output_type": "stream",
     "text": [
      "📋 Configuration loaded:\n",
      "  Target records: 100\n",
      "  Target latency: <400ms\n",
      "  Auto-merge threshold: ≥0.8\n",
      "  Create new threshold: <0.6\n"
     ]
    }
   ],
   "source": [
    "# =============================================================================\n",
    "# CONFIGURATION CONSTANTS - Centralized Settings\n",
    "# =============================================================================\n",
    "\n",
    "# GCP Configuration\n",
    "PROJECT_ID = \"your-project-id\"  # Replace with your GCP project ID\n",
    "DATASET_ID = \"mdm_demo\"  # BigQuery dataset (from batch processing)\n",
    "INSTANCE_ID = \"mdm-streaming-demo\"  # Spanner instance\n",
    "DATABASE_ID = \"mdm_streaming\"  # Spanner database\n",
    "LOCATION = \"US\"\n",
    "\n",
    "# Processing Configuration\n",
    "NUM_STREAMING_RECORDS = 100\n",
    "PROCESSING_DELAY_SEC = 0.1  # 10 record per second for demo\n",
    "TARGET_LATENCY_MS = 400  # Target processing time per record\n",
    "\n",
    "# Decision Thresholds\n",
    "AUTO_MERGE_THRESHOLD = 0.8\n",
    "CREATE_NEW_THRESHOLD = 0.6\n",
    "\n",
    "print(\"📋 Configuration loaded:\")\n",
    "print(f\"  Target records: {NUM_STREAMING_RECORDS}\")\n",
    "print(f\"  Target latency: <{TARGET_LATENCY_MS}ms\")\n",
    "print(f\"  Auto-merge threshold: ≥{AUTO_MERGE_THRESHOLD}\")\n",
    "print(f\"  Create new threshold: <{CREATE_NEW_THRESHOLD}\")"
   ]
  },
  {
   "cell_type": "code",
   "execution_count": 3,
   "metadata": {},
   "outputs": [
    {
     "name": "stdout",
     "output_type": "stream",
     "text": [
      "✅ Connected to BigQuery project: johanesa-playground-326616\n",
      "📊 BigQuery dataset: johanesa-playground-326616.mdm_demo\n",
      "✅ Connected to Spanner project: johanesa-playground-326616\n",
      "🗃️ Spanner instance: mdm-streaming-demo\n",
      "🗃️ Spanner database: mdm_streaming\n"
     ]
    }
   ],
   "source": [
    "# Initialize helpers\n",
    "try:\n",
    "    # BigQuery helper (for loading golden records)\n",
    "    bq_helper = BigQueryMDMHelper(PROJECT_ID, DATASET_ID)\n",
    "    print(f\"✅ Connected to BigQuery project: {PROJECT_ID}\")\n",
    "    print(f\"📊 BigQuery dataset: {bq_helper.dataset_ref}\")\n",
    "\n",
    "    # Spanner helper (for streaming processing)\n",
    "    spanner_helper = SpannerMDMHelper(PROJECT_ID, INSTANCE_ID, DATABASE_ID)\n",
    "    print(f\"✅ Connected to Spanner project: {PROJECT_ID}\")\n",
    "    print(f\"🗃️ Spanner instance: {INSTANCE_ID}\")\n",
    "    print(f\"🗃️ Spanner database: {DATABASE_ID}\")\n",
    "\n",
    "except Exception as e:\n",
    "    print(f\"❌ Error connecting: {e}\")\n",
    "    print(\"Please ensure you have:\")\n",
    "    print(\"1. Set up Google Cloud authentication\")\n",
    "    print(\"2. Enabled BigQuery and Spanner APIs\")\n",
    "    print(\"3. Updated PROJECT_ID above\")"
   ]
  },
  {
   "cell_type": "markdown",
   "metadata": {},
   "source": [
    "## 2. Helper Functions"
   ]
  },
  {
   "cell_type": "code",
   "execution_count": 4,
   "metadata": {},
   "outputs": [
    {
     "name": "stdout",
     "output_type": "stream",
     "text": [
      "✅ Helper functions defined\n"
     ]
    }
   ],
   "source": [
    "def update_statistics(result, action_counts, confidence_counts):\n",
    "    \"\"\"Update running statistics with current result.\"\"\"\n",
    "    action = result.get('action', 'ERROR')\n",
    "    confidence = result.get('confidence', 'LOW')\n",
    "\n",
    "    action_counts[action] = action_counts.get(action, 0) + 1\n",
    "    confidence_counts[confidence] = confidence_counts.get(confidence, 0) + 1\n",
    "\n",
    "\n",
    "print(\"✅ Helper functions defined\")"
   ]
  },
  {
   "cell_type": "markdown",
   "metadata": {},
   "source": [
    "## 3. Spanner Infrastructure Setup\n",
    "\n",
    "Create minimal Spanner infrastructure for the streaming demo."
   ]
  },
  {
   "cell_type": "code",
   "execution_count": 5,
   "metadata": {},
   "outputs": [
    {
     "name": "stdout",
     "output_type": "stream",
     "text": [
      "🔄 Setting up Spanner infrastructure...\n",
      "⚠️ Remember to delete the instance after demo to avoid charges\n",
      "\n",
      "  ✅ Instance mdm-streaming-demo already exists\n",
      "  ✅ Database mdm_streaming already exists\n",
      "  🔄 Checking schema status...\n"
     ]
    },
    {
     "name": "stderr",
     "output_type": "stream",
     "text": [
      "Created multiplexed session.\n"
     ]
    },
    {
     "name": "stdout",
     "output_type": "stream",
     "text": [
      "  ✅ Schema exists and ready (fast path)\n",
      "  ✅ Vector index already exists\n",
      "\n",
      "✅ Spanner infrastructure ready!\n",
      "📊 Instance: mdm-streaming-demo (100 processing units)\n",
      "🗃️ Database: mdm_streaming\n",
      "📋 Schema: golden_entities, match_results tables created\n"
     ]
    }
   ],
   "source": [
    "print(\"🔄 Setting up Spanner infrastructure...\")\n",
    "print(\"⚠️ Remember to delete the instance after demo to avoid charges\")\n",
    "print()\n",
    "\n",
    "try:\n",
    "    # Create Spanner instance (minimal configuration)\n",
    "    spanner_helper.create_instance_if_needed(processing_units=100)\n",
    "\n",
    "    # Create database\n",
    "    spanner_helper.create_database_if_needed()\n",
    "\n",
    "    # Create schema (aligned with BigQuery golden_records)\n",
    "    spanner_helper.create_or_replace_schema()\n",
    "\n",
    "    print(\"\\n✅ Spanner infrastructure ready!\")\n",
    "    print(f\"📊 Instance: {INSTANCE_ID} (100 processing units)\")\n",
    "    print(f\"🗃️ Database: {DATABASE_ID}\")\n",
    "    print(f\"📋 Schema: golden_entities, match_results tables created\")\n",
    "\n",
    "except Exception as e:\n",
    "    print(f\"❌ Error setting up Spanner infrastructure: {e}\")\n",
    "    print(\"Please check your GCP permissions and try again.\")"
   ]
  },
  {
   "cell_type": "markdown",
   "metadata": {},
   "source": [
    "## 4. Load Golden Records from BigQuery\n",
    "\n",
    "Bootstrap the streaming system with existing golden records from batch processing."
   ]
  },
  {
   "cell_type": "code",
   "execution_count": 6,
   "metadata": {},
   "outputs": [
    {
     "name": "stdout",
     "output_type": "stream",
     "text": [
      "🔄 Loading golden records from BigQuery batch processing...\n",
      "  🔄 Loading golden records from BigQuery...\n",
      "  🗑️ Cleared table: golden_entities\n",
      "  ✅ Loaded 100 golden records from BigQuery\n",
      "\n",
      "✅ Successfully migrated 100 golden records to Spanner\n",
      "📊 Current golden entities in Spanner: 100\n",
      "\n",
      "🔍 Sample Golden Records in Spanner:\n"
     ]
    },
    {
     "data": {
      "text/html": [
       "<div>\n",
       "<style scoped>\n",
       "    .dataframe tbody tr th:only-of-type {\n",
       "        vertical-align: middle;\n",
       "    }\n",
       "\n",
       "    .dataframe tbody tr th {\n",
       "        vertical-align: top;\n",
       "    }\n",
       "\n",
       "    .dataframe thead th {\n",
       "        text-align: right;\n",
       "    }\n",
       "</style>\n",
       "<table border=\"1\" class=\"dataframe\">\n",
       "  <thead>\n",
       "    <tr style=\"text-align: right;\">\n",
       "      <th></th>\n",
       "      <th>entity_id</th>\n",
       "      <th>master_name</th>\n",
       "      <th>master_email</th>\n",
       "      <th>master_phone</th>\n",
       "      <th>source_count</th>\n",
       "      <th>path</th>\n",
       "    </tr>\n",
       "  </thead>\n",
       "  <tbody>\n",
       "    <tr>\n",
       "      <th>0</th>\n",
       "      <td>0284c4456f5ecfa6b768f23eb98d6f0f694b</td>\n",
       "      <td>JAMES HORTON</td>\n",
       "      <td>jross@example.net</td>\n",
       "      <td>001901463</td>\n",
       "      <td>2</td>\n",
       "      <td>batch_migrated</td>\n",
       "    </tr>\n",
       "    <tr>\n",
       "      <th>1</th>\n",
       "      <td>0337d5978aa00c9cc65779d8e410d858387d</td>\n",
       "      <td>LAUREN BYRD</td>\n",
       "      <td>davidtodd@outlook.com</td>\n",
       "      <td>433620616</td>\n",
       "      <td>3</td>\n",
       "      <td>batch_migrated</td>\n",
       "    </tr>\n",
       "    <tr>\n",
       "      <th>2</th>\n",
       "      <td>064acc1718b073764e63539db2e41fe84351</td>\n",
       "      <td>SHAUNXJONES</td>\n",
       "      <td>patrickdarin@example.com</td>\n",
       "      <td>18124382</td>\n",
       "      <td>4</td>\n",
       "      <td>batch_migrated</td>\n",
       "    </tr>\n",
       "    <tr>\n",
       "      <th>3</th>\n",
       "      <td>07a2038841964b97649af78fea800ebcb29c</td>\n",
       "      <td>DAVID WALKER</td>\n",
       "      <td>andrew83@outlook.com</td>\n",
       "      <td>5016031051</td>\n",
       "      <td>3</td>\n",
       "      <td>batch_migrated</td>\n",
       "    </tr>\n",
       "    <tr>\n",
       "      <th>4</th>\n",
       "      <td>0894b8e347814bdbb43518d52da1f72e0cd4</td>\n",
       "      <td>ANTHONY VAUGHAN</td>\n",
       "      <td>leescott@example.com</td>\n",
       "      <td>563768970</td>\n",
       "      <td>3</td>\n",
       "      <td>batch_migrated</td>\n",
       "    </tr>\n",
       "  </tbody>\n",
       "</table>\n",
       "</div>"
      ],
      "text/plain": [
       "                              entity_id      master_name  \\\n",
       "0  0284c4456f5ecfa6b768f23eb98d6f0f694b     JAMES HORTON   \n",
       "1  0337d5978aa00c9cc65779d8e410d858387d      LAUREN BYRD   \n",
       "2  064acc1718b073764e63539db2e41fe84351      SHAUNXJONES   \n",
       "3  07a2038841964b97649af78fea800ebcb29c     DAVID WALKER   \n",
       "4  0894b8e347814bdbb43518d52da1f72e0cd4  ANTHONY VAUGHAN   \n",
       "\n",
       "               master_email master_phone  source_count            path  \n",
       "0         jross@example.net    001901463             2  batch_migrated  \n",
       "1     davidtodd@outlook.com    433620616             3  batch_migrated  \n",
       "2  patrickdarin@example.com     18124382             4  batch_migrated  \n",
       "3      andrew83@outlook.com   5016031051             3  batch_migrated  \n",
       "4      leescott@example.com    563768970             3  batch_migrated  "
      ]
     },
     "metadata": {},
     "output_type": "display_data"
    }
   ],
   "source": [
    "print(\"🔄 Loading golden records from BigQuery batch processing...\")\n",
    "\n",
    "try:\n",
    "    # Load golden records from BigQuery\n",
    "    golden_count = spanner_helper.load_golden_records_from_bigquery(bq_helper)\n",
    "\n",
    "    if golden_count > 0:\n",
    "        print(\n",
    "            f\"\\n✅ Successfully migrated {golden_count} golden records to Spanner\")\n",
    "\n",
    "        # Verify the migration\n",
    "        current_count = spanner_helper.get_table_count(\"golden_entities\")\n",
    "        print(f\"📊 Current golden entities in Spanner: {current_count}\")\n",
    "\n",
    "        # Show sample records\n",
    "        sample_query = \"\"\"\n",
    "        SELECT entity_id, master_name, master_email, master_phone,\n",
    "               source_record_count, processing_path\n",
    "        FROM golden_entities\n",
    "        LIMIT 5\n",
    "        \"\"\"\n",
    "\n",
    "        sample_df = spanner_helper.execute_sql(sample_query)\n",
    "        if not sample_df.empty:\n",
    "            print(\"\\n🔍 Sample Golden Records in Spanner:\")\n",
    "            sample_df.columns = ['entity_id', 'master_name',\n",
    "                                 'master_email', 'master_phone', 'source_count', 'path']\n",
    "            display(sample_df)\n",
    "    else:\n",
    "        print(\"⚠️ No golden records found in BigQuery\")\n",
    "        print(\"💡 Run the batch processing notebook first to create golden records\")\n",
    "\n",
    "except Exception as e:\n",
    "    print(f\"❌ Error loading golden records: {e}\")\n",
    "    print(\"💡 Make sure you've run the batch processing notebook first\")"
   ]
  },
  {
   "cell_type": "markdown",
   "metadata": {},
   "source": [
    "## 5. Embedding Sync Pipeline\n",
    "\n",
    "Sync embeddings from BigQuery to Spanner for vector matching functionality."
   ]
  },
  {
   "cell_type": "code",
   "execution_count": 7,
   "metadata": {},
   "outputs": [
    {
     "name": "stdout",
     "output_type": "stream",
     "text": [
      "🔄 Syncing embeddings from BigQuery to Spanner...\n",
      "\n",
      "✅ Found 284 records with embeddings in BigQuery\n",
      "  🔄 Syncing embeddings from BigQuery ML...\n",
      "  🗑️ Cleared table: entity_embeddings\n",
      "  ✅ Synced 284 embeddings from BigQuery ML\n",
      "✅ Successfully synced 284 embeddings to Spanner\n",
      "📊 Embeddings in Spanner: 284\n",
      "\n",
      "🔍 Sample Embeddings in Spanner:\n"
     ]
    },
    {
     "data": {
      "text/html": [
       "<div>\n",
       "<style scoped>\n",
       "    .dataframe tbody tr th:only-of-type {\n",
       "        vertical-align: middle;\n",
       "    }\n",
       "\n",
       "    .dataframe tbody tr th {\n",
       "        vertical-align: top;\n",
       "    }\n",
       "\n",
       "    .dataframe thead th {\n",
       "        text-align: right;\n",
       "    }\n",
       "</style>\n",
       "<table border=\"1\" class=\"dataframe\">\n",
       "  <thead>\n",
       "    <tr style=\"text-align: right;\">\n",
       "      <th></th>\n",
       "      <th>entity_id</th>\n",
       "      <th>vector_length</th>\n",
       "      <th>created_at</th>\n",
       "    </tr>\n",
       "  </thead>\n",
       "  <tbody>\n",
       "    <tr>\n",
       "      <th>0</th>\n",
       "      <td>000c4e82-861b-4d19-b3aa-9760dcf8744e</td>\n",
       "      <td>3072</td>\n",
       "      <td>2025-09-24 11:07:15.199316+00:00</td>\n",
       "    </tr>\n",
       "    <tr>\n",
       "      <th>1</th>\n",
       "      <td>0080fd5d-8565-4b3b-b411-b42407bbbb8e</td>\n",
       "      <td>3072</td>\n",
       "      <td>2025-09-24 11:07:15.199316+00:00</td>\n",
       "    </tr>\n",
       "    <tr>\n",
       "      <th>2</th>\n",
       "      <td>01a40d30-24d1-4da1-93b8-1f77f6aa71c6</td>\n",
       "      <td>3072</td>\n",
       "      <td>2025-09-24 11:07:15.199316+00:00</td>\n",
       "    </tr>\n",
       "    <tr>\n",
       "      <th>3</th>\n",
       "      <td>030867cc-0ec7-4a74-9665-cff3b6f2fcd4</td>\n",
       "      <td>3072</td>\n",
       "      <td>2025-09-24 11:07:15.199316+00:00</td>\n",
       "    </tr>\n",
       "    <tr>\n",
       "      <th>4</th>\n",
       "      <td>03d3eb89-e2a4-4267-842c-c22ab8540fcc</td>\n",
       "      <td>3072</td>\n",
       "      <td>2025-09-24 11:07:15.199316+00:00</td>\n",
       "    </tr>\n",
       "  </tbody>\n",
       "</table>\n",
       "</div>"
      ],
      "text/plain": [
       "                              entity_id  vector_length  \\\n",
       "0  000c4e82-861b-4d19-b3aa-9760dcf8744e           3072   \n",
       "1  0080fd5d-8565-4b3b-b411-b42407bbbb8e           3072   \n",
       "2  01a40d30-24d1-4da1-93b8-1f77f6aa71c6           3072   \n",
       "3  030867cc-0ec7-4a74-9665-cff3b6f2fcd4           3072   \n",
       "4  03d3eb89-e2a4-4267-842c-c22ab8540fcc           3072   \n",
       "\n",
       "                        created_at  \n",
       "0 2025-09-24 11:07:15.199316+00:00  \n",
       "1 2025-09-24 11:07:15.199316+00:00  \n",
       "2 2025-09-24 11:07:15.199316+00:00  \n",
       "3 2025-09-24 11:07:15.199316+00:00  \n",
       "4 2025-09-24 11:07:15.199316+00:00  "
      ]
     },
     "metadata": {},
     "output_type": "display_data"
    },
    {
     "name": "stdout",
     "output_type": "stream",
     "text": [
      "\n",
      "✅ Embeddings synced from BigQuery\n",
      "  ✅ Native COSINE_DISTANCE search enabled\n",
      "  ✅ Fast-path optimization for new entities\n"
     ]
    }
   ],
   "source": [
    "print(\"🔄 Syncing embeddings from BigQuery to Spanner...\")\n",
    "print()\n",
    "\n",
    "try:\n",
    "    # Check if embeddings exist in BigQuery\n",
    "    embeddings_check_query = f\"\"\"\n",
    "    SELECT COUNT(*) as total_records,\n",
    "           COUNT(ml_generate_embedding_result) as records_with_embeddings\n",
    "    FROM `{bq_helper.dataset_ref}.customers_with_embeddings`\n",
    "    WHERE ml_generate_embedding_result IS NOT NULL\n",
    "    \"\"\"\n",
    "\n",
    "    embeddings_stats = bq_helper.execute_query(embeddings_check_query)\n",
    "\n",
    "    if not embeddings_stats.empty and embeddings_stats.iloc[0]['records_with_embeddings'] > 0:\n",
    "        total_embeddings = embeddings_stats.iloc[0]['records_with_embeddings']\n",
    "        print(\n",
    "            f\"✅ Found {total_embeddings} records with embeddings in BigQuery\")\n",
    "\n",
    "        # Sync embeddings to Spanner\n",
    "        synced_count = spanner_helper.sync_embeddings_from_bigquery(bq_helper)\n",
    "\n",
    "        if synced_count > 0:\n",
    "            print(\n",
    "                f\"✅ Successfully synced {synced_count} embeddings to Spanner\")\n",
    "\n",
    "            # Verify embedding sync\n",
    "            embedding_count_query = \"\"\"\n",
    "            SELECT COUNT(*) as embedding_count\n",
    "            FROM entity_embeddings\n",
    "            WHERE embedding IS NOT NULL\n",
    "            \"\"\"\n",
    "\n",
    "            embedding_count_df = spanner_helper.execute_sql(\n",
    "                embedding_count_query)\n",
    "            if not embedding_count_df.empty:\n",
    "                spanner_embedding_count = embedding_count_df.iloc[0]['col_0']\n",
    "                print(f\"📊 Embeddings in Spanner: {spanner_embedding_count}\")\n",
    "\n",
    "                # Show sample embeddings\n",
    "                sample_embeddings_query = \"\"\"\n",
    "                SELECT entity_id, ARRAY_LENGTH(embedding) as vector_length, created_at\n",
    "                FROM entity_embeddings\n",
    "                WHERE embedding IS NOT NULL\n",
    "                LIMIT 5\n",
    "                \"\"\"\n",
    "\n",
    "                sample_embeddings_df = spanner_helper.execute_sql(\n",
    "                    sample_embeddings_query)\n",
    "                if not sample_embeddings_df.empty:\n",
    "                    sample_embeddings_df.columns = [\n",
    "                        'entity_id', 'vector_length', 'created_at']\n",
    "                    print(\"\\n🔍 Sample Embeddings in Spanner:\")\n",
    "                    display(sample_embeddings_df)\n",
    "\n",
    "                print(\"\\n✅ Embeddings synced from BigQuery\")\n",
    "                print(\"  ✅ Native COSINE_DISTANCE search enabled\")\n",
    "                print(\"  ✅ Fast-path optimization for new entities\")\n",
    "        else:\n",
    "            print(\"⚠️ No embeddings were synced to Spanner\")\n",
    "    else:\n",
    "        print(\"⚠️ No embeddings found in BigQuery\")\n",
    "        print(\"💡 Run the batch processing notebook first to generate embeddings\")\n",
    "except Exception as e:\n",
    "    print(f\"❌ Error syncing embeddings: {e}\")"
   ]
  },
  {
   "cell_type": "markdown",
   "metadata": {},
   "source": [
    "## 6. Generate New Streaming Data\n",
    "\n",
    "Create new customer records to simulate streaming data."
   ]
  },
  {
   "cell_type": "code",
   "execution_count": 8,
   "metadata": {},
   "outputs": [
    {
     "name": "stdout",
     "output_type": "stream",
     "text": [
      "🔄 Generating 100 streaming records (80% new, 20% existing with variations)...\n",
      "  📊 Split: 80 new + 20 existing with variations\n",
      "  🆕 Generating 80 completely new records...\n",
      "  🔄 Querying 20 existing records from BigQuery...\n",
      "  ✅ Retrieved 20 existing records from BigQuery\n",
      "  🔀 Adding realistic variations to simulate data drift...\n",
      "  ✅ Created 20 varied existing records\n",
      "  🔀 Combining and shuffling records for realistic streaming...\n",
      "\n",
      "📈 Realistic Streaming Data Summary:\n",
      "  Total streaming records: 100\n",
      "\n",
      "🎯 Record Type Distribution (for matching simulation):\n",
      "  new: 89 (89.0%) → CREATE_NEW\n",
      "  existing_varied: 11 (11.0%) → AUTO_MERGE (likely)\n",
      "\n",
      "📊 Source System Distribution:\n",
      "  ECOMMERCE: 31 records\n",
      "  CRM: 31 records\n",
      "  STREAMING_VARIATION: 11 records\n",
      "  ERP: 27 records\n",
      "\n",
      "🔍 Sample Records (showing variation types):\n"
     ]
    },
    {
     "data": {
      "text/html": [
       "<div>\n",
       "<style scoped>\n",
       "    .dataframe tbody tr th:only-of-type {\n",
       "        vertical-align: middle;\n",
       "    }\n",
       "\n",
       "    .dataframe tbody tr th {\n",
       "        vertical-align: top;\n",
       "    }\n",
       "\n",
       "    .dataframe thead th {\n",
       "        text-align: right;\n",
       "    }\n",
       "</style>\n",
       "<table border=\"1\" class=\"dataframe\">\n",
       "  <thead>\n",
       "    <tr style=\"text-align: right;\">\n",
       "      <th></th>\n",
       "      <th>record_id</th>\n",
       "      <th>full_name</th>\n",
       "      <th>email</th>\n",
       "      <th>phone</th>\n",
       "      <th>source_system</th>\n",
       "      <th>type</th>\n",
       "    </tr>\n",
       "  </thead>\n",
       "  <tbody>\n",
       "    <tr>\n",
       "      <th>0</th>\n",
       "      <td>a0e16d87-2be8-4936-8134-64c6f763b1b3</td>\n",
       "      <td>Christopher Shaffer</td>\n",
       "      <td>edwardsnicole@yahoo.com</td>\n",
       "      <td>(822)918-909</td>\n",
       "      <td>ecommerce</td>\n",
       "      <td>new</td>\n",
       "    </tr>\n",
       "    <tr>\n",
       "      <th>1</th>\n",
       "      <td>5211d960-5479-4541-a023-b1b490032a21</td>\n",
       "      <td>Phillip Anderson</td>\n",
       "      <td>maryavila@outlook.com</td>\n",
       "      <td>None</td>\n",
       "      <td>crm</td>\n",
       "      <td>new</td>\n",
       "    </tr>\n",
       "    <tr>\n",
       "      <th>2</th>\n",
       "      <td>c7548c7c-1b98-445d-af5c-9bae17f80c20</td>\n",
       "      <td>Raymond Ramirez</td>\n",
       "      <td>rasmussenjoshua@yahoo.com</td>\n",
       "      <td>768.750.1429</td>\n",
       "      <td>ecommerce</td>\n",
       "      <td>new</td>\n",
       "    </tr>\n",
       "    <tr>\n",
       "      <th>3</th>\n",
       "      <td>8a5c64d4-021b-48b7-9422-f786d1595a8a</td>\n",
       "      <td>Julie Thompson</td>\n",
       "      <td>opatel@outlook.com</td>\n",
       "      <td>+17518606</td>\n",
       "      <td>ecommerce</td>\n",
       "      <td>new</td>\n",
       "    </tr>\n",
       "    <tr>\n",
       "      <th>4</th>\n",
       "      <td>d13dd894-c3cb-4096-93fe-df3d85a7790a</td>\n",
       "      <td>Stephen Brown</td>\n",
       "      <td>tchambers@example.net</td>\n",
       "      <td>7643039106</td>\n",
       "      <td>ecommerce</td>\n",
       "      <td>new</td>\n",
       "    </tr>\n",
       "  </tbody>\n",
       "</table>\n",
       "</div>"
      ],
      "text/plain": [
       "                              record_id            full_name  \\\n",
       "0  a0e16d87-2be8-4936-8134-64c6f763b1b3  Christopher Shaffer   \n",
       "1  5211d960-5479-4541-a023-b1b490032a21     Phillip Anderson   \n",
       "2  c7548c7c-1b98-445d-af5c-9bae17f80c20      Raymond Ramirez   \n",
       "3  8a5c64d4-021b-48b7-9422-f786d1595a8a       Julie Thompson   \n",
       "4  d13dd894-c3cb-4096-93fe-df3d85a7790a        Stephen Brown   \n",
       "\n",
       "                       email         phone source_system type  \n",
       "0    edwardsnicole@yahoo.com  (822)918-909     ecommerce  new  \n",
       "1      maryavila@outlook.com          None           crm  new  \n",
       "2  rasmussenjoshua@yahoo.com  768.750.1429     ecommerce  new  \n",
       "3         opatel@outlook.com     +17518606     ecommerce  new  \n",
       "4      tchambers@example.net    7643039106     ecommerce  new  "
      ]
     },
     "metadata": {},
     "output_type": "display_data"
    },
    {
     "name": "stdout",
     "output_type": "stream",
     "text": [
      "\n",
      "✅ Realistic 80-20 streaming data ready!\n",
      "🎯 Expected outcomes:\n",
      "  • New records (80) → CREATE_NEW\n",
      "  • Varied existing (20) → AUTO_MERGE (full 4-way matching)\n",
      "  • This will demonstrate both fast-path and full matching scenarios!\n"
     ]
    }
   ],
   "source": [
    "print(\n",
    "    f\"🔄 Generating {NUM_STREAMING_RECORDS} streaming records (80% new, 20% existing with variations)...\")\n",
    "\n",
    "try:\n",
    "    # Calculate 80-20 split for realistic simulation\n",
    "    new_records_count = int(NUM_STREAMING_RECORDS * 0.8)  # 80 new records\n",
    "    existing_records_count = NUM_STREAMING_RECORDS - \\\n",
    "        new_records_count  # 20 existing records\n",
    "\n",
    "    print(\n",
    "        f\"  📊 Split: {new_records_count} new + {existing_records_count} existing with variations\")\n",
    "\n",
    "    # Part 1: Generate 80% new records (CREATE_NEW path)\n",
    "    print(f\"  🆕 Generating {new_records_count} completely new records...\")\n",
    "    generator = MDMDataGenerator(num_unique_customers=new_records_count)\n",
    "    new_streaming_datasets = generator.generate_all_datasets()\n",
    "\n",
    "    # Combine new streaming records\n",
    "    new_streaming_records = []\n",
    "    for source, df in new_streaming_datasets.items():\n",
    "        for _, record in df.iterrows():\n",
    "            record_dict = record.to_dict()\n",
    "            record_dict['record_type'] = 'new'  # Tag for tracking\n",
    "            new_streaming_records.append(record_dict)\n",
    "\n",
    "    # Part 2: Query 20% existing records from BigQuery (AUTO_MERGE path)\n",
    "    print(\n",
    "        f\"  🔄 Querying {existing_records_count} existing records from BigQuery...\")\n",
    "    existing_records_query = f\"\"\"\n",
    "    SELECT record_id, full_name, email, phone, address, city, state, company, source_system\n",
    "    FROM `{bq_helper.dataset_ref}.customers_with_embeddings`\n",
    "    WHERE ml_generate_embedding_result IS NOT NULL\n",
    "    ORDER BY RAND()\n",
    "    LIMIT {existing_records_count}\n",
    "    \"\"\"\n",
    "\n",
    "    try:\n",
    "        existing_df = bq_helper.execute_query(existing_records_query)\n",
    "\n",
    "        if not existing_df.empty:\n",
    "            print(\n",
    "                f\"  ✅ Retrieved {len(existing_df)} existing records from BigQuery\")\n",
    "\n",
    "            # Part 3: Add realistic variations to simulate data drift\n",
    "            print(f\"  🔀 Adding realistic variations to simulate data drift...\")\n",
    "            varied_existing_records = StreamingMDMProcessor.add_realistic_variations(\n",
    "                existing_df)\n",
    "\n",
    "            # Tag as existing with variations\n",
    "            for record in varied_existing_records:\n",
    "                record['record_type'] = 'existing_varied'  # Tag for tracking\n",
    "\n",
    "            print(\n",
    "                f\"  ✅ Created {len(varied_existing_records)} varied existing records\")\n",
    "\n",
    "        else:\n",
    "            print(\"  ⚠️ No existing records found - using all new records instead\")\n",
    "            varied_existing_records = []\n",
    "\n",
    "    except Exception as e:\n",
    "        print(f\"  ⚠️ Could not query existing records: {e}\")\n",
    "        print(\"  💡 Using all new records instead\")\n",
    "        varied_existing_records = []\n",
    "\n",
    "    # Part 4: Combine and shuffle for realistic streaming order\n",
    "    print(f\"  🔀 Combining and shuffling records for realistic streaming...\")\n",
    "    all_streaming_records = new_streaming_records + varied_existing_records\n",
    "    random.shuffle(all_streaming_records)\n",
    "\n",
    "    # Take exactly NUM_STREAMING_RECORDS\n",
    "    streaming_records = all_streaming_records[:NUM_STREAMING_RECORDS]\n",
    "\n",
    "    print(f\"\\n📈 Realistic Streaming Data Summary:\")\n",
    "    print(f\"  Total streaming records: {len(streaming_records)}\")\n",
    "\n",
    "    # Show record type distribution\n",
    "    type_counts = {}\n",
    "    source_counts = {}\n",
    "    for record in streaming_records:\n",
    "        record_type = record.get('record_type', 'unknown')\n",
    "        source = record.get('source_system', 'unknown')\n",
    "        type_counts[record_type] = type_counts.get(record_type, 0) + 1\n",
    "        source_counts[source] = source_counts.get(source, 0) + 1\n",
    "\n",
    "    print(f\"\\n🎯 Record Type Distribution (for matching simulation):\")\n",
    "    for record_type, count in type_counts.items():\n",
    "        percentage = (count / len(streaming_records)) * 100\n",
    "        expected_action = \"CREATE_NEW\" if record_type == 'new' else \"AUTO_MERGE (likely)\"\n",
    "        print(f\"  {record_type}: {count} ({percentage:.1f}%) → {expected_action}\")\n",
    "\n",
    "    print(f\"\\n📊 Source System Distribution:\")\n",
    "    for source, count in source_counts.items():\n",
    "        print(f\"  {source.upper()}: {count} records\")\n",
    "\n",
    "    print(f\"\\n🔍 Sample Records (showing variation types):\")\n",
    "    sample_records = []\n",
    "    for i, record in enumerate(streaming_records[:5]):\n",
    "        sample_record = {\n",
    "            'record_id': record['record_id'],\n",
    "            'full_name': record['full_name'],\n",
    "            'email': record['email'],\n",
    "            'phone': record.get('phone', ''),\n",
    "            'source_system': record['source_system'],\n",
    "            'type': record.get('record_type', 'unknown')\n",
    "        }\n",
    "        sample_records.append(sample_record)\n",
    "\n",
    "    sample_df = pd.DataFrame(sample_records)\n",
    "    display(sample_df)\n",
    "\n",
    "    print(f\"\\n✅ Realistic 80-20 streaming data ready!\")\n",
    "    print(f\"🎯 Expected outcomes:\")\n",
    "    print(\n",
    "        f\"  • New records ({new_records_count}) → CREATE_NEW\")\n",
    "    print(\n",
    "        f\"  • Varied existing ({len(varied_existing_records)}) → AUTO_MERGE (full 4-way matching)\")\n",
    "    print(f\"  • This will demonstrate both fast-path and full matching scenarios!\")\n",
    "\n",
    "except Exception as e:\n",
    "    print(f\"❌ Error generating realistic streaming data: {e}\")\n",
    "    print(\"💡 Falling back to simple generation...\")\n",
    "\n",
    "    # Fallback to simple generation\n",
    "    generator = MDMDataGenerator(num_unique_customers=NUM_STREAMING_RECORDS)\n",
    "    streaming_datasets = generator.generate_all_datasets()\n",
    "\n",
    "    all_streaming_records = []\n",
    "    for source, df in streaming_datasets.items():\n",
    "        for _, record in df.iterrows():\n",
    "            all_streaming_records.append(record.to_dict())\n",
    "\n",
    "    random.shuffle(all_streaming_records)\n",
    "    streaming_records = all_streaming_records[:NUM_STREAMING_RECORDS]\n",
    "    print(f\"  📈 Fallback: {len(streaming_records)} new records generated\")"
   ]
  },
  {
   "cell_type": "markdown",
   "metadata": {},
   "source": [
    "## 7. Initialize Streaming Processor\n",
    "\n",
    "Set up the 4-way matching processor."
   ]
  },
  {
   "cell_type": "code",
   "execution_count": null,
   "metadata": {},
   "outputs": [
    {
     "name": "stdout",
     "output_type": "stream",
     "text": [
      "🔄 Initializing 4-way streaming processor...\n",
      "\n",
      "📊 Processor Configuration:\n",
      "  Matching strategies: 4 (exact, fuzzy, vector, business)\n",
      "  Strategy weights:\n",
      "    exact: 33%\n",
      "    fuzzy: 28%\n",
      "    vector: 22%\n",
      "    business: 17%\n",
      "\n",
      "⚖️ Decision Thresholds:\n",
      "  Auto-merge: ≥0.8\n",
      "  Create new: <0.6\n",
      "\n",
      "✅ Streaming processor ready!\n",
      "🎯 Target: <400ms processing time per record\n"
     ]
    }
   ],
   "source": [
    "print(\"🔄 Initializing 4-way streaming processor...\")\n",
    "\n",
    "try:\n",
    "    # Initialize the streaming processor\n",
    "    processor = StreamingMDMProcessor(spanner_helper)\n",
    "\n",
    "    print(\"\\n📊 Processor Configuration:\")\n",
    "    print(f\"  Matching strategies: 4 (exact, fuzzy, vector, business)\")\n",
    "    print(f\"  Strategy weights:\")\n",
    "    for strategy, weight in processor.weights.items():\n",
    "        print(f\"    {strategy}: {weight*100:.0f}%\")\n",
    "\n",
    "    print(f\"\\n🚧 Vector Matching Limitation:\")\n",
    "    print(f\"  Current: Vector matching deferred (no real-time embedding generation)\")\n",
    "    print(f\"  Roadmap: Full 4-way matching with Vertex AI integration (+200-500ms)\")\n",
    "    print(f\"  Impact: Vector strategy contributes 0.0 to all scores\")\n",
    "\n",
    "    print(f\"\\n⚖️ Decision Thresholds:\")\n",
    "    print(f\"  Auto-merge: ≥{processor.auto_merge_threshold}\")\n",
    "    print(f\"  Create new: <{processor.create_new_threshold}\")\n",
    "\n",
    "    print(\"\\n✅ Streaming processor ready!\")\n",
    "    print(f\"🎯 Target: <{TARGET_LATENCY_MS}ms processing time per record\")\n",
    "\n",
    "except Exception as e:\n",
    "    print(f\"❌ Error initializing processor: {e}\")\n",
    "    processor = None"
   ]
  },
  {
   "cell_type": "markdown",
   "metadata": {},
   "source": [
    "## 8. Streaming Processing Loop\n",
    "\n",
    "Process each record with sleep in between to simulate real-time pipeline."
   ]
  },
  {
   "cell_type": "code",
   "execution_count": null,
   "metadata": {},
   "outputs": [
    {
     "name": "stdout",
     "output_type": "stream",
     "text": [
      "🚀 Starting Streaming MDM Simulation (100 records, per 100ms)\n",
      "================================================================================\n",
      "\n",
      "📨 Record 1/100: Christopher Shaffer (edwardsnicole@yahoo.com) - ecommerce Source\n",
      "  🧮 Vector matching: Skipped (no embedding for streaming record)\n",
      "  ⚡ Exact matching: 1 matches found\n",
      "  🔍 Fuzzy matching: 1 matches found\n",
      "  🧮 Vector matching: 0 matches found\n",
      "  📋 Business rules: 2 matches found\n",
      "  📊 Combined score: 0.66 (MEDIUM confidence) → HUMAN_REVIEW\n",
      "  🗃️ → HUMAN_REVIEW Spanner (entity_id: 37927760..., merged with existing 37927760...)\n",
      "  ⏱️ Processing time: 1727ms\n",
      "  🗃️ → Stored match result in Spanner (match_id: b4a61beb...)\n",
      "\n",
      "📨 Record 2/100: Phillip Anderson (maryavila@outlook.com) - crm Source\n",
      "  🧮 Vector matching: Skipped (no embedding for streaming record)\n",
      "  ⚡ Exact matching: 0 matches found\n",
      "  🔍 Fuzzy matching: 1 matches found\n",
      "  🧮 Vector matching: 0 matches found\n",
      "  📋 Business rules: 2 matches found\n",
      "  📊 Combined score: 0.33 (LOW confidence) → CREATE_NEW\n",
      "  📝 Staged entity bc4be7dd... for batch processing\n",
      "  🗃️ → CREATE_NEW Spanner (entity_id: bc4be7dd..., new record created)\n",
      "  ⏱️ Processing time: 1863ms\n",
      "  🗃️ → Stored match result in Spanner (match_id: f81697cf...)\n",
      "\n",
      "📨 Record 3/100: Raymond Ramirez (rasmussenjoshua@yahoo.com) - ecommerce Source\n",
      "  🧮 Vector matching: Skipped (no embedding for streaming record)\n",
      "  ⚡ Exact matching: 1 matches found\n",
      "  🔍 Fuzzy matching: 1 matches found\n",
      "  🧮 Vector matching: 0 matches found\n",
      "  📋 Business rules: 2 matches found\n",
      "  📊 Combined score: 0.66 (MEDIUM confidence) → HUMAN_REVIEW\n",
      "  🗃️ → HUMAN_REVIEW Spanner (entity_id: 171682e6..., merged with existing 171682e6...)\n",
      "  ⏱️ Processing time: 1641ms\n",
      "  🗃️ → Stored match result in Spanner (match_id: f99ccb03...)\n",
      "\n",
      "📨 Record 4/100: Julie Thompson (opatel@outlook.com) - ecommerce Source\n",
      "  🧮 Vector matching: Skipped (no embedding for streaming record)\n",
      "  ⚡ Exact matching: 1 matches found\n",
      "  🔍 Fuzzy matching: 1 matches found\n",
      "  🧮 Vector matching: 0 matches found\n",
      "  📋 Business rules: 2 matches found\n",
      "  📊 Combined score: 0.66 (MEDIUM confidence) → HUMAN_REVIEW\n",
      "  🗃️ → HUMAN_REVIEW Spanner (entity_id: a5d7ef80..., merged with existing a5d7ef80...)\n",
      "  ⏱️ Processing time: 1636ms\n",
      "  🗃️ → Stored match result in Spanner (match_id: e79e6b56...)\n",
      "\n",
      "📨 Record 5/100: Stephen Brown (tchambers@example.net) - ecommerce Source\n",
      "  🧮 Vector matching: Skipped (no embedding for streaming record)\n",
      "  ⚡ Exact matching: 2 matches found\n",
      "  🔍 Fuzzy matching: 1 matches found\n",
      "  🧮 Vector matching: 0 matches found\n",
      "  📋 Business rules: 2 matches found\n",
      "  📊 Combined score: 0.66 (MEDIUM confidence) → HUMAN_REVIEW\n",
      "  🗃️ → HUMAN_REVIEW Spanner (entity_id: 4f940b2f..., merged with existing 4f940b2f...)\n",
      "  ⏱️ Processing time: 1624ms\n",
      "  🗃️ → Stored match result in Spanner (match_id: ef08e037...)\n",
      "\n",
      "📨 Record 6/100: Rachel Ramos (christopherboone@outlook.com) - streaming_variation Source\n",
      "  🧮 Vector matching: Skipped (no embedding for streaming record)\n",
      "  ⚡ Exact matching: 1 matches found\n",
      "  🔍 Fuzzy matching: 1 matches found\n",
      "  🧮 Vector matching: 0 matches found\n",
      "  📋 Business rules: 2 matches found\n",
      "  📊 Combined score: 0.66 (MEDIUM confidence) → HUMAN_REVIEW\n",
      "  🗃️ → HUMAN_REVIEW Spanner (entity_id: 98906d9b..., merged with existing 98906d9b...)\n",
      "  ⏱️ Processing time: 1635ms\n",
      "  🗃️ → Stored match result in Spanner (match_id: 5eee9093...)\n",
      "\n",
      "📨 Record 7/100: Deborah Kerr (charlesmartin@example.com) - ecommerce Source\n",
      "  🧮 Vector matching: Skipped (no embedding for streaming record)\n",
      "  ⚡ Exact matching: 1 matches found\n",
      "  🔍 Fuzzy matching: 1 matches found\n",
      "  🧮 Vector matching: 0 matches found\n",
      "  📋 Business rules: 2 matches found\n",
      "  📊 Combined score: 0.66 (MEDIUM confidence) → HUMAN_REVIEW\n",
      "  🗃️ → HUMAN_REVIEW Spanner (entity_id: fe45fae8..., merged with existing fe45fae8...)\n",
      "  ⏱️ Processing time: 1627ms\n",
      "  🗃️ → Stored match result in Spanner (match_id: e30a0637...)\n",
      "\n",
      "📨 Record 8/100: Douglas Taylor (julie69@hotmail.com) - crm Source\n",
      "  🧮 Vector matching: Skipped (no embedding for streaming record)\n",
      "  ⚡ Exact matching: 1 matches found\n",
      "  🔍 Fuzzy matching: 1 matches found\n",
      "  🧮 Vector matching: 0 matches found\n",
      "  📋 Business rules: 2 matches found\n",
      "  📊 Combined score: 0.66 (MEDIUM confidence) → HUMAN_REVIEW\n",
      "  🗃️ → HUMAN_REVIEW Spanner (entity_id: 23c61674..., merged with existing 23c61674...)\n",
      "  ⏱️ Processing time: 1627ms\n",
      "  🗃️ → Stored match result in Spanner (match_id: c6107d1f...)\n",
      "\n",
      "📨 Record 9/100: Patricia Miller (jessebenson@example.net) - streaming_variation Source\n",
      "  🧮 Vector matching: Skipped (no embedding for streaming record)\n",
      "  ⚡ Exact matching: 2 matches found\n",
      "  🔍 Fuzzy matching: 1 matches found\n",
      "  🧮 Vector matching: 0 matches found\n",
      "  📋 Business rules: 2 matches found\n",
      "  📊 Combined score: 0.66 (MEDIUM confidence) → HUMAN_REVIEW\n",
      "  🗃️ → HUMAN_REVIEW Spanner (entity_id: cdffeeff..., merged with existing cdffeeff...)\n",
      "  ⏱️ Processing time: 1617ms\n",
      "  🗃️ → Stored match result in Spanner (match_id: 8806045e...)\n",
      "\n",
      "📨 Record 10/100: Wendy Dawson (williamsjesse@icloud.com) - streaming_variation Source\n",
      "  🧮 Vector matching: Skipped (no embedding for streaming record)\n",
      "  ⚡ Exact matching: 1 matches found\n",
      "  🔍 Fuzzy matching: 1 matches found\n",
      "  🧮 Vector matching: 0 matches found\n",
      "  📋 Business rules: 2 matches found\n",
      "  📊 Combined score: 0.66 (MEDIUM confidence) → HUMAN_REVIEW\n",
      "  🗃️ → HUMAN_REVIEW Spanner (entity_id: d9822dbe..., merged with existing d9822dbe...)\n",
      "  ⏱️ Processing time: 1615ms\n",
      "  🗃️ → Stored match result in Spanner (match_id: aec38b98...)\n",
      "\n",
      "📨 Record 11/100: Vanessa Reed (xanderson@example.net) - ecommerce Source\n",
      "  🧮 Vector matching: Skipped (no embedding for streaming record)\n",
      "  ⚡ Exact matching: 0 matches found\n",
      "  🔍 Fuzzy matching: 0 matches found\n",
      "  🧮 Vector matching: 0 matches found\n",
      "  📋 Business rules: 0 matches found\n",
      "  📊 Combined score: 0.00 (LOW confidence) → CREATE_NEW\n",
      "  ⚠️ Error staging entity: 409 Row [047db959202c14e4e60d5db53b947b7f910e] in table new_entities_staging already exists\n",
      "  🗃️ → CREATE_NEW Spanner (entity_id: 047db959..., new record created)\n",
      "  ⏱️ Processing time: 1837ms\n",
      "  🗃️ → Stored match result in Spanner (match_id: 703ff95e...)\n",
      "\n",
      "📨 Record 12/100: Eric Yu (yorkcasey@example.org) - crm Source\n",
      "  🧮 Vector matching: Skipped (no embedding for streaming record)\n",
      "  ⚡ Exact matching: 2 matches found\n",
      "  🔍 Fuzzy matching: 1 matches found\n",
      "  🧮 Vector matching: 0 matches found\n",
      "  📋 Business rules: 1 matches found\n",
      "  📊 Combined score: 0.64 (MEDIUM confidence) → HUMAN_REVIEW\n",
      "  🗃️ → HUMAN_REVIEW Spanner (entity_id: 864ecba4..., merged with existing 864ecba4...)\n",
      "  ⏱️ Processing time: 1420ms\n",
      "  🗃️ → Stored match result in Spanner (match_id: 2fd4c361...)\n",
      "\n",
      "📨 Record 13/100: Casey Sanchez (eric84@example.net) - erp Source\n",
      "  🧮 Vector matching: Skipped (no embedding for streaming record)\n",
      "  ⚡ Exact matching: 2 matches found\n",
      "  🔍 Fuzzy matching: 1 matches found\n",
      "  🧮 Vector matching: 0 matches found\n",
      "  📋 Business rules: 2 matches found\n",
      "  📊 Combined score: 0.66 (MEDIUM confidence) → HUMAN_REVIEW\n",
      "  🗃️ → HUMAN_REVIEW Spanner (entity_id: 0cf4f67e..., merged with existing 0cf4f67e...)\n",
      "  ⏱️ Processing time: 1618ms\n",
      "  🗃️ → Stored match result in Spanner (match_id: c98815e4...)\n",
      "\n",
      "📨 Record 14/100: Ronnie Smith (kristenjoseph@example.net) - streaming_variation Source\n",
      "  🧮 Vector matching: Skipped (no embedding for streaming record)\n",
      "  ⚡ Exact matching: 1 matches found\n",
      "  🔍 Fuzzy matching: 1 matches found\n",
      "  🧮 Vector matching: 0 matches found\n",
      "  📋 Business rules: 2 matches found\n",
      "  📊 Combined score: 0.66 (MEDIUM confidence) → HUMAN_REVIEW\n",
      "  🗃️ → HUMAN_REVIEW Spanner (entity_id: 31fe5e54..., merged with existing 31fe5e54...)\n",
      "  ⏱️ Processing time: 1417ms\n",
      "  🗃️ → Stored match result in Spanner (match_id: 7c52f854...)\n",
      "\n",
      "📨 Record 15/100: Molly Gomez (yhill@example.org) - erp Source\n",
      "  🧮 Vector matching: Skipped (no embedding for streaming record)\n",
      "  ⚡ Exact matching: 2 matches found\n",
      "  🔍 Fuzzy matching: 1 matches found\n",
      "  🧮 Vector matching: 0 matches found\n",
      "  📋 Business rules: 2 matches found\n",
      "  📊 Combined score: 0.66 (MEDIUM confidence) → HUMAN_REVIEW\n",
      "  🗃️ → HUMAN_REVIEW Spanner (entity_id: d0323b64..., merged with existing d0323b64...)\n",
      "  ⏱️ Processing time: 1614ms\n",
      "  🗃️ → Stored match result in Spanner (match_id: 5b291c69...)\n",
      "\n",
      "📨 Record 16/100: Phillip Anderson (maryavila@example.com) - ecommerce Source\n",
      "  🧮 Vector matching: Skipped (no embedding for streaming record)\n",
      "  ⚡ Exact matching: 2 matches found\n",
      "  🔍 Fuzzy matching: 2 matches found\n",
      "  🧮 Vector matching: 0 matches found\n",
      "  📋 Business rules: 4 matches found\n",
      "  📊 Combined score: 0.66 (MEDIUM confidence) → HUMAN_REVIEW\n",
      "  🗃️ → HUMAN_REVIEW Spanner (entity_id: adfdb249..., merged with existing adfdb249...)\n",
      "  ⏱️ Processing time: 1620ms\n",
      "  🗃️ → Stored match result in Spanner (match_id: 7e4d5aba...)\n",
      "\n",
      "📨 Record 17/100: Heidi Spencer (robertbentley@example.net) - ecommerce Source\n",
      "  🧮 Vector matching: Skipped (no embedding for streaming record)\n",
      "  ⚡ Exact matching: 1 matches found\n",
      "  🔍 Fuzzy matching: 1 matches found\n",
      "  🧮 Vector matching: 0 matches found\n",
      "  📋 Business rules: 1 matches found\n",
      "  📊 Combined score: 0.64 (MEDIUM confidence) → HUMAN_REVIEW\n",
      "  🗃️ → HUMAN_REVIEW Spanner (entity_id: 3668130f..., merged with existing 3668130f...)\n",
      "  ⏱️ Processing time: 1415ms\n",
      "  🗃️ → Stored match result in Spanner (match_id: 29e98781...)\n",
      "\n",
      "📨 Record 18/100: Steven Spencer (colelisa@example.net) - crm Source\n",
      "  🧮 Vector matching: Skipped (no embedding for streaming record)\n",
      "  ⚡ Exact matching: 2 matches found\n",
      "  🔍 Fuzzy matching: 1 matches found\n",
      "  🧮 Vector matching: 0 matches found\n",
      "  📋 Business rules: 2 matches found\n",
      "  📊 Combined score: 0.66 (MEDIUM confidence) → HUMAN_REVIEW\n",
      "  🗃️ → HUMAN_REVIEW Spanner (entity_id: dbf9907a..., merged with existing dbf9907a...)\n",
      "  ⏱️ Processing time: 1616ms\n",
      "  🗃️ → Stored match result in Spanner (match_id: 5b497721...)\n",
      "\n",
      "📨 Record 19/100: Julie Thompson (opatel@example.net) - erp Source\n",
      "  🧮 Vector matching: Skipped (no embedding for streaming record)\n",
      "  ⚡ Exact matching: 1 matches found\n",
      "  🔍 Fuzzy matching: 1 matches found\n",
      "  🧮 Vector matching: 0 matches found\n",
      "  📋 Business rules: 2 matches found\n",
      "  📊 Combined score: 0.66 (MEDIUM confidence) → HUMAN_REVIEW\n",
      "  🗃️ → HUMAN_REVIEW Spanner (entity_id: a5d7ef80..., merged with existing a5d7ef80...)\n",
      "  ⏱️ Processing time: 1615ms\n",
      "  🗃️ → Stored match result in Spanner (match_id: 5f80ad0f...)\n",
      "\n",
      "📨 Record 20/100: Raymond Flores (yfaulkner@example.org) - crm Source\n",
      "  🧮 Vector matching: Skipped (no embedding for streaming record)\n",
      "  ⚡ Exact matching: 2 matches found\n",
      "  🔍 Fuzzy matching: 2 matches found\n",
      "  🧮 Vector matching: 0 matches found\n",
      "  📋 Business rules: 2 matches found\n",
      "  📊 Combined score: 0.66 (MEDIUM confidence) → HUMAN_REVIEW\n",
      "  🗃️ → HUMAN_REVIEW Spanner (entity_id: 30b53f47..., merged with existing 30b53f47...)\n",
      "  ⏱️ Processing time: 1617ms\n",
      "  🗃️ → Stored match result in Spanner (match_id: d4160f74...)\n",
      "\n",
      "📨 Record 21/100: James Herrera (robertramirez@outlook.com) - streaming_variation Source\n",
      "  🧮 Vector matching: Skipped (no embedding for streaming record)\n",
      "  ⚡ Exact matching: 2 matches found\n",
      "  🔍 Fuzzy matching: 2 matches found\n",
      "  🧮 Vector matching: 0 matches found\n",
      "  📋 Business rules: 2 matches found\n",
      "  📊 Combined score: 0.66 (MEDIUM confidence) → HUMAN_REVIEW\n",
      "  🗃️ → HUMAN_REVIEW Spanner (entity_id: fe26aa5f..., merged with existing fe26aa5f...)\n",
      "  ⏱️ Processing time: 1616ms\n",
      "  🗃️ → Stored match result in Spanner (match_id: c19274db...)\n",
      "\n",
      "📨 Record 22/100: Vincent Herrera (jennifercarter@example.org) - erp Source\n",
      "  🧮 Vector matching: Skipped (no embedding for streaming record)\n",
      "  ⚡ Exact matching: 0 matches found\n",
      "  🔍 Fuzzy matching: 0 matches found\n",
      "  🧮 Vector matching: 0 matches found\n",
      "  📋 Business rules: 0 matches found\n",
      "  📊 Combined score: 0.00 (LOW confidence) → CREATE_NEW\n",
      "  📝 Staged entity 35884410... for batch processing\n",
      "  🗃️ → CREATE_NEW Spanner (entity_id: 35884410..., new record created)\n",
      "  ⏱️ Processing time: 2015ms\n",
      "  🗃️ → Stored match result in Spanner (match_id: 68370092...)\n",
      "\n",
      "📨 Record 23/100: Casey Sanchez (eric84@example.net) - crm Source\n",
      "  🧮 Vector matching: Skipped (no embedding for streaming record)\n",
      "  ⚡ Exact matching: 2 matches found\n",
      "  🔍 Fuzzy matching: 1 matches found\n",
      "  🧮 Vector matching: 0 matches found\n",
      "  📋 Business rules: 2 matches found\n",
      "  📊 Combined score: 0.66 (MEDIUM confidence) → HUMAN_REVIEW\n",
      "  🗃️ → HUMAN_REVIEW Spanner (entity_id: 0cf4f67e..., merged with existing 0cf4f67e...)\n",
      "  ⏱️ Processing time: 1614ms\n",
      "  🗃️ → Stored match result in Spanner (match_id: 62f62040...)\n",
      "\n",
      "📨 Record 24/100: Raymond Flores (yfaulkner@example.org) - erp Source\n",
      "  🧮 Vector matching: Skipped (no embedding for streaming record)\n",
      "  ⚡ Exact matching: 2 matches found\n",
      "  🔍 Fuzzy matching: 2 matches found\n",
      "  🧮 Vector matching: 0 matches found\n",
      "  📋 Business rules: 2 matches found\n",
      "  📊 Combined score: 0.66 (MEDIUM confidence) → HUMAN_REVIEW\n",
      "  🗃️ → HUMAN_REVIEW Spanner (entity_id: 30b53f47..., merged with existing 30b53f47...)\n",
      "  ⏱️ Processing time: 1618ms\n",
      "  🗃️ → Stored match result in Spanner (match_id: 00437f02...)\n",
      "\n",
      "📨 Record 25/100: Lauren Marquez (adamsnorman@example.net) - erp Source\n",
      "  🧮 Vector matching: Skipped (no embedding for streaming record)\n",
      "  ⚡ Exact matching: 2 matches found\n",
      "  🔍 Fuzzy matching: 1 matches found\n",
      "  🧮 Vector matching: 0 matches found\n",
      "  📋 Business rules: 2 matches found\n",
      "  📊 Combined score: 0.66 (MEDIUM confidence) → HUMAN_REVIEW\n",
      "  🗃️ → HUMAN_REVIEW Spanner (entity_id: 9a3522bf..., merged with existing 9a3522bf...)\n",
      "  ⏱️ Processing time: 1627ms\n",
      "  🗃️ → Stored match result in Spanner (match_id: cecf0272...)\n",
      "\n",
      "📨 Record 26/100: Mary Smith (scottsmith@example.com) - ecommerce Source\n",
      "  🧮 Vector matching: Skipped (no embedding for streaming record)\n",
      "  ⚡ Exact matching: 2 matches found\n",
      "  🔍 Fuzzy matching: 1 matches found\n",
      "  🧮 Vector matching: 0 matches found\n",
      "  📋 Business rules: 2 matches found\n",
      "  📊 Combined score: 0.66 (MEDIUM confidence) → HUMAN_REVIEW\n",
      "  🗃️ → HUMAN_REVIEW Spanner (entity_id: 46fc94ce..., merged with existing 46fc94ce...)\n",
      "  ⏱️ Processing time: 1620ms\n",
      "  🗃️ → Stored match result in Spanner (match_id: 6d368711...)\n",
      "\n",
      "📨 Record 27/100: Sarah Perry (pshaw@example.com) - ecommerce Source\n",
      "  🧮 Vector matching: Skipped (no embedding for streaming record)\n",
      "  ⚡ Exact matching: 0 matches found\n",
      "  🔍 Fuzzy matching: 1 matches found\n",
      "  🧮 Vector matching: 0 matches found\n",
      "  📋 Business rules: 0 matches found\n",
      "  📊 Combined score: 0.18 (LOW confidence) → CREATE_NEW\n",
      "  ⚠️ Error staging entity: 409 Row [f7b3d79062bf72b781fa42e8bc4ca4c37b7c] in table new_entities_staging already exists\n",
      "  🗃️ → CREATE_NEW Spanner (entity_id: f7b3d790..., new record created)\n",
      "  ⏱️ Processing time: 1820ms\n",
      "  🗃️ → Stored match result in Spanner (match_id: cc88d62d...)\n",
      "\n",
      "📨 Record 28/100: Wendy Dawson (williamsjesse@example.net) - ecommerce Source\n",
      "  🧮 Vector matching: Skipped (no embedding for streaming record)\n",
      "  ⚡ Exact matching: 1 matches found\n",
      "  🔍 Fuzzy matching: 1 matches found\n",
      "  🧮 Vector matching: 0 matches found\n",
      "  📋 Business rules: 2 matches found\n",
      "  📊 Combined score: 0.66 (MEDIUM confidence) → HUMAN_REVIEW\n",
      "  🗃️ → HUMAN_REVIEW Spanner (entity_id: d9822dbe..., merged with existing d9822dbe...)\n",
      "  ⏱️ Processing time: 1619ms\n",
      "  🗃️ → Stored match result in Spanner (match_id: c0e565d6...)\n",
      "\n",
      "📨 Record 29/100: Jen Gill (robin55@example.com) - crm Source\n",
      "  🧮 Vector matching: Skipped (no embedding for streaming record)\n",
      "  ⚡ Exact matching: 1 matches found\n",
      "  🔍 Fuzzy matching: 1 matches found\n",
      "  🧮 Vector matching: 0 matches found\n",
      "  📋 Business rules: 2 matches found\n",
      "  📊 Combined score: 0.66 (MEDIUM confidence) → HUMAN_REVIEW\n",
      "  🗃️ → HUMAN_REVIEW Spanner (entity_id: 59457f54..., merged with existing 59457f54...)\n",
      "  ⏱️ Processing time: 1617ms\n",
      "  🗃️ → Stored match result in Spanner (match_id: 98108c63...)\n",
      "\n",
      "📨 Record 30/100: Michelle Branch (ashley09@example.net) - crm Source\n",
      "  🧮 Vector matching: Skipped (no embedding for streaming record)\n",
      "  ⚡ Exact matching: 1 matches found\n",
      "  🔍 Fuzzy matching: 2 matches found\n",
      "  🧮 Vector matching: 0 matches found\n",
      "  📋 Business rules: 2 matches found\n",
      "  📊 Combined score: 0.66 (MEDIUM confidence) → HUMAN_REVIEW\n",
      "  🗃️ → HUMAN_REVIEW Spanner (entity_id: fae44705..., merged with existing fae44705...)\n",
      "  ⏱️ Processing time: 1619ms\n",
      "  🗃️ → Stored match result in Spanner (match_id: 3627f599...)\n",
      "\n",
      "📨 Record 31/100: Michelle Branch (ashley09@example.net) - erp Source\n",
      "  🧮 Vector matching: Skipped (no embedding for streaming record)\n",
      "  ⚡ Exact matching: 2 matches found\n",
      "  🔍 Fuzzy matching: 2 matches found\n",
      "  🧮 Vector matching: 0 matches found\n",
      "  📋 Business rules: 2 matches found\n",
      "  📊 Combined score: 0.66 (MEDIUM confidence) → HUMAN_REVIEW\n",
      "  🗃️ → HUMAN_REVIEW Spanner (entity_id: fae44705..., merged with existing fae44705...)\n",
      "  ⏱️ Processing time: 1687ms\n",
      "  🗃️ → Stored match result in Spanner (match_id: 5e256b86...)\n",
      "\n",
      "📨 Record 32/100: Molly Gomez (yhill@example.org) - ecommerce Source\n",
      "  🧮 Vector matching: Skipped (no embedding for streaming record)\n",
      "  ⚡ Exact matching: 2 matches found\n",
      "  🔍 Fuzzy matching: 1 matches found\n",
      "  🧮 Vector matching: 0 matches found\n",
      "  📋 Business rules: 2 matches found\n",
      "  📊 Combined score: 0.66 (MEDIUM confidence) → HUMAN_REVIEW\n",
      "  🗃️ → HUMAN_REVIEW Spanner (entity_id: d0323b64..., merged with existing d0323b64...)\n",
      "  ⏱️ Processing time: 1615ms\n",
      "  🗃️ → Stored match result in Spanner (match_id: 01f1fe87...)\n",
      "\n",
      "📨 Record 33/100: Caleb Joseph (crawfordwilliam@example.org) - erp Source\n",
      "  🧮 Vector matching: Skipped (no embedding for streaming record)\n",
      "  ⚡ Exact matching: 1 matches found\n",
      "  🔍 Fuzzy matching: 1 matches found\n",
      "  🧮 Vector matching: 0 matches found\n",
      "  📋 Business rules: 2 matches found\n",
      "  📊 Combined score: 0.66 (MEDIUM confidence) → HUMAN_REVIEW\n",
      "  🗃️ → HUMAN_REVIEW Spanner (entity_id: 62ccafe4..., merged with existing 62ccafe4...)\n",
      "  ⏱️ Processing time: 1419ms\n",
      "  🗃️ → Stored match result in Spanner (match_id: 56912c3c...)\n",
      "\n",
      "📨 Record 34/100: Jennifer Brock (ghernandez@outlook.com) - ecommerce Source\n",
      "  🧮 Vector matching: Skipped (no embedding for streaming record)\n",
      "  ⚡ Exact matching: 1 matches found\n",
      "  🔍 Fuzzy matching: 1 matches found\n",
      "  🧮 Vector matching: 0 matches found\n",
      "  📋 Business rules: 2 matches found\n",
      "  📊 Combined score: 0.66 (MEDIUM confidence) → HUMAN_REVIEW\n",
      "  🗃️ → HUMAN_REVIEW Spanner (entity_id: 3c50192d..., merged with existing 3c50192d...)\n",
      "  ⏱️ Processing time: 1617ms\n",
      "  🗃️ → Stored match result in Spanner (match_id: 26cc9da8...)\n",
      "\n",
      "📨 Record 35/100: Hannah Brewer (bwest@example.org) - erp Source\n",
      "  🧮 Vector matching: Skipped (no embedding for streaming record)\n",
      "  ⚡ Exact matching: 1 matches found\n",
      "  🔍 Fuzzy matching: 1 matches found\n",
      "  🧮 Vector matching: 0 matches found\n",
      "  📋 Business rules: 2 matches found\n",
      "  📊 Combined score: 0.66 (MEDIUM confidence) → HUMAN_REVIEW\n",
      "  🗃️ → HUMAN_REVIEW Spanner (entity_id: b5036c04..., merged with existing b5036c04...)\n",
      "  ⏱️ Processing time: 1435ms\n",
      "  🗃️ → Stored match result in Spanner (match_id: b92dd5ea...)\n",
      "\n",
      "📨 Record 36/100: Jennifer Brock (ghernandez@example.org) - erp Source\n",
      "  🧮 Vector matching: Skipped (no embedding for streaming record)\n",
      "  ⚡ Exact matching: 1 matches found\n",
      "  🔍 Fuzzy matching: 1 matches found\n",
      "  🧮 Vector matching: 0 matches found\n",
      "  📋 Business rules: 2 matches found\n",
      "  📊 Combined score: 0.66 (MEDIUM confidence) → HUMAN_REVIEW\n",
      "  🗃️ → HUMAN_REVIEW Spanner (entity_id: 3c50192d..., merged with existing 3c50192d...)\n",
      "  ⏱️ Processing time: 1614ms\n",
      "  🗃️ → Stored match result in Spanner (match_id: c55e81c8...)\n",
      "\n",
      "📨 Record 37/100: Todd Cook (ugibson@example.org) - ecommerce Source\n",
      "  🧮 Vector matching: Skipped (no embedding for streaming record)\n",
      "  ⚡ Exact matching: 2 matches found\n",
      "  🔍 Fuzzy matching: 1 matches found\n",
      "  🧮 Vector matching: 0 matches found\n",
      "  📋 Business rules: 2 matches found\n",
      "  📊 Combined score: 0.66 (MEDIUM confidence) → HUMAN_REVIEW\n",
      "  🗃️ → HUMAN_REVIEW Spanner (entity_id: 812953db..., merged with existing 812953db...)\n",
      "  ⏱️ Processing time: 1617ms\n",
      "  🗃️ → Stored match result in Spanner (match_id: fc87d1a4...)\n",
      "\n",
      "📨 Record 38/100: Vincent Herrera (jennifercarter@example.org) - crm Source\n",
      "  🧮 Vector matching: Skipped (no embedding for streaming record)\n",
      "  ⚡ Exact matching: 2 matches found\n",
      "  🔍 Fuzzy matching: 1 matches found\n",
      "  🧮 Vector matching: 0 matches found\n",
      "  📋 Business rules: 2 matches found\n",
      "  📊 Combined score: 0.66 (MEDIUM confidence) → HUMAN_REVIEW\n",
      "  🗃️ → HUMAN_REVIEW Spanner (entity_id: 35884410..., merged with existing 35884410...)\n",
      "  ⏱️ Processing time: 1616ms\n",
      "  🗃️ → Stored match result in Spanner (match_id: 24b5796d...)\n",
      "\n",
      "📨 Record 39/100: Mary Cochran (lweaver@yahoo.com) - crm Source\n",
      "  🧮 Vector matching: Skipped (no embedding for streaming record)\n",
      "  ⚡ Exact matching: 0 matches found\n",
      "  🔍 Fuzzy matching: 1 matches found\n",
      "  🧮 Vector matching: 0 matches found\n",
      "  📋 Business rules: 2 matches found\n",
      "  📊 Combined score: 0.33 (LOW confidence) → CREATE_NEW\n",
      "  📝 Staged entity 6655038b... for batch processing\n",
      "  🗃️ → CREATE_NEW Spanner (entity_id: 6655038b..., new record created)\n",
      "  ⏱️ Processing time: 2040ms\n",
      "  🗃️ → Stored match result in Spanner (match_id: 71cdadfc...)\n",
      "\n",
      "📨 Record 40/100: Hannah Brewer (bwest@example.org) - crm Source\n",
      "  🧮 Vector matching: Skipped (no embedding for streaming record)\n",
      "  ⚡ Exact matching: 2 matches found\n",
      "  🔍 Fuzzy matching: 1 matches found\n",
      "  🧮 Vector matching: 0 matches found\n",
      "  📋 Business rules: 2 matches found\n",
      "  📊 Combined score: 0.66 (MEDIUM confidence) → HUMAN_REVIEW\n",
      "  🗃️ → HUMAN_REVIEW Spanner (entity_id: b5036c04..., merged with existing b5036c04...)\n",
      "  ⏱️ Processing time: 1617ms\n",
      "  🗃️ → Stored match result in Spanner (match_id: a803d3e3...)\n",
      "\n",
      "📨 Record 41/100: Jeffrey Black (finleycasey@example.com) - crm Source\n",
      "  🧮 Vector matching: Skipped (no embedding for streaming record)\n",
      "  ⚡ Exact matching: 2 matches found\n",
      "  🔍 Fuzzy matching: 2 matches found\n",
      "  🧮 Vector matching: 0 matches found\n",
      "  📋 Business rules: 2 matches found\n",
      "  📊 Combined score: 0.66 (MEDIUM confidence) → HUMAN_REVIEW\n",
      "  🗃️ → HUMAN_REVIEW Spanner (entity_id: ab23658c..., merged with existing ab23658c...)\n",
      "  ⏱️ Processing time: 1626ms\n",
      "  🗃️ → Stored match result in Spanner (match_id: 3146fb64...)\n",
      "\n",
      "📨 Record 42/100: Brandi Hernandez (bobbydiaz@example.org) - erp Source\n",
      "  🧮 Vector matching: Skipped (no embedding for streaming record)\n",
      "  ⚡ Exact matching: 2 matches found\n",
      "  🔍 Fuzzy matching: 1 matches found\n",
      "  🧮 Vector matching: 0 matches found\n",
      "  📋 Business rules: 2 matches found\n",
      "  📊 Combined score: 0.66 (MEDIUM confidence) → HUMAN_REVIEW\n",
      "  🗃️ → HUMAN_REVIEW Spanner (entity_id: 7a38ccf9..., merged with existing 7a38ccf9...)\n",
      "  ⏱️ Processing time: 1623ms\n",
      "  🗃️ → Stored match result in Spanner (match_id: e02258a2...)\n",
      "\n",
      "📨 Record 43/100: Jennifer Gill (robin55@example.com) - erp Source\n",
      "  🧮 Vector matching: Skipped (no embedding for streaming record)\n",
      "  ⚡ Exact matching: 1 matches found\n",
      "  🔍 Fuzzy matching: 2 matches found\n",
      "  🧮 Vector matching: 0 matches found\n",
      "  📋 Business rules: 2 matches found\n",
      "  📊 Combined score: 0.66 (MEDIUM confidence) → HUMAN_REVIEW\n",
      "  🗃️ → HUMAN_REVIEW Spanner (entity_id: 59457f54..., merged with existing 59457f54...)\n",
      "  ⏱️ Processing time: 1620ms\n",
      "  🗃️ → Stored match result in Spanner (match_id: 3fef5a5e...)\n",
      "\n",
      "📨 Record 44/100: Shaun Jones (patrickdarin@example.com) - ecommerce Source\n",
      "  🧮 Vector matching: Skipped (no embedding for streaming record)\n",
      "  ⚡ Exact matching: 2 matches found\n",
      "  🔍 Fuzzy matching: 2 matches found\n",
      "  🧮 Vector matching: 0 matches found\n",
      "  📋 Business rules: 2 matches found\n",
      "  📊 Combined score: 0.66 (MEDIUM confidence) → HUMAN_REVIEW\n",
      "  🗃️ → HUMAN_REVIEW Spanner (entity_id: 064acc17..., merged with existing 064acc17...)\n",
      "  ⏱️ Processing time: 1616ms\n",
      "  🗃️ → Stored match result in Spanner (match_id: be4c030a...)\n",
      "\n",
      "📨 Record 45/100: Nicholas Chavez (mitchellgriffith@example.net) - streaming_variation Source\n",
      "  🧮 Vector matching: Skipped (no embedding for streaming record)\n",
      "  ⚡ Exact matching: 1 matches found\n",
      "  🔍 Fuzzy matching: 2 matches found\n",
      "  🧮 Vector matching: 0 matches found\n",
      "  📋 Business rules: 2 matches found\n",
      "  📊 Combined score: 0.66 (MEDIUM confidence) → HUMAN_REVIEW\n",
      "  🗃️ → HUMAN_REVIEW Spanner (entity_id: 3910d30c..., merged with existing 3910d30c...)\n",
      "  ⏱️ Processing time: 1619ms\n",
      "  🗃️ → Stored match result in Spanner (match_id: 7389d6ec...)\n",
      "\n",
      "📨 Record 46/100: Rachel Ramos (christopherboone@example.com) - crm Source\n",
      "  🧮 Vector matching: Skipped (no embedding for streaming record)\n",
      "  ⚡ Exact matching: 1 matches found\n",
      "  🔍 Fuzzy matching: 1 matches found\n",
      "  🧮 Vector matching: 0 matches found\n",
      "  📋 Business rules: 2 matches found\n",
      "  📊 Combined score: 0.66 (MEDIUM confidence) → HUMAN_REVIEW\n",
      "  🗃️ → HUMAN_REVIEW Spanner (entity_id: 98906d9b..., merged with existing 98906d9b...)\n",
      "  ⏱️ Processing time: 1615ms\n",
      "  🗃️ → Stored match result in Spanner (match_id: ad4ba1c3...)\n",
      "\n",
      "📨 Record 47/100: Jeffery Coleman (kennethkidd@example.com) - erp Source\n",
      "  🧮 Vector matching: Skipped (no embedding for streaming record)\n",
      "  ⚡ Exact matching: 2 matches found\n",
      "  🔍 Fuzzy matching: 1 matches found\n",
      "  🧮 Vector matching: 0 matches found\n",
      "  📋 Business rules: 2 matches found\n",
      "  📊 Combined score: 0.66 (MEDIUM confidence) → HUMAN_REVIEW\n",
      "  🗃️ → HUMAN_REVIEW Spanner (entity_id: 3c3bfb89..., merged with existing 3c3bfb89...)\n",
      "  ⏱️ Processing time: 1618ms\n",
      "  🗃️ → Stored match result in Spanner (match_id: 16c447e0...)\n",
      "\n",
      "📨 Record 48/100: Jason Gomez (campbellcarla@example.net) - erp Source\n",
      "  🧮 Vector matching: Skipped (no embedding for streaming record)\n",
      "  ⚡ Exact matching: 1 matches found\n",
      "  🔍 Fuzzy matching: 1 matches found\n",
      "  🧮 Vector matching: 0 matches found\n",
      "  📋 Business rules: 2 matches found\n",
      "  📊 Combined score: 0.66 (MEDIUM confidence) → HUMAN_REVIEW\n",
      "  🗃️ → HUMAN_REVIEW Spanner (entity_id: 19fcb066..., merged with existing 19fcb066...)\n",
      "  ⏱️ Processing time: 1619ms\n",
      "  🗃️ → Stored match result in Spanner (match_id: f830ca19...)\n",
      "\n",
      "📨 Record 49/100: Michele James (courtney78@example.org) - crm Source\n",
      "  🧮 Vector matching: Skipped (no embedding for streaming record)\n",
      "  ⚡ Exact matching: 2 matches found\n",
      "  🔍 Fuzzy matching: 1 matches found\n",
      "  🧮 Vector matching: 0 matches found\n",
      "  📋 Business rules: 2 matches found\n",
      "  📊 Combined score: 0.66 (MEDIUM confidence) → HUMAN_REVIEW\n",
      "  🗃️ → HUMAN_REVIEW Spanner (entity_id: 4c22ccd1..., merged with existing 4c22ccd1...)\n",
      "  ⏱️ Processing time: 1623ms\n",
      "  🗃️ → Stored match result in Spanner (match_id: dfba03ef...)\n",
      "\n",
      "📨 Record 50/100: Luis Harper (joel28@example.org) - crm Source\n",
      "  🧮 Vector matching: Skipped (no embedding for streaming record)\n",
      "  ⚡ Exact matching: 0 matches found\n",
      "  🔍 Fuzzy matching: 0 matches found\n",
      "  🧮 Vector matching: 0 matches found\n",
      "  📋 Business rules: 0 matches found\n",
      "  📊 Combined score: 0.00 (LOW confidence) → CREATE_NEW\n",
      "  ⚠️ Error staging entity: 409 Row [afca4bc55c06d6b016f0374eb7e88da6b692] in table new_entities_staging already exists\n",
      "  🗃️ → CREATE_NEW Spanner (entity_id: afca4bc5..., new record created)\n",
      "  ⏱️ Processing time: 1831ms\n",
      "  🗃️ → Stored match result in Spanner (match_id: c08c76cb...)\n",
      "\n",
      "📨 Record 51/100: Antonio Mcfarland (alexis39@example.org) - crm Source\n",
      "  🧮 Vector matching: Skipped (no embedding for streaming record)\n",
      "  ⚡ Exact matching: 2 matches found\n",
      "  🔍 Fuzzy matching: 1 matches found\n",
      "  🧮 Vector matching: 0 matches found\n",
      "  📋 Business rules: 2 matches found\n",
      "  📊 Combined score: 0.66 (MEDIUM confidence) → HUMAN_REVIEW\n",
      "  🗃️ → HUMAN_REVIEW Spanner (entity_id: 12046593..., merged with existing 12046593...)\n",
      "  ⏱️ Processing time: 1620ms\n",
      "  🗃️ → Stored match result in Spanner (match_id: 36a172c9...)\n",
      "\n",
      "📨 Record 52/100: Christopher Shaffer (edwardsnicole@example.org) - crm Source\n",
      "  🧮 Vector matching: Skipped (no embedding for streaming record)\n",
      "  ⚡ Exact matching: 1 matches found\n",
      "  🔍 Fuzzy matching: 1 matches found\n",
      "  🧮 Vector matching: 0 matches found\n",
      "  📋 Business rules: 2 matches found\n",
      "  📊 Combined score: 0.66 (MEDIUM confidence) → HUMAN_REVIEW\n",
      "  🗃️ → HUMAN_REVIEW Spanner (entity_id: 37927760..., merged with existing 37927760...)\n",
      "  ⏱️ Processing time: 1614ms\n",
      "  🗃️ → Stored match result in Spanner (match_id: 9cf84cdd...)\n",
      "\n",
      "📨 Record 53/100: Tony Vaughan (leescott@example.com) - ecommerce Source\n",
      "  🧮 Vector matching: Skipped (no embedding for streaming record)\n",
      "  ⚡ Exact matching: 2 matches found\n",
      "  🔍 Fuzzy matching: 0 matches found\n",
      "  🧮 Vector matching: 0 matches found\n",
      "  📋 Business rules: 2 matches found\n",
      "  📊 Combined score: 0.38 (LOW confidence) → CREATE_NEW\n",
      "  📝 Staged entity 0894b8e3... for batch processing\n",
      "  🗃️ → CREATE_NEW Spanner (entity_id: 0894b8e3..., new record created)\n",
      "  ⏱️ Processing time: 2038ms\n",
      "  🗃️ → Stored match result in Spanner (match_id: 0946802b...)\n",
      "\n",
      "📨 Record 54/100: Steven Spencer (colelisa@example.net) - erp Source\n",
      "  🧮 Vector matching: Skipped (no embedding for streaming record)\n",
      "  ⚡ Exact matching: 2 matches found\n",
      "  🔍 Fuzzy matching: 1 matches found\n",
      "  🧮 Vector matching: 0 matches found\n",
      "  📋 Business rules: 1 matches found\n",
      "  📊 Combined score: 0.64 (MEDIUM confidence) → HUMAN_REVIEW\n",
      "  🗃️ → HUMAN_REVIEW Spanner (entity_id: dbf9907a..., merged with existing dbf9907a...)\n",
      "  ⏱️ Processing time: 1414ms\n",
      "  🗃️ → Stored match result in Spanner (match_id: e1902edd...)\n",
      "\n",
      "📨 Record 55/100: Keith Payne (alexandermichael@example.net) - erp Source\n",
      "  🧮 Vector matching: Skipped (no embedding for streaming record)\n",
      "  ⚡ Exact matching: 2 matches found\n",
      "  🔍 Fuzzy matching: 1 matches found\n",
      "  🧮 Vector matching: 0 matches found\n",
      "  📋 Business rules: 2 matches found\n",
      "  📊 Combined score: 0.66 (MEDIUM confidence) → HUMAN_REVIEW\n",
      "  🗃️ → HUMAN_REVIEW Spanner (entity_id: ee844765..., merged with existing ee844765...)\n",
      "  ⏱️ Processing time: 1618ms\n",
      "  🗃️ → Stored match result in Spanner (match_id: 10eca6b2...)\n",
      "\n",
      "📨 Record 56/100: J. Coleman (kennethkidd@example.com) - streaming_variation Source\n",
      "  🧮 Vector matching: Skipped (no embedding for streaming record)\n",
      "  ⚡ Exact matching: 2 matches found\n",
      "  🔍 Fuzzy matching: 0 matches found\n",
      "  🧮 Vector matching: 0 matches found\n",
      "  📋 Business rules: 2 matches found\n",
      "  📊 Combined score: 0.38 (LOW confidence) → CREATE_NEW\n",
      "  📝 Staged entity 3c3bfb89... for batch processing\n",
      "  🗃️ → CREATE_NEW Spanner (entity_id: 3c3bfb89..., new record created)\n",
      "  ⏱️ Processing time: 2033ms\n",
      "  🗃️ → Stored match result in Spanner (match_id: d515a382...)\n",
      "\n",
      "📨 Record 57/100: Jeffery Coleman (kennethkidd@yahoo.com) - crm Source\n",
      "  🧮 Vector matching: Skipped (no embedding for streaming record)\n",
      "  ⚡ Exact matching: 1 matches found\n",
      "  🔍 Fuzzy matching: 0 matches found\n",
      "  🧮 Vector matching: 0 matches found\n",
      "  📋 Business rules: 2 matches found\n",
      "  📊 Combined score: 0.38 (LOW confidence) → CREATE_NEW\n",
      "  📝 Staged entity 13783ebe... for batch processing\n",
      "  🗃️ → CREATE_NEW Spanner (entity_id: 13783ebe..., new record created)\n",
      "  ⏱️ Processing time: 2027ms\n",
      "  🗃️ → Stored match result in Spanner (match_id: 80525247...)\n",
      "\n",
      "📨 Record 58/100: Heidi Spencer (robertbentley@example.net) - crm Source\n",
      "  🧮 Vector matching: Skipped (no embedding for streaming record)\n",
      "  ⚡ Exact matching: 2 matches found\n",
      "  🔍 Fuzzy matching: 1 matches found\n",
      "  🧮 Vector matching: 0 matches found\n",
      "  📋 Business rules: 2 matches found\n",
      "  📊 Combined score: 0.66 (MEDIUM confidence) → HUMAN_REVIEW\n",
      "  🗃️ → HUMAN_REVIEW Spanner (entity_id: 3668130f..., merged with existing 3668130f...)\n",
      "  ⏱️ Processing time: 1620ms\n",
      "  🗃️ → Stored match result in Spanner (match_id: b7990a31...)\n",
      "\n",
      "📨 Record 59/100: Daniel Wright (gabriel90@example.net) - crm Source\n",
      "  🧮 Vector matching: Skipped (no embedding for streaming record)\n",
      "  ⚡ Exact matching: 2 matches found\n",
      "  🔍 Fuzzy matching: 0 matches found\n",
      "  🧮 Vector matching: 0 matches found\n",
      "  📋 Business rules: 1 matches found\n",
      "  📊 Combined score: 0.38 (LOW confidence) → CREATE_NEW\n",
      "  ⚠️ Error staging entity: 409 Row [3eb98eaf3feb34d56b52fadbd0e6c2f10a72] in table new_entities_staging already exists\n",
      "  🗃️ → CREATE_NEW Spanner (entity_id: 3eb98eaf..., new record created)\n",
      "  ⏱️ Processing time: 1823ms\n",
      "  🗃️ → Stored match result in Spanner (match_id: 5115b1cf...)\n",
      "\n",
      "📨 Record 60/100: C. Thompson (smithjoshua@outlook.com) - streaming_variation Source\n",
      "  🧮 Vector matching: Skipped (no embedding for streaming record)\n",
      "  ⚡ Exact matching: 1 matches found\n",
      "  🔍 Fuzzy matching: 0 matches found\n",
      "  🧮 Vector matching: 0 matches found\n",
      "  📋 Business rules: 2 matches found\n",
      "  📊 Combined score: 0.38 (LOW confidence) → CREATE_NEW\n",
      "  📝 Staged entity b07c7424... for batch processing\n",
      "  🗃️ → CREATE_NEW Spanner (entity_id: b07c7424..., new record created)\n",
      "  ⏱️ Processing time: 2048ms\n",
      "  🗃️ → Stored match result in Spanner (match_id: 15143836...)\n",
      "\n",
      "📨 Record 61/100: Nicholas Arnold (barbara10@example.net) - ecommerce Source\n",
      "  🧮 Vector matching: Skipped (no embedding for streaming record)\n",
      "  ⚡ Exact matching: 2 matches found\n",
      "  🔍 Fuzzy matching: 3 matches found\n",
      "  🧮 Vector matching: 0 matches found\n",
      "  📋 Business rules: 2 matches found\n",
      "  📊 Combined score: 0.66 (MEDIUM confidence) → HUMAN_REVIEW\n",
      "  🗃️ → HUMAN_REVIEW Spanner (entity_id: bd4376f2..., merged with existing bd4376f2...)\n",
      "  ⏱️ Processing time: 1618ms\n",
      "  🗃️ → Stored match result in Spanner (match_id: 19be16e2...)\n",
      "\n",
      "📨 Record 62/100: Antonio Mcfarland (alexis39@icloud.com) - streaming_variation Source\n",
      "  🧮 Vector matching: Skipped (no embedding for streaming record)\n",
      "  ⚡ Exact matching: 1 matches found\n",
      "  🔍 Fuzzy matching: 1 matches found\n",
      "  🧮 Vector matching: 0 matches found\n",
      "  📋 Business rules: 2 matches found\n",
      "  📊 Combined score: 0.66 (MEDIUM confidence) → HUMAN_REVIEW\n",
      "  🗃️ → HUMAN_REVIEW Spanner (entity_id: 12046593..., merged with existing 12046593...)\n",
      "  ⏱️ Processing time: 1617ms\n",
      "  🗃️ → Stored match result in Spanner (match_id: 9f6ca630...)\n",
      "\n",
      "📨 Record 63/100: Ashley Jackson (rjackson@example.com) - erp Source\n",
      "  🧮 Vector matching: Skipped (no embedding for streaming record)\n",
      "  ⚡ Exact matching: 2 matches found\n",
      "  🔍 Fuzzy matching: 1 matches found\n",
      "  🧮 Vector matching: 0 matches found\n",
      "  📋 Business rules: 2 matches found\n",
      "  📊 Combined score: 0.66 (MEDIUM confidence) → HUMAN_REVIEW\n",
      "  🗃️ → HUMAN_REVIEW Spanner (entity_id: 88fddf88..., merged with existing 88fddf88...)\n",
      "  ⏱️ Processing time: 1617ms\n",
      "  🗃️ → Stored match result in Spanner (match_id: 9e14ad7b...)\n",
      "\n",
      "📨 Record 64/100: Brandi Hernandez (bobbydiaz@example.org) - ecommerce Source\n",
      "  🧮 Vector matching: Skipped (no embedding for streaming record)\n",
      "  ⚡ Exact matching: 2 matches found\n",
      "  🔍 Fuzzy matching: 1 matches found\n",
      "  🧮 Vector matching: 0 matches found\n",
      "  📋 Business rules: 2 matches found\n",
      "  📊 Combined score: 0.66 (MEDIUM confidence) → HUMAN_REVIEW\n",
      "  🗃️ → HUMAN_REVIEW Spanner (entity_id: 7a38ccf9..., merged with existing 7a38ccf9...)\n",
      "  ⏱️ Processing time: 1622ms\n",
      "  🗃️ → Stored match result in Spanner (match_id: c3857bfb...)\n",
      "\n",
      "📨 Record 65/100: David Walker (andrew83@outlook.com) - streaming_variation Source\n",
      "  🧮 Vector matching: Skipped (no embedding for streaming record)\n",
      "  ⚡ Exact matching: 2 matches found\n",
      "  🔍 Fuzzy matching: 1 matches found\n",
      "  🧮 Vector matching: 0 matches found\n",
      "  📋 Business rules: 2 matches found\n",
      "  📊 Combined score: 0.66 (MEDIUM confidence) → HUMAN_REVIEW\n",
      "  🗃️ → HUMAN_REVIEW Spanner (entity_id: 07a20388..., merged with existing 07a20388...)\n",
      "  ⏱️ Processing time: 1620ms\n",
      "  🗃️ → Stored match result in Spanner (match_id: 034c71b8...)\n",
      "\n",
      "📨 Record 66/100: Patricia Stevens (ryangross@example.net) - crm Source\n",
      "  🧮 Vector matching: Skipped (no embedding for streaming record)\n",
      "  ⚡ Exact matching: 2 matches found\n",
      "  🔍 Fuzzy matching: 2 matches found\n",
      "  🧮 Vector matching: 0 matches found\n",
      "  📋 Business rules: 2 matches found\n",
      "  📊 Combined score: 0.66 (MEDIUM confidence) → HUMAN_REVIEW\n",
      "  🗃️ → HUMAN_REVIEW Spanner (entity_id: 8b89f32e..., merged with existing 8b89f32e...)\n",
      "  ⏱️ Processing time: 1621ms\n",
      "  🗃️ → Stored match result in Spanner (match_id: 6a39be5d...)\n",
      "\n",
      "📨 Record 67/100: Brandi Hernandez (bobbydiaz@example.org) - ecommerce Source\n",
      "  🧮 Vector matching: Skipped (no embedding for streaming record)\n",
      "  ⚡ Exact matching: 2 matches found\n",
      "  🔍 Fuzzy matching: 1 matches found\n",
      "  🧮 Vector matching: 0 matches found\n",
      "  📋 Business rules: 2 matches found\n",
      "  📊 Combined score: 0.66 (MEDIUM confidence) → HUMAN_REVIEW\n",
      "  🗃️ → HUMAN_REVIEW Spanner (entity_id: 7a38ccf9..., merged with existing 7a38ccf9...)\n",
      "  ⏱️ Processing time: 1624ms\n",
      "  🗃️ → Stored match result in Spanner (match_id: 9219ab61...)\n",
      "\n",
      "📨 Record 68/100: Stephen Brown (tchambers@example.net) - crm Source\n",
      "  🧮 Vector matching: Skipped (no embedding for streaming record)\n",
      "  ⚡ Exact matching: 2 matches found\n",
      "  🔍 Fuzzy matching: 1 matches found\n",
      "  🧮 Vector matching: 0 matches found\n",
      "  📋 Business rules: 2 matches found\n",
      "  📊 Combined score: 0.66 (MEDIUM confidence) → HUMAN_REVIEW\n",
      "  🗃️ → HUMAN_REVIEW Spanner (entity_id: 4f940b2f..., merged with existing 4f940b2f...)\n",
      "  ⏱️ Processing time: 1632ms\n",
      "  🗃️ → Stored match result in Spanner (match_id: 5cfde7c0...)\n",
      "\n",
      "📨 Record 69/100: Jack Preston (warrenmary@example.org) - ecommerce Source\n",
      "  🧮 Vector matching: Skipped (no embedding for streaming record)\n",
      "  ⚡ Exact matching: 2 matches found\n",
      "  🔍 Fuzzy matching: 1 matches found\n",
      "  🧮 Vector matching: 0 matches found\n",
      "  📋 Business rules: 2 matches found\n",
      "  📊 Combined score: 0.66 (MEDIUM confidence) → HUMAN_REVIEW\n",
      "  🗃️ → HUMAN_REVIEW Spanner (entity_id: 4484e508..., merged with existing 4484e508...)\n",
      "  ⏱️ Processing time: 1619ms\n",
      "  🗃️ → Stored match result in Spanner (match_id: 7a1d4c20...)\n",
      "\n",
      "📨 Record 70/100: Vanessa Reed (xanderson@yahoo.com) - ecommerce Source\n",
      "  🧮 Vector matching: Skipped (no embedding for streaming record)\n",
      "  ⚡ Exact matching: 1 matches found\n",
      "  🔍 Fuzzy matching: 1 matches found\n",
      "  🧮 Vector matching: 0 matches found\n",
      "  📋 Business rules: 2 matches found\n",
      "  📊 Combined score: 0.66 (MEDIUM confidence) → HUMAN_REVIEW\n",
      "  🗃️ → HUMAN_REVIEW Spanner (entity_id: 047db959..., merged with existing 047db959...)\n",
      "  ⏱️ Processing time: 1627ms\n",
      "  🗃️ → Stored match result in Spanner (match_id: da9284f9...)\n",
      "\n",
      "📨 Record 71/100: Jason Gomez (campbellcarla@hotmail.com) - crm Source\n",
      "  🧮 Vector matching: Skipped (no embedding for streaming record)\n",
      "  ⚡ Exact matching: 1 matches found\n",
      "  🔍 Fuzzy matching: 1 matches found\n",
      "  🧮 Vector matching: 0 matches found\n",
      "  📋 Business rules: 2 matches found\n",
      "  📊 Combined score: 0.66 (MEDIUM confidence) → HUMAN_REVIEW\n",
      "  🗃️ → HUMAN_REVIEW Spanner (entity_id: 19fcb066..., merged with existing 19fcb066...)\n",
      "  ⏱️ Processing time: 1620ms\n",
      "  🗃️ → Stored match result in Spanner (match_id: 25a6b6ea...)\n",
      "\n",
      "📨 Record 72/100: Keith Payne (alexandermichael@example.net) - ecommerce Source\n",
      "  🧮 Vector matching: Skipped (no embedding for streaming record)\n",
      "  ⚡ Exact matching: 2 matches found\n",
      "  🔍 Fuzzy matching: 1 matches found\n",
      "  🧮 Vector matching: 0 matches found\n",
      "  📋 Business rules: 1 matches found\n",
      "  📊 Combined score: 0.64 (MEDIUM confidence) → HUMAN_REVIEW\n",
      "  🗃️ → HUMAN_REVIEW Spanner (entity_id: ee844765..., merged with existing ee844765...)\n",
      "  ⏱️ Processing time: 1412ms\n",
      "  🗃️ → Stored match result in Spanner (match_id: fb55dfed...)\n",
      "\n",
      "📨 Record 73/100: Stephen Brown (tchambers@example.net) - erp Source\n",
      "  🧮 Vector matching: Skipped (no embedding for streaming record)\n",
      "  ⚡ Exact matching: 1 matches found\n",
      "  🔍 Fuzzy matching: 1 matches found\n",
      "  🧮 Vector matching: 0 matches found\n",
      "  📋 Business rules: 2 matches found\n",
      "  📊 Combined score: 0.66 (MEDIUM confidence) → HUMAN_REVIEW\n",
      "  🗃️ → HUMAN_REVIEW Spanner (entity_id: 4f940b2f..., merged with existing 4f940b2f...)\n",
      "  ⏱️ Processing time: 1620ms\n",
      "  🗃️ → Stored match result in Spanner (match_id: ad0724bf...)\n",
      "\n",
      "📨 Record 74/100: Sarah Pope (keith98@outlook.com) - crm Source\n",
      "  🧮 Vector matching: Skipped (no embedding for streaming record)\n",
      "  ⚡ Exact matching: 1 matches found\n",
      "  🔍 Fuzzy matching: 2 matches found\n",
      "  🧮 Vector matching: 0 matches found\n",
      "  📋 Business rules: 2 matches found\n",
      "  📊 Combined score: 0.66 (MEDIUM confidence) → HUMAN_REVIEW\n",
      "  🗃️ → HUMAN_REVIEW Spanner (entity_id: cca28b3d..., merged with existing cca28b3d...)\n",
      "  ⏱️ Processing time: 1615ms\n",
      "  🗃️ → Stored match result in Spanner (match_id: d39e2a13...)\n",
      "\n",
      "📨 Record 75/100: Raymond Flores (yfaulkner@example.org) - crm Source\n",
      "  🧮 Vector matching: Skipped (no embedding for streaming record)\n",
      "  ⚡ Exact matching: 2 matches found\n",
      "  🔍 Fuzzy matching: 2 matches found\n",
      "  🧮 Vector matching: 0 matches found\n",
      "  📋 Business rules: 2 matches found\n",
      "  📊 Combined score: 0.66 (MEDIUM confidence) → HUMAN_REVIEW\n",
      "  🗃️ → HUMAN_REVIEW Spanner (entity_id: 30b53f47..., merged with existing 30b53f47...)\n",
      "  ⏱️ Processing time: 1619ms\n",
      "  🗃️ → Stored match result in Spanner (match_id: fed4b33e...)\n",
      "\n",
      "📨 Record 76/100: Daniel Wright (gabriel90@example.net) - ecommerce Source\n",
      "  🧮 Vector matching: Skipped (no embedding for streaming record)\n",
      "  ⚡ Exact matching: 1 matches found\n",
      "  🔍 Fuzzy matching: 1 matches found\n",
      "  🧮 Vector matching: 0 matches found\n",
      "  📋 Business rules: 2 matches found\n",
      "  📊 Combined score: 0.66 (MEDIUM confidence) → HUMAN_REVIEW\n",
      "  🗃️ → HUMAN_REVIEW Spanner (entity_id: 3eb98eaf..., merged with existing 3eb98eaf...)\n",
      "  ⏱️ Processing time: 1420ms\n",
      "  🗃️ → Stored match result in Spanner (match_id: cdae6326...)\n",
      "\n",
      "📨 Record 77/100: Luis Harper (joel28@example.org) - erp Source\n",
      "  🧮 Vector matching: Skipped (no embedding for streaming record)\n",
      "  ⚡ Exact matching: 2 matches found\n",
      "  🔍 Fuzzy matching: 1 matches found\n",
      "  🧮 Vector matching: 0 matches found\n",
      "  📋 Business rules: 2 matches found\n",
      "  📊 Combined score: 0.66 (MEDIUM confidence) → HUMAN_REVIEW\n",
      "  🗃️ → HUMAN_REVIEW Spanner (entity_id: afca4bc5..., merged with existing afca4bc5...)\n",
      "  ⏱️ Processing time: 1617ms\n",
      "  🗃️ → Stored match result in Spanner (match_id: 871ee1b3...)\n",
      "\n",
      "📨 Record 78/100: Charlfs Schultz (rebeccabailey@example.net) - erp Source\n",
      "  🧮 Vector matching: Skipped (no embedding for streaming record)\n",
      "  ⚡ Exact matching: 1 matches found\n",
      "  🔍 Fuzzy matching: 1 matches found\n",
      "  🧮 Vector matching: 0 matches found\n",
      "  📋 Business rules: 2 matches found\n",
      "  📊 Combined score: 0.66 (MEDIUM confidence) → HUMAN_REVIEW\n",
      "  🗃️ → HUMAN_REVIEW Spanner (entity_id: f2deb263..., merged with existing f2deb263...)\n",
      "  ⏱️ Processing time: 3444ms\n",
      "  🗃️ → Stored match result in Spanner (match_id: e3812069...)\n",
      "\n",
      "📨 Record 79/100: Mary Smith (scottsmith@example.com) - erp Source\n",
      "  🧮 Vector matching: Skipped (no embedding for streaming record)\n",
      "  ⚡ Exact matching: 2 matches found\n",
      "  🔍 Fuzzy matching: 1 matches found\n",
      "  🧮 Vector matching: 0 matches found\n",
      "  📋 Business rules: 2 matches found\n",
      "  📊 Combined score: 0.66 (MEDIUM confidence) → HUMAN_REVIEW\n",
      "  🗃️ → HUMAN_REVIEW Spanner (entity_id: 46fc94ce..., merged with existing 46fc94ce...)\n",
      "  ⏱️ Processing time: 1679ms\n",
      "  🗃️ → Stored match result in Spanner (match_id: 2c990e55...)\n",
      "\n",
      "📨 Record 80/100: Scott Sampson (cory58@example.net) - ecommerce Source\n",
      "  🧮 Vector matching: Skipped (no embedding for streaming record)\n",
      "  ⚡ Exact matching: 2 matches found\n",
      "  🔍 Fuzzy matching: 1 matches found\n",
      "  🧮 Vector matching: 0 matches found\n",
      "  📋 Business rules: 2 matches found\n",
      "  📊 Combined score: 0.66 (MEDIUM confidence) → HUMAN_REVIEW\n",
      "  🗃️ → HUMAN_REVIEW Spanner (entity_id: 68cdf5ae..., merged with existing 68cdf5ae...)\n",
      "  ⏱️ Processing time: 1621ms\n",
      "  🗃️ → Stored match result in Spanner (match_id: 2a51f0ef...)\n",
      "\n",
      "📨 Record 81/100: Scott Sampson (cory58@outlook.com) - crm Source\n",
      "  🧮 Vector matching: Skipped (no embedding for streaming record)\n",
      "  ⚡ Exact matching: 0 matches found\n",
      "  🔍 Fuzzy matching: 1 matches found\n",
      "  🧮 Vector matching: 0 matches found\n",
      "  📋 Business rules: 2 matches found\n",
      "  📊 Combined score: 0.33 (LOW confidence) → CREATE_NEW\n",
      "  📝 Staged entity c71b00bc... for batch processing\n",
      "  🗃️ → CREATE_NEW Spanner (entity_id: c71b00bc..., new record created)\n",
      "  ⏱️ Processing time: 2051ms\n",
      "  🗃️ → Stored match result in Spanner (match_id: 3064a640...)\n",
      "\n",
      "📨 Record 82/100: Cynthia Pierce (colleenmendez@yahoo.com) - crm Source\n",
      "  🧮 Vector matching: Skipped (no embedding for streaming record)\n",
      "  ⚡ Exact matching: 1 matches found\n",
      "  🔍 Fuzzy matching: 1 matches found\n",
      "  🧮 Vector matching: 0 matches found\n",
      "  📋 Business rules: 2 matches found\n",
      "  📊 Combined score: 0.66 (MEDIUM confidence) → HUMAN_REVIEW\n",
      "  🗃️ → HUMAN_REVIEW Spanner (entity_id: 3d78a070..., merged with existing 3d78a070...)\n",
      "  ⏱️ Processing time: 1742ms\n",
      "  🗃️ → Stored match result in Spanner (match_id: f3f66733...)\n",
      "\n",
      "📨 Record 83/100: Tina Ferguson (qvargas@hotmail.com) - erp Source\n",
      "  🧮 Vector matching: Skipped (no embedding for streaming record)\n",
      "  ⚡ Exact matching: 1 matches found\n",
      "  🔍 Fuzzy matching: 1 matches found\n",
      "  🧮 Vector matching: 0 matches found\n",
      "  📋 Business rules: 2 matches found\n",
      "  📊 Combined score: 0.66 (MEDIUM confidence) → HUMAN_REVIEW\n",
      "  🗃️ → HUMAN_REVIEW Spanner (entity_id: 8abd04fd..., merged with existing 8abd04fd...)\n",
      "  ⏱️ Processing time: 1750ms\n",
      "  🗃️ → Stored match result in Spanner (match_id: 8aeff97a...)\n",
      "\n",
      "📨 Record 84/100: M. Jimenez (robertgoodwin@example.com) - streaming_variation Source\n",
      "  🧮 Vector matching: Skipped (no embedding for streaming record)\n",
      "  ⚡ Exact matching: 2 matches found\n",
      "  🔍 Fuzzy matching: 0 matches found\n",
      "  🧮 Vector matching: 0 matches found\n",
      "  📋 Business rules: 2 matches found\n",
      "  📊 Combined score: 0.38 (LOW confidence) → CREATE_NEW\n",
      "  📝 Staged entity 6accc4dc... for batch processing\n",
      "  🗃️ → CREATE_NEW Spanner (entity_id: 6accc4dc..., new record created)\n",
      "  ⏱️ Processing time: 2071ms\n",
      "  🗃️ → Stored match result in Spanner (match_id: 25e000f8...)\n",
      "\n",
      "📨 Record 85/100: Christina Ramirez (christian32@example.net) - crm Source\n",
      "  🧮 Vector matching: Skipped (no embedding for streaming record)\n",
      "  ⚡ Exact matching: 2 matches found\n",
      "  🔍 Fuzzy matching: 2 matches found\n",
      "  🧮 Vector matching: 0 matches found\n",
      "  📋 Business rules: 2 matches found\n",
      "  📊 Combined score: 0.66 (MEDIUM confidence) → HUMAN_REVIEW\n",
      "  🗃️ → HUMAN_REVIEW Spanner (entity_id: 761243b0..., merged with existing 761243b0...)\n",
      "  ⏱️ Processing time: 1657ms\n",
      "  🗃️ → Stored match result in Spanner (match_id: 49042856...)\n",
      "\n",
      "📨 Record 86/100: Holly Wang (catherinestuart@example.net) - erp Source\n",
      "  🧮 Vector matching: Skipped (no embedding for streaming record)\n",
      "  ⚡ Exact matching: 2 matches found\n",
      "  🔍 Fuzzy matching: 1 matches found\n",
      "  🧮 Vector matching: 0 matches found\n",
      "  📋 Business rules: 2 matches found\n",
      "  📊 Combined score: 0.66 (MEDIUM confidence) → HUMAN_REVIEW\n",
      "  🗃️ → HUMAN_REVIEW Spanner (entity_id: 9f1fe9e9..., merged with existing 9f1fe9e9...)\n",
      "  ⏱️ Processing time: 1659ms\n",
      "  🗃️ → Stored match result in Spanner (match_id: f8cba722...)\n",
      "\n",
      "📨 Record 87/100: David Williams (tranheidi@example.org) - crm Source\n",
      "  🧮 Vector matching: Skipped (no embedding for streaming record)\n",
      "  ⚡ Exact matching: 2 matches found\n",
      "  🔍 Fuzzy matching: 1 matches found\n",
      "  🧮 Vector matching: 0 matches found\n",
      "  📋 Business rules: 2 matches found\n",
      "  📊 Combined score: 0.66 (MEDIUM confidence) → HUMAN_REVIEW\n",
      "  🗃️ → HUMAN_REVIEW Spanner (entity_id: 16da2581..., merged with existing 16da2581...)\n",
      "  ⏱️ Processing time: 1660ms\n",
      "  🗃️ → Stored match result in Spanner (match_id: 25c10bab...)\n",
      "\n",
      "📨 Record 88/100: Ashley Jackson (rjackson@example.com) - crm Source\n",
      "  🧮 Vector matching: Skipped (no embedding for streaming record)\n",
      "  ⚡ Exact matching: 2 matches found\n",
      "  🔍 Fuzzy matching: 1 matches found\n",
      "  🧮 Vector matching: 0 matches found\n",
      "  📋 Business rules: 2 matches found\n",
      "  📊 Combined score: 0.66 (MEDIUM confidence) → HUMAN_REVIEW\n",
      "  🗃️ → HUMAN_REVIEW Spanner (entity_id: 88fddf88..., merged with existing 88fddf88...)\n",
      "  ⏱️ Processing time: 1671ms\n",
      "  🗃️ → Stored match result in Spanner (match_id: 7dfd29cd...)\n",
      "\n",
      "📨 Record 89/100: Nicholas Arnold (barbara10@example.net) - ecommerce Source\n",
      "  🧮 Vector matching: Skipped (no embedding for streaming record)\n",
      "  ⚡ Exact matching: 2 matches found\n",
      "  🔍 Fuzzy matching: 3 matches found\n",
      "  🧮 Vector matching: 0 matches found\n",
      "  📋 Business rules: 2 matches found\n",
      "  📊 Combined score: 0.66 (MEDIUM confidence) → HUMAN_REVIEW\n",
      "  🗃️ → HUMAN_REVIEW Spanner (entity_id: bd4376f2..., merged with existing bd4376f2...)\n",
      "  ⏱️ Processing time: 1668ms\n",
      "  🗃️ → Stored match result in Spanner (match_id: 0903ed3c...)\n",
      "\n",
      "📨 Record 90/100: Cynthia Pierce (colleenmendez@example.org) - erp Source\n",
      "  🧮 Vector matching: Skipped (no embedding for streaming record)\n",
      "  ⚡ Exact matching: 1 matches found\n",
      "  🔍 Fuzzy matching: 1 matches found\n",
      "  🧮 Vector matching: 0 matches found\n",
      "  📋 Business rules: 2 matches found\n",
      "  📊 Combined score: 0.66 (MEDIUM confidence) → HUMAN_REVIEW\n",
      "  🗃️ → HUMAN_REVIEW Spanner (entity_id: 3d78a070..., merged with existing 3d78a070...)\n",
      "  ⏱️ Processing time: 1657ms\n",
      "  🗃️ → Stored match result in Spanner (match_id: c760e71a...)\n",
      "\n",
      "📨 Record 91/100: Diane Escobar (mathewaguilar@yahoo.com) - ecommerce Source\n",
      "  🧮 Vector matching: Skipped (no embedding for streaming record)\n",
      "  ⚡ Exact matching: 1 matches found\n",
      "  🔍 Fuzzy matching: 1 matches found\n",
      "  🧮 Vector matching: 0 matches found\n",
      "  📋 Business rules: 2 matches found\n",
      "  📊 Combined score: 0.66 (MEDIUM confidence) → HUMAN_REVIEW\n",
      "  🗃️ → HUMAN_REVIEW Spanner (entity_id: 87b7b874..., merged with existing 87b7b874...)\n",
      "  ⏱️ Processing time: 1654ms\n",
      "  🗃️ → Stored match result in Spanner (match_id: 4e8006bf...)\n",
      "\n",
      "📨 Record 92/100: Jason Gomez (campbellcarla@example.net) - ecommerce Source\n",
      "  🧮 Vector matching: Skipped (no embedding for streaming record)\n",
      "  ⚡ Exact matching: 1 matches found\n",
      "  🔍 Fuzzy matching: 1 matches found\n",
      "  🧮 Vector matching: 0 matches found\n",
      "  📋 Business rules: 2 matches found\n",
      "  📊 Combined score: 0.66 (MEDIUM confidence) → HUMAN_REVIEW\n",
      "  🗃️ → HUMAN_REVIEW Spanner (entity_id: 19fcb066..., merged with existing 19fcb066...)\n",
      "  ⏱️ Processing time: 1657ms\n",
      "  🗃️ → Stored match result in Spanner (match_id: c164cbd9...)\n",
      "\n",
      "📨 Record 93/100: Jim Horton (jross@hotmail.com) - erp Source\n",
      "  🧮 Vector matching: Skipped (no embedding for streaming record)\n",
      "  ⚡ Exact matching: 1 matches found\n",
      "  🔍 Fuzzy matching: 0 matches found\n",
      "  🧮 Vector matching: 0 matches found\n",
      "  📋 Business rules: 2 matches found\n",
      "  📊 Combined score: 0.38 (LOW confidence) → CREATE_NEW\n",
      "  📝 Staged entity e0be3dd8... for batch processing\n",
      "  🗃️ → CREATE_NEW Spanner (entity_id: e0be3dd8..., new record created)\n",
      "  ⏱️ Processing time: 2082ms\n",
      "  🗃️ → Stored match result in Spanner (match_id: 20f30b2f...)\n",
      "\n",
      "📨 Record 94/100: Eric Parks (lewismelissa@example.org) - crm Source\n",
      "  🧮 Vector matching: Skipped (no embedding for streaming record)\n",
      "  ⚡ Exact matching: 2 matches found\n",
      "  🔍 Fuzzy matching: 1 matches found\n",
      "  🧮 Vector matching: 0 matches found\n",
      "  📋 Business rules: 2 matches found\n",
      "  📊 Combined score: 0.66 (MEDIUM confidence) → HUMAN_REVIEW\n",
      "  🗃️ → HUMAN_REVIEW Spanner (entity_id: 9c48b8ac..., merged with existing 9c48b8ac...)\n",
      "  ⏱️ Processing time: 1655ms\n",
      "  🗃️ → Stored match result in Spanner (match_id: 0a026c68...)\n",
      "\n",
      "📨 Record 95/100: Kevin golmes (juliephillips@example.org) - ecommerce Source\n",
      "  🧮 Vector matching: Skipped (no embedding for streaming record)\n",
      "  ⚡ Exact matching: 2 matches found\n",
      "  🔍 Fuzzy matching: 1 matches found\n",
      "  🧮 Vector matching: 0 matches found\n",
      "  📋 Business rules: 2 matches found\n",
      "  📊 Combined score: 0.66 (MEDIUM confidence) → HUMAN_REVIEW\n",
      "  🗃️ → HUMAN_REVIEW Spanner (entity_id: b59d1f94..., merged with existing b59d1f94...)\n",
      "  ⏱️ Processing time: 1657ms\n",
      "  🗃️ → Stored match result in Spanner (match_id: 6a2d5857...)\n",
      "\n",
      "📨 Record 96/100: Luis Harper (joel28@example.org) - ecommerce Source\n",
      "  🧮 Vector matching: Skipped (no embedding for streaming record)\n",
      "  ⚡ Exact matching: 2 matches found\n",
      "  🔍 Fuzzy matching: 1 matches found\n",
      "  🧮 Vector matching: 0 matches found\n",
      "  📋 Business rules: 2 matches found\n",
      "  📊 Combined score: 0.66 (MEDIUM confidence) → HUMAN_REVIEW\n",
      "  🗃️ → HUMAN_REVIEW Spanner (entity_id: afca4bc5..., merged with existing afca4bc5...)\n",
      "  ⏱️ Processing time: 1657ms\n",
      "  🗃️ → Stored match result in Spanner (match_id: 9fdebe1e...)\n",
      "\n",
      "📨 Record 97/100: Nicholas Chavez (mitchellgriffith@example.net) - erp Source\n",
      "  🧮 Vector matching: Skipped (no embedding for streaming record)\n",
      "  ⚡ Exact matching: 2 matches found\n",
      "  🔍 Fuzzy matching: 2 matches found\n",
      "  🧮 Vector matching: 0 matches found\n",
      "  📋 Business rules: 2 matches found\n",
      "  📊 Combined score: 0.66 (MEDIUM confidence) → HUMAN_REVIEW\n",
      "  🗃️ → HUMAN_REVIEW Spanner (entity_id: 3910d30c..., merged with existing 3910d30c...)\n",
      "  ⏱️ Processing time: 1696ms\n",
      "  🗃️ → Stored match result in Spanner (match_id: c2118b16...)\n",
      "\n",
      "📨 Record 98/100: David Williams (tranheidi@example.org) - ecommerce Source\n",
      "  🧮 Vector matching: Skipped (no embedding for streaming record)\n",
      "  ⚡ Exact matching: 2 matches found\n",
      "  🔍 Fuzzy matching: 1 matches found\n",
      "  🧮 Vector matching: 0 matches found\n",
      "  📋 Business rules: 2 matches found\n",
      "  📊 Combined score: 0.66 (MEDIUM confidence) → HUMAN_REVIEW\n",
      "  🗃️ → HUMAN_REVIEW Spanner (entity_id: 16da2581..., merged with existing 16da2581...)\n",
      "  ⏱️ Processing time: 1655ms\n",
      "  🗃️ → Stored match result in Spanner (match_id: f8aec4a2...)\n",
      "\n",
      "📨 Record 99/100: Daniel Wright (gabriel90@outlook.com) - ecommerce Source\n",
      "  🧮 Vector matching: Skipped (no embedding for streaming record)\n",
      "  ⚡ Exact matching: 1 matches found\n",
      "  🔍 Fuzzy matching: 1 matches found\n",
      "  🧮 Vector matching: 0 matches found\n",
      "  📋 Business rules: 2 matches found\n",
      "  📊 Combined score: 0.66 (MEDIUM confidence) → HUMAN_REVIEW\n",
      "  🗃️ → HUMAN_REVIEW Spanner (entity_id: 3eb98eaf..., merged with existing 3eb98eaf...)\n",
      "  ⏱️ Processing time: 1655ms\n",
      "  🗃️ → Stored match result in Spanner (match_id: 8f475594...)\n",
      "\n",
      "📨 Record 100/100: Mike Nooton (watsonrichard@example.net) - erp Source\n",
      "  🧮 Vector matching: Skipped (no embedding for streaming record)\n",
      "  ⚡ Exact matching: 2 matches found\n",
      "  🔍 Fuzzy matching: 0 matches found\n",
      "  🧮 Vector matching: 0 matches found\n",
      "  📋 Business rules: 2 matches found\n",
      "  📊 Combined score: 0.38 (LOW confidence) → CREATE_NEW\n",
      "  ⚠️ Error staging entity: 409 Row [c767600444929aaa62b350317f596f62a78b] in table new_entities_staging already exists\n",
      "  🗃️ → CREATE_NEW Spanner (entity_id: c7676004..., new record created)\n",
      "  ⏱️ Processing time: 1879ms\n",
      "  🗃️ → Stored match result in Spanner (match_id: 0e21c685...)\n",
      "\n",
      "🎉 Streaming Simulation Complete!\n",
      "==================================================\n",
      "📊 Processing Summary:\n",
      "  Records processed: 100\n",
      "  Total time: 209.3 seconds\n",
      "  Average processing time: 1685ms\n",
      "  Throughput: 0.5 records/second\n",
      "\n",
      "⚖️ Decision Distribution:\n",
      "  HUMAN_REVIEW: 85 (85.0%)\n",
      "  CREATE_NEW: 15 (15.0%)\n",
      "\n",
      "🎯 Confidence Distribution:\n",
      "  MEDIUM: 85 (85.0%)\n",
      "  LOW: 15 (15.0%)\n",
      "\n",
      "📁 Results stored in Spanner table: match_results\n",
      "💡 Use Section 9 to analyze the results from Spanner\n"
     ]
    }
   ],
   "source": [
    "print(\n",
    "    f\"🚀 Starting Streaming MDM Simulation ({NUM_STREAMING_RECORDS} records, per 100ms)\")\n",
    "print(\"=\" * 80)\n",
    "print()\n",
    "\n",
    "# Validate prerequisites\n",
    "if not streaming_records:\n",
    "    print(\"❌ No streaming records available. Please run data generation first.\")\n",
    "elif not processor:\n",
    "    print(\"❌ Processor not initialized. Please run processor setup first.\")\n",
    "else:\n",
    "    # Track overall statistics\n",
    "    start_time = time.time()\n",
    "    total_processing_time = 0\n",
    "    action_counts = {}\n",
    "    confidence_counts = {}\n",
    "\n",
    "    # Process each record\n",
    "    for i, record in enumerate(streaming_records, 1):\n",
    "        record_start = time.time()\n",
    "\n",
    "        # Process the record with match details\n",
    "        result = processor.process_record(\n",
    "            record, i, NUM_STREAMING_RECORDS, include_match_details=True)\n",
    "\n",
    "        # Store match result in Spanner\n",
    "        try:\n",
    "            match_id = processor.store_match_result(record, result)\n",
    "            print(\n",
    "                f\"  🗃️ → Stored match result in Spanner (match_id: {match_id[:8]}...)\")\n",
    "        except Exception as e:\n",
    "            print(f\"  ⚠️ → Failed to store match result: {e}\")\n",
    "\n",
    "        # Update statistics\n",
    "        total_processing_time += result.get('processing_time_ms', 0)\n",
    "        update_statistics(result, action_counts, confidence_counts)\n",
    "\n",
    "        # Sleep to maintain processing pace\n",
    "        elapsed = time.time() - record_start\n",
    "        sleep_time = max(0, PROCESSING_DELAY_SEC - elapsed)\n",
    "        if sleep_time > 0:\n",
    "            print(f\"  ⏱️ Next record in {sleep_time:.1f}s...\")\n",
    "            time.sleep(sleep_time)\n",
    "\n",
    "        print()  # Empty line for readability\n",
    "\n",
    "    # Calculate final statistics\n",
    "    total_time = time.time() - start_time\n",
    "\n",
    "    print(\"🎉 Streaming Simulation Complete!\")\n",
    "    print(\"=\" * 50)\n",
    "    print(f\"📊 Processing Summary:\")\n",
    "    print(f\"  Records processed: {NUM_STREAMING_RECORDS}\")\n",
    "    print(f\"  Total time: {total_time:.1f} seconds\")\n",
    "    print(\n",
    "        f\"  Average processing time: {total_processing_time/NUM_STREAMING_RECORDS:.0f}ms\")\n",
    "    print(\n",
    "        f\"  Throughput: {NUM_STREAMING_RECORDS/total_time:.1f} records/second\")\n",
    "\n",
    "    print(f\"\\n⚖️ Decision Distribution:\")\n",
    "    for action, count in action_counts.items():\n",
    "        percentage = (count / NUM_STREAMING_RECORDS) * 100\n",
    "        print(f\"  {action}: {count} ({percentage:.1f}%)\")\n",
    "\n",
    "    print(f\"\\n🎯 Confidence Distribution:\")\n",
    "    for confidence, count in confidence_counts.items():\n",
    "        percentage = (count / NUM_STREAMING_RECORDS) * 100\n",
    "        print(f\"  {confidence}: {count} ({percentage:.1f}%)\")\n",
    "\n",
    "    print(f\"\\n📁 Results stored in Spanner table: match_results\")\n",
    "    print(\"💡 Use Section 9 to analyze the results from Spanner\")"
   ]
  },
  {
   "cell_type": "markdown",
   "metadata": {},
   "source": [
    "## 9. Analysis and Visualization\n",
    "\n",
    "Analyze the streaming processing results."
   ]
  },
  {
   "cell_type": "code",
   "execution_count": 11,
   "metadata": {},
   "outputs": [
    {
     "name": "stdout",
     "output_type": "stream",
     "text": [
      "📊 Analyzing streaming processing results from Spanner...\n",
      "\n",
      "⚡ Performance Analysis:\n",
      "  Average processing time: 1694ms\n",
      "  Median processing time: 1649ms\n",
      "  95th percentile: 2060ms\n",
      "  Max processing time: 3443ms\n",
      "\n",
      "🎯 Matching Effectiveness:\n",
      "  Average combined score: 0.594\n",
      "  Records with exact matches: 182\n",
      "  Records with fuzzy matches: 177\n",
      "  Records with vector matches: 0\n",
      "  Records with business matches: 189\n"
     ]
    }
   ],
   "source": [
    "print(\"📊 Analyzing streaming processing results from Spanner...\")\n",
    "\n",
    "# Query transaction data from Spanner\n",
    "transactions_query = \"\"\"\n",
    "SELECT\n",
    "    record1_id, source1,\n",
    "    exact_score, fuzzy_score, vector_score, business_score,\n",
    "    combined_score, confidence_level, match_decision,\n",
    "    processing_time_ms, matched_at\n",
    "FROM match_results\n",
    "WHERE matched_at >= TIMESTAMP_SUB(CURRENT_TIMESTAMP(), INTERVAL 1 HOUR)\n",
    "ORDER BY matched_at DESC\n",
    "\"\"\"\n",
    "\n",
    "transactions_df = spanner_helper.execute_sql(transactions_query)\n",
    "\n",
    "# Rename columns for compatibility with existing analysis\n",
    "transactions_df.columns = [\n",
    "    'record_id', 'source_system',\n",
    "    'exact_score', 'fuzzy_score', 'vector_score', 'business_score',\n",
    "    'combined_score', 'confidence', 'action',\n",
    "    'processing_time_ms', 'matched_at'\n",
    "]\n",
    "\n",
    "# Add calculated columns for match counts\n",
    "transactions_df['exact_matches'] = (\n",
    "    transactions_df['exact_score'] > 0).astype(int)\n",
    "transactions_df['fuzzy_matches'] = (\n",
    "    transactions_df['fuzzy_score'] > 0).astype(int)\n",
    "transactions_df['vector_matches'] = (\n",
    "    transactions_df['vector_score'] > 0).astype(int)\n",
    "transactions_df['business_matches'] = (\n",
    "    transactions_df['business_score'] > 0).astype(int)\n",
    "\n",
    "\n",
    "# Performance analysis\n",
    "print(\"\\n⚡ Performance Analysis:\")\n",
    "print(\n",
    "    f\"  Average processing time: {transactions_df['processing_time_ms'].mean():.0f}ms\")\n",
    "print(\n",
    "    f\"  Median processing time: {transactions_df['processing_time_ms'].median():.0f}ms\")\n",
    "print(\n",
    "    f\"  95th percentile: {transactions_df['processing_time_ms'].quantile(0.95):.0f}ms\")\n",
    "print(\n",
    "    f\"  Max processing time: {transactions_df['processing_time_ms'].max():.0f}ms\")\n",
    "\n",
    "# Matching effectiveness\n",
    "print(\"\\n🎯 Matching Effectiveness:\")\n",
    "print(\n",
    "    f\"  Average combined score: {transactions_df['combined_score'].mean():.3f}\")\n",
    "print(\n",
    "    f\"  Records with exact matches: {(transactions_df['exact_matches'] > 0).sum()}\")\n",
    "print(\n",
    "    f\"  Records with fuzzy matches: {(transactions_df['fuzzy_matches'] > 0).sum()}\")\n",
    "print(\n",
    "    f\"  Records with vector matches: {(transactions_df['vector_matches'] > 0).sum()}\")\n",
    "print(\n",
    "    f\"  Records with business matches: {(transactions_df['business_matches'] > 0).sum()}\")"
   ]
  },
  {
   "cell_type": "code",
   "execution_count": 12,
   "metadata": {},
   "outputs": [
    {
     "name": "stdout",
     "output_type": "stream",
     "text": [
      "📈 Creating performance visualizations...\n"
     ]
    },
    {
     "data": {
      "application/vnd.plotly.v1+json": {
       "config": {
        "plotlyServerURL": "https://plot.ly"
       },
       "data": [
        {
         "name": "Processing Time (ms)",
         "type": "histogram",
         "x": {
          "bdata": "Vwd2BnYGnwZ5BnkGdgYiCHkGdgZ5BoQGhgZ8BnoGeQYXCNYGzQYDCFUGjwZzDVEGjAVSBk8GUwaDBVQGWwZSBl8GWAZUBlQGVgZRBlAGUgYACB4HVAbrB/AHUQaGBfYHTgZUBicHVgZSBlIGTwZSBlAGVAZXBloGUQb3B1AGUAZOBpsFUQaKBU4GlgZTBlAGUgYbB1QGWwZRBk4G3gdQBlEGTwZPBoYFVAZOBokFUQaMBSwHTwZQBlsGWwZiBlgGYwZpBkYHvgZxBnQGRgd2BnYGbgZ6BnEGfwZ/BmwGCAgJCHoGigaEBo0GfwYSCG4GcAZzBnEGcgZzBnMGdAZ0Bn0GogbpCUMHbgZzBnEGbAaLBnMGpgV3Bg8IcQYLCHIGCgh0Bp8FbgZwBnAGcQZxBhkIoQWiBXIGcAZuBnEGDAh9BnYGggYMCHcGqAV1Bm8GdAZwBmwGcAZzBgwIbganBW4GCAhyBm0GcgZxBhgIowVxBnEGpAWnBaYFEQhzBncGcgZ5BrsFcwaABp4GUQeZCA==",
          "dtype": "i2"
         },
         "xaxis": "x",
         "yaxis": "y"
        },
        {
         "domain": {
          "x": [
           0.55,
           1
          ],
          "y": [
           0.625,
           1
          ]
         },
         "labels": [
          "HUMAN_REVIEW",
          "CREATE_NEW"
         ],
         "name": "Actions",
         "type": "pie",
         "values": {
          "bdata": "qAAgAA==",
          "dtype": "i2"
         }
        },
        {
         "domain": {
          "x": [
           0,
           0.45
          ],
          "y": [
           0,
           0.375
          ]
         },
         "labels": [
          "MEDIUM",
          "LOW"
         ],
         "name": "Confidence",
         "type": "pie",
         "values": {
          "bdata": "qAAgAA==",
          "dtype": "i2"
         }
        },
        {
         "name": "Combined Score",
         "type": "histogram",
         "x": {
          "bdata": "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",
          "dtype": "f8"
         },
         "xaxis": "x2",
         "yaxis": "y2"
        }
       ],
       "layout": {
        "annotations": [
         {
          "font": {
           "size": 16
          },
          "showarrow": false,
          "text": "Processing Time Distribution",
          "x": 0.225,
          "xanchor": "center",
          "xref": "paper",
          "y": 1,
          "yanchor": "bottom",
          "yref": "paper"
         },
         {
          "font": {
           "size": 16
          },
          "showarrow": false,
          "text": "Action Distribution",
          "x": 0.775,
          "xanchor": "center",
          "xref": "paper",
          "y": 1,
          "yanchor": "bottom",
          "yref": "paper"
         },
         {
          "font": {
           "size": 16
          },
          "showarrow": false,
          "text": "Confidence Distribution",
          "x": 0.225,
          "xanchor": "center",
          "xref": "paper",
          "y": 0.375,
          "yanchor": "bottom",
          "yref": "paper"
         },
         {
          "font": {
           "size": 16
          },
          "showarrow": false,
          "text": "Combined Score Distribution",
          "x": 0.775,
          "xanchor": "center",
          "xref": "paper",
          "y": 0.375,
          "yanchor": "bottom",
          "yref": "paper"
         }
        ],
        "showlegend": false,
        "template": {
         "data": {
          "bar": [
           {
            "error_x": {
             "color": "#2a3f5f"
            },
            "error_y": {
             "color": "#2a3f5f"
            },
            "marker": {
             "line": {
              "color": "#E5ECF6",
              "width": 0.5
             },
             "pattern": {
              "fillmode": "overlay",
              "size": 10,
              "solidity": 0.2
             }
            },
            "type": "bar"
           }
          ],
          "barpolar": [
           {
            "marker": {
             "line": {
              "color": "#E5ECF6",
              "width": 0.5
             },
             "pattern": {
              "fillmode": "overlay",
              "size": 10,
              "solidity": 0.2
             }
            },
            "type": "barpolar"
           }
          ],
          "carpet": [
           {
            "aaxis": {
             "endlinecolor": "#2a3f5f",
             "gridcolor": "white",
             "linecolor": "white",
             "minorgridcolor": "white",
             "startlinecolor": "#2a3f5f"
            },
            "baxis": {
             "endlinecolor": "#2a3f5f",
             "gridcolor": "white",
             "linecolor": "white",
             "minorgridcolor": "white",
             "startlinecolor": "#2a3f5f"
            },
            "type": "carpet"
           }
          ],
          "choropleth": [
           {
            "colorbar": {
             "outlinewidth": 0,
             "ticks": ""
            },
            "type": "choropleth"
           }
          ],
          "contour": [
           {
            "colorbar": {
             "outlinewidth": 0,
             "ticks": ""
            },
            "colorscale": [
             [
              0,
              "#0d0887"
             ],
             [
              0.1111111111111111,
              "#46039f"
             ],
             [
              0.2222222222222222,
              "#7201a8"
             ],
             [
              0.3333333333333333,
              "#9c179e"
             ],
             [
              0.4444444444444444,
              "#bd3786"
             ],
             [
              0.5555555555555556,
              "#d8576b"
             ],
             [
              0.6666666666666666,
              "#ed7953"
             ],
             [
              0.7777777777777778,
              "#fb9f3a"
             ],
             [
              0.8888888888888888,
              "#fdca26"
             ],
             [
              1,
              "#f0f921"
             ]
            ],
            "type": "contour"
           }
          ],
          "contourcarpet": [
           {
            "colorbar": {
             "outlinewidth": 0,
             "ticks": ""
            },
            "type": "contourcarpet"
           }
          ],
          "heatmap": [
           {
            "colorbar": {
             "outlinewidth": 0,
             "ticks": ""
            },
            "colorscale": [
             [
              0,
              "#0d0887"
             ],
             [
              0.1111111111111111,
              "#46039f"
             ],
             [
              0.2222222222222222,
              "#7201a8"
             ],
             [
              0.3333333333333333,
              "#9c179e"
             ],
             [
              0.4444444444444444,
              "#bd3786"
             ],
             [
              0.5555555555555556,
              "#d8576b"
             ],
             [
              0.6666666666666666,
              "#ed7953"
             ],
             [
              0.7777777777777778,
              "#fb9f3a"
             ],
             [
              0.8888888888888888,
              "#fdca26"
             ],
             [
              1,
              "#f0f921"
             ]
            ],
            "type": "heatmap"
           }
          ],
          "histogram": [
           {
            "marker": {
             "pattern": {
              "fillmode": "overlay",
              "size": 10,
              "solidity": 0.2
             }
            },
            "type": "histogram"
           }
          ],
          "histogram2d": [
           {
            "colorbar": {
             "outlinewidth": 0,
             "ticks": ""
            },
            "colorscale": [
             [
              0,
              "#0d0887"
             ],
             [
              0.1111111111111111,
              "#46039f"
             ],
             [
              0.2222222222222222,
              "#7201a8"
             ],
             [
              0.3333333333333333,
              "#9c179e"
             ],
             [
              0.4444444444444444,
              "#bd3786"
             ],
             [
              0.5555555555555556,
              "#d8576b"
             ],
             [
              0.6666666666666666,
              "#ed7953"
             ],
             [
              0.7777777777777778,
              "#fb9f3a"
             ],
             [
              0.8888888888888888,
              "#fdca26"
             ],
             [
              1,
              "#f0f921"
             ]
            ],
            "type": "histogram2d"
           }
          ],
          "histogram2dcontour": [
           {
            "colorbar": {
             "outlinewidth": 0,
             "ticks": ""
            },
            "colorscale": [
             [
              0,
              "#0d0887"
             ],
             [
              0.1111111111111111,
              "#46039f"
             ],
             [
              0.2222222222222222,
              "#7201a8"
             ],
             [
              0.3333333333333333,
              "#9c179e"
             ],
             [
              0.4444444444444444,
              "#bd3786"
             ],
             [
              0.5555555555555556,
              "#d8576b"
             ],
             [
              0.6666666666666666,
              "#ed7953"
             ],
             [
              0.7777777777777778,
              "#fb9f3a"
             ],
             [
              0.8888888888888888,
              "#fdca26"
             ],
             [
              1,
              "#f0f921"
             ]
            ],
            "type": "histogram2dcontour"
           }
          ],
          "mesh3d": [
           {
            "colorbar": {
             "outlinewidth": 0,
             "ticks": ""
            },
            "type": "mesh3d"
           }
          ],
          "parcoords": [
           {
            "line": {
             "colorbar": {
              "outlinewidth": 0,
              "ticks": ""
             }
            },
            "type": "parcoords"
           }
          ],
          "pie": [
           {
            "automargin": true,
            "type": "pie"
           }
          ],
          "scatter": [
           {
            "fillpattern": {
             "fillmode": "overlay",
             "size": 10,
             "solidity": 0.2
            },
            "type": "scatter"
           }
          ],
          "scatter3d": [
           {
            "line": {
             "colorbar": {
              "outlinewidth": 0,
              "ticks": ""
             }
            },
            "marker": {
             "colorbar": {
              "outlinewidth": 0,
              "ticks": ""
             }
            },
            "type": "scatter3d"
           }
          ],
          "scattercarpet": [
           {
            "marker": {
             "colorbar": {
              "outlinewidth": 0,
              "ticks": ""
             }
            },
            "type": "scattercarpet"
           }
          ],
          "scattergeo": [
           {
            "marker": {
             "colorbar": {
              "outlinewidth": 0,
              "ticks": ""
             }
            },
            "type": "scattergeo"
           }
          ],
          "scattergl": [
           {
            "marker": {
             "colorbar": {
              "outlinewidth": 0,
              "ticks": ""
             }
            },
            "type": "scattergl"
           }
          ],
          "scattermap": [
           {
            "marker": {
             "colorbar": {
              "outlinewidth": 0,
              "ticks": ""
             }
            },
            "type": "scattermap"
           }
          ],
          "scattermapbox": [
           {
            "marker": {
             "colorbar": {
              "outlinewidth": 0,
              "ticks": ""
             }
            },
            "type": "scattermapbox"
           }
          ],
          "scatterpolar": [
           {
            "marker": {
             "colorbar": {
              "outlinewidth": 0,
              "ticks": ""
             }
            },
            "type": "scatterpolar"
           }
          ],
          "scatterpolargl": [
           {
            "marker": {
             "colorbar": {
              "outlinewidth": 0,
              "ticks": ""
             }
            },
            "type": "scatterpolargl"
           }
          ],
          "scatterternary": [
           {
            "marker": {
             "colorbar": {
              "outlinewidth": 0,
              "ticks": ""
             }
            },
            "type": "scatterternary"
           }
          ],
          "surface": [
           {
            "colorbar": {
             "outlinewidth": 0,
             "ticks": ""
            },
            "colorscale": [
             [
              0,
              "#0d0887"
             ],
             [
              0.1111111111111111,
              "#46039f"
             ],
             [
              0.2222222222222222,
              "#7201a8"
             ],
             [
              0.3333333333333333,
              "#9c179e"
             ],
             [
              0.4444444444444444,
              "#bd3786"
             ],
             [
              0.5555555555555556,
              "#d8576b"
             ],
             [
              0.6666666666666666,
              "#ed7953"
             ],
             [
              0.7777777777777778,
              "#fb9f3a"
             ],
             [
              0.8888888888888888,
              "#fdca26"
             ],
             [
              1,
              "#f0f921"
             ]
            ],
            "type": "surface"
           }
          ],
          "table": [
           {
            "cells": {
             "fill": {
              "color": "#EBF0F8"
             },
             "line": {
              "color": "white"
             }
            },
            "header": {
             "fill": {
              "color": "#C8D4E3"
             },
             "line": {
              "color": "white"
             }
            },
            "type": "table"
           }
          ]
         },
         "layout": {
          "annotationdefaults": {
           "arrowcolor": "#2a3f5f",
           "arrowhead": 0,
           "arrowwidth": 1
          },
          "autotypenumbers": "strict",
          "coloraxis": {
           "colorbar": {
            "outlinewidth": 0,
            "ticks": ""
           }
          },
          "colorscale": {
           "diverging": [
            [
             0,
             "#8e0152"
            ],
            [
             0.1,
             "#c51b7d"
            ],
            [
             0.2,
             "#de77ae"
            ],
            [
             0.3,
             "#f1b6da"
            ],
            [
             0.4,
             "#fde0ef"
            ],
            [
             0.5,
             "#f7f7f7"
            ],
            [
             0.6,
             "#e6f5d0"
            ],
            [
             0.7,
             "#b8e186"
            ],
            [
             0.8,
             "#7fbc41"
            ],
            [
             0.9,
             "#4d9221"
            ],
            [
             1,
             "#276419"
            ]
           ],
           "sequential": [
            [
             0,
             "#0d0887"
            ],
            [
             0.1111111111111111,
             "#46039f"
            ],
            [
             0.2222222222222222,
             "#7201a8"
            ],
            [
             0.3333333333333333,
             "#9c179e"
            ],
            [
             0.4444444444444444,
             "#bd3786"
            ],
            [
             0.5555555555555556,
             "#d8576b"
            ],
            [
             0.6666666666666666,
             "#ed7953"
            ],
            [
             0.7777777777777778,
             "#fb9f3a"
            ],
            [
             0.8888888888888888,
             "#fdca26"
            ],
            [
             1,
             "#f0f921"
            ]
           ],
           "sequentialminus": [
            [
             0,
             "#0d0887"
            ],
            [
             0.1111111111111111,
             "#46039f"
            ],
            [
             0.2222222222222222,
             "#7201a8"
            ],
            [
             0.3333333333333333,
             "#9c179e"
            ],
            [
             0.4444444444444444,
             "#bd3786"
            ],
            [
             0.5555555555555556,
             "#d8576b"
            ],
            [
             0.6666666666666666,
             "#ed7953"
            ],
            [
             0.7777777777777778,
             "#fb9f3a"
            ],
            [
             0.8888888888888888,
             "#fdca26"
            ],
            [
             1,
             "#f0f921"
            ]
           ]
          },
          "colorway": [
           "#636efa",
           "#EF553B",
           "#00cc96",
           "#ab63fa",
           "#FFA15A",
           "#19d3f3",
           "#FF6692",
           "#B6E880",
           "#FF97FF",
           "#FECB52"
          ],
          "font": {
           "color": "#2a3f5f"
          },
          "geo": {
           "bgcolor": "white",
           "lakecolor": "white",
           "landcolor": "#E5ECF6",
           "showlakes": true,
           "showland": true,
           "subunitcolor": "white"
          },
          "hoverlabel": {
           "align": "left"
          },
          "hovermode": "closest",
          "mapbox": {
           "style": "light"
          },
          "paper_bgcolor": "white",
          "plot_bgcolor": "#E5ECF6",
          "polar": {
           "angularaxis": {
            "gridcolor": "white",
            "linecolor": "white",
            "ticks": ""
           },
           "bgcolor": "#E5ECF6",
           "radialaxis": {
            "gridcolor": "white",
            "linecolor": "white",
            "ticks": ""
           }
          },
          "scene": {
           "xaxis": {
            "backgroundcolor": "#E5ECF6",
            "gridcolor": "white",
            "gridwidth": 2,
            "linecolor": "white",
            "showbackground": true,
            "ticks": "",
            "zerolinecolor": "white"
           },
           "yaxis": {
            "backgroundcolor": "#E5ECF6",
            "gridcolor": "white",
            "gridwidth": 2,
            "linecolor": "white",
            "showbackground": true,
            "ticks": "",
            "zerolinecolor": "white"
           },
           "zaxis": {
            "backgroundcolor": "#E5ECF6",
            "gridcolor": "white",
            "gridwidth": 2,
            "linecolor": "white",
            "showbackground": true,
            "ticks": "",
            "zerolinecolor": "white"
           }
          },
          "shapedefaults": {
           "line": {
            "color": "#2a3f5f"
           }
          },
          "ternary": {
           "aaxis": {
            "gridcolor": "white",
            "linecolor": "white",
            "ticks": ""
           },
           "baxis": {
            "gridcolor": "white",
            "linecolor": "white",
            "ticks": ""
           },
           "bgcolor": "#E5ECF6",
           "caxis": {
            "gridcolor": "white",
            "linecolor": "white",
            "ticks": ""
           }
          },
          "title": {
           "x": 0.05
          },
          "xaxis": {
           "automargin": true,
           "gridcolor": "white",
           "linecolor": "white",
           "ticks": "",
           "title": {
            "standoff": 15
           },
           "zerolinecolor": "white",
           "zerolinewidth": 2
          },
          "yaxis": {
           "automargin": true,
           "gridcolor": "white",
           "linecolor": "white",
           "ticks": "",
           "title": {
            "standoff": 15
           },
           "zerolinecolor": "white",
           "zerolinewidth": 2
          }
         }
        },
        "title": {
         "text": "Streaming MDM Performance Analysis"
        },
        "xaxis": {
         "anchor": "y",
         "domain": [
          0,
          0.45
         ]
        },
        "xaxis2": {
         "anchor": "y2",
         "domain": [
          0.55,
          1
         ]
        },
        "yaxis": {
         "anchor": "x",
         "domain": [
          0.625,
          1
         ]
        },
        "yaxis2": {
         "anchor": "x2",
         "domain": [
          0,
          0.375
         ]
        }
       }
      }
     },
     "metadata": {},
     "output_type": "display_data"
    },
    {
     "name": "stdout",
     "output_type": "stream",
     "text": [
      "✅ Visualizations created!\n"
     ]
    }
   ],
   "source": [
    "# Create visualizations\n",
    "print(\"📈 Creating performance visualizations...\")\n",
    "\n",
    "# Processing time distribution\n",
    "fig = make_subplots(\n",
    "    rows=2, cols=2,\n",
    "    subplot_titles=('Processing Time Distribution', 'Action Distribution',\n",
    "                    'Confidence Distribution', 'Combined Score Distribution'),\n",
    "    specs=[[{'type': 'histogram'}, {'type': 'pie'}],\n",
    "           [{'type': 'pie'}, {'type': 'histogram'}]]\n",
    ")\n",
    "\n",
    "# Processing time histogram\n",
    "fig.add_trace(\n",
    "    go.Histogram(\n",
    "        x=transactions_df['processing_time_ms'], name='Processing Time (ms)'),\n",
    "    row=1, col=1\n",
    ")\n",
    "\n",
    "# Action distribution pie chart\n",
    "action_counts = transactions_df['action'].value_counts()\n",
    "fig.add_trace(\n",
    "    go.Pie(labels=action_counts.index,\n",
    "           values=action_counts.values, name='Actions'),\n",
    "    row=1, col=2\n",
    ")\n",
    "\n",
    "# Confidence distribution pie chart\n",
    "confidence_counts = transactions_df['confidence'].value_counts()\n",
    "fig.add_trace(\n",
    "    go.Pie(labels=confidence_counts.index,\n",
    "           values=confidence_counts.values, name='Confidence'),\n",
    "    row=2, col=1\n",
    ")\n",
    "\n",
    "# Combined score histogram\n",
    "fig.add_trace(\n",
    "    go.Histogram(x=transactions_df['combined_score'], name='Combined Score'),\n",
    "    row=2, col=2\n",
    ")\n",
    "\n",
    "fig.update_layout(\n",
    "    title_text=\"Streaming MDM Performance Analysis\", showlegend=False)\n",
    "fig.show()\n",
    "\n",
    "print(\"✅ Visualizations created!\")"
   ]
  },
  {
   "cell_type": "code",
   "execution_count": 13,
   "metadata": {},
   "outputs": [
    {
     "name": "stdout",
     "output_type": "stream",
     "text": [
      "🎯 4-Strategy Effectiveness Analysis:\n"
     ]
    },
    {
     "data": {
      "text/html": [
       "<div>\n",
       "<style scoped>\n",
       "    .dataframe tbody tr th:only-of-type {\n",
       "        vertical-align: middle;\n",
       "    }\n",
       "\n",
       "    .dataframe tbody tr th {\n",
       "        vertical-align: top;\n",
       "    }\n",
       "\n",
       "    .dataframe thead th {\n",
       "        text-align: right;\n",
       "    }\n",
       "</style>\n",
       "<table border=\"1\" class=\"dataframe\">\n",
       "  <thead>\n",
       "    <tr style=\"text-align: right;\">\n",
       "      <th></th>\n",
       "      <th>Strategy</th>\n",
       "      <th>Records_with_Matches</th>\n",
       "      <th>Average_Score</th>\n",
       "    </tr>\n",
       "  </thead>\n",
       "  <tbody>\n",
       "    <tr>\n",
       "      <th>0</th>\n",
       "      <td>Exact</td>\n",
       "      <td>182</td>\n",
       "      <td>0.910000</td>\n",
       "    </tr>\n",
       "    <tr>\n",
       "      <th>1</th>\n",
       "      <td>Fuzzy</td>\n",
       "      <td>177</td>\n",
       "      <td>0.881364</td>\n",
       "    </tr>\n",
       "    <tr>\n",
       "      <th>2</th>\n",
       "      <td>Vector</td>\n",
       "      <td>0</td>\n",
       "      <td>0.000000</td>\n",
       "    </tr>\n",
       "    <tr>\n",
       "      <th>3</th>\n",
       "      <td>Business</td>\n",
       "      <td>189</td>\n",
       "      <td>0.278000</td>\n",
       "    </tr>\n",
       "  </tbody>\n",
       "</table>\n",
       "</div>"
      ],
      "text/plain": [
       "   Strategy  Records_with_Matches  Average_Score\n",
       "0     Exact                   182       0.910000\n",
       "1     Fuzzy                   177       0.881364\n",
       "2    Vector                     0       0.000000\n",
       "3  Business                   189       0.278000"
      ]
     },
     "metadata": {},
     "output_type": "display_data"
    },
    {
     "data": {
      "application/vnd.plotly.v1+json": {
       "config": {
        "plotlyServerURL": "https://plot.ly"
       },
       "data": [
        {
         "hovertemplate": "Strategy=%{x}<br>Records with Matches=%{y}<extra></extra>",
         "legendgroup": "",
         "marker": {
          "color": "#636efa",
          "pattern": {
           "shape": ""
          }
         },
         "name": "",
         "orientation": "v",
         "showlegend": false,
         "textposition": "auto",
         "type": "bar",
         "x": [
          "Exact",
          "Fuzzy",
          "Vector",
          "Business"
         ],
         "xaxis": "x",
         "y": {
          "bdata": "tgCxAAAAvQA=",
          "dtype": "i2"
         },
         "yaxis": "y"
        }
       ],
       "layout": {
        "barmode": "relative",
        "legend": {
         "tracegroupgap": 0
        },
        "template": {
         "data": {
          "bar": [
           {
            "error_x": {
             "color": "#2a3f5f"
            },
            "error_y": {
             "color": "#2a3f5f"
            },
            "marker": {
             "line": {
              "color": "#E5ECF6",
              "width": 0.5
             },
             "pattern": {
              "fillmode": "overlay",
              "size": 10,
              "solidity": 0.2
             }
            },
            "type": "bar"
           }
          ],
          "barpolar": [
           {
            "marker": {
             "line": {
              "color": "#E5ECF6",
              "width": 0.5
             },
             "pattern": {
              "fillmode": "overlay",
              "size": 10,
              "solidity": 0.2
             }
            },
            "type": "barpolar"
           }
          ],
          "carpet": [
           {
            "aaxis": {
             "endlinecolor": "#2a3f5f",
             "gridcolor": "white",
             "linecolor": "white",
             "minorgridcolor": "white",
             "startlinecolor": "#2a3f5f"
            },
            "baxis": {
             "endlinecolor": "#2a3f5f",
             "gridcolor": "white",
             "linecolor": "white",
             "minorgridcolor": "white",
             "startlinecolor": "#2a3f5f"
            },
            "type": "carpet"
           }
          ],
          "choropleth": [
           {
            "colorbar": {
             "outlinewidth": 0,
             "ticks": ""
            },
            "type": "choropleth"
           }
          ],
          "contour": [
           {
            "colorbar": {
             "outlinewidth": 0,
             "ticks": ""
            },
            "colorscale": [
             [
              0,
              "#0d0887"
             ],
             [
              0.1111111111111111,
              "#46039f"
             ],
             [
              0.2222222222222222,
              "#7201a8"
             ],
             [
              0.3333333333333333,
              "#9c179e"
             ],
             [
              0.4444444444444444,
              "#bd3786"
             ],
             [
              0.5555555555555556,
              "#d8576b"
             ],
             [
              0.6666666666666666,
              "#ed7953"
             ],
             [
              0.7777777777777778,
              "#fb9f3a"
             ],
             [
              0.8888888888888888,
              "#fdca26"
             ],
             [
              1,
              "#f0f921"
             ]
            ],
            "type": "contour"
           }
          ],
          "contourcarpet": [
           {
            "colorbar": {
             "outlinewidth": 0,
             "ticks": ""
            },
            "type": "contourcarpet"
           }
          ],
          "heatmap": [
           {
            "colorbar": {
             "outlinewidth": 0,
             "ticks": ""
            },
            "colorscale": [
             [
              0,
              "#0d0887"
             ],
             [
              0.1111111111111111,
              "#46039f"
             ],
             [
              0.2222222222222222,
              "#7201a8"
             ],
             [
              0.3333333333333333,
              "#9c179e"
             ],
             [
              0.4444444444444444,
              "#bd3786"
             ],
             [
              0.5555555555555556,
              "#d8576b"
             ],
             [
              0.6666666666666666,
              "#ed7953"
             ],
             [
              0.7777777777777778,
              "#fb9f3a"
             ],
             [
              0.8888888888888888,
              "#fdca26"
             ],
             [
              1,
              "#f0f921"
             ]
            ],
            "type": "heatmap"
           }
          ],
          "histogram": [
           {
            "marker": {
             "pattern": {
              "fillmode": "overlay",
              "size": 10,
              "solidity": 0.2
             }
            },
            "type": "histogram"
           }
          ],
          "histogram2d": [
           {
            "colorbar": {
             "outlinewidth": 0,
             "ticks": ""
            },
            "colorscale": [
             [
              0,
              "#0d0887"
             ],
             [
              0.1111111111111111,
              "#46039f"
             ],
             [
              0.2222222222222222,
              "#7201a8"
             ],
             [
              0.3333333333333333,
              "#9c179e"
             ],
             [
              0.4444444444444444,
              "#bd3786"
             ],
             [
              0.5555555555555556,
              "#d8576b"
             ],
             [
              0.6666666666666666,
              "#ed7953"
             ],
             [
              0.7777777777777778,
              "#fb9f3a"
             ],
             [
              0.8888888888888888,
              "#fdca26"
             ],
             [
              1,
              "#f0f921"
             ]
            ],
            "type": "histogram2d"
           }
          ],
          "histogram2dcontour": [
           {
            "colorbar": {
             "outlinewidth": 0,
             "ticks": ""
            },
            "colorscale": [
             [
              0,
              "#0d0887"
             ],
             [
              0.1111111111111111,
              "#46039f"
             ],
             [
              0.2222222222222222,
              "#7201a8"
             ],
             [
              0.3333333333333333,
              "#9c179e"
             ],
             [
              0.4444444444444444,
              "#bd3786"
             ],
             [
              0.5555555555555556,
              "#d8576b"
             ],
             [
              0.6666666666666666,
              "#ed7953"
             ],
             [
              0.7777777777777778,
              "#fb9f3a"
             ],
             [
              0.8888888888888888,
              "#fdca26"
             ],
             [
              1,
              "#f0f921"
             ]
            ],
            "type": "histogram2dcontour"
           }
          ],
          "mesh3d": [
           {
            "colorbar": {
             "outlinewidth": 0,
             "ticks": ""
            },
            "type": "mesh3d"
           }
          ],
          "parcoords": [
           {
            "line": {
             "colorbar": {
              "outlinewidth": 0,
              "ticks": ""
             }
            },
            "type": "parcoords"
           }
          ],
          "pie": [
           {
            "automargin": true,
            "type": "pie"
           }
          ],
          "scatter": [
           {
            "fillpattern": {
             "fillmode": "overlay",
             "size": 10,
             "solidity": 0.2
            },
            "type": "scatter"
           }
          ],
          "scatter3d": [
           {
            "line": {
             "colorbar": {
              "outlinewidth": 0,
              "ticks": ""
             }
            },
            "marker": {
             "colorbar": {
              "outlinewidth": 0,
              "ticks": ""
             }
            },
            "type": "scatter3d"
           }
          ],
          "scattercarpet": [
           {
            "marker": {
             "colorbar": {
              "outlinewidth": 0,
              "ticks": ""
             }
            },
            "type": "scattercarpet"
           }
          ],
          "scattergeo": [
           {
            "marker": {
             "colorbar": {
              "outlinewidth": 0,
              "ticks": ""
             }
            },
            "type": "scattergeo"
           }
          ],
          "scattergl": [
           {
            "marker": {
             "colorbar": {
              "outlinewidth": 0,
              "ticks": ""
             }
            },
            "type": "scattergl"
           }
          ],
          "scattermap": [
           {
            "marker": {
             "colorbar": {
              "outlinewidth": 0,
              "ticks": ""
             }
            },
            "type": "scattermap"
           }
          ],
          "scattermapbox": [
           {
            "marker": {
             "colorbar": {
              "outlinewidth": 0,
              "ticks": ""
             }
            },
            "type": "scattermapbox"
           }
          ],
          "scatterpolar": [
           {
            "marker": {
             "colorbar": {
              "outlinewidth": 0,
              "ticks": ""
             }
            },
            "type": "scatterpolar"
           }
          ],
          "scatterpolargl": [
           {
            "marker": {
             "colorbar": {
              "outlinewidth": 0,
              "ticks": ""
             }
            },
            "type": "scatterpolargl"
           }
          ],
          "scatterternary": [
           {
            "marker": {
             "colorbar": {
              "outlinewidth": 0,
              "ticks": ""
             }
            },
            "type": "scatterternary"
           }
          ],
          "surface": [
           {
            "colorbar": {
             "outlinewidth": 0,
             "ticks": ""
            },
            "colorscale": [
             [
              0,
              "#0d0887"
             ],
             [
              0.1111111111111111,
              "#46039f"
             ],
             [
              0.2222222222222222,
              "#7201a8"
             ],
             [
              0.3333333333333333,
              "#9c179e"
             ],
             [
              0.4444444444444444,
              "#bd3786"
             ],
             [
              0.5555555555555556,
              "#d8576b"
             ],
             [
              0.6666666666666666,
              "#ed7953"
             ],
             [
              0.7777777777777778,
              "#fb9f3a"
             ],
             [
              0.8888888888888888,
              "#fdca26"
             ],
             [
              1,
              "#f0f921"
             ]
            ],
            "type": "surface"
           }
          ],
          "table": [
           {
            "cells": {
             "fill": {
              "color": "#EBF0F8"
             },
             "line": {
              "color": "white"
             }
            },
            "header": {
             "fill": {
              "color": "#C8D4E3"
             },
             "line": {
              "color": "white"
             }
            },
            "type": "table"
           }
          ]
         },
         "layout": {
          "annotationdefaults": {
           "arrowcolor": "#2a3f5f",
           "arrowhead": 0,
           "arrowwidth": 1
          },
          "autotypenumbers": "strict",
          "coloraxis": {
           "colorbar": {
            "outlinewidth": 0,
            "ticks": ""
           }
          },
          "colorscale": {
           "diverging": [
            [
             0,
             "#8e0152"
            ],
            [
             0.1,
             "#c51b7d"
            ],
            [
             0.2,
             "#de77ae"
            ],
            [
             0.3,
             "#f1b6da"
            ],
            [
             0.4,
             "#fde0ef"
            ],
            [
             0.5,
             "#f7f7f7"
            ],
            [
             0.6,
             "#e6f5d0"
            ],
            [
             0.7,
             "#b8e186"
            ],
            [
             0.8,
             "#7fbc41"
            ],
            [
             0.9,
             "#4d9221"
            ],
            [
             1,
             "#276419"
            ]
           ],
           "sequential": [
            [
             0,
             "#0d0887"
            ],
            [
             0.1111111111111111,
             "#46039f"
            ],
            [
             0.2222222222222222,
             "#7201a8"
            ],
            [
             0.3333333333333333,
             "#9c179e"
            ],
            [
             0.4444444444444444,
             "#bd3786"
            ],
            [
             0.5555555555555556,
             "#d8576b"
            ],
            [
             0.6666666666666666,
             "#ed7953"
            ],
            [
             0.7777777777777778,
             "#fb9f3a"
            ],
            [
             0.8888888888888888,
             "#fdca26"
            ],
            [
             1,
             "#f0f921"
            ]
           ],
           "sequentialminus": [
            [
             0,
             "#0d0887"
            ],
            [
             0.1111111111111111,
             "#46039f"
            ],
            [
             0.2222222222222222,
             "#7201a8"
            ],
            [
             0.3333333333333333,
             "#9c179e"
            ],
            [
             0.4444444444444444,
             "#bd3786"
            ],
            [
             0.5555555555555556,
             "#d8576b"
            ],
            [
             0.6666666666666666,
             "#ed7953"
            ],
            [
             0.7777777777777778,
             "#fb9f3a"
            ],
            [
             0.8888888888888888,
             "#fdca26"
            ],
            [
             1,
             "#f0f921"
            ]
           ]
          },
          "colorway": [
           "#636efa",
           "#EF553B",
           "#00cc96",
           "#ab63fa",
           "#FFA15A",
           "#19d3f3",
           "#FF6692",
           "#B6E880",
           "#FF97FF",
           "#FECB52"
          ],
          "font": {
           "color": "#2a3f5f"
          },
          "geo": {
           "bgcolor": "white",
           "lakecolor": "white",
           "landcolor": "#E5ECF6",
           "showlakes": true,
           "showland": true,
           "subunitcolor": "white"
          },
          "hoverlabel": {
           "align": "left"
          },
          "hovermode": "closest",
          "mapbox": {
           "style": "light"
          },
          "paper_bgcolor": "white",
          "plot_bgcolor": "#E5ECF6",
          "polar": {
           "angularaxis": {
            "gridcolor": "white",
            "linecolor": "white",
            "ticks": ""
           },
           "bgcolor": "#E5ECF6",
           "radialaxis": {
            "gridcolor": "white",
            "linecolor": "white",
            "ticks": ""
           }
          },
          "scene": {
           "xaxis": {
            "backgroundcolor": "#E5ECF6",
            "gridcolor": "white",
            "gridwidth": 2,
            "linecolor": "white",
            "showbackground": true,
            "ticks": "",
            "zerolinecolor": "white"
           },
           "yaxis": {
            "backgroundcolor": "#E5ECF6",
            "gridcolor": "white",
            "gridwidth": 2,
            "linecolor": "white",
            "showbackground": true,
            "ticks": "",
            "zerolinecolor": "white"
           },
           "zaxis": {
            "backgroundcolor": "#E5ECF6",
            "gridcolor": "white",
            "gridwidth": 2,
            "linecolor": "white",
            "showbackground": true,
            "ticks": "",
            "zerolinecolor": "white"
           }
          },
          "shapedefaults": {
           "line": {
            "color": "#2a3f5f"
           }
          },
          "ternary": {
           "aaxis": {
            "gridcolor": "white",
            "linecolor": "white",
            "ticks": ""
           },
           "baxis": {
            "gridcolor": "white",
            "linecolor": "white",
            "ticks": ""
           },
           "bgcolor": "#E5ECF6",
           "caxis": {
            "gridcolor": "white",
            "linecolor": "white",
            "ticks": ""
           }
          },
          "title": {
           "x": 0.05
          },
          "xaxis": {
           "automargin": true,
           "gridcolor": "white",
           "linecolor": "white",
           "ticks": "",
           "title": {
            "standoff": 15
           },
           "zerolinecolor": "white",
           "zerolinewidth": 2
          },
          "yaxis": {
           "automargin": true,
           "gridcolor": "white",
           "linecolor": "white",
           "ticks": "",
           "title": {
            "standoff": 15
           },
           "zerolinecolor": "white",
           "zerolinewidth": 2
          }
         }
        },
        "title": {
         "text": "4-Strategy Matching Effectiveness"
        },
        "xaxis": {
         "anchor": "y",
         "domain": [
          0,
          1
         ],
         "title": {
          "text": "Strategy"
         }
        },
        "yaxis": {
         "anchor": "x",
         "domain": [
          0,
          1
         ],
         "title": {
          "text": "Records with Matches"
         }
        }
       }
      }
     },
     "metadata": {},
     "output_type": "display_data"
    },
    {
     "name": "stdout",
     "output_type": "stream",
     "text": [
      "✅ Strategy analysis complete!\n"
     ]
    }
   ],
   "source": [
    "# Strategy effectiveness analysis\n",
    "print(\"🎯 4-Strategy Effectiveness Analysis:\")\n",
    "\n",
    "strategy_stats = pd.DataFrame({\n",
    "    'Strategy': ['Exact', 'Fuzzy', 'Vector', 'Business'],\n",
    "    'Records_with_Matches': [\n",
    "        (transactions_df['exact_matches'] > 0).sum(),\n",
    "        (transactions_df['fuzzy_matches'] > 0).sum(),\n",
    "        (transactions_df['vector_matches'] > 0).sum(),\n",
    "        (transactions_df['business_matches'] > 0).sum()\n",
    "    ],\n",
    "    'Average_Score': [\n",
    "        transactions_df['exact_score'].mean(),\n",
    "        transactions_df['fuzzy_score'].mean(),\n",
    "        transactions_df['vector_score'].mean(),\n",
    "        transactions_df['business_score'].mean()\n",
    "    ]\n",
    "})\n",
    "\n",
    "display(strategy_stats)\n",
    "\n",
    "# Strategy effectiveness chart\n",
    "fig = px.bar(\n",
    "    strategy_stats,\n",
    "    x='Strategy',\n",
    "    y='Records_with_Matches',\n",
    "    title='4-Strategy Matching Effectiveness',\n",
    "    labels={'Records_with_Matches': 'Records with Matches'}\n",
    ")\n",
    "fig.show()\n",
    "\n",
    "print(\"✅ Strategy analysis complete!\")"
   ]
  },
  {
   "cell_type": "markdown",
   "metadata": {},
   "source": [
    "## 10. Final Golden Record Analysis\n",
    "\n",
    "Analyze the final state of golden records in Spanner."
   ]
  },
  {
   "cell_type": "code",
   "execution_count": 14,
   "metadata": {},
   "outputs": [
    {
     "name": "stdout",
     "output_type": "stream",
     "text": [
      "🏆 Analyzing final golden record state...\n",
      "\n",
      "📊 Final golden entities count: 110\n",
      "\n",
      "🔄 Processing Path Distribution:\n"
     ]
    },
    {
     "data": {
      "text/html": [
       "<div>\n",
       "<style scoped>\n",
       "    .dataframe tbody tr th:only-of-type {\n",
       "        vertical-align: middle;\n",
       "    }\n",
       "\n",
       "    .dataframe tbody tr th {\n",
       "        vertical-align: top;\n",
       "    }\n",
       "\n",
       "    .dataframe thead th {\n",
       "        text-align: right;\n",
       "    }\n",
       "</style>\n",
       "<table border=\"1\" class=\"dataframe\">\n",
       "  <thead>\n",
       "    <tr style=\"text-align: right;\">\n",
       "      <th></th>\n",
       "      <th>processing_path</th>\n",
       "      <th>count</th>\n",
       "    </tr>\n",
       "  </thead>\n",
       "  <tbody>\n",
       "    <tr>\n",
       "      <th>0</th>\n",
       "      <td>batch_migrated</td>\n",
       "      <td>95</td>\n",
       "    </tr>\n",
       "    <tr>\n",
       "      <th>1</th>\n",
       "      <td>stream</td>\n",
       "      <td>10</td>\n",
       "    </tr>\n",
       "    <tr>\n",
       "      <th>2</th>\n",
       "      <td>stream_updated</td>\n",
       "      <td>5</td>\n",
       "    </tr>\n",
       "  </tbody>\n",
       "</table>\n",
       "</div>"
      ],
      "text/plain": [
       "  processing_path  count\n",
       "0  batch_migrated     95\n",
       "1          stream     10\n",
       "2  stream_updated      5"
      ]
     },
     "metadata": {},
     "output_type": "display_data"
    },
    {
     "name": "stdout",
     "output_type": "stream",
     "text": [
      "\n",
      "📈 Source Record Count Distribution:\n"
     ]
    },
    {
     "data": {
      "text/html": [
       "<div>\n",
       "<style scoped>\n",
       "    .dataframe tbody tr th:only-of-type {\n",
       "        vertical-align: middle;\n",
       "    }\n",
       "\n",
       "    .dataframe tbody tr th {\n",
       "        vertical-align: top;\n",
       "    }\n",
       "\n",
       "    .dataframe thead th {\n",
       "        text-align: right;\n",
       "    }\n",
       "</style>\n",
       "<table border=\"1\" class=\"dataframe\">\n",
       "  <thead>\n",
       "    <tr style=\"text-align: right;\">\n",
       "      <th></th>\n",
       "      <th>source_record_count</th>\n",
       "      <th>entities</th>\n",
       "    </tr>\n",
       "  </thead>\n",
       "  <tbody>\n",
       "    <tr>\n",
       "      <th>0</th>\n",
       "      <td>1</td>\n",
       "      <td>7</td>\n",
       "    </tr>\n",
       "    <tr>\n",
       "      <th>1</th>\n",
       "      <td>2</td>\n",
       "      <td>24</td>\n",
       "    </tr>\n",
       "    <tr>\n",
       "      <th>2</th>\n",
       "      <td>3</td>\n",
       "      <td>37</td>\n",
       "    </tr>\n",
       "    <tr>\n",
       "      <th>3</th>\n",
       "      <td>4</td>\n",
       "      <td>18</td>\n",
       "    </tr>\n",
       "    <tr>\n",
       "      <th>4</th>\n",
       "      <td>5</td>\n",
       "      <td>16</td>\n",
       "    </tr>\n",
       "    <tr>\n",
       "      <th>5</th>\n",
       "      <td>6</td>\n",
       "      <td>5</td>\n",
       "    </tr>\n",
       "    <tr>\n",
       "      <th>6</th>\n",
       "      <td>7</td>\n",
       "      <td>2</td>\n",
       "    </tr>\n",
       "    <tr>\n",
       "      <th>7</th>\n",
       "      <td>22</td>\n",
       "      <td>1</td>\n",
       "    </tr>\n",
       "  </tbody>\n",
       "</table>\n",
       "</div>"
      ],
      "text/plain": [
       "   source_record_count  entities\n",
       "0                    1         7\n",
       "1                    2        24\n",
       "2                    3        37\n",
       "3                    4        18\n",
       "4                    5        16\n",
       "5                    6         5\n",
       "6                    7         2\n",
       "7                   22         1"
      ]
     },
     "metadata": {},
     "output_type": "display_data"
    },
    {
     "name": "stdout",
     "output_type": "stream",
     "text": [
      "\n",
      "🔄 Sample Updated Records (Streaming):\n"
     ]
    },
    {
     "data": {
      "text/html": [
       "<div>\n",
       "<style scoped>\n",
       "    .dataframe tbody tr th:only-of-type {\n",
       "        vertical-align: middle;\n",
       "    }\n",
       "\n",
       "    .dataframe tbody tr th {\n",
       "        vertical-align: top;\n",
       "    }\n",
       "\n",
       "    .dataframe thead th {\n",
       "        text-align: right;\n",
       "    }\n",
       "</style>\n",
       "<table border=\"1\" class=\"dataframe\">\n",
       "  <thead>\n",
       "    <tr style=\"text-align: right;\">\n",
       "      <th></th>\n",
       "      <th>entity_id</th>\n",
       "      <th>master_name</th>\n",
       "      <th>master_email</th>\n",
       "      <th>source_count</th>\n",
       "      <th>path</th>\n",
       "      <th>updated_at</th>\n",
       "    </tr>\n",
       "  </thead>\n",
       "  <tbody>\n",
       "    <tr>\n",
       "      <th>0</th>\n",
       "      <td>afca4bc55c06d6b016f0374eb7e88da6b692</td>\n",
       "      <td>LUIS HARPER</td>\n",
       "      <td>joel28@example.org</td>\n",
       "      <td>3</td>\n",
       "      <td>stream</td>\n",
       "      <td>2025-09-24 11:11:26.498296+00:00</td>\n",
       "    </tr>\n",
       "    <tr>\n",
       "      <th>1</th>\n",
       "      <td>e0be3dd816d8966379ff644e2f9f0c243164</td>\n",
       "      <td>JIM HORTON</td>\n",
       "      <td>jross@hotmail.com</td>\n",
       "      <td>1</td>\n",
       "      <td>stream</td>\n",
       "      <td>2025-09-24 11:11:19.854006+00:00</td>\n",
       "    </tr>\n",
       "    <tr>\n",
       "      <th>2</th>\n",
       "      <td>c71b00bcf2341334f04a5b958f0e85259d97</td>\n",
       "      <td>SCOTT SAMPSON</td>\n",
       "      <td>cory58@outlook.com</td>\n",
       "      <td>1</td>\n",
       "      <td>stream</td>\n",
       "      <td>2025-09-24 11:10:53.855958+00:00</td>\n",
       "    </tr>\n",
       "    <tr>\n",
       "      <th>3</th>\n",
       "      <td>047db959202c14e4e60d5db53b947b7f910e</td>\n",
       "      <td>VANESSA REED</td>\n",
       "      <td>xanderson@yahoo.com</td>\n",
       "      <td>2</td>\n",
       "      <td>stream</td>\n",
       "      <td>2025-09-24 11:10:30.040264+00:00</td>\n",
       "    </tr>\n",
       "    <tr>\n",
       "      <th>4</th>\n",
       "      <td>b07c7424dacd851bd8f9a1bff4e0dce13af4</td>\n",
       "      <td>C THOMPSON</td>\n",
       "      <td>smithjoshua@outlook.com</td>\n",
       "      <td>1</td>\n",
       "      <td>stream</td>\n",
       "      <td>2025-09-24 11:10:09.373901+00:00</td>\n",
       "    </tr>\n",
       "    <tr>\n",
       "      <th>5</th>\n",
       "      <td>13783ebe13f403c9b494be11c2026d3f432a</td>\n",
       "      <td>JEFFERY COLEMAN</td>\n",
       "      <td>kennethkidd@yahoo.com</td>\n",
       "      <td>1</td>\n",
       "      <td>stream</td>\n",
       "      <td>2025-09-24 11:10:02.668206+00:00</td>\n",
       "    </tr>\n",
       "    <tr>\n",
       "      <th>6</th>\n",
       "      <td>6655038bac53f8dcc5a95d2945083a465820</td>\n",
       "      <td>MARY COCHRAN</td>\n",
       "      <td>lweaver@yahoo.com</td>\n",
       "      <td>1</td>\n",
       "      <td>stream</td>\n",
       "      <td>2025-09-24 11:09:24.984220+00:00</td>\n",
       "    </tr>\n",
       "    <tr>\n",
       "      <th>7</th>\n",
       "      <td>35884410c041b1e3e8a0c9a823b1e7eb01d3</td>\n",
       "      <td>VINCENT HERRERA</td>\n",
       "      <td>jennifercarter@example.org</td>\n",
       "      <td>2</td>\n",
       "      <td>stream</td>\n",
       "      <td>2025-09-24 11:09:22.944822+00:00</td>\n",
       "    </tr>\n",
       "    <tr>\n",
       "      <th>8</th>\n",
       "      <td>f7b3d79062bf72b781fa42e8bc4ca4c37b7c</td>\n",
       "      <td>SARAH PERRY</td>\n",
       "      <td>pshaw@example.com</td>\n",
       "      <td>1</td>\n",
       "      <td>stream</td>\n",
       "      <td>2025-09-24 11:09:00.813258+00:00</td>\n",
       "    </tr>\n",
       "    <tr>\n",
       "      <th>9</th>\n",
       "      <td>bc4be7dd2ec10068e2848ecccc9b83d20213</td>\n",
       "      <td>PHILLIP ANDERSON</td>\n",
       "      <td>maryavila@outlook.com</td>\n",
       "      <td>1</td>\n",
       "      <td>stream</td>\n",
       "      <td>2025-09-24 11:08:09.740419+00:00</td>\n",
       "    </tr>\n",
       "  </tbody>\n",
       "</table>\n",
       "</div>"
      ],
      "text/plain": [
       "                              entity_id       master_name  \\\n",
       "0  afca4bc55c06d6b016f0374eb7e88da6b692       LUIS HARPER   \n",
       "1  e0be3dd816d8966379ff644e2f9f0c243164        JIM HORTON   \n",
       "2  c71b00bcf2341334f04a5b958f0e85259d97     SCOTT SAMPSON   \n",
       "3  047db959202c14e4e60d5db53b947b7f910e      VANESSA REED   \n",
       "4  b07c7424dacd851bd8f9a1bff4e0dce13af4        C THOMPSON   \n",
       "5  13783ebe13f403c9b494be11c2026d3f432a   JEFFERY COLEMAN   \n",
       "6  6655038bac53f8dcc5a95d2945083a465820      MARY COCHRAN   \n",
       "7  35884410c041b1e3e8a0c9a823b1e7eb01d3   VINCENT HERRERA   \n",
       "8  f7b3d79062bf72b781fa42e8bc4ca4c37b7c       SARAH PERRY   \n",
       "9  bc4be7dd2ec10068e2848ecccc9b83d20213  PHILLIP ANDERSON   \n",
       "\n",
       "                 master_email  source_count    path  \\\n",
       "0          joel28@example.org             3  stream   \n",
       "1           jross@hotmail.com             1  stream   \n",
       "2          cory58@outlook.com             1  stream   \n",
       "3         xanderson@yahoo.com             2  stream   \n",
       "4     smithjoshua@outlook.com             1  stream   \n",
       "5       kennethkidd@yahoo.com             1  stream   \n",
       "6           lweaver@yahoo.com             1  stream   \n",
       "7  jennifercarter@example.org             2  stream   \n",
       "8           pshaw@example.com             1  stream   \n",
       "9       maryavila@outlook.com             1  stream   \n",
       "\n",
       "                        updated_at  \n",
       "0 2025-09-24 11:11:26.498296+00:00  \n",
       "1 2025-09-24 11:11:19.854006+00:00  \n",
       "2 2025-09-24 11:10:53.855958+00:00  \n",
       "3 2025-09-24 11:10:30.040264+00:00  \n",
       "4 2025-09-24 11:10:09.373901+00:00  \n",
       "5 2025-09-24 11:10:02.668206+00:00  \n",
       "6 2025-09-24 11:09:24.984220+00:00  \n",
       "7 2025-09-24 11:09:22.944822+00:00  \n",
       "8 2025-09-24 11:09:00.813258+00:00  \n",
       "9 2025-09-24 11:08:09.740419+00:00  "
      ]
     },
     "metadata": {},
     "output_type": "display_data"
    },
    {
     "name": "stdout",
     "output_type": "stream",
     "text": [
      "\n",
      "✅ Golden record analysis complete!\n"
     ]
    }
   ],
   "source": [
    "print(\"🏆 Analyzing final golden record state...\")\n",
    "\n",
    "# Get final golden record count\n",
    "final_count = spanner_helper.get_table_count(\"golden_entities\")\n",
    "print(f\"\\n📊 Final golden entities count: {final_count}\")\n",
    "\n",
    "# Analyze processing paths\n",
    "path_query = \"\"\"\n",
    "SELECT processing_path, COUNT(*) as count\n",
    "FROM golden_entities\n",
    "GROUP BY processing_path\n",
    "ORDER BY count DESC\n",
    "\"\"\"\n",
    "\n",
    "path_df = spanner_helper.execute_sql(path_query)\n",
    "if not path_df.empty:\n",
    "    path_df.columns = ['processing_path', 'count']\n",
    "    print(\"\\n🔄 Processing Path Distribution:\")\n",
    "    display(path_df)\n",
    "\n",
    "# Analyze source record counts\n",
    "source_query = \"\"\"\n",
    "SELECT source_record_count, COUNT(*) as entities\n",
    "FROM golden_entities\n",
    "GROUP BY source_record_count\n",
    "ORDER BY source_record_count\n",
    "\"\"\"\n",
    "\n",
    "source_df = spanner_helper.execute_sql(source_query)\n",
    "if not source_df.empty:\n",
    "    source_df.columns = ['source_record_count', 'entities']\n",
    "    print(\"\\n📈 Source Record Count Distribution:\")\n",
    "    display(source_df)\n",
    "\n",
    "# Show sample updated records\n",
    "updated_query = \"\"\"\n",
    "SELECT entity_id, master_name, master_email, source_record_count,\n",
    "       processing_path, updated_at\n",
    "FROM golden_entities\n",
    "WHERE processing_path = 'stream'\n",
    "ORDER BY updated_at DESC\n",
    "LIMIT 10\n",
    "\"\"\"\n",
    "\n",
    "updated_df = spanner_helper.execute_sql(updated_query)\n",
    "if not updated_df.empty:\n",
    "    updated_df.columns = ['entity_id', 'master_name',\n",
    "                          'master_email', 'source_count', 'path', 'updated_at']\n",
    "    print(\"\\n🔄 Sample Updated Records (Streaming):\")\n",
    "    display(updated_df)\n",
    "\n",
    "print(\"\\n✅ Golden record analysis complete!\")"
   ]
  },
  {
   "cell_type": "markdown",
   "metadata": {},
   "source": [
    "## 11. Performance Metrics and Summary\n",
    "\n",
    "Calculate key performance indicators for the 4-strategy streaming MDM pipeline."
   ]
  },
  {
   "cell_type": "code",
   "execution_count": 15,
   "metadata": {},
   "outputs": [
    {
     "name": "stdout",
     "output_type": "stream",
     "text": [
      "📈 Calculating 4-Strategy Streaming MDM Performance Metrics...\n",
      "\n",
      "📊 Pipeline Statistics:\n",
      "  Initial golden records (from BigQuery): 100\n",
      "  Streaming records processed: 100\n",
      "  Final golden records: 110\n",
      "  Net new entities created: 10\n",
      "  Entity consolidation rate: 90.0%\n",
      "\n",
      "⚡ Performance Metrics:\n",
      "  Average processing time: 1694ms\n",
      "  Sub-second guarantee: 0/200 (0.0%)\n",
      "  Target <400ms: 0/200 (0.0%)\n",
      "\n",
      "🎯 4-Strategy Matching Results:\n",
      "  Auto-merge rate: 0/100 (0.0%)\n",
      "  New entity rate: 32/100 (32.0%)\n",
      "  Average confidence score: 0.594\n",
      "\n",
      "✅ Performance analysis complete!\n"
     ]
    }
   ],
   "source": [
    "print(\"📈 Calculating 4-Strategy Streaming MDM Performance Metrics...\")\n",
    "\n",
    "# Overall pipeline statistics\n",
    "initial_golden_count = golden_count if 'golden_count' in locals() else 0\n",
    "final_golden_count = spanner_helper.get_table_count(\"golden_entities\")\n",
    "new_entities_created = final_golden_count - initial_golden_count\n",
    "\n",
    "print(f\"\\n📊 Pipeline Statistics:\")\n",
    "print(f\"  Initial golden records (from BigQuery): {initial_golden_count}\")\n",
    "print(f\"  Streaming records processed: {NUM_STREAMING_RECORDS}\")\n",
    "print(f\"  Final golden records: {final_golden_count}\")\n",
    "print(f\"  Net new entities created: {new_entities_created}\")\n",
    "print(\n",
    "    f\"  Entity consolidation rate: {((NUM_STREAMING_RECORDS - new_entities_created) / NUM_STREAMING_RECORDS * 100):.1f}%\")\n",
    "\n",
    "# Performance metrics from transactions\n",
    "if 'transactions_df' in locals() and not transactions_df.empty:\n",
    "    print(f\"\\n⚡ Performance Metrics:\")\n",
    "    print(\n",
    "        f\"  Average processing time: {transactions_df['processing_time_ms'].mean():.0f}ms\")\n",
    "    print(\n",
    "        f\"  Sub-second guarantee: {(transactions_df['processing_time_ms'] < 1000).sum()}/{len(transactions_df)} ({(transactions_df['processing_time_ms'] < 1000).mean()*100:.1f}%)\")\n",
    "    print(\n",
    "        f\"  Target <400ms: {(transactions_df['processing_time_ms'] < 400).sum()}/{len(transactions_df)} ({(transactions_df['processing_time_ms'] < 400).mean()*100:.1f}%)\")\n",
    "\n",
    "    print(f\"\\n🎯 4-Strategy Matching Results:\")\n",
    "    print(\n",
    "        f\"  Auto-merge rate: {action_counts.get('AUTO_MERGE', 0)}/{NUM_STREAMING_RECORDS} ({action_counts.get('AUTO_MERGE', 0)/NUM_STREAMING_RECORDS*100:.1f}%)\")\n",
    "    print(\n",
    "        f\"  New entity rate: {action_counts.get('CREATE_NEW', 0)}/{NUM_STREAMING_RECORDS} ({action_counts.get('CREATE_NEW', 0)/NUM_STREAMING_RECORDS*100:.1f}%)\")\n",
    "    print(\n",
    "        f\"  Average confidence score: {transactions_df['combined_score'].mean():.3f}\")\n",
    "\n",
    "print(\"\\n✅ Performance analysis complete!\")"
   ]
  },
  {
   "cell_type": "markdown",
   "metadata": {},
   "source": [
    "## 12. Cleanup and Cost Management\n",
    "\n",
    "Optional cleanup to avoid ongoing Spanner charges."
   ]
  },
  {
   "cell_type": "code",
   "execution_count": 16,
   "metadata": {},
   "outputs": [
    {
     "name": "stdout",
     "output_type": "stream",
     "text": [
      "🧹 Demo Cleanup Options:\n",
      "==================================================\n",
      "💰 Current Spanner instance: mdm-streaming-demo\n",
      "📊 Processing units: 100 (regional)\n",
      "🗃️ Database: mdm_streaming\n",
      "\n",
      "⚠️ To avoid ongoing charges, you can delete the Spanner instance:\n",
      "   gcloud spanner instances delete mdm-streaming-demo --quiet\n",
      "\n",
      "💡 The BigQuery golden records remain unchanged for future use.\n",
      "✅ Streaming MDM demo completed successfully!\n"
     ]
    }
   ],
   "source": [
    "print(\"🧹 Demo Cleanup Options:\")\n",
    "print(\"=\" * 50)\n",
    "print(f\"💰 Current Spanner instance: {INSTANCE_ID}\")\n",
    "print(f\"📊 Processing units: 100 (regional)\")\n",
    "print(f\"🗃️ Database: {DATABASE_ID}\")\n",
    "print()\n",
    "print(\"⚠️ To avoid ongoing charges, you can delete the Spanner instance:\")\n",
    "print(f\"   gcloud spanner instances delete {INSTANCE_ID} --quiet\")\n",
    "print()\n",
    "print(\"💡 The BigQuery golden records remain unchanged for future use.\")\n",
    "print(\"✅ Streaming MDM demo completed successfully!\")"
   ]
  }
 ],
 "metadata": {
  "kernelspec": {
   "display_name": ".venv",
   "language": "python",
   "name": "python3"
  },
  "language_info": {
   "codemirror_mode": {
    "name": "ipython",
    "version": 3
   },
   "file_extension": ".py",
   "mimetype": "text/x-python",
   "name": "python",
   "nbconvert_exporter": "python",
   "pygments_lexer": "ipython3",
   "version": "3.12.11"
  }
 },
 "nbformat": 4,
 "nbformat_minor": 4
}
