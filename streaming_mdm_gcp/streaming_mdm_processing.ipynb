{
 "cells": [
  {
   "cell_type": "markdown",
   "metadata": {},
   "source": [
    "# Master Data Management (MDM) - Spanner Native Streaming Processing\n",
    "\n",
    "This notebook demonstrates a complete end-to-end streaming Master Data Management pipeline using Spanner's native capabilities:\n",
    "\n",
    "- **Golden Record Bootstrap**: Load existing golden records from BigQuery batch processing\n",
    "- **Spanner Infrastructure**: Set up minimal Spanner instance for real-time processing\n",
    "- **Data Migration**: Transfer golden records to Spanner for real-time matching\n",
    "- **Streaming Data Generation**: Create 100 new customer records for processing\n",
    "- **4-Way Real-time Matching**: Exact, fuzzy, vector, and business rules matching\n",
    "- **Synchronous Processing**: Sub-second processing with immediate feedback\n",
    "- **Golden Record Updates**: Apply survivorship rules and update master entities\n",
    "- **Live Performance Tracking**: Real-time metrics and CSV transaction logging\n",
    "\n",
    "## Architecture Overview\n",
    "\n",
    "This implementation follows the streaming processing path:\n",
    "1. **BigQuery Golden Records** → **Spanner Migration**\n",
    "2. **Kafka-like Stream** → **Real-time Standardization**\n",
    "3. **Spanner Vector Search** → **4-Way Matching Engine**\n",
    "4. **Confidence Scoring** → **AUTO_MERGE/CREATE_NEW Decisions**\n",
    "5. **Golden Record Updates** → **CSV Transaction Logging**"
   ]
  },
  {
   "cell_type": "markdown",
   "metadata": {},
   "source": [
    "## 1. Setup and Configuration"
   ]
  },
  {
   "cell_type": "code",
   "execution_count": 1,
   "metadata": {},
   "outputs": [
    {
     "name": "stdout",
     "output_type": "stream",
     "text": [
      "✅ Libraries imported successfully\n"
     ]
    }
   ],
   "source": [
    "# Import required libraries\n",
    "import warnings\n",
    "from datetime import datetime\n",
    "import csv\n",
    "import time\n",
    "from plotly.subplots import make_subplots\n",
    "import plotly.graph_objects as go\n",
    "import plotly.express as px\n",
    "import seaborn as sns\n",
    "import matplotlib.pyplot as plt\n",
    "import pandas as pd\n",
    "from batch_mdm_gcp.data_generator import MDMDataGenerator\n",
    "from batch_mdm_gcp.bigquery_utils import BigQueryMDMHelper\n",
    "from spanner_utils import SpannerMDMHelper\n",
    "from streaming_processor import StreamingMDMProcessor\n",
    "import sys\n",
    "import os\n",
    "import random\n",
    "\n",
    "sys.path.append('..')\n",
    "warnings.filterwarnings('ignore')\n",
    "\n",
    "# Set display options\n",
    "pd.set_option('display.max_columns', None)\n",
    "pd.set_option('display.width', None)\n",
    "plt.style.use('seaborn-v0_8')\n",
    "sns.set_palette(\"husl\")\n",
    "\n",
    "print(\"✅ Libraries imported successfully\")"
   ]
  },
  {
   "cell_type": "code",
   "execution_count": null,
   "metadata": {},
   "outputs": [
    {
     "name": "stdout",
     "output_type": "stream",
     "text": [
      "📋 Configuration loaded:\n",
      "  Target records: 100\n",
      "  Target latency: <400ms\n",
      "  Auto-merge threshold: ≥0.85\n",
      "  Create new threshold: <0.65\n"
     ]
    }
   ],
   "source": [
    "# =============================================================================\n",
    "# CONFIGURATION CONSTANTS - Centralized Settings\n",
    "# =============================================================================\n",
    "\n",
    "# GCP Configuration\n",
    "PROJECT_ID = \"your-project-id\"  # Replace with your GCP project ID\n",
    "DATASET_ID = \"mdm_demo\"  # BigQuery dataset (from batch processing)\n",
    "INSTANCE_ID = \"mdm-streaming-demo\"  # Spanner instance\n",
    "DATABASE_ID = \"mdm_streaming\"  # Spanner database\n",
    "LOCATION = \"US\"\n",
    "\n",
    "# Processing Configuration\n",
    "NUM_STREAMING_RECORDS = 100\n",
    "PROCESSING_DELAY_SEC = 0.1  # 10 record per second for demo\n",
    "TARGET_LATENCY_MS = 400  # Target processing time per record\n",
    "\n",
    "# Decision Thresholds\n",
    "AUTO_MERGE_THRESHOLD = 0.85\n",
    "CREATE_NEW_THRESHOLD = 0.65\n",
    "\n",
    "# File Paths\n",
    "RESULTS_DIR = 'results'\n",
    "CSV_FILENAME = 'streaming_transactions.csv'\n",
    "\n",
    "print(\"📋 Configuration loaded:\")\n",
    "print(f\"  Target records: {NUM_STREAMING_RECORDS}\")\n",
    "print(f\"  Target latency: <{TARGET_LATENCY_MS}ms\")\n",
    "print(f\"  Auto-merge threshold: ≥{AUTO_MERGE_THRESHOLD}\")\n",
    "print(f\"  Create new threshold: <{CREATE_NEW_THRESHOLD}\")"
   ]
  },
  {
   "cell_type": "code",
   "execution_count": 3,
   "metadata": {},
   "outputs": [
    {
     "name": "stdout",
     "output_type": "stream",
     "text": [
      "✅ Connected to BigQuery project: johanesa-playground-326616\n",
      "📊 BigQuery dataset: johanesa-playground-326616.mdm_demo\n",
      "✅ Connected to Spanner project: johanesa-playground-326616\n",
      "🗃️ Spanner instance: mdm-streaming-demo\n",
      "🗃️ Spanner database: mdm_streaming\n"
     ]
    }
   ],
   "source": [
    "# Initialize helpers\n",
    "try:\n",
    "    # BigQuery helper (for loading golden records)\n",
    "    bq_helper = BigQueryMDMHelper(PROJECT_ID, DATASET_ID)\n",
    "    print(f\"✅ Connected to BigQuery project: {PROJECT_ID}\")\n",
    "    print(f\"📊 BigQuery dataset: {bq_helper.dataset_ref}\")\n",
    "\n",
    "    # Spanner helper (for streaming processing)\n",
    "    spanner_helper = SpannerMDMHelper(PROJECT_ID, INSTANCE_ID, DATABASE_ID)\n",
    "    print(f\"✅ Connected to Spanner project: {PROJECT_ID}\")\n",
    "    print(f\"🗃️ Spanner instance: {INSTANCE_ID}\")\n",
    "    print(f\"🗃️ Spanner database: {DATABASE_ID}\")\n",
    "\n",
    "except Exception as e:\n",
    "    print(f\"❌ Error connecting: {e}\")\n",
    "    print(\"Please ensure you have:\")\n",
    "    print(\"1. Set up Google Cloud authentication\")\n",
    "    print(\"2. Enabled BigQuery and Spanner APIs\")\n",
    "    print(\"3. Updated PROJECT_ID above\")"
   ]
  },
  {
   "cell_type": "markdown",
   "metadata": {},
   "source": [
    "## 2. Helper Functions"
   ]
  },
  {
   "cell_type": "code",
   "execution_count": 4,
   "metadata": {},
   "outputs": [
    {
     "name": "stdout",
     "output_type": "stream",
     "text": [
      "✅ Helper functions defined\n",
      "📋 Functions available:\n",
      "  • log_transaction_result() - CSV logging\n",
      "  • update_statistics() - Running metrics\n"
     ]
    }
   ],
   "source": [
    "def log_transaction_result(result, csv_writer, record):\n",
    "    \"\"\"\n",
    "    Log transaction result to CSV with all required fields.\n",
    "    Simplified logging function with clear error handling.\n",
    "    \"\"\"\n",
    "    try:\n",
    "        csv_writer.writerow([\n",
    "            datetime.now().isoformat(),\n",
    "            result.get('record_num', 0),\n",
    "            result.get('record_id', ''),\n",
    "            record.get('source_system', ''),\n",
    "            record.get('full_name', ''),\n",
    "            record.get('email', ''),\n",
    "            record.get('phone', ''),\n",
    "            record.get('company', ''),\n",
    "            result.get('exact_count', 0),\n",
    "            result.get('fuzzy_count', 0),\n",
    "            result.get('vector_count', 0),\n",
    "            result.get('business_count', 0),\n",
    "            result.get('strategy_scores', {}).get('exact', 0),\n",
    "            result.get('strategy_scores', {}).get('fuzzy', 0),\n",
    "            result.get('strategy_scores', {}).get('vector', 0),\n",
    "            result.get('strategy_scores', {}).get('business', 0),\n",
    "            result.get('combined_score', 0),\n",
    "            result.get('confidence', 'LOW'),\n",
    "            result.get('action', 'ERROR'),\n",
    "            result.get('entity_id', ''),\n",
    "            result.get('processing_time_ms', 0)\n",
    "        ])\n",
    "        return True\n",
    "    except Exception as e:\n",
    "        print(f\"  ⚠️ Error logging to CSV: {e}\")\n",
    "        return False\n",
    "\n",
    "\n",
    "def update_statistics(result, action_counts, confidence_counts):\n",
    "    \"\"\"\n",
    "    Update running statistics with current result.\n",
    "    \"\"\"\n",
    "    action = result.get('action', 'ERROR')\n",
    "    confidence = result.get('confidence', 'LOW')\n",
    "\n",
    "    action_counts[action] = action_counts.get(action, 0) + 1\n",
    "    confidence_counts[confidence] = confidence_counts.get(confidence, 0) + 1\n",
    "\n",
    "\n",
    "print(\"✅ Helper functions defined\")\n",
    "print(\"📋 Functions available:\")\n",
    "print(\"  • log_transaction_result() - CSV logging\")\n",
    "print(\"  • update_statistics() - Running metrics\")"
   ]
  },
  {
   "cell_type": "markdown",
   "metadata": {},
   "source": [
    "## 3. Spanner Infrastructure Setup\n",
    "\n",
    "Create minimal Spanner infrastructure for the streaming demo."
   ]
  },
  {
   "cell_type": "code",
   "execution_count": 5,
   "metadata": {},
   "outputs": [
    {
     "name": "stdout",
     "output_type": "stream",
     "text": [
      "🔄 Setting up Spanner infrastructure...\n",
      "💰 Cost estimate: ~$65/month for 100 processing units (regional)\n",
      "⚠️ Remember to delete the instance after demo to avoid charges\n",
      "\n",
      "  ✅ Instance mdm-streaming-demo already exists\n",
      "  ✅ Database mdm_streaming already exists\n",
      "  🔄 Checking schema status...\n"
     ]
    },
    {
     "name": "stderr",
     "output_type": "stream",
     "text": [
      "Created multiplexed session.\n"
     ]
    },
    {
     "name": "stdout",
     "output_type": "stream",
     "text": [
      "  ✅ Schema exists - truncating data only (fast path)\n",
      "  🗑️ Truncating existing tables...\n",
      "  🗑️ Cleared table: match_results\n",
      "    ✅ Truncated: match_results\n",
      "  🗑️ Cleared table: golden_entities\n",
      "    ✅ Truncated: golden_entities\n",
      "  ✅ All tables truncated successfully\n",
      "  ✅ Schema ready (optimized - ~2-3 seconds)\n",
      "\n",
      "✅ Spanner infrastructure ready!\n",
      "📊 Instance: mdm-streaming-demo (100 processing units)\n",
      "🗃️ Database: mdm_streaming\n",
      "📋 Schema: golden_entities, match_results tables created\n"
     ]
    }
   ],
   "source": [
    "print(\"🔄 Setting up Spanner infrastructure...\")\n",
    "print(\"💰 Cost estimate: ~$65/month for 100 processing units (regional)\")\n",
    "print(\"⚠️ Remember to delete the instance after demo to avoid charges\")\n",
    "print()\n",
    "\n",
    "try:\n",
    "    # Create Spanner instance (minimal configuration)\n",
    "    spanner_helper.create_instance_if_needed(processing_units=100)\n",
    "\n",
    "    # Create database\n",
    "    spanner_helper.create_database_if_needed()\n",
    "\n",
    "    # Create schema (aligned with BigQuery golden_records)\n",
    "    spanner_helper.create_or_replace_schema()\n",
    "\n",
    "    print(\"\\n✅ Spanner infrastructure ready!\")\n",
    "    print(f\"📊 Instance: {INSTANCE_ID} (100 processing units)\")\n",
    "    print(f\"🗃️ Database: {DATABASE_ID}\")\n",
    "    print(f\"📋 Schema: golden_entities, match_results tables created\")\n",
    "\n",
    "except Exception as e:\n",
    "    print(f\"❌ Error setting up Spanner infrastructure: {e}\")\n",
    "    print(\"Please check your GCP permissions and try again.\")"
   ]
  },
  {
   "cell_type": "markdown",
   "metadata": {},
   "source": [
    "## 4. Load Golden Records from BigQuery\n",
    "\n",
    "Bootstrap the streaming system with existing golden records from batch processing."
   ]
  },
  {
   "cell_type": "code",
   "execution_count": 6,
   "metadata": {},
   "outputs": [
    {
     "name": "stdout",
     "output_type": "stream",
     "text": [
      "🔄 Loading golden records from BigQuery batch processing...\n",
      "  🔄 Loading golden records from BigQuery...\n",
      "  🗑️ Cleared table: golden_entities\n",
      "  ✅ Loaded 265 golden records from BigQuery\n",
      "\n",
      "✅ Successfully migrated 265 golden records to Spanner\n",
      "📊 Current golden entities in Spanner: 265\n",
      "\n",
      "🔍 Sample Golden Records in Spanner:\n"
     ]
    },
    {
     "data": {
      "text/html": [
       "<div>\n",
       "<style scoped>\n",
       "    .dataframe tbody tr th:only-of-type {\n",
       "        vertical-align: middle;\n",
       "    }\n",
       "\n",
       "    .dataframe tbody tr th {\n",
       "        vertical-align: top;\n",
       "    }\n",
       "\n",
       "    .dataframe thead th {\n",
       "        text-align: right;\n",
       "    }\n",
       "</style>\n",
       "<table border=\"1\" class=\"dataframe\">\n",
       "  <thead>\n",
       "    <tr style=\"text-align: right;\">\n",
       "      <th></th>\n",
       "      <th>entity_id</th>\n",
       "      <th>master_name</th>\n",
       "      <th>master_email</th>\n",
       "      <th>master_phone</th>\n",
       "      <th>source_count</th>\n",
       "      <th>path</th>\n",
       "    </tr>\n",
       "  </thead>\n",
       "  <tbody>\n",
       "    <tr>\n",
       "      <th>0</th>\n",
       "      <td>01f1a69f-3d9a-4853-9549-94722b6e534f</td>\n",
       "      <td>CARLA ROBLES</td>\n",
       "      <td>jacob86@example.com</td>\n",
       "      <td>6266634163</td>\n",
       "      <td>1</td>\n",
       "      <td>batch_migrated</td>\n",
       "    </tr>\n",
       "    <tr>\n",
       "      <th>1</th>\n",
       "      <td>037a3eb8-51b8-46a9-a94b-949a501d8aa3</td>\n",
       "      <td>MICHELLE MARTINEZ</td>\n",
       "      <td>johndawson@example.org</td>\n",
       "      <td>001767929</td>\n",
       "      <td>1</td>\n",
       "      <td>batch_migrated</td>\n",
       "    </tr>\n",
       "    <tr>\n",
       "      <th>2</th>\n",
       "      <td>037b0420-e22f-4e57-81a4-f0a03df2da96</td>\n",
       "      <td>LANCE SMITH</td>\n",
       "      <td>hdavis@example.com</td>\n",
       "      <td>5279484677</td>\n",
       "      <td>1</td>\n",
       "      <td>batch_migrated</td>\n",
       "    </tr>\n",
       "    <tr>\n",
       "      <th>3</th>\n",
       "      <td>045e6c25-285a-4836-940e-321afd67376c</td>\n",
       "      <td>SHAUN JONES</td>\n",
       "      <td>patrickdarin@example.com</td>\n",
       "      <td>18124382</td>\n",
       "      <td>1</td>\n",
       "      <td>batch_migrated</td>\n",
       "    </tr>\n",
       "    <tr>\n",
       "      <th>4</th>\n",
       "      <td>05c3fa47-48c2-4e78-8762-d4d95ab000fd</td>\n",
       "      <td>TODD COOK</td>\n",
       "      <td>ugibson@example.org</td>\n",
       "      <td>001939263</td>\n",
       "      <td>1</td>\n",
       "      <td>batch_migrated</td>\n",
       "    </tr>\n",
       "  </tbody>\n",
       "</table>\n",
       "</div>"
      ],
      "text/plain": [
       "                              entity_id        master_name  \\\n",
       "0  01f1a69f-3d9a-4853-9549-94722b6e534f       CARLA ROBLES   \n",
       "1  037a3eb8-51b8-46a9-a94b-949a501d8aa3  MICHELLE MARTINEZ   \n",
       "2  037b0420-e22f-4e57-81a4-f0a03df2da96        LANCE SMITH   \n",
       "3  045e6c25-285a-4836-940e-321afd67376c        SHAUN JONES   \n",
       "4  05c3fa47-48c2-4e78-8762-d4d95ab000fd          TODD COOK   \n",
       "\n",
       "               master_email master_phone  source_count            path  \n",
       "0       jacob86@example.com   6266634163             1  batch_migrated  \n",
       "1    johndawson@example.org    001767929             1  batch_migrated  \n",
       "2        hdavis@example.com   5279484677             1  batch_migrated  \n",
       "3  patrickdarin@example.com     18124382             1  batch_migrated  \n",
       "4       ugibson@example.org    001939263             1  batch_migrated  "
      ]
     },
     "metadata": {},
     "output_type": "display_data"
    }
   ],
   "source": [
    "print(\"🔄 Loading golden records from BigQuery batch processing...\")\n",
    "\n",
    "try:\n",
    "    # Load golden records from BigQuery\n",
    "    golden_count = spanner_helper.load_golden_records_from_bigquery(bq_helper)\n",
    "\n",
    "    if golden_count > 0:\n",
    "        print(\n",
    "            f\"\\n✅ Successfully migrated {golden_count} golden records to Spanner\")\n",
    "\n",
    "        # Verify the migration\n",
    "        current_count = spanner_helper.get_table_count(\"golden_entities\")\n",
    "        print(f\"📊 Current golden entities in Spanner: {current_count}\")\n",
    "\n",
    "        # Show sample records\n",
    "        sample_query = \"\"\"\n",
    "        SELECT entity_id, master_name, master_email, master_phone,\n",
    "               source_record_count, processing_path\n",
    "        FROM golden_entities\n",
    "        LIMIT 5\n",
    "        \"\"\"\n",
    "\n",
    "        sample_df = spanner_helper.execute_sql(sample_query)\n",
    "        if not sample_df.empty:\n",
    "            print(\"\\n🔍 Sample Golden Records in Spanner:\")\n",
    "            sample_df.columns = ['entity_id', 'master_name',\n",
    "                                 'master_email', 'master_phone', 'source_count', 'path']\n",
    "            display(sample_df)\n",
    "    else:\n",
    "        print(\"⚠️ No golden records found in BigQuery\")\n",
    "        print(\"💡 Run the batch processing notebook first to create golden records\")\n",
    "\n",
    "except Exception as e:\n",
    "    print(f\"❌ Error loading golden records: {e}\")\n",
    "    print(\"💡 Make sure you've run the batch processing notebook first\")"
   ]
  },
  {
   "cell_type": "markdown",
   "metadata": {},
   "source": [
    "## 5. Generate New Streaming Data\n",
    "\n",
    "Create new customer records to simulate streaming data."
   ]
  },
  {
   "cell_type": "code",
   "execution_count": 7,
   "metadata": {},
   "outputs": [
    {
     "name": "stdout",
     "output_type": "stream",
     "text": [
      "🔄 Generating 100 new streaming records...\n",
      "\n",
      "📈 Streaming Data Summary:\n",
      "  Total streaming records: 100\n",
      "  ECOMMERCE: 32 records\n",
      "  CRM: 41 records\n",
      "  ERP: 27 records\n",
      "\n",
      "🔍 Sample Streaming Records:\n"
     ]
    },
    {
     "data": {
      "text/html": [
       "<div>\n",
       "<style scoped>\n",
       "    .dataframe tbody tr th:only-of-type {\n",
       "        vertical-align: middle;\n",
       "    }\n",
       "\n",
       "    .dataframe tbody tr th {\n",
       "        vertical-align: top;\n",
       "    }\n",
       "\n",
       "    .dataframe thead th {\n",
       "        text-align: right;\n",
       "    }\n",
       "</style>\n",
       "<table border=\"1\" class=\"dataframe\">\n",
       "  <thead>\n",
       "    <tr style=\"text-align: right;\">\n",
       "      <th></th>\n",
       "      <th>record_id</th>\n",
       "      <th>full_name</th>\n",
       "      <th>email</th>\n",
       "      <th>phone</th>\n",
       "      <th>source_system</th>\n",
       "    </tr>\n",
       "  </thead>\n",
       "  <tbody>\n",
       "    <tr>\n",
       "      <th>0</th>\n",
       "      <td>29162980-a086-4e19-9abf-13e3e210f993</td>\n",
       "      <td>Sarah Pope</td>\n",
       "      <td>keith98@example.com</td>\n",
       "      <td>None</td>\n",
       "      <td>ecommerce</td>\n",
       "    </tr>\n",
       "    <tr>\n",
       "      <th>1</th>\n",
       "      <td>39ac8046-f4d6-4691-999c-31c4745000cd</td>\n",
       "      <td>Tina Ferguson</td>\n",
       "      <td>qvargas@example.org</td>\n",
       "      <td>562-972-0465</td>\n",
       "      <td>crm</td>\n",
       "    </tr>\n",
       "    <tr>\n",
       "      <th>2</th>\n",
       "      <td>b81665f0-503d-49d1-b9a6-ba2cb0735847</td>\n",
       "      <td>Justin Hughes</td>\n",
       "      <td>melissachan@example.org</td>\n",
       "      <td>433.446.8007</td>\n",
       "      <td>ecommerce</td>\n",
       "    </tr>\n",
       "  </tbody>\n",
       "</table>\n",
       "</div>"
      ],
      "text/plain": [
       "                              record_id      full_name  \\\n",
       "0  29162980-a086-4e19-9abf-13e3e210f993     Sarah Pope   \n",
       "1  39ac8046-f4d6-4691-999c-31c4745000cd  Tina Ferguson   \n",
       "2  b81665f0-503d-49d1-b9a6-ba2cb0735847  Justin Hughes   \n",
       "\n",
       "                     email         phone source_system  \n",
       "0      keith98@example.com          None     ecommerce  \n",
       "1      qvargas@example.org  562-972-0465           crm  \n",
       "2  melissachan@example.org  433.446.8007     ecommerce  "
      ]
     },
     "metadata": {},
     "output_type": "display_data"
    },
    {
     "name": "stdout",
     "output_type": "stream",
     "text": [
      "\n",
      "✅ Streaming data ready for processing!\n"
     ]
    }
   ],
   "source": [
    "print(f\"🔄 Generating {NUM_STREAMING_RECORDS} new streaming records...\")\n",
    "\n",
    "try:\n",
    "    # Generate new streaming data (different from batch data)\n",
    "    generator = MDMDataGenerator(num_unique_customers=NUM_STREAMING_RECORDS)\n",
    "    streaming_datasets = generator.generate_all_datasets()\n",
    "\n",
    "    # Combine all streaming records\n",
    "    all_streaming_records = []\n",
    "    for source, df in streaming_datasets.items():\n",
    "        for _, record in df.iterrows():\n",
    "            all_streaming_records.append(record.to_dict())\n",
    "\n",
    "    # Shuffle to simulate random streaming order\n",
    "    random.shuffle(all_streaming_records)\n",
    "\n",
    "    # Take exactly NUM_STREAMING_RECORDS\n",
    "    streaming_records = all_streaming_records[:NUM_STREAMING_RECORDS]\n",
    "\n",
    "    print(f\"\\n📈 Streaming Data Summary:\")\n",
    "    print(f\"  Total streaming records: {len(streaming_records)}\")\n",
    "\n",
    "    # Show source distribution\n",
    "    source_counts = {}\n",
    "    for record in streaming_records:\n",
    "        source = record.get('source_system', 'unknown')\n",
    "        source_counts[source] = source_counts.get(source, 0) + 1\n",
    "\n",
    "    for source, count in source_counts.items():\n",
    "        print(f\"  {source.upper()}: {count} records\")\n",
    "\n",
    "    print(f\"\\n🔍 Sample Streaming Records:\")\n",
    "    sample_streaming = pd.DataFrame(streaming_records[:3])\n",
    "    display(sample_streaming[['record_id', 'full_name',\n",
    "            'email', 'phone', 'source_system']].head(3))\n",
    "\n",
    "    print(\"\\n✅ Streaming data ready for processing!\")\n",
    "\n",
    "except Exception as e:\n",
    "    print(f\"❌ Error generating streaming data: {e}\")\n",
    "    streaming_records = []"
   ]
  },
  {
   "cell_type": "markdown",
   "metadata": {},
   "source": [
    "## 6. Initialize CSV Transaction Logging\n",
    "\n",
    "Set up CSV file to track each streaming transaction."
   ]
  },
  {
   "cell_type": "code",
   "execution_count": 8,
   "metadata": {},
   "outputs": [
    {
     "name": "stdout",
     "output_type": "stream",
     "text": [
      "🔄 Preparing CSV transaction logging...\n",
      "✅ CSV transaction log initialized: results/streaming_transactions.csv\n",
      "📋 Headers: 21 columns\n",
      "📝 Ready to log each streaming transaction!\n"
     ]
    }
   ],
   "source": [
    "print(\"🔄 Preparing CSV transaction logging...\")\n",
    "\n",
    "try:\n",
    "    # Create results directory if it doesn't exist\n",
    "    os.makedirs(RESULTS_DIR, exist_ok=True)\n",
    "\n",
    "    # CSV file for transaction logging\n",
    "    csv_file = os.path.join(RESULTS_DIR, CSV_FILENAME)\n",
    "\n",
    "    # Remove existing file for fresh start\n",
    "    if os.path.exists(csv_file):\n",
    "        os.remove(csv_file)\n",
    "        print(f\"  🗑️ Removed existing {csv_file}\")\n",
    "\n",
    "    # Create CSV with headers\n",
    "    csv_headers = [\n",
    "        'timestamp', 'record_num', 'record_id', 'source_system',\n",
    "        'full_name', 'email', 'phone', 'company',\n",
    "        'exact_matches', 'fuzzy_matches', 'vector_matches', 'business_matches',\n",
    "        'exact_score', 'fuzzy_score', 'vector_score', 'business_score',\n",
    "        'combined_score', 'confidence', 'action', 'entity_id',\n",
    "        'processing_time_ms'\n",
    "    ]\n",
    "\n",
    "    with open(csv_file, 'w', newline='') as f:\n",
    "        writer = csv.writer(f)\n",
    "        writer.writerow(csv_headers)\n",
    "\n",
    "    print(f\"✅ CSV transaction log initialized: {csv_file}\")\n",
    "    print(f\"📋 Headers: {len(csv_headers)} columns\")\n",
    "    print(\"📝 Ready to log each streaming transaction!\")\n",
    "\n",
    "except Exception as e:\n",
    "    print(f\"❌ Error setting up CSV logging: {e}\")\n",
    "    csv_file = None"
   ]
  },
  {
   "cell_type": "markdown",
   "metadata": {},
   "source": [
    "## 7. Initialize Streaming Processor\n",
    "\n",
    "Set up the 4-way matching processor."
   ]
  },
  {
   "cell_type": "code",
   "execution_count": 9,
   "metadata": {},
   "outputs": [
    {
     "name": "stdout",
     "output_type": "stream",
     "text": [
      "🔄 Initializing 4-way streaming processor...\n",
      "\n",
      "📊 Processor Configuration:\n",
      "  Matching strategies: 4 (exact, fuzzy, vector, business)\n",
      "  Strategy weights:\n",
      "    exact: 40%\n",
      "    fuzzy: 30%\n",
      "    vector: 20%\n",
      "    business: 10%\n",
      "\n",
      "⚖️ Decision Thresholds:\n",
      "  Auto-merge: ≥0.85\n",
      "  Create new: <0.65\n",
      "\n",
      "✅ Streaming processor ready!\n",
      "🎯 Target: <400ms processing time per record\n"
     ]
    }
   ],
   "source": [
    "print(\"🔄 Initializing 4-way streaming processor...\")\n",
    "\n",
    "try:\n",
    "    # Initialize the streaming processor\n",
    "    processor = StreamingMDMProcessor(spanner_helper)\n",
    "\n",
    "    print(\"\\n📊 Processor Configuration:\")\n",
    "    print(f\"  Matching strategies: 4 (exact, fuzzy, vector, business)\")\n",
    "    print(f\"  Strategy weights:\")\n",
    "    for strategy, weight in processor.weights.items():\n",
    "        print(f\"    {strategy}: {weight*100:.0f}%\")\n",
    "\n",
    "    print(f\"\\n⚖️ Decision Thresholds:\")\n",
    "    print(f\"  Auto-merge: ≥{processor.auto_merge_threshold}\")\n",
    "    print(f\"  Create new: <{processor.create_new_threshold}\")\n",
    "\n",
    "    print(\"\\n✅ Streaming processor ready!\")\n",
    "    print(f\"🎯 Target: <{TARGET_LATENCY_MS}ms processing time per record\")\n",
    "\n",
    "except Exception as e:\n",
    "    print(f\"❌ Error initializing processor: {e}\")\n",
    "    processor = None"
   ]
  },
  {
   "cell_type": "markdown",
   "metadata": {},
   "source": [
    "## 8. Streaming Processing Loop\n",
    "\n",
    "Process each record with sleep in between to simulate real-time pipeline."
   ]
  },
  {
   "cell_type": "code",
   "execution_count": 10,
   "metadata": {},
   "outputs": [
    {
     "name": "stdout",
     "output_type": "stream",
     "text": [
      "🚀 Starting Streaming MDM Simulation (100 records, per 100ms)\n",
      "================================================================================\n",
      "\n",
      "📨 Record 1/100: Sarah Pope (keith98@example.com) - ecommerce Source\n",
      "  ⚡ Exact matching: 2 matches found\n",
      "  🔍 Fuzzy matching: 2 matches found\n",
      "  🧮 Vector matching: 0 matches found\n",
      "  📋 Business rules: 4 matches found\n",
      "  📊 Combined score: 0.73 (MEDIUM confidence) → AUTO_MERGE\n",
      "  🗃️ → AUTO_MERGE Spanner (entity_id: 72d8f45a..., merged with existing 72d8f45a-5812-4b47-8453-813ea9376122)\n",
      "  ⏱️ Processing time: 1722ms\n",
      "  📝 → Written to CSV (row 1)\n",
      "\n",
      "📨 Record 2/100: Tina Ferguson (qvargas@example.org) - crm Source\n",
      "  ⚡ Exact matching: 4 matches found\n",
      "  🔍 Fuzzy matching: 2 matches found\n",
      "  🧮 Vector matching: 0 matches found\n",
      "  📋 Business rules: 4 matches found\n",
      "  📊 Combined score: 0.73 (MEDIUM confidence) → AUTO_MERGE\n",
      "  🗃️ → AUTO_MERGE Spanner (entity_id: 0d88d875..., merged with existing 0d88d875-be30-4ad7-a540-02ec158fe8fa)\n",
      "  ⏱️ Processing time: 1898ms\n",
      "  📝 → Written to CSV (row 2)\n",
      "\n",
      "📨 Record 3/100: Justin Hughes (melissachan@example.org) - ecommerce Source\n",
      "  ⚡ Exact matching: 3 matches found\n",
      "  🔍 Fuzzy matching: 5 matches found\n",
      "  🧮 Vector matching: 0 matches found\n",
      "  📋 Business rules: 2 matches found\n",
      "  📊 Combined score: 0.72 (MEDIUM confidence) → AUTO_MERGE\n",
      "  🗃️ → AUTO_MERGE Spanner (entity_id: 501ae014..., merged with existing 501ae014-0242-47dc-8313-28db9221bdcd)\n",
      "  ⏱️ Processing time: 1696ms\n",
      "  📝 → Written to CSV (row 3)\n",
      "\n",
      "📨 Record 4/100: Vincent Herrera (jennifercarter@example.org) - crm Source\n",
      "  ⚡ Exact matching: 0 matches found\n",
      "  🔍 Fuzzy matching: 0 matches found\n",
      "  🧮 Vector matching: 3 matches found\n",
      "  📋 Business rules: 0 matches found\n",
      "  📊 Combined score: 0.17 (LOW confidence) → CREATE_NEW\n",
      "  🗃️ → CREATE_NEW Spanner (entity_id: c226b643..., new record created)\n",
      "  ⏱️ Processing time: 1712ms\n",
      "  📝 → Written to CSV (row 4)\n",
      "\n",
      "📨 Record 5/100: Heidi Spencer (robertbentley@example.net) - erp Source\n",
      "  ⚡ Exact matching: 5 matches found\n",
      "  🔍 Fuzzy matching: 3 matches found\n",
      "  🧮 Vector matching: 0 matches found\n",
      "  📋 Business rules: 3 matches found\n",
      "  📊 Combined score: 0.72 (MEDIUM confidence) → AUTO_MERGE\n",
      "  🗃️ → AUTO_MERGE Spanner (entity_id: 101d701e..., merged with existing 101d701e-6ba9-4e52-ad7a-20f71fab8347)\n",
      "  ⏱️ Processing time: 1728ms\n",
      "  📝 → Written to CSV (row 5)\n",
      "\n",
      "📨 Record 6/100: Michael Ball (wbishop@example.net) - crm Source\n",
      "  ⚡ Exact matching: 0 matches found\n",
      "  🔍 Fuzzy matching: 0 matches found\n",
      "  🧮 Vector matching: 0 matches found\n",
      "  📋 Business rules: 0 matches found\n",
      "  📊 Combined score: 0.00 (LOW confidence) → CREATE_NEW\n",
      "  🗃️ → CREATE_NEW Spanner (entity_id: 5dfc5196..., new record created)\n",
      "  ⏱️ Processing time: 1827ms\n",
      "  📝 → Written to CSV (row 6)\n",
      "\n",
      "📨 Record 7/100: Douglas Taylor (julie69@yahoo.com) - crm Source\n",
      "  ⚡ Exact matching: 2 matches found\n",
      "  🔍 Fuzzy matching: 2 matches found\n",
      "  🧮 Vector matching: 2 matches found\n",
      "  📋 Business rules: 4 matches found\n",
      "  📊 Combined score: 0.73 (MEDIUM confidence) → AUTO_MERGE\n",
      "  🗃️ → AUTO_MERGE Spanner (entity_id: ea2cb489..., merged with existing ea2cb489-149d-43c4-86f6-4adebcc9517b)\n",
      "  ⏱️ Processing time: 1966ms\n",
      "  📝 → Written to CSV (row 7)\n",
      "\n",
      "📨 Record 8/100: Michael Norton (watsonrichard@example.net) - ecommerce Source\n",
      "  ⚡ Exact matching: 8 matches found\n",
      "  🔍 Fuzzy matching: 7 matches found\n",
      "  🧮 Vector matching: 0 matches found\n",
      "  📋 Business rules: 8 matches found\n",
      "  📊 Combined score: 0.73 (MEDIUM confidence) → AUTO_MERGE\n",
      "  🗃️ → AUTO_MERGE Spanner (entity_id: 3444aa04..., merged with existing 3444aa04-4306-4942-b30a-9eb13afceb25)\n",
      "  ⏱️ Processing time: 1990ms\n",
      "  📝 → Written to CSV (row 8)\n",
      "\n",
      "📨 Record 9/100: Jeffrey Black (finleycasey@outlook.com) - crm Source\n",
      "  ⚡ Exact matching: 2 matches found\n",
      "  🔍 Fuzzy matching: 7 matches found\n",
      "  🧮 Vector matching: 1 matches found\n",
      "  📋 Business rules: 4 matches found\n",
      "  📊 Combined score: 0.73 (MEDIUM confidence) → AUTO_MERGE\n",
      "  🗃️ → AUTO_MERGE Spanner (entity_id: 3ba20575..., merged with existing 3ba20575-88db-41e4-b702-471b9436bda9)\n",
      "  ⏱️ Processing time: 2003ms\n",
      "  📝 → Written to CSV (row 9)\n",
      "\n",
      "📨 Record 10/100: Julie Thompson (opatel@example.net) - crm Source\n",
      "  ⚡ Exact matching: 6 matches found\n",
      "  🔍 Fuzzy matching: 3 matches found\n",
      "  🧮 Vector matching: 0 matches found\n",
      "  📋 Business rules: 6 matches found\n",
      "  📊 Combined score: 0.73 (MEDIUM confidence) → AUTO_MERGE\n",
      "  🗃️ → AUTO_MERGE Spanner (entity_id: 9e8577da..., merged with existing 9e8577da-ba7a-4773-9886-a71bbe65d9c6)\n",
      "  ⏱️ Processing time: 2009ms\n",
      "  📝 → Written to CSV (row 10)\n",
      "\n",
      "📨 Record 11/100: David Walker (andrew83@example.net) - erp Source\n",
      "  ⚡ Exact matching: 5 matches found\n",
      "  🔍 Fuzzy matching: 3 matches found\n",
      "  🧮 Vector matching: 0 matches found\n",
      "  📋 Business rules: 6 matches found\n",
      "  📊 Combined score: 0.73 (MEDIUM confidence) → AUTO_MERGE\n",
      "  🗃️ → AUTO_MERGE Spanner (entity_id: 8d633cb1..., merged with existing 8d633cb1-8bc0-41a6-8385-eff3f355425f)\n",
      "  ⏱️ Processing time: 2016ms\n",
      "  📝 → Written to CSV (row 11)\n",
      "\n",
      "📨 Record 12/100: Nicole Humphrey (patrick79@hotmail.com) - erp Source\n",
      "  ⚡ Exact matching: 0 matches found\n",
      "  🔍 Fuzzy matching: 0 matches found\n",
      "  🧮 Vector matching: 2 matches found\n",
      "  📋 Business rules: 0 matches found\n",
      "  📊 Combined score: 0.16 (LOW confidence) → CREATE_NEW\n",
      "  🗃️ → CREATE_NEW Spanner (entity_id: e6c3eb97..., new record created)\n",
      "  ⏱️ Processing time: 1834ms\n",
      "  📝 → Written to CSV (row 12)\n",
      "\n",
      "📨 Record 13/100: Jack Preston (warrenmary@example.org) - crm Source\n",
      "  ⚡ Exact matching: 3 matches found\n",
      "  🔍 Fuzzy matching: 2 matches found\n",
      "  🧮 Vector matching: 2 matches found\n",
      "  📋 Business rules: 4 matches found\n",
      "  📊 Combined score: 0.73 (MEDIUM confidence) → AUTO_MERGE\n",
      "  🗃️ → AUTO_MERGE Spanner (entity_id: 8554c7b6..., merged with existing 8554c7b6-893d-47c3-968f-8248f4a27fe9)\n",
      "  ⏱️ Processing time: 2044ms\n",
      "  📝 → Written to CSV (row 13)\n",
      "\n",
      "📨 Record 14/100: Daniel Wright (gabriel90@example.net) - erp Source\n",
      "  ⚡ Exact matching: 0 matches found\n",
      "  🔍 Fuzzy matching: 0 matches found\n",
      "  🧮 Vector matching: 0 matches found\n",
      "  📋 Business rules: 0 matches found\n",
      "  📊 Combined score: 0.00 (LOW confidence) → CREATE_NEW\n",
      "  🗃️ → CREATE_NEW Spanner (entity_id: 6d1a45b7..., new record created)\n",
      "  ⏱️ Processing time: 1802ms\n",
      "  📝 → Written to CSV (row 14)\n",
      "\n",
      "📨 Record 15/100: Michelle Anderson (kristy39@example.com) - crm Source\n",
      "  ⚡ Exact matching: 0 matches found\n",
      "  🔍 Fuzzy matching: 0 matches found\n",
      "  🧮 Vector matching: 2 matches found\n",
      "  📋 Business rules: 0 matches found\n",
      "  📊 Combined score: 0.16 (LOW confidence) → CREATE_NEW\n",
      "  🗃️ → CREATE_NEW Spanner (entity_id: 324517a1..., new record created)\n",
      "  ⏱️ Processing time: 1593ms\n",
      "  📝 → Written to CSV (row 15)\n",
      "\n",
      "📨 Record 16/100: Phillip Anderson (maryavila@example.com) - crm Source\n",
      "  ⚡ Exact matching: 5 matches found\n",
      "  🔍 Fuzzy matching: 4 matches found\n",
      "  🧮 Vector matching: 2 matches found\n",
      "  📋 Business rules: 8 matches found\n",
      "  📊 Combined score: 0.73 (MEDIUM confidence) → AUTO_MERGE\n",
      "  🗃️ → AUTO_MERGE Spanner (entity_id: 0abf6ea2..., merged with existing 0abf6ea2-a72c-4bc8-8873-79240023362b)\n",
      "  ⏱️ Processing time: 2004ms\n",
      "  📝 → Written to CSV (row 16)\n",
      "\n",
      "📨 Record 17/100: Lorraine Santiago (sean43@example.org) - erp Source\n",
      "  ⚡ Exact matching: 4 matches found\n",
      "  🔍 Fuzzy matching: 2 matches found\n",
      "  🧮 Vector matching: 4 matches found\n",
      "  📋 Business rules: 4 matches found\n",
      "  📊 Combined score: 0.73 (MEDIUM confidence) → AUTO_MERGE\n",
      "  🗃️ → AUTO_MERGE Spanner (entity_id: 28cf2a57..., merged with existing 28cf2a57-5157-47ba-9284-9c6681ba95ff)\n",
      "  ⏱️ Processing time: 2004ms\n",
      "  📝 → Written to CSV (row 17)\n",
      "\n",
      "📨 Record 18/100: Lauren Byrd (davidtodd@outlook.com) - crm Source\n",
      "  ⚡ Exact matching: 4 matches found\n",
      "  🔍 Fuzzy matching: 3 matches found\n",
      "  🧮 Vector matching: 1 matches found\n",
      "  📋 Business rules: 6 matches found\n",
      "  📊 Combined score: 0.73 (MEDIUM confidence) → AUTO_MERGE\n",
      "  🗃️ → AUTO_MERGE Spanner (entity_id: f12cfe14..., merged with existing f12cfe14-bd45-4fcd-abbd-81279494c610)\n",
      "  ⏱️ Processing time: 2004ms\n",
      "  📝 → Written to CSV (row 18)\n",
      "\n",
      "📨 Record 19/100: Casey Sanchez (eric84@example.net) - erp Source\n",
      "  ⚡ Exact matching: 5 matches found\n",
      "  🔍 Fuzzy matching: 3 matches found\n",
      "  🧮 Vector matching: 0 matches found\n",
      "  📋 Business rules: 6 matches found\n",
      "  📊 Combined score: 0.73 (MEDIUM confidence) → AUTO_MERGE\n",
      "  🗃️ → AUTO_MERGE Spanner (entity_id: acfe65cb..., merged with existing acfe65cb-c373-45cf-9a43-91d27f13e833)\n",
      "  ⏱️ Processing time: 2004ms\n",
      "  📝 → Written to CSV (row 19)\n",
      "\n",
      "📨 Record 20/100: Marcus Wilson (anna99@yahoo.com) - ecommerce Source\n",
      "  ⚡ Exact matching: 5 matches found\n",
      "  🔍 Fuzzy matching: 4 matches found\n",
      "  🧮 Vector matching: 0 matches found\n",
      "  📋 Business rules: 8 matches found\n",
      "  📊 Combined score: 0.73 (MEDIUM confidence) → AUTO_MERGE\n",
      "  🗃️ → AUTO_MERGE Spanner (entity_id: 9c31f348..., merged with existing 9c31f348-2b60-4dd6-8f5d-033ae381d5ea)\n",
      "  ⏱️ Processing time: 2008ms\n",
      "  📝 → Written to CSV (row 20)\n",
      "\n",
      "📨 Record 21/100: Claudia Richards (oscar98@example.com) - ecommerce Source\n",
      "  ⚡ Exact matching: 9 matches found\n",
      "  🔍 Fuzzy matching: 5 matches found\n",
      "  🧮 Vector matching: 6 matches found\n",
      "  📋 Business rules: 10 matches found\n",
      "  📊 Combined score: 0.73 (MEDIUM confidence) → AUTO_MERGE\n",
      "  🗃️ → AUTO_MERGE Spanner (entity_id: d07e7a97..., merged with existing d07e7a97-bb6a-4a5e-b17d-d30eb62c8b55)\n",
      "  ⏱️ Processing time: 2005ms\n",
      "  📝 → Written to CSV (row 21)\n",
      "\n",
      "📨 Record 22/100: Gina Chzrch (smithjohn@example.net) - ecommerce Source\n",
      "  ⚡ Exact matching: 2 matches found\n",
      "  🔍 Fuzzy matching: 2 matches found\n",
      "  🧮 Vector matching: 1 matches found\n",
      "  📋 Business rules: 4 matches found\n",
      "  📊 Combined score: 0.73 (MEDIUM confidence) → AUTO_MERGE\n",
      "  🗃️ → AUTO_MERGE Spanner (entity_id: 75c8231b..., merged with existing 75c8231b-18ac-43ce-b530-ccf44abed054)\n",
      "  ⏱️ Processing time: 2012ms\n",
      "  📝 → Written to CSV (row 22)\n",
      "\n",
      "📨 Record 23/100: Justin xohen (rbrown@example.net) - ecommerce Source\n",
      "  ⚡ Exact matching: 5 matches found\n",
      "  🔍 Fuzzy matching: 5 matches found\n",
      "  🧮 Vector matching: 5 matches found\n",
      "  📋 Business rules: 6 matches found\n",
      "  📊 Combined score: 0.73 (MEDIUM confidence) → AUTO_MERGE\n",
      "  🗃️ → AUTO_MERGE Spanner (entity_id: f0284ac6..., merged with existing f0284ac6-c72d-4f63-8d6f-ac64fa31e84a)\n",
      "  ⏱️ Processing time: 2013ms\n",
      "  📝 → Written to CSV (row 23)\n",
      "\n",
      "📨 Record 24/100: Sarah Pope (keith98@example.com) - crm Source\n",
      "  ⚡ Exact matching: 3 matches found\n",
      "  🔍 Fuzzy matching: 2 matches found\n",
      "  🧮 Vector matching: 2 matches found\n",
      "  📋 Business rules: 4 matches found\n",
      "  📊 Combined score: 0.93 (HIGH confidence) → AUTO_MERGE\n",
      "  🗃️ → AUTO_MERGE Spanner (entity_id: 72d8f45a..., merged with existing 72d8f45a-5812-4b47-8453-813ea9376122)\n",
      "  ⏱️ Processing time: 2008ms\n",
      "  📝 → Written to CSV (row 24)\n",
      "\n",
      "📨 Record 25/100: Steven Spencer (colelisa@example.net) - crm Source\n",
      "  ⚡ Exact matching: 3 matches found\n",
      "  🔍 Fuzzy matching: 2 matches found\n",
      "  🧮 Vector matching: 5 matches found\n",
      "  📋 Business rules: 4 matches found\n",
      "  📊 Combined score: 0.73 (MEDIUM confidence) → AUTO_MERGE\n",
      "  🗃️ → AUTO_MERGE Spanner (entity_id: 1e902370..., merged with existing 1e902370-5e07-4164-9631-11002876a433)\n",
      "  ⏱️ Processing time: 2007ms\n",
      "  📝 → Written to CSV (row 25)\n",
      "\n",
      "📨 Record 26/100: Ryan Richards (heatherthompson@example.org) - ecommerce Source\n",
      "  ⚡ Exact matching: 6 matches found\n",
      "  🔍 Fuzzy matching: 3 matches found\n",
      "  🧮 Vector matching: 3 matches found\n",
      "  📋 Business rules: 6 matches found\n",
      "  📊 Combined score: 0.73 (MEDIUM confidence) → AUTO_MERGE\n",
      "  🗃️ → AUTO_MERGE Spanner (entity_id: 8a91a1d0..., merged with existing 8a91a1d0-8d14-4eda-827b-10cb6f216178)\n",
      "  ⏱️ Processing time: 2012ms\n",
      "  📝 → Written to CSV (row 26)\n",
      "\n",
      "📨 Record 27/100: Kevin Holmes (juliephillips@example.org) - erp Source\n",
      "  ⚡ Exact matching: 4 matches found\n",
      "  🔍 Fuzzy matching: 2 matches found\n",
      "  🧮 Vector matching: 3 matches found\n",
      "  📋 Business rules: 4 matches found\n",
      "  📊 Combined score: 0.73 (MEDIUM confidence) → AUTO_MERGE\n",
      "  🗃️ → AUTO_MERGE Spanner (entity_id: 21f7e4e0..., merged with existing 21f7e4e0-938f-4688-8983-7f964c37a0b7)\n",
      "  ⏱️ Processing time: 2009ms\n",
      "  📝 → Written to CSV (row 27)\n",
      "\n",
      "📨 Record 28/100: James Horton (jross@outlook.com) - ecommerce Source\n",
      "  ⚡ Exact matching: 1 matches found\n",
      "  🔍 Fuzzy matching: 4 matches found\n",
      "  🧮 Vector matching: 2 matches found\n",
      "  📋 Business rules: 4 matches found\n",
      "  📊 Combined score: 0.73 (MEDIUM confidence) → AUTO_MERGE\n",
      "  🗃️ → AUTO_MERGE Spanner (entity_id: 18cc8b80..., merged with existing 18cc8b80-bd28-4dc2-832b-b0bbf8de312e)\n",
      "  ⏱️ Processing time: 2019ms\n",
      "  📝 → Written to CSV (row 28)\n",
      "\n",
      "📨 Record 29/100: Michelle Nicholson (cameronmckinney@yahoo.com) - crm Source\n",
      "  ⚡ Exact matching: 0 matches found\n",
      "  🔍 Fuzzy matching: 4 matches found\n",
      "  🧮 Vector matching: 5 matches found\n",
      "  📋 Business rules: 0 matches found\n",
      "  📊 Combined score: 0.22 (LOW confidence) → CREATE_NEW\n",
      "  🗃️ → CREATE_NEW Spanner (entity_id: 26793404..., new record created)\n",
      "  ⏱️ Processing time: 1839ms\n",
      "  📝 → Written to CSV (row 29)\n",
      "\n",
      "📨 Record 30/100: Abigail Warren (ibarron@example.com) - crm Source\n",
      "  ⚡ Exact matching: 4 matches found\n",
      "  🔍 Fuzzy matching: 2 matches found\n",
      "  🧮 Vector matching: 4 matches found\n",
      "  📋 Business rules: 4 matches found\n",
      "  📊 Combined score: 0.73 (MEDIUM confidence) → AUTO_MERGE\n",
      "  🗃️ → AUTO_MERGE Spanner (entity_id: 654f317c..., merged with existing 654f317c-36f1-46cd-b10a-e67a0a7f5c8c)\n",
      "  ⏱️ Processing time: 2039ms\n",
      "  📝 → Written to CSV (row 30)\n",
      "\n",
      "📨 Record 31/100: Charles Schultz (rebeccabailey@example.net) - erp Source\n",
      "  ⚡ Exact matching: 3 matches found\n",
      "  🔍 Fuzzy matching: 2 matches found\n",
      "  🧮 Vector matching: 5 matches found\n",
      "  📋 Business rules: 3 matches found\n",
      "  📊 Combined score: 0.73 (MEDIUM confidence) → AUTO_MERGE\n",
      "  🗃️ → AUTO_MERGE Spanner (entity_id: 0cfbec3c..., merged with existing 0cfbec3c-4c30-4660-9bdb-b7fd2a838999)\n",
      "  ⏱️ Processing time: 1979ms\n",
      "  📝 → Written to CSV (row 31)\n",
      "\n",
      "📨 Record 32/100: Eric Parks (lewismelissa@yahoo.com) - crm Source\n",
      "  ⚡ Exact matching: 2 matches found\n",
      "  🔍 Fuzzy matching: 2 matches found\n",
      "  🧮 Vector matching: 0 matches found\n",
      "  📋 Business rules: 4 matches found\n",
      "  📊 Combined score: 0.73 (MEDIUM confidence) → AUTO_MERGE\n",
      "  🗃️ → AUTO_MERGE Spanner (entity_id: 6f15a2ea..., merged with existing 6f15a2ea-6603-46c8-a83f-6aa70697d1b4)\n",
      "  ⏱️ Processing time: 1981ms\n",
      "  📝 → Written to CSV (row 32)\n",
      "\n",
      "📨 Record 33/100: James Brooks (amberosborne@example.net) - erp Source\n",
      "  ⚡ Exact matching: 1 matches found\n",
      "  🔍 Fuzzy matching: 3 matches found\n",
      "  🧮 Vector matching: 7 matches found\n",
      "  📋 Business rules: 6 matches found\n",
      "  📊 Combined score: 0.73 (MEDIUM confidence) → AUTO_MERGE\n",
      "  🗃️ → AUTO_MERGE Spanner (entity_id: 53c83881..., merged with existing 53c83881-ce87-4694-8622-9771ab26525b)\n",
      "  ⏱️ Processing time: 1985ms\n",
      "  📝 → Written to CSV (row 33)\n",
      "\n",
      "📨 Record 34/100: Patricia Stevens (ryangross@example.net) - ecommerce Source\n",
      "  ⚡ Exact matching: 4 matches found\n",
      "  🔍 Fuzzy matching: 5 matches found\n",
      "  🧮 Vector matching: 3 matches found\n",
      "  📋 Business rules: 4 matches found\n",
      "  📊 Combined score: 0.73 (MEDIUM confidence) → AUTO_MERGE\n",
      "  🗃️ → AUTO_MERGE Spanner (entity_id: 984d688f..., merged with existing 984d688f-4cd8-4914-872e-1d586bd23ac7)\n",
      "  ⏱️ Processing time: 1990ms\n",
      "  📝 → Written to CSV (row 34)\n",
      "\n",
      "📨 Record 35/100: Jbnnifer Gill (robin55@example.com) - crm Source\n",
      "  ⚡ Exact matching: 4 matches found\n",
      "  🔍 Fuzzy matching: 0 matches found\n",
      "  🧮 Vector matching: 5 matches found\n",
      "  📋 Business rules: 6 matches found\n",
      "  📊 Combined score: 0.43 (LOW confidence) → CREATE_NEW\n",
      "  🗃️ → CREATE_NEW Spanner (entity_id: c817b2ea..., new record created)\n",
      "  ⏱️ Processing time: 1785ms\n",
      "  📝 → Written to CSV (row 35)\n",
      "\n",
      "📨 Record 36/100: Patricia Baker (ylopez@example.com) - ecommerce Source\n",
      "  ⚡ Exact matching: 4 matches found\n",
      "  🔍 Fuzzy matching: 5 matches found\n",
      "  🧮 Vector matching: 0 matches found\n",
      "  📋 Business rules: 4 matches found\n",
      "  📊 Combined score: 0.73 (MEDIUM confidence) → AUTO_MERGE\n",
      "  🗃️ → AUTO_MERGE Spanner (entity_id: 1df5b073..., merged with existing 1df5b073-83f3-47c3-a9ad-d9ad17d6eb35)\n",
      "  ⏱️ Processing time: 2003ms\n",
      "  📝 → Written to CSV (row 36)\n",
      "\n",
      "📨 Record 37/100: Vanessa Reed (xanderson@example.net) - ecommerce Source\n",
      "  ⚡ Exact matching: 0 matches found\n",
      "  🔍 Fuzzy matching: 0 matches found\n",
      "  🧮 Vector matching: 11 matches found\n",
      "  📋 Business rules: 0 matches found\n",
      "  📊 Combined score: 0.17 (LOW confidence) → CREATE_NEW\n",
      "  🗃️ → CREATE_NEW Spanner (entity_id: f4c15377..., new record created)\n",
      "  ⏱️ Processing time: 1784ms\n",
      "  📝 → Written to CSV (row 37)\n",
      "\n",
      "📨 Record 38/100: Brandi Hernandez (bobbydiaz@example.org) - ecommerce Source\n",
      "  ⚡ Exact matching: 4 matches found\n",
      "  🔍 Fuzzy matching: 2 matches found\n",
      "  🧮 Vector matching: 6 matches found\n",
      "  📋 Business rules: 2 matches found\n",
      "  📊 Combined score: 0.72 (MEDIUM confidence) → AUTO_MERGE\n",
      "  🗃️ → AUTO_MERGE Spanner (entity_id: a76437cd..., merged with existing a76437cd-a86e-47ff-8370-87778f975678)\n",
      "  ⏱️ Processing time: 1801ms\n",
      "  📝 → Written to CSV (row 38)\n",
      "\n",
      "📨 Record 39/100: Eric Parks (lewismelissa@example.org) - erp Source\n",
      "  ⚡ Exact matching: 3 matches found\n",
      "  🔍 Fuzzy matching: 2 matches found\n",
      "  🧮 Vector matching: 8 matches found\n",
      "  📋 Business rules: 4 matches found\n",
      "  📊 Combined score: 0.73 (MEDIUM confidence) → AUTO_MERGE\n",
      "  🗃️ → AUTO_MERGE Spanner (entity_id: b7f719a5..., merged with existing b7f719a5-92a5-40db-87cb-6cbdcd4c6b9d)\n",
      "  ⏱️ Processing time: 2014ms\n",
      "  📝 → Written to CSV (row 39)\n",
      "\n",
      "📨 Record 40/100: Ryan Richards (heatherthompson@yahoo.com) - crm Source\n",
      "  ⚡ Exact matching: 3 matches found\n",
      "  🔍 Fuzzy matching: 3 matches found\n",
      "  🧮 Vector matching: 8 matches found\n",
      "  📋 Business rules: 6 matches found\n",
      "  📊 Combined score: 0.73 (MEDIUM confidence) → AUTO_MERGE\n",
      "  🗃️ → AUTO_MERGE Spanner (entity_id: 8a91a1d0..., merged with existing 8a91a1d0-8d14-4eda-827b-10cb6f216178)\n",
      "  ⏱️ Processing time: 2010ms\n",
      "  📝 → Written to CSV (row 40)\n",
      "\n",
      "📨 Record 41/100: Crystal Thompson (smithjoshua@example.org) - crm Source\n",
      "  ⚡ Exact matching: 3 matches found\n",
      "  🔍 Fuzzy matching: 2 matches found\n",
      "  🧮 Vector matching: 2 matches found\n",
      "  📋 Business rules: 4 matches found\n",
      "  📊 Combined score: 0.73 (MEDIUM confidence) → AUTO_MERGE\n",
      "  🗃️ → AUTO_MERGE Spanner (entity_id: 640181a8..., merged with existing 640181a8-1e29-4748-98af-e22590a5fc8f)\n",
      "  ⏱️ Processing time: 2175ms\n",
      "  📝 → Written to CSV (row 41)\n",
      "\n",
      "📨 Record 42/100: Phillip Anderson (maryavila@example.com) - erp Source\n",
      "  ⚡ Exact matching: 5 matches found\n",
      "  🔍 Fuzzy matching: 4 matches found\n",
      "  🧮 Vector matching: 3 matches found\n",
      "  📋 Business rules: 8 matches found\n",
      "  📊 Combined score: 0.93 (HIGH confidence) → AUTO_MERGE\n",
      "  🗃️ → AUTO_MERGE Spanner (entity_id: 0abf6ea2..., merged with existing 0abf6ea2-a72c-4bc8-8873-79240023362b)\n",
      "  ⏱️ Processing time: 2014ms\n",
      "  📝 → Written to CSV (row 42)\n",
      "\n",
      "📨 Record 43/100: Christina Ramirez (christian32@example.net) - crm Source\n",
      "  ⚡ Exact matching: 4 matches found\n",
      "  🔍 Fuzzy matching: 5 matches found\n",
      "  🧮 Vector matching: 3 matches found\n",
      "  📋 Business rules: 4 matches found\n",
      "  📊 Combined score: 0.73 (MEDIUM confidence) → AUTO_MERGE\n",
      "  🗃️ → AUTO_MERGE Spanner (entity_id: 44580fd1..., merged with existing 44580fd1-2de9-4522-bc08-bd2a443d4cd5)\n",
      "  ⏱️ Processing time: 2012ms\n",
      "  📝 → Written to CSV (row 43)\n",
      "\n",
      "📨 Record 44/100: Michelle Nicholson (cameronmckinney@example.com) - crm Source\n",
      "  ⚡ Exact matching: 0 matches found\n",
      "  🔍 Fuzzy matching: 5 matches found\n",
      "  🧮 Vector matching: 8 matches found\n",
      "  📋 Business rules: 2 matches found\n",
      "  📊 Combined score: 0.33 (LOW confidence) → CREATE_NEW\n",
      "  🗃️ → CREATE_NEW Spanner (entity_id: 1eba5657..., new record created)\n",
      "  ⏱️ Processing time: 1817ms\n",
      "  📝 → Written to CSV (row 44)\n",
      "\n",
      "📨 Record 45/100: Patricix Miller (jessebenson@example.net) - crm Source\n",
      "  ⚡ Exact matching: 4 matches found\n",
      "  🔍 Fuzzy matching: 3 matches found\n",
      "  🧮 Vector matching: 2 matches found\n",
      "  📋 Business rules: 4 matches found\n",
      "  📊 Combined score: 0.73 (MEDIUM confidence) → AUTO_MERGE\n",
      "  🗃️ → AUTO_MERGE Spanner (entity_id: 8104e064..., merged with existing 8104e064-afcc-4c7e-9735-d736967aa15d)\n",
      "  ⏱️ Processing time: 2022ms\n",
      "  📝 → Written to CSV (row 45)\n",
      "\n",
      "📨 Record 46/100: Jason Gomez (campbellcarla@example.net) - erp Source\n",
      "  ⚡ Exact matching: 4 matches found\n",
      "  🔍 Fuzzy matching: 3 matches found\n",
      "  🧮 Vector matching: 0 matches found\n",
      "  📋 Business rules: 6 matches found\n",
      "  📊 Combined score: 0.73 (MEDIUM confidence) → AUTO_MERGE\n",
      "  🗃️ → AUTO_MERGE Spanner (entity_id: 596e12e6..., merged with existing 596e12e6-44f5-4757-91f1-e2edb54ec853)\n",
      "  ⏱️ Processing time: 2025ms\n",
      "  📝 → Written to CSV (row 46)\n",
      "\n",
      "📨 Record 47/100: Gregory Chase (gwilcox@hotmail.com) - crm Source\n",
      "  ⚡ Exact matching: 0 matches found\n",
      "  🔍 Fuzzy matching: 0 matches found\n",
      "  🧮 Vector matching: 8 matches found\n",
      "  📋 Business rules: 0 matches found\n",
      "  📊 Combined score: 0.17 (LOW confidence) → CREATE_NEW\n",
      "  🗃️ → CREATE_NEW Spanner (entity_id: 1c68fdca..., new record created)\n",
      "  ⏱️ Processing time: 1813ms\n",
      "  📝 → Written to CSV (row 47)\n",
      "\n",
      "📨 Record 48/100: Claudia Richards (oscar98@example.com) - crm Source\n",
      "  ⚡ Exact matching: 9 matches found\n",
      "  🔍 Fuzzy matching: 5 matches found\n",
      "  🧮 Vector matching: 1 matches found\n",
      "  📋 Business rules: 5 matches found\n",
      "  📊 Combined score: 0.72 (MEDIUM confidence) → AUTO_MERGE\n",
      "  🗃️ → AUTO_MERGE Spanner (entity_id: d07e7a97..., merged with existing d07e7a97-bb6a-4a5e-b17d-d30eb62c8b55)\n",
      "  ⏱️ Processing time: 1820ms\n",
      "  📝 → Written to CSV (row 48)\n",
      "\n",
      "📨 Record 49/100: Shelia Richardson (jeffreyanderson@example.org) - ecommerce Source\n",
      "  ⚡ Exact matching: 6 matches found\n",
      "  🔍 Fuzzy matching: 3 matches found\n",
      "  🧮 Vector matching: 5 matches found\n",
      "  📋 Business rules: 4 matches found\n",
      "  📊 Combined score: 0.73 (MEDIUM confidence) → AUTO_MERGE\n",
      "  🗃️ → AUTO_MERGE Spanner (entity_id: a588068a..., merged with existing a588068a-131d-4b68-935b-a0035bcbbffc)\n",
      "  ⏱️ Processing time: 2023ms\n",
      "  📝 → Written to CSV (row 49)\n",
      "\n",
      "📨 Record 50/100: Lance Smith (hdavis@example.com) - crm Source\n",
      "  ⚡ Exact matching: 4 matches found\n",
      "  🔍 Fuzzy matching: 2 matches found\n",
      "  🧮 Vector matching: 12 matches found\n",
      "  📋 Business rules: 4 matches found\n",
      "  📊 Combined score: 0.73 (MEDIUM confidence) → AUTO_MERGE\n",
      "  🗃️ → AUTO_MERGE Spanner (entity_id: 037b0420..., merged with existing 037b0420-e22f-4e57-81a4-f0a03df2da96)\n",
      "  ⏱️ Processing time: 2021ms\n",
      "  📝 → Written to CSV (row 50)\n",
      "\n",
      "📨 Record 51/100: Ashley Jackson (rjackson@example.com) - crm Source\n",
      "  ⚡ Exact matching: 5 matches found\n",
      "  🔍 Fuzzy matching: 3 matches found\n",
      "  🧮 Vector matching: 2 matches found\n",
      "  📋 Business rules: 6 matches found\n",
      "  📊 Combined score: 0.73 (MEDIUM confidence) → AUTO_MERGE\n",
      "  🗃️ → AUTO_MERGE Spanner (entity_id: 843f26d3..., merged with existing 843f26d3-cb54-48ca-8aed-7fea9e6e3f0e)\n",
      "  ⏱️ Processing time: 2029ms\n",
      "  📝 → Written to CSV (row 51)\n",
      "\n",
      "📨 Record 52/100: Elaine Nelson (robertroach@example.net) - crm Source\n",
      "  ⚡ Exact matching: 0 matches found\n",
      "  🔍 Fuzzy matching: 0 matches found\n",
      "  🧮 Vector matching: 4 matches found\n",
      "  📋 Business rules: 0 matches found\n",
      "  📊 Combined score: 0.17 (LOW confidence) → CREATE_NEW\n",
      "  🗃️ → CREATE_NEW Spanner (entity_id: 7f33b779..., new record created)\n",
      "  ⏱️ Processing time: 1612ms\n",
      "  📝 → Written to CSV (row 52)\n",
      "\n",
      "📨 Record 53/100: Julie Thompson (opatel@example.net) - ecommerce Source\n",
      "  ⚡ Exact matching: 6 matches found\n",
      "  🔍 Fuzzy matching: 3 matches found\n",
      "  🧮 Vector matching: 3 matches found\n",
      "  📋 Business rules: 6 matches found\n",
      "  📊 Combined score: 0.93 (HIGH confidence) → AUTO_MERGE\n",
      "  🗃️ → AUTO_MERGE Spanner (entity_id: 9e8577da..., merged with existing 9e8577da-ba7a-4773-9886-a71bbe65d9c6)\n",
      "  ⏱️ Processing time: 2029ms\n",
      "  📝 → Written to CSV (row 53)\n",
      "\n",
      "📨 Record 54/100: Abigail Warren (ibarron@example.com) - crm Source\n",
      "  ⚡ Exact matching: 4 matches found\n",
      "  🔍 Fuzzy matching: 2 matches found\n",
      "  🧮 Vector matching: 9 matches found\n",
      "  📋 Business rules: 4 matches found\n",
      "  📊 Combined score: 0.93 (HIGH confidence) → AUTO_MERGE\n",
      "  🗃️ → AUTO_MERGE Spanner (entity_id: 654f317c..., merged with existing 654f317c-36f1-46cd-b10a-e67a0a7f5c8c)\n",
      "  ⏱️ Processing time: 2022ms\n",
      "  📝 → Written to CSV (row 54)\n",
      "\n",
      "📨 Record 55/100: Hannah Brewer (bwest@outlook.com) - crm Source\n",
      "  ⚡ Exact matching: 2 matches found\n",
      "  🔍 Fuzzy matching: 2 matches found\n",
      "  🧮 Vector matching: 2 matches found\n",
      "  📋 Business rules: 2 matches found\n",
      "  📊 Combined score: 0.72 (MEDIUM confidence) → AUTO_MERGE\n",
      "  🗃️ → AUTO_MERGE Spanner (entity_id: d0d12f0b..., merged with existing d0d12f0b-318a-482b-9740-2aec667516ef)\n",
      "  ⏱️ Processing time: 1823ms\n",
      "  📝 → Written to CSV (row 55)\n",
      "\n",
      "📨 Record 56/100: Michelle Martinez (johndawson@example.org) - ecommerce Source\n",
      "  ⚡ Exact matching: 6 matches found\n",
      "  🔍 Fuzzy matching: 5 matches found\n",
      "  🧮 Vector matching: 1 matches found\n",
      "  📋 Business rules: 5 matches found\n",
      "  📊 Combined score: 0.73 (MEDIUM confidence) → AUTO_MERGE\n",
      "  🗃️ → AUTO_MERGE Spanner (entity_id: 037a3eb8..., merged with existing 037a3eb8-51b8-46a9-a94b-949a501d8aa3)\n",
      "  ⏱️ Processing time: 2480ms\n",
      "  📝 → Written to CSV (row 56)\n",
      "\n",
      "📨 Record 57/100: Eric Yu (yorkcasey@outlook.com) - crm Source\n",
      "  ⚡ Exact matching: 0 matches found\n",
      "  🔍 Fuzzy matching: 2 matches found\n",
      "  🧮 Vector matching: 2 matches found\n",
      "  📋 Business rules: 4 matches found\n",
      "  📊 Combined score: 0.33 (LOW confidence) → CREATE_NEW\n",
      "  🗃️ → CREATE_NEW Spanner (entity_id: bf2ea1e3..., new record created)\n",
      "  ⏱️ Processing time: 1594ms\n",
      "  📝 → Written to CSV (row 57)\n",
      "\n",
      "📨 Record 58/100: Scott Sampson (cory58@example.net) - ecommerce Source\n",
      "  ⚡ Exact matching: 3 matches found\n",
      "  🔍 Fuzzy matching: 2 matches found\n",
      "  🧮 Vector matching: 10 matches found\n",
      "  📋 Business rules: 4 matches found\n",
      "  📊 Combined score: 0.73 (MEDIUM confidence) → AUTO_MERGE\n",
      "  🗃️ → AUTO_MERGE Spanner (entity_id: 3a04cb28..., merged with existing 3a04cb28-79d4-4302-8449-47f17f8e2c24)\n",
      "  ⏱️ Processing time: 2000ms\n",
      "  📝 → Written to CSV (row 58)\n",
      "\n",
      "📨 Record 59/100: Nicholas Chavez (mitchellgriffith@outlook.com) - crm Source\n",
      "  ⚡ Exact matching: 0 matches found\n",
      "  🔍 Fuzzy matching: 6 matches found\n",
      "  🧮 Vector matching: 5 matches found\n",
      "  📋 Business rules: 7 matches found\n",
      "  📊 Combined score: 0.33 (LOW confidence) → CREATE_NEW\n",
      "  🗃️ → CREATE_NEW Spanner (entity_id: 225b974e..., new record created)\n",
      "  ⏱️ Processing time: 1745ms\n",
      "  📝 → Written to CSV (row 59)\n",
      "\n",
      "📨 Record 60/100: Daniel Lambert (orose@example.com) - erp Source\n",
      "  ⚡ Exact matching: 2 matches found\n",
      "  🔍 Fuzzy matching: 2 matches found\n",
      "  🧮 Vector matching: 7 matches found\n",
      "  📋 Business rules: 4 matches found\n",
      "  📊 Combined score: 0.73 (MEDIUM confidence) → AUTO_MERGE\n",
      "  🗃️ → AUTO_MERGE Spanner (entity_id: 9cb697d6..., merged with existing 9cb697d6-91d5-44b7-bb18-656085687edc)\n",
      "  ⏱️ Processing time: 1941ms\n",
      "  📝 → Written to CSV (row 60)\n",
      "\n",
      "📨 Record 61/100: Cynthia Pierce (colleenmendez@example.org) - crm Source\n",
      "  ⚡ Exact matching: 4 matches found\n",
      "  🔍 Fuzzy matching: 2 matches found\n",
      "  🧮 Vector matching: 16 matches found\n",
      "  📋 Business rules: 4 matches found\n",
      "  📊 Combined score: 0.73 (MEDIUM confidence) → AUTO_MERGE\n",
      "  🗃️ → AUTO_MERGE Spanner (entity_id: 38e87df0..., merged with existing 38e87df0-7bd3-464c-ab44-cacb1353c2a3)\n",
      "  ⏱️ Processing time: 1940ms\n",
      "  📝 → Written to CSV (row 61)\n",
      "\n",
      "📨 Record 62/100: Diane Escobar (mathewaguilar@hotmail.com) - crm Source\n",
      "  ⚡ Exact matching: 3 matches found\n",
      "  🔍 Fuzzy matching: 3 matches found\n",
      "  🧮 Vector matching: 5 matches found\n",
      "  📋 Business rules: 6 matches found\n",
      "  📊 Combined score: 0.73 (MEDIUM confidence) → AUTO_MERGE\n",
      "  🗃️ → AUTO_MERGE Spanner (entity_id: de3f29ca..., merged with existing de3f29ca-4568-4daa-b358-c9719b1ce43e)\n",
      "  ⏱️ Processing time: 1939ms\n",
      "  📝 → Written to CSV (row 62)\n",
      "\n",
      "📨 Record 63/100: Vincent Herrera (jennifercarter@example.org) - erp Source\n",
      "  ⚡ Exact matching: 2 matches found\n",
      "  🔍 Fuzzy matching: 1 matches found\n",
      "  🧮 Vector matching: 16 matches found\n",
      "  📋 Business rules: 2 matches found\n",
      "  📊 Combined score: 0.93 (HIGH confidence) → AUTO_MERGE\n",
      "  🗃️ → AUTO_MERGE Spanner (entity_id: c226b643..., merged with existing c226b643-d8b3-4f3e-8b91-63f8e662d565)\n",
      "  ⏱️ Processing time: 1935ms\n",
      "  📝 → Written to CSV (row 63)\n",
      "\n",
      "📨 Record 64/100: Jeffery Coleman (kennethkidd@example.com) - ecommerce Source\n",
      "  ⚡ Exact matching: 6 matches found\n",
      "  🔍 Fuzzy matching: 3 matches found\n",
      "  🧮 Vector matching: 0 matches found\n",
      "  📋 Business rules: 6 matches found\n",
      "  📊 Combined score: 0.73 (MEDIUM confidence) → AUTO_MERGE\n",
      "  🗃️ → AUTO_MERGE Spanner (entity_id: cf029e35..., merged with existing cf029e35-3f22-44d1-a4ff-4649a3f0f28b)\n",
      "  ⏱️ Processing time: 1945ms\n",
      "  📝 → Written to CSV (row 64)\n",
      "\n",
      "📨 Record 65/100: James Brooks (amberosborne@example.net) - crm Source\n",
      "  ⚡ Exact matching: 3 matches found\n",
      "  🔍 Fuzzy matching: 3 matches found\n",
      "  🧮 Vector matching: 7 matches found\n",
      "  📋 Business rules: 6 matches found\n",
      "  📊 Combined score: 0.93 (HIGH confidence) → AUTO_MERGE\n",
      "  🗃️ → AUTO_MERGE Spanner (entity_id: 53c83881..., merged with existing 53c83881-ce87-4694-8622-9771ab26525b)\n",
      "  ⏱️ Processing time: 1947ms\n",
      "  📝 → Written to CSV (row 65)\n",
      "\n",
      "📨 Record 66/100: Lisa Sawyer (michael56@example.net) - erp Source\n",
      "  ⚡ Exact matching: 0 matches found\n",
      "  🔍 Fuzzy matching: 0 matches found\n",
      "  🧮 Vector matching: 4 matches found\n",
      "  📋 Business rules: 0 matches found\n",
      "  📊 Combined score: 0.17 (LOW confidence) → CREATE_NEW\n",
      "  🗃️ → CREATE_NEW Spanner (entity_id: 24f6520c..., new record created)\n",
      "  ⏱️ Processing time: 1743ms\n",
      "  📝 → Written to CSV (row 66)\n",
      "\n",
      "📨 Record 67/100: Mary Coohran (lweaver@example.com) - erp Source\n",
      "  ⚡ Exact matching: 2 matches found\n",
      "  🔍 Fuzzy matching: 2 matches found\n",
      "  🧮 Vector matching: 8 matches found\n",
      "  📋 Business rules: 4 matches found\n",
      "  📊 Combined score: 0.73 (MEDIUM confidence) → AUTO_MERGE\n",
      "  🗃️ → AUTO_MERGE Spanner (entity_id: 16f9b8df..., merged with existing 16f9b8df-17b3-45a7-9109-ecbba312c93a)\n",
      "  ⏱️ Processing time: 1948ms\n",
      "  📝 → Written to CSV (row 67)\n",
      "\n",
      "📨 Record 68/100: Molly Gomez (yhill@yahoo.com) - ecommerce Source\n",
      "  ⚡ Exact matching: 2 matches found\n",
      "  🔍 Fuzzy matching: 2 matches found\n",
      "  🧮 Vector matching: 1 matches found\n",
      "  📋 Business rules: 3 matches found\n",
      "  📊 Combined score: 0.73 (MEDIUM confidence) → AUTO_MERGE\n",
      "  🗃️ → AUTO_MERGE Spanner (entity_id: 33e6d738..., merged with existing 33e6d738-2379-47e1-b638-4089aa5bccf4)\n",
      "  ⏱️ Processing time: 1945ms\n",
      "  📝 → Written to CSV (row 68)\n",
      "\n",
      "📨 Record 69/100: Shaun Jones (patrickdarin@example.com) - erp Source\n",
      "  ⚡ Exact matching: 4 matches found\n",
      "  🔍 Fuzzy matching: 6 matches found\n",
      "  🧮 Vector matching: 4 matches found\n",
      "  📋 Business rules: 4 matches found\n",
      "  📊 Combined score: 0.72 (MEDIUM confidence) → AUTO_MERGE\n",
      "  🗃️ → AUTO_MERGE Spanner (entity_id: 045e6c25..., merged with existing 045e6c25-285a-4836-940e-321afd67376c)\n",
      "  ⏱️ Processing time: 1750ms\n",
      "  📝 → Written to CSV (row 69)\n",
      "\n",
      "📨 Record 70/100: Kimterly Howard (kcooper@example.net) - ecommerce Source\n",
      "  ⚡ Exact matching: 4 matches found\n",
      "  🔍 Fuzzy matching: 2 matches found\n",
      "  🧮 Vector matching: 4 matches found\n",
      "  📋 Business rules: 4 matches found\n",
      "  📊 Combined score: 0.73 (MEDIUM confidence) → AUTO_MERGE\n",
      "  🗃️ → AUTO_MERGE Spanner (entity_id: 67822b13..., merged with existing 67822b13-ef94-4daa-81c7-f518c21d0509)\n",
      "  ⏱️ Processing time: 1940ms\n",
      "  📝 → Written to CSV (row 70)\n",
      "\n",
      "📨 Record 71/100: Christopher Shaffer (edwardsnicole@example.org) - crm Source\n",
      "  ⚡ Exact matching: 3 matches found\n",
      "  🔍 Fuzzy matching: 2 matches found\n",
      "  🧮 Vector matching: 10 matches found\n",
      "  📋 Business rules: 3 matches found\n",
      "  📊 Combined score: 0.73 (MEDIUM confidence) → AUTO_MERGE\n",
      "  🗃️ → AUTO_MERGE Spanner (entity_id: 0961bed2..., merged with existing 0961bed2-abad-4805-8e81-88a927fcb5db)\n",
      "  ⏱️ Processing time: 1944ms\n",
      "  📝 → Written to CSV (row 71)\n",
      "\n",
      "📨 Record 72/100: Michele James (courtney78@yahoo.com) - erp Source\n",
      "  ⚡ Exact matching: 2 matches found\n",
      "  🔍 Fuzzy matching: 2 matches found\n",
      "  🧮 Vector matching: 7 matches found\n",
      "  📋 Business rules: 4 matches found\n",
      "  📊 Combined score: 0.73 (MEDIUM confidence) → AUTO_MERGE\n",
      "  🗃️ → AUTO_MERGE Spanner (entity_id: 11976dab..., merged with existing 11976dab-b4a5-426a-b7a8-12f5d417df9f)\n",
      "  ⏱️ Processing time: 1943ms\n",
      "  📝 → Written to CSV (row 72)\n",
      "\n",
      "📨 Record 73/100: Patricia Bush (kdunlap@example.net) - ecommerce Source\n",
      "  ⚡ Exact matching: 0 matches found\n",
      "  🔍 Fuzzy matching: 1 matches found\n",
      "  🧮 Vector matching: 0 matches found\n",
      "  📋 Business rules: 0 matches found\n",
      "  📊 Combined score: 0.21 (LOW confidence) → CREATE_NEW\n",
      "  🗃️ → CREATE_NEW Spanner (entity_id: 5d7f3e60..., new record created)\n",
      "  ⏱️ Processing time: 1742ms\n",
      "  📝 → Written to CSV (row 73)\n",
      "\n",
      "📨 Record 74/100: David Walker (andrew83@example.net) - ecommerce Source\n",
      "  ⚡ Exact matching: 6 matches found\n",
      "  🔍 Fuzzy matching: 3 matches found\n",
      "  🧮 Vector matching: 9 matches found\n",
      "  📋 Business rules: 6 matches found\n",
      "  📊 Combined score: 0.93 (HIGH confidence) → AUTO_MERGE\n",
      "  🗃️ → AUTO_MERGE Spanner (entity_id: 8d633cb1..., merged with existing 8d633cb1-8bc0-41a6-8385-eff3f355425f)\n",
      "  ⏱️ Processing time: 1941ms\n",
      "  📝 → Written to CSV (row 74)\n",
      "\n",
      "📨 Record 75/100: Karen Parrish (schmittcaroline@example.com) - ecommerce Source\n",
      "  ⚡ Exact matching: 3 matches found\n",
      "  🔍 Fuzzy matching: 4 matches found\n",
      "  🧮 Vector matching: 5 matches found\n",
      "  📋 Business rules: 8 matches found\n",
      "  📊 Combined score: 0.73 (MEDIUM confidence) → AUTO_MERGE\n",
      "  🗃️ → AUTO_MERGE Spanner (entity_id: 70597d7e..., merged with existing 70597d7e-3f2e-4821-bc20-5f77c82e24ab)\n",
      "  ⏱️ Processing time: 1737ms\n",
      "  📝 → Written to CSV (row 75)\n",
      "\n",
      "📨 Record 76/100: Claudia Richards (oscar98@example.com) - erp Source\n",
      "  ⚡ Exact matching: 9 matches found\n",
      "  🔍 Fuzzy matching: 5 matches found\n",
      "  🧮 Vector matching: 15 matches found\n",
      "  📋 Business rules: 10 matches found\n",
      "  📊 Combined score: 0.73 (MEDIUM confidence) → AUTO_MERGE\n",
      "  🗃️ → AUTO_MERGE Spanner (entity_id: ab2ba5b4..., merged with existing ab2ba5b4-4a1b-4762-a7c6-40212d09f0f6)\n",
      "  ⏱️ Processing time: 1938ms\n",
      "  📝 → Written to CSV (row 76)\n",
      "\n",
      "📨 Record 77/100: Elaine Nelson (robertroach@example.net) - ecommerce Source\n",
      "  ⚡ Exact matching: 2 matches found\n",
      "  🔍 Fuzzy matching: 1 matches found\n",
      "  🧮 Vector matching: 4 matches found\n",
      "  📋 Business rules: 1 matches found\n",
      "  📊 Combined score: 0.72 (MEDIUM confidence) → AUTO_MERGE\n",
      "  🗃️ → AUTO_MERGE Spanner (entity_id: 7f33b779..., merged with existing 7f33b779-63a0-4baf-9b00-8dbb90629579)\n",
      "  ⏱️ Processing time: 1937ms\n",
      "  📝 → Written to CSV (row 77)\n",
      "\n",
      "📨 Record 78/100: Jack Preston (warrenmary@example.org) - ecommerce Source\n",
      "  ⚡ Exact matching: 4 matches found\n",
      "  🔍 Fuzzy matching: 2 matches found\n",
      "  🧮 Vector matching: 5 matches found\n",
      "  📋 Business rules: 4 matches found\n",
      "  📊 Combined score: 0.93 (HIGH confidence) → AUTO_MERGE\n",
      "  🗃️ → AUTO_MERGE Spanner (entity_id: 8554c7b6..., merged with existing 8554c7b6-893d-47c3-968f-8248f4a27fe9)\n",
      "  ⏱️ Processing time: 1940ms\n",
      "  📝 → Written to CSV (row 78)\n",
      "\n",
      "📨 Record 79/100: Deborah Kerr (charlesmartin@example.com) - crm Source\n",
      "  ⚡ Exact matching: 1 matches found\n",
      "  🔍 Fuzzy matching: 2 matches found\n",
      "  🧮 Vector matching: 3 matches found\n",
      "  📋 Business rules: 4 matches found\n",
      "  📊 Combined score: 0.73 (MEDIUM confidence) → AUTO_MERGE\n",
      "  🗃️ → AUTO_MERGE Spanner (entity_id: cef2297b..., merged with existing cef2297b-9491-4f45-89a4-ee2071afccae)\n",
      "  ⏱️ Processing time: 1942ms\n",
      "  📝 → Written to CSV (row 79)\n",
      "\n",
      "📨 Record 80/100: David Walker (andrew83@example.net) - ecommerce Source\n",
      "  ⚡ Exact matching: 6 matches found\n",
      "  🔍 Fuzzy matching: 3 matches found\n",
      "  🧮 Vector matching: 9 matches found\n",
      "  📋 Business rules: 6 matches found\n",
      "  📊 Combined score: 0.93 (HIGH confidence) → AUTO_MERGE\n",
      "  🗃️ → AUTO_MERGE Spanner (entity_id: 8d633cb1..., merged with existing 8d633cb1-8bc0-41a6-8385-eff3f355425f)\n",
      "  ⏱️ Processing time: 1941ms\n",
      "  📝 → Written to CSV (row 80)\n",
      "\n",
      "📨 Record 81/100: Rachel Ramos (christopherboone@hotmail.com) - ecommerce Source\n",
      "  ⚡ Exact matching: 2 matches found\n",
      "  🔍 Fuzzy matching: 2 matches found\n",
      "  🧮 Vector matching: 5 matches found\n",
      "  📋 Business rules: 4 matches found\n",
      "  📊 Combined score: 0.73 (MEDIUM confidence) → AUTO_MERGE\n",
      "  🗃️ → AUTO_MERGE Spanner (entity_id: 1f66ce37..., merged with existing 1f66ce37-3bb3-4cd0-9aaf-67b78b8be015)\n",
      "  ⏱️ Processing time: 1949ms\n",
      "  📝 → Written to CSV (row 81)\n",
      "\n",
      "📨 Record 82/100: Jeffrey Black (finleycasey@example.com) - erp Source\n",
      "  ⚡ Exact matching: 2 matches found\n",
      "  🔍 Fuzzy matching: 7 matches found\n",
      "  🧮 Vector matching: 0 matches found\n",
      "  📋 Business rules: 4 matches found\n",
      "  📊 Combined score: 0.73 (MEDIUM confidence) → AUTO_MERGE\n",
      "  🗃️ → AUTO_MERGE Spanner (entity_id: 3ba20575..., merged with existing 3ba20575-88db-41e4-b702-471b9436bda9)\n",
      "  ⏱️ Processing time: 1943ms\n",
      "  📝 → Written to CSV (row 82)\n",
      "\n",
      "📨 Record 83/100: Scott Sampson (cory58@example.net) - crm Source\n",
      "  ⚡ Exact matching: 4 matches found\n",
      "  🔍 Fuzzy matching: 2 matches found\n",
      "  🧮 Vector matching: 12 matches found\n",
      "  📋 Business rules: 4 matches found\n",
      "  📊 Combined score: 0.93 (HIGH confidence) → AUTO_MERGE\n",
      "  🗃️ → AUTO_MERGE Spanner (entity_id: 3a04cb28..., merged with existing 3a04cb28-79d4-4302-8449-47f17f8e2c24)\n",
      "  ⏱️ Processing time: 1941ms\n",
      "  📝 → Written to CSV (row 83)\n",
      "\n",
      "📨 Record 84/100: Vanessa Reed (xanderson@example.net) - ecommerce Source\n",
      "  ⚡ Exact matching: 2 matches found\n",
      "  🔍 Fuzzy matching: 1 matches found\n",
      "  🧮 Vector matching: 17 matches found\n",
      "  📋 Business rules: 2 matches found\n",
      "  📊 Combined score: 0.73 (MEDIUM confidence) → AUTO_MERGE\n",
      "  🗃️ → AUTO_MERGE Spanner (entity_id: f4c15377..., merged with existing f4c15377-cf29-4b09-9187-3ed480a1f435)\n",
      "  ⏱️ Processing time: 1938ms\n",
      "  📝 → Written to CSV (row 84)\n",
      "\n",
      "📨 Record 85/100: Crystal Thompson (smithjoshua@example.org) - ecommerce Source\n",
      "  ⚡ Exact matching: 3 matches found\n",
      "  🔍 Fuzzy matching: 2 matches found\n",
      "  🧮 Vector matching: 3 matches found\n",
      "  📋 Business rules: 2 matches found\n",
      "  📊 Combined score: 0.72 (MEDIUM confidence) → AUTO_MERGE\n",
      "  🗃️ → AUTO_MERGE Spanner (entity_id: 640181a8..., merged with existing 640181a8-1e29-4748-98af-e22590a5fc8f)\n",
      "  ⏱️ Processing time: 1737ms\n",
      "  📝 → Written to CSV (row 85)\n",
      "\n",
      "📨 Record 86/100: James Horton (jross@example.net) - erp Source\n",
      "  ⚡ Exact matching: 2 matches found\n",
      "  🔍 Fuzzy matching: 4 matches found\n",
      "  🧮 Vector matching: 2 matches found\n",
      "  📋 Business rules: 4 matches found\n",
      "  📊 Combined score: 0.73 (MEDIUM confidence) → AUTO_MERGE\n",
      "  🗃️ → AUTO_MERGE Spanner (entity_id: 8f74a2e9..., merged with existing 8f74a2e9-dc25-40aa-83ee-e7a7cc096fd3)\n",
      "  ⏱️ Processing time: 1941ms\n",
      "  📝 → Written to CSV (row 86)\n",
      "\n",
      "📨 Record 87/100: Hannah Brewer (bwest@example.org) - ecommerce Source\n",
      "  ⚡ Exact matching: 3 matches found\n",
      "  🔍 Fuzzy matching: 2 matches found\n",
      "  🧮 Vector matching: 2 matches found\n",
      "  📋 Business rules: 4 matches found\n",
      "  📊 Combined score: 0.73 (MEDIUM confidence) → AUTO_MERGE\n",
      "  🗃️ → AUTO_MERGE Spanner (entity_id: d0d12f0b..., merged with existing d0d12f0b-318a-482b-9740-2aec667516ef)\n",
      "  ⏱️ Processing time: 1938ms\n",
      "  📝 → Written to CSV (row 87)\n",
      "\n",
      "📨 Record 88/100: Nicholas Montoya (stevenslaurie@example.com) - ecommerce Source\n",
      "  ⚡ Exact matching: 5 matches found\n",
      "  🔍 Fuzzy matching: 8 matches found\n",
      "  🧮 Vector matching: 5 matches found\n",
      "  📋 Business rules: 6 matches found\n",
      "  📊 Combined score: 0.73 (MEDIUM confidence) → AUTO_MERGE\n",
      "  🗃️ → AUTO_MERGE Spanner (entity_id: fca4919d..., merged with existing fca4919d-a78b-466d-93e6-4a28ba702b1b)\n",
      "  ⏱️ Processing time: 1943ms\n",
      "  📝 → Written to CSV (row 88)\n",
      "\n",
      "📨 Record 89/100: Patricia Bush (kdunlap@example.net) - erp Source\n",
      "  ⚡ Exact matching: 1 matches found\n",
      "  🔍 Fuzzy matching: 2 matches found\n",
      "  🧮 Vector matching: 4 matches found\n",
      "  📋 Business rules: 2 matches found\n",
      "  📊 Combined score: 0.73 (MEDIUM confidence) → AUTO_MERGE\n",
      "  🗃️ → AUTO_MERGE Spanner (entity_id: 5d7f3e60..., merged with existing 5d7f3e60-01c2-4f24-8b66-c87696ac797f)\n",
      "  ⏱️ Processing time: 1950ms\n",
      "  📝 → Written to CSV (row 89)\n",
      "\n",
      "📨 Record 90/100: Thomas Santos (manuel01@example.net) - erp Source\n",
      "  ⚡ Exact matching: 0 matches found\n",
      "  🔍 Fuzzy matching: 0 matches found\n",
      "  🧮 Vector matching: 4 matches found\n",
      "  📋 Business rules: 0 matches found\n",
      "  📊 Combined score: 0.17 (LOW confidence) → CREATE_NEW\n",
      "  🗃️ → CREATE_NEW Spanner (entity_id: 46dfe130..., new record created)\n",
      "  ⏱️ Processing time: 1755ms\n",
      "  📝 → Written to CSV (row 90)\n",
      "\n",
      "📨 Record 91/100: David Walker (andrew83@example.net) - crm Source\n",
      "  ⚡ Exact matching: 6 matches found\n",
      "  🔍 Fuzzy matching: 3 matches found\n",
      "  🧮 Vector matching: 9 matches found\n",
      "  📋 Business rules: 6 matches found\n",
      "  📊 Combined score: 0.93 (HIGH confidence) → AUTO_MERGE\n",
      "  🗃️ → AUTO_MERGE Spanner (entity_id: 8d633cb1..., merged with existing 8d633cb1-8bc0-41a6-8385-eff3f355425f)\n",
      "  ⏱️ Processing time: 1938ms\n",
      "  📝 → Written to CSV (row 91)\n",
      "\n",
      "📨 Record 92/100: Michelle Anderson (kristy39@example.com) - erp Source\n",
      "  ⚡ Exact matching: 2 matches found\n",
      "  🔍 Fuzzy matching: 3 matches found\n",
      "  🧮 Vector matching: 13 matches found\n",
      "  📋 Business rules: 1 matches found\n",
      "  📊 Combined score: 0.72 (MEDIUM confidence) → AUTO_MERGE\n",
      "  🗃️ → AUTO_MERGE Spanner (entity_id: 324517a1..., merged with existing 324517a1-5359-407d-9439-ba1372dc984f)\n",
      "  ⏱️ Processing time: 1947ms\n",
      "  📝 → Written to CSV (row 92)\n",
      "\n",
      "📨 Record 93/100: Jenny Lee (nicholas99@example.org) - ecommerce Source\n",
      "  ⚡ Exact matching: 0 matches found\n",
      "  🔍 Fuzzy matching: 0 matches found\n",
      "  🧮 Vector matching: 2 matches found\n",
      "  📋 Business rules: 0 matches found\n",
      "  📊 Combined score: 0.17 (LOW confidence) → CREATE_NEW\n",
      "  🗃️ → CREATE_NEW Spanner (entity_id: 6bb82b5f..., new record created)\n",
      "  ⏱️ Processing time: 1734ms\n",
      "  📝 → Written to CSV (row 93)\n",
      "\n",
      "📨 Record 94/100: Stephen Brown (tchambers@example.net) - crm Source\n",
      "  ⚡ Exact matching: 6 matches found\n",
      "  🔍 Fuzzy matching: 4 matches found\n",
      "  🧮 Vector matching: 2 matches found\n",
      "  📋 Business rules: 8 matches found\n",
      "  📊 Combined score: 0.73 (MEDIUM confidence) → AUTO_MERGE\n",
      "  🗃️ → AUTO_MERGE Spanner (entity_id: 6a8a5ada..., merged with existing 6a8a5ada-7907-4166-a021-cefbb0179263)\n",
      "  ⏱️ Processing time: 1940ms\n",
      "  📝 → Written to CSV (row 94)\n",
      "\n",
      "📨 Record 95/100: Nicholas Montoya (stevenslaurie@example.com) - crm Source\n",
      "  ⚡ Exact matching: 5 matches found\n",
      "  🔍 Fuzzy matching: 8 matches found\n",
      "  🧮 Vector matching: 5 matches found\n",
      "  📋 Business rules: 6 matches found\n",
      "  📊 Combined score: 0.73 (MEDIUM confidence) → AUTO_MERGE\n",
      "  🗃️ → AUTO_MERGE Spanner (entity_id: fca4919d..., merged with existing fca4919d-a78b-466d-93e6-4a28ba702b1b)\n",
      "  ⏱️ Processing time: 1940ms\n",
      "  📝 → Written to CSV (row 95)\n",
      "\n",
      "📨 Record 96/100: Shelia Richardson (jeffreyanderson@example.org) - erp Source\n",
      "  ⚡ Exact matching: 6 matches found\n",
      "  🔍 Fuzzy matching: 3 matches found\n",
      "  🧮 Vector matching: 3 matches found\n",
      "  📋 Business rules: 4 matches found\n",
      "  📊 Combined score: 0.73 (MEDIUM confidence) → AUTO_MERGE\n",
      "  🗃️ → AUTO_MERGE Spanner (entity_id: a588068a..., merged with existing a588068a-131d-4b68-935b-a0035bcbbffc)\n",
      "  ⏱️ Processing time: 1943ms\n",
      "  📝 → Written to CSV (row 96)\n",
      "\n",
      "📨 Record 97/100: Raymond Ramirez (rasmussenjoshua@example.net) - crm Source\n",
      "  ⚡ Exact matching: 4 matches found\n",
      "  🔍 Fuzzy matching: 4 matches found\n",
      "  🧮 Vector matching: 8 matches found\n",
      "  📋 Business rules: 2 matches found\n",
      "  📊 Combined score: 0.72 (MEDIUM confidence) → AUTO_MERGE\n",
      "  🗃️ → AUTO_MERGE Spanner (entity_id: b9df0711..., merged with existing b9df0711-efad-4777-a668-22b6edaa8ba0)\n",
      "  ⏱️ Processing time: 1741ms\n",
      "  📝 → Written to CSV (row 97)\n",
      "\n",
      "📨 Record 98/100: Shannon Brown (stephanie72@outlook.com) - crm Source\n",
      "  ⚡ Exact matching: 2 matches found\n",
      "  🔍 Fuzzy matching: 2 matches found\n",
      "  🧮 Vector matching: 3 matches found\n",
      "  📋 Business rules: 4 matches found\n",
      "  📊 Combined score: 0.73 (MEDIUM confidence) → AUTO_MERGE\n",
      "  🗃️ → AUTO_MERGE Spanner (entity_id: ce52d9e5..., merged with existing ce52d9e5-e5fa-4d60-95cf-ad17317612b2)\n",
      "  ⏱️ Processing time: 1941ms\n",
      "  📝 → Written to CSV (row 98)\n",
      "\n",
      "📨 Record 99/100: Kaitlyn Baker (xcarson@example.org) - erp Source\n",
      "  ⚡ Exact matching: 4 matches found\n",
      "  🔍 Fuzzy matching: 2 matches found\n",
      "  🧮 Vector matching: 13 matches found\n",
      "  📋 Business rules: 3 matches found\n",
      "  📊 Combined score: 0.73 (MEDIUM confidence) → AUTO_MERGE\n",
      "  🗃️ → AUTO_MERGE Spanner (entity_id: 504abbac..., merged with existing 504abbac-e06c-4d2a-8a37-20f917198f2e)\n",
      "  ⏱️ Processing time: 2110ms\n",
      "  📝 → Written to CSV (row 99)\n",
      "\n",
      "📨 Record 100/100: Christopher Shaffer (edwardsnicole@example.org) - erp Source\n",
      "  ⚡ Exact matching: 3 matches found\n",
      "  🔍 Fuzzy matching: 2 matches found\n",
      "  🧮 Vector matching: 2 matches found\n",
      "  📋 Business rules: 2 matches found\n",
      "  📊 Combined score: 0.72 (MEDIUM confidence) → AUTO_MERGE\n",
      "  🗃️ → AUTO_MERGE Spanner (entity_id: 0961bed2..., merged with existing 0961bed2-abad-4805-8e81-88a927fcb5db)\n",
      "  ⏱️ Processing time: 1769ms\n",
      "  📝 → Written to CSV (row 100)\n",
      "\n",
      "🎉 Streaming Simulation Complete!\n",
      "==================================================\n",
      "📊 Processing Summary:\n",
      "  Records processed: 100\n",
      "  Total time: 192.3 seconds\n",
      "  Average processing time: 1922ms\n",
      "  Throughput: 0.5 records/second\n",
      "\n",
      "⚖️ Decision Distribution:\n",
      "  AUTO_MERGE: 83 (83.0%)\n",
      "  CREATE_NEW: 17 (17.0%)\n",
      "\n",
      "🎯 Confidence Distribution:\n",
      "  MEDIUM: 72 (72.0%)\n",
      "  LOW: 17 (17.0%)\n",
      "  HIGH: 11 (11.0%)\n",
      "\n",
      "📁 Results saved to: results/streaming_transactions.csv\n"
     ]
    }
   ],
   "source": [
    "print(\n",
    "    f\"🚀 Starting Streaming MDM Simulation ({NUM_STREAMING_RECORDS} records, per 100ms)\")\n",
    "print(\"=\" * 80)\n",
    "print()\n",
    "\n",
    "# Validate prerequisites\n",
    "if not streaming_records:\n",
    "    print(\"❌ No streaming records available. Please run data generation first.\")\n",
    "elif not processor:\n",
    "    print(\"❌ Processor not initialized. Please run processor setup first.\")\n",
    "elif not csv_file:\n",
    "    print(\"❌ CSV logging not set up. Please run CSV setup first.\")\n",
    "else:\n",
    "    # Track overall statistics\n",
    "    start_time = time.time()\n",
    "    total_processing_time = 0\n",
    "    action_counts = {}\n",
    "    confidence_counts = {}\n",
    "\n",
    "    # Process each record with simplified loop\n",
    "    with open(csv_file, 'a', newline='') as f:\n",
    "        csv_writer = csv.writer(f)\n",
    "\n",
    "        for i, record in enumerate(streaming_records, 1):\n",
    "            record_start = time.time()\n",
    "\n",
    "            # Process the record with match details\n",
    "            result = processor.process_record(\n",
    "                record, i, NUM_STREAMING_RECORDS, include_match_details=True)\n",
    "\n",
    "            # Update statistics\n",
    "            total_processing_time += result.get('processing_time_ms', 0)\n",
    "            update_statistics(result, action_counts, confidence_counts)\n",
    "\n",
    "            # Log to CSV using helper function\n",
    "            log_success = log_transaction_result(result, csv_writer, record)\n",
    "\n",
    "            if log_success:\n",
    "                print(f\"  📝 → Written to CSV (row {i})\")\n",
    "            else:\n",
    "                print(f\"  ⚠️ → CSV logging failed for row {i}\")\n",
    "\n",
    "            # Sleep to maintain processing pace\n",
    "            elapsed = time.time() - record_start\n",
    "            sleep_time = max(0, PROCESSING_DELAY_SEC - elapsed)\n",
    "            if sleep_time > 0:\n",
    "                print(f\"  ⏱️ Next record in {sleep_time:.1f}s...\")\n",
    "                time.sleep(sleep_time)\n",
    "\n",
    "            print()  # Empty line for readability\n",
    "\n",
    "    # Calculate final statistics\n",
    "    total_time = time.time() - start_time\n",
    "\n",
    "    print(\"🎉 Streaming Simulation Complete!\")\n",
    "    print(\"=\" * 50)\n",
    "    print(f\"📊 Processing Summary:\")\n",
    "    print(f\"  Records processed: {NUM_STREAMING_RECORDS}\")\n",
    "    print(f\"  Total time: {total_time:.1f} seconds\")\n",
    "    print(\n",
    "        f\"  Average processing time: {total_processing_time/NUM_STREAMING_RECORDS:.0f}ms\")\n",
    "    print(\n",
    "        f\"  Throughput: {NUM_STREAMING_RECORDS/total_time:.1f} records/second\")\n",
    "\n",
    "    print(f\"\\n⚖️ Decision Distribution:\")\n",
    "    for action, count in action_counts.items():\n",
    "        percentage = (count / NUM_STREAMING_RECORDS) * 100\n",
    "        print(f\"  {action}: {count} ({percentage:.1f}%)\")\n",
    "\n",
    "    print(f\"\\n🎯 Confidence Distribution:\")\n",
    "    for confidence, count in confidence_counts.items():\n",
    "        percentage = (count / NUM_STREAMING_RECORDS) * 100\n",
    "        print(f\"  {confidence}: {count} ({percentage:.1f}%)\")\n",
    "\n",
    "    print(f\"\\n📁 Results saved to: {csv_file}\")"
   ]
  },
  {
   "cell_type": "markdown",
   "metadata": {},
   "source": [
    "## 9. Analysis and Visualization\n",
    "\n",
    "Analyze the streaming processing results."
   ]
  },
  {
   "cell_type": "code",
   "execution_count": 11,
   "metadata": {},
   "outputs": [
    {
     "name": "stdout",
     "output_type": "stream",
     "text": [
      "📊 Analyzing streaming processing results...\n",
      "\n",
      "📋 Loaded 100 transaction records\n",
      "\n",
      "🔍 Sample Transactions:\n"
     ]
    },
    {
     "data": {
      "text/html": [
       "<div>\n",
       "<style scoped>\n",
       "    .dataframe tbody tr th:only-of-type {\n",
       "        vertical-align: middle;\n",
       "    }\n",
       "\n",
       "    .dataframe tbody tr th {\n",
       "        vertical-align: top;\n",
       "    }\n",
       "\n",
       "    .dataframe thead th {\n",
       "        text-align: right;\n",
       "    }\n",
       "</style>\n",
       "<table border=\"1\" class=\"dataframe\">\n",
       "  <thead>\n",
       "    <tr style=\"text-align: right;\">\n",
       "      <th></th>\n",
       "      <th>record_num</th>\n",
       "      <th>full_name</th>\n",
       "      <th>email</th>\n",
       "      <th>combined_score</th>\n",
       "      <th>confidence</th>\n",
       "      <th>action</th>\n",
       "      <th>processing_time_ms</th>\n",
       "    </tr>\n",
       "  </thead>\n",
       "  <tbody>\n",
       "    <tr>\n",
       "      <th>0</th>\n",
       "      <td>1</td>\n",
       "      <td>Sarah Pope</td>\n",
       "      <td>keith98@example.com</td>\n",
       "      <td>0.730000</td>\n",
       "      <td>MEDIUM</td>\n",
       "      <td>AUTO_MERGE</td>\n",
       "      <td>1722.106457</td>\n",
       "    </tr>\n",
       "    <tr>\n",
       "      <th>1</th>\n",
       "      <td>2</td>\n",
       "      <td>Tina Ferguson</td>\n",
       "      <td>qvargas@example.org</td>\n",
       "      <td>0.730000</td>\n",
       "      <td>MEDIUM</td>\n",
       "      <td>AUTO_MERGE</td>\n",
       "      <td>1898.457527</td>\n",
       "    </tr>\n",
       "    <tr>\n",
       "      <th>2</th>\n",
       "      <td>3</td>\n",
       "      <td>Justin Hughes</td>\n",
       "      <td>melissachan@example.org</td>\n",
       "      <td>0.720000</td>\n",
       "      <td>MEDIUM</td>\n",
       "      <td>AUTO_MERGE</td>\n",
       "      <td>1695.567846</td>\n",
       "    </tr>\n",
       "    <tr>\n",
       "      <th>3</th>\n",
       "      <td>4</td>\n",
       "      <td>Vincent Herrera</td>\n",
       "      <td>jennifercarter@example.org</td>\n",
       "      <td>0.169297</td>\n",
       "      <td>LOW</td>\n",
       "      <td>CREATE_NEW</td>\n",
       "      <td>1712.272167</td>\n",
       "    </tr>\n",
       "    <tr>\n",
       "      <th>4</th>\n",
       "      <td>5</td>\n",
       "      <td>Heidi Spencer</td>\n",
       "      <td>robertbentley@example.net</td>\n",
       "      <td>0.720000</td>\n",
       "      <td>MEDIUM</td>\n",
       "      <td>AUTO_MERGE</td>\n",
       "      <td>1728.089571</td>\n",
       "    </tr>\n",
       "    <tr>\n",
       "      <th>5</th>\n",
       "      <td>6</td>\n",
       "      <td>Michael Ball</td>\n",
       "      <td>wbishop@example.net</td>\n",
       "      <td>0.000000</td>\n",
       "      <td>LOW</td>\n",
       "      <td>CREATE_NEW</td>\n",
       "      <td>1827.126265</td>\n",
       "    </tr>\n",
       "    <tr>\n",
       "      <th>6</th>\n",
       "      <td>7</td>\n",
       "      <td>Douglas Taylor</td>\n",
       "      <td>julie69@yahoo.com</td>\n",
       "      <td>0.730000</td>\n",
       "      <td>MEDIUM</td>\n",
       "      <td>AUTO_MERGE</td>\n",
       "      <td>1966.059685</td>\n",
       "    </tr>\n",
       "    <tr>\n",
       "      <th>7</th>\n",
       "      <td>8</td>\n",
       "      <td>Michael Norton</td>\n",
       "      <td>watsonrichard@example.net</td>\n",
       "      <td>0.730000</td>\n",
       "      <td>MEDIUM</td>\n",
       "      <td>AUTO_MERGE</td>\n",
       "      <td>1989.791155</td>\n",
       "    </tr>\n",
       "    <tr>\n",
       "      <th>8</th>\n",
       "      <td>9</td>\n",
       "      <td>Jeffrey Black</td>\n",
       "      <td>finleycasey@outlook.com</td>\n",
       "      <td>0.730000</td>\n",
       "      <td>MEDIUM</td>\n",
       "      <td>AUTO_MERGE</td>\n",
       "      <td>2003.081322</td>\n",
       "    </tr>\n",
       "    <tr>\n",
       "      <th>9</th>\n",
       "      <td>10</td>\n",
       "      <td>Julie Thompson</td>\n",
       "      <td>opatel@example.net</td>\n",
       "      <td>0.730000</td>\n",
       "      <td>MEDIUM</td>\n",
       "      <td>AUTO_MERGE</td>\n",
       "      <td>2008.635998</td>\n",
       "    </tr>\n",
       "  </tbody>\n",
       "</table>\n",
       "</div>"
      ],
      "text/plain": [
       "   record_num        full_name                       email  combined_score  \\\n",
       "0           1       Sarah Pope         keith98@example.com        0.730000   \n",
       "1           2    Tina Ferguson         qvargas@example.org        0.730000   \n",
       "2           3    Justin Hughes     melissachan@example.org        0.720000   \n",
       "3           4  Vincent Herrera  jennifercarter@example.org        0.169297   \n",
       "4           5    Heidi Spencer   robertbentley@example.net        0.720000   \n",
       "5           6     Michael Ball         wbishop@example.net        0.000000   \n",
       "6           7   Douglas Taylor           julie69@yahoo.com        0.730000   \n",
       "7           8   Michael Norton   watsonrichard@example.net        0.730000   \n",
       "8           9    Jeffrey Black     finleycasey@outlook.com        0.730000   \n",
       "9          10   Julie Thompson          opatel@example.net        0.730000   \n",
       "\n",
       "  confidence      action  processing_time_ms  \n",
       "0     MEDIUM  AUTO_MERGE         1722.106457  \n",
       "1     MEDIUM  AUTO_MERGE         1898.457527  \n",
       "2     MEDIUM  AUTO_MERGE         1695.567846  \n",
       "3        LOW  CREATE_NEW         1712.272167  \n",
       "4     MEDIUM  AUTO_MERGE         1728.089571  \n",
       "5        LOW  CREATE_NEW         1827.126265  \n",
       "6     MEDIUM  AUTO_MERGE         1966.059685  \n",
       "7     MEDIUM  AUTO_MERGE         1989.791155  \n",
       "8     MEDIUM  AUTO_MERGE         2003.081322  \n",
       "9     MEDIUM  AUTO_MERGE         2008.635998  "
      ]
     },
     "metadata": {},
     "output_type": "display_data"
    },
    {
     "name": "stdout",
     "output_type": "stream",
     "text": [
      "\n",
      "⚡ Performance Analysis:\n",
      "  Average processing time: 1922ms\n",
      "  Median processing time: 1943ms\n",
      "  95th percentile: 2030ms\n",
      "  Max processing time: 2480ms\n",
      "\n",
      "🎯 Matching Effectiveness:\n",
      "  Average combined score: 0.660\n",
      "  Records with exact matches: 84\n",
      "  Records with fuzzy matches: 88\n",
      "  Records with vector matches: 83\n",
      "  Records with business matches: 87\n"
     ]
    }
   ],
   "source": [
    "print(\"📊 Analyzing streaming processing results...\")\n",
    "\n",
    "# Load transaction log\n",
    "transactions_df = pd.read_csv(csv_file)\n",
    "print(f\"\\n📋 Loaded {len(transactions_df)} transaction records\")\n",
    "\n",
    "# Display sample transactions\n",
    "print(\"\\n🔍 Sample Transactions:\")\n",
    "display(transactions_df[['record_num', 'full_name', 'email',\n",
    "        'combined_score', 'confidence', 'action', 'processing_time_ms']].head(10))\n",
    "\n",
    "# Performance analysis\n",
    "print(\"\\n⚡ Performance Analysis:\")\n",
    "print(\n",
    "    f\"  Average processing time: {transactions_df['processing_time_ms'].mean():.0f}ms\")\n",
    "print(\n",
    "    f\"  Median processing time: {transactions_df['processing_time_ms'].median():.0f}ms\")\n",
    "print(\n",
    "    f\"  95th percentile: {transactions_df['processing_time_ms'].quantile(0.95):.0f}ms\")\n",
    "print(\n",
    "    f\"  Max processing time: {transactions_df['processing_time_ms'].max():.0f}ms\")\n",
    "\n",
    "# Matching effectiveness\n",
    "print(\"\\n🎯 Matching Effectiveness:\")\n",
    "print(\n",
    "    f\"  Average combined score: {transactions_df['combined_score'].mean():.3f}\")\n",
    "print(\n",
    "    f\"  Records with exact matches: {(transactions_df['exact_matches'] > 0).sum()}\")\n",
    "print(\n",
    "    f\"  Records with fuzzy matches: {(transactions_df['fuzzy_matches'] > 0).sum()}\")\n",
    "print(\n",
    "    f\"  Records with vector matches: {(transactions_df['vector_matches'] > 0).sum()}\")\n",
    "print(\n",
    "    f\"  Records with business matches: {(transactions_df['business_matches'] > 0).sum()}\")"
   ]
  },
  {
   "cell_type": "code",
   "execution_count": 12,
   "metadata": {},
   "outputs": [
    {
     "name": "stdout",
     "output_type": "stream",
     "text": [
      "📈 Creating performance visualizations...\n"
     ]
    },
    {
     "data": {
      "application/vnd.plotly.v1+json": {
       "config": {
        "plotlyServerURL": "https://plot.ly"
       },
       "data": [
        {
         "name": "Processing Time (ms)",
         "type": "histogram",
         "x": {
          "bdata": "AAAAA23omkD///+B1KmdQAAAgHlFfppA////shbBmkAAAIC4WwCbQAIAgEuBjJxAAAAAHj24nkABAIAkKhefQAEAAEZTTJ9AAAAAQ4tin0AAAABs5X+fQAAAgGPVp5xAAAAAwK7un0AAAIBNuyicQAAAgMng5JhAAAAA3uxRn0AAAIAVhlGfQAAAAG5qTp9A//9/GiNQn0ABAAD2HV6fQAAAAJqeUp9AAACABD1vn0AAAACZ23WfQAAAAEguYJ9AAACAcJ1cn0ABAICZP26fQAEAgBnAY59AAACAagGLn0ACAIAPZbycQAAAAKmG3Z9AAQAAtGPsnkAAAICjYfKeQAAAgCM6A59AAAAAo0kXn0AAAAAUAuKbQAAAgP4bS59AAQAAx4jfm0AAAID5byKcQAEAAKcmd59AAACAFX9nn0AAAMA6EP2gQAAAAJNTd59AAAAABPdxn0ABAIASQmScQAAAAD45lp9AAQAA98+ln0D//3+k3VScQAEAAD+GbpxAAQAA34adn0ABAICdeJWfQAAAAAAwtZ9AAAAAqvIwmUAAAAD5S7SfQAAAgPHhlp9AAAAAQmp9nEAAAECZO1+jQAAAAOpK6ZhAAACA6as+n0ABAIAZn0KbQAAAAHrrU55AAQCAsDpOnkAAAAA22UqeQAAAgFEePZ5AAACAWCRinkABAIDiWmqeQAAAAHGwO5tA////0dtvnkAAAIC1QWWeQAEAgGh2WJtAAQCAi09PnkAAAABDOGGeQAAAACC+XZ5AAACArlo4m0AAAAC2alKeQAAAAKfAIptAAACAv5RJnkABAAB7MEWeQAAAAO3PUZ5AAACAEGxYnkAAAACSXlWeQAAAAGzOdJ5AAACAZbpankABAABGTVOeQAAAgFmxR55AAQAAR0Elm0AAAAAEUlSeQAAAAOcMSJ5A////wThankAAAACYDneeQAAAABERbZtAAgCAKMhInkABAICZ8mueQAAAgPq0GZtA//9/vCxQnkAAAAAakFCeQAAAgHxOWp5AAACAQpAym0D//3+kHlOeQAAAwJMufKBAAACALoijm0A=",
          "dtype": "f8"
         },
         "xaxis": "x",
         "yaxis": "y"
        },
        {
         "domain": {
          "x": [
           0.55,
           1
          ],
          "y": [
           0.625,
           1
          ]
         },
         "labels": [
          "AUTO_MERGE",
          "CREATE_NEW"
         ],
         "name": "Actions",
         "type": "pie",
         "values": {
          "bdata": "UxE=",
          "dtype": "i1"
         }
        },
        {
         "domain": {
          "x": [
           0,
           0.45
          ],
          "y": [
           0,
           0.375
          ]
         },
         "labels": [
          "MEDIUM",
          "LOW",
          "HIGH"
         ],
         "name": "Confidence",
         "type": "pie",
         "values": {
          "bdata": "SBEL",
          "dtype": "i1"
         }
        },
        {
         "name": "Combined Score",
         "type": "histogram",
         "x": {
          "bdata": "XI/C9Shc5z9cj8L1KFznPwrXo3A9Cuc/XrysHYerxT8K16NwPQrnPwAAAAAAAAAAXI/C9Shc5z9cj8L1KFznP1yPwvUoXOc/XI/C9Shc5z9cj8L1KFznP3anzhqcAMU/XI/C9Shc5z8AAAAAAAAAALACl0Cav8Q/XI/C9Shc5z9cj8L1KFznP1yPwvUoXOc/XI/C9Shc5z9cj8L1KFznP1yPwvUoXOc/XI/C9Shc5z9cj8L1KFznP8P1KFyPwu0/XI/C9Shc5z9cj8L1KFznP1yPwvUoXOc/XI/C9Shc5z+5u7u7u7vLP1yPwvUoXOc/XI/C9Shc5z9cj8L1KFznP1yPwvUoXOc/XI/C9Shc5z+F61G4HoXbP1yPwvUoXOc/ds/C4U+8xT8K16NwPQrnP1yPwvUoXOc/XI/C9Shc5z9cj8L1KFznP8P1KFyPwu0/XI/C9Shc5z8dhetRuB7VP1yPwvUoXOc/XI/C9Shc5z/flFBmkVbFPwrXo3A9Cuc/XI/C9Shc5z9cj8L1KFznP1yPwvUoXOc/wi10WNV0xT/D9Shcj8LtP8P1KFyPwu0/CtejcD0K5z9cj8L1KFznPx2F61G4HtU/XI/C9Shc5z8dhetRuB7VP1yPwvUoXOc/XI/C9Shc5z9cj8L1KFznP8P1KFyPwu0/XI/C9Shc5z/D9Shcj8LtP2haygJkDcY/XI/C9Shc5z9cj8L1KFznPwrXo3A9Cuc/XI/C9Shc5z9cj8L1KFznP1yPwvUoXOc/2LZt27Ztyz/D9Shcj8LtP1yPwvUoXOc/XI/C9Shc5z8K16NwPQrnP8P1KFyPwu0/XI/C9Shc5z/D9Shcj8LtP1yPwvUoXOc/XI/C9Shc5z/D9Shcj8LtP1yPwvUoXOc/CtejcD0K5z9cj8L1KFznP1yPwvUoXOc/XI/C9Shc5z9cj8L1KFznPzch9FPzI8U/w/UoXI/C7T8K16NwPQrnPwrTjYIsoMU/XI/C9Shc5z9cj8L1KFznP1yPwvUoXOc/CtejcD0K5z9cj8L1KFznP1yPwvUoXOc/CtejcD0K5z8=",
          "dtype": "f8"
         },
         "xaxis": "x2",
         "yaxis": "y2"
        }
       ],
       "layout": {
        "annotations": [
         {
          "font": {
           "size": 16
          },
          "showarrow": false,
          "text": "Processing Time Distribution",
          "x": 0.225,
          "xanchor": "center",
          "xref": "paper",
          "y": 1,
          "yanchor": "bottom",
          "yref": "paper"
         },
         {
          "font": {
           "size": 16
          },
          "showarrow": false,
          "text": "Action Distribution",
          "x": 0.775,
          "xanchor": "center",
          "xref": "paper",
          "y": 1,
          "yanchor": "bottom",
          "yref": "paper"
         },
         {
          "font": {
           "size": 16
          },
          "showarrow": false,
          "text": "Confidence Distribution",
          "x": 0.225,
          "xanchor": "center",
          "xref": "paper",
          "y": 0.375,
          "yanchor": "bottom",
          "yref": "paper"
         },
         {
          "font": {
           "size": 16
          },
          "showarrow": false,
          "text": "Combined Score Distribution",
          "x": 0.775,
          "xanchor": "center",
          "xref": "paper",
          "y": 0.375,
          "yanchor": "bottom",
          "yref": "paper"
         }
        ],
        "showlegend": false,
        "template": {
         "data": {
          "bar": [
           {
            "error_x": {
             "color": "#2a3f5f"
            },
            "error_y": {
             "color": "#2a3f5f"
            },
            "marker": {
             "line": {
              "color": "#E5ECF6",
              "width": 0.5
             },
             "pattern": {
              "fillmode": "overlay",
              "size": 10,
              "solidity": 0.2
             }
            },
            "type": "bar"
           }
          ],
          "barpolar": [
           {
            "marker": {
             "line": {
              "color": "#E5ECF6",
              "width": 0.5
             },
             "pattern": {
              "fillmode": "overlay",
              "size": 10,
              "solidity": 0.2
             }
            },
            "type": "barpolar"
           }
          ],
          "carpet": [
           {
            "aaxis": {
             "endlinecolor": "#2a3f5f",
             "gridcolor": "white",
             "linecolor": "white",
             "minorgridcolor": "white",
             "startlinecolor": "#2a3f5f"
            },
            "baxis": {
             "endlinecolor": "#2a3f5f",
             "gridcolor": "white",
             "linecolor": "white",
             "minorgridcolor": "white",
             "startlinecolor": "#2a3f5f"
            },
            "type": "carpet"
           }
          ],
          "choropleth": [
           {
            "colorbar": {
             "outlinewidth": 0,
             "ticks": ""
            },
            "type": "choropleth"
           }
          ],
          "contour": [
           {
            "colorbar": {
             "outlinewidth": 0,
             "ticks": ""
            },
            "colorscale": [
             [
              0,
              "#0d0887"
             ],
             [
              0.1111111111111111,
              "#46039f"
             ],
             [
              0.2222222222222222,
              "#7201a8"
             ],
             [
              0.3333333333333333,
              "#9c179e"
             ],
             [
              0.4444444444444444,
              "#bd3786"
             ],
             [
              0.5555555555555556,
              "#d8576b"
             ],
             [
              0.6666666666666666,
              "#ed7953"
             ],
             [
              0.7777777777777778,
              "#fb9f3a"
             ],
             [
              0.8888888888888888,
              "#fdca26"
             ],
             [
              1,
              "#f0f921"
             ]
            ],
            "type": "contour"
           }
          ],
          "contourcarpet": [
           {
            "colorbar": {
             "outlinewidth": 0,
             "ticks": ""
            },
            "type": "contourcarpet"
           }
          ],
          "heatmap": [
           {
            "colorbar": {
             "outlinewidth": 0,
             "ticks": ""
            },
            "colorscale": [
             [
              0,
              "#0d0887"
             ],
             [
              0.1111111111111111,
              "#46039f"
             ],
             [
              0.2222222222222222,
              "#7201a8"
             ],
             [
              0.3333333333333333,
              "#9c179e"
             ],
             [
              0.4444444444444444,
              "#bd3786"
             ],
             [
              0.5555555555555556,
              "#d8576b"
             ],
             [
              0.6666666666666666,
              "#ed7953"
             ],
             [
              0.7777777777777778,
              "#fb9f3a"
             ],
             [
              0.8888888888888888,
              "#fdca26"
             ],
             [
              1,
              "#f0f921"
             ]
            ],
            "type": "heatmap"
           }
          ],
          "histogram": [
           {
            "marker": {
             "pattern": {
              "fillmode": "overlay",
              "size": 10,
              "solidity": 0.2
             }
            },
            "type": "histogram"
           }
          ],
          "histogram2d": [
           {
            "colorbar": {
             "outlinewidth": 0,
             "ticks": ""
            },
            "colorscale": [
             [
              0,
              "#0d0887"
             ],
             [
              0.1111111111111111,
              "#46039f"
             ],
             [
              0.2222222222222222,
              "#7201a8"
             ],
             [
              0.3333333333333333,
              "#9c179e"
             ],
             [
              0.4444444444444444,
              "#bd3786"
             ],
             [
              0.5555555555555556,
              "#d8576b"
             ],
             [
              0.6666666666666666,
              "#ed7953"
             ],
             [
              0.7777777777777778,
              "#fb9f3a"
             ],
             [
              0.8888888888888888,
              "#fdca26"
             ],
             [
              1,
              "#f0f921"
             ]
            ],
            "type": "histogram2d"
           }
          ],
          "histogram2dcontour": [
           {
            "colorbar": {
             "outlinewidth": 0,
             "ticks": ""
            },
            "colorscale": [
             [
              0,
              "#0d0887"
             ],
             [
              0.1111111111111111,
              "#46039f"
             ],
             [
              0.2222222222222222,
              "#7201a8"
             ],
             [
              0.3333333333333333,
              "#9c179e"
             ],
             [
              0.4444444444444444,
              "#bd3786"
             ],
             [
              0.5555555555555556,
              "#d8576b"
             ],
             [
              0.6666666666666666,
              "#ed7953"
             ],
             [
              0.7777777777777778,
              "#fb9f3a"
             ],
             [
              0.8888888888888888,
              "#fdca26"
             ],
             [
              1,
              "#f0f921"
             ]
            ],
            "type": "histogram2dcontour"
           }
          ],
          "mesh3d": [
           {
            "colorbar": {
             "outlinewidth": 0,
             "ticks": ""
            },
            "type": "mesh3d"
           }
          ],
          "parcoords": [
           {
            "line": {
             "colorbar": {
              "outlinewidth": 0,
              "ticks": ""
             }
            },
            "type": "parcoords"
           }
          ],
          "pie": [
           {
            "automargin": true,
            "type": "pie"
           }
          ],
          "scatter": [
           {
            "fillpattern": {
             "fillmode": "overlay",
             "size": 10,
             "solidity": 0.2
            },
            "type": "scatter"
           }
          ],
          "scatter3d": [
           {
            "line": {
             "colorbar": {
              "outlinewidth": 0,
              "ticks": ""
             }
            },
            "marker": {
             "colorbar": {
              "outlinewidth": 0,
              "ticks": ""
             }
            },
            "type": "scatter3d"
           }
          ],
          "scattercarpet": [
           {
            "marker": {
             "colorbar": {
              "outlinewidth": 0,
              "ticks": ""
             }
            },
            "type": "scattercarpet"
           }
          ],
          "scattergeo": [
           {
            "marker": {
             "colorbar": {
              "outlinewidth": 0,
              "ticks": ""
             }
            },
            "type": "scattergeo"
           }
          ],
          "scattergl": [
           {
            "marker": {
             "colorbar": {
              "outlinewidth": 0,
              "ticks": ""
             }
            },
            "type": "scattergl"
           }
          ],
          "scattermap": [
           {
            "marker": {
             "colorbar": {
              "outlinewidth": 0,
              "ticks": ""
             }
            },
            "type": "scattermap"
           }
          ],
          "scattermapbox": [
           {
            "marker": {
             "colorbar": {
              "outlinewidth": 0,
              "ticks": ""
             }
            },
            "type": "scattermapbox"
           }
          ],
          "scatterpolar": [
           {
            "marker": {
             "colorbar": {
              "outlinewidth": 0,
              "ticks": ""
             }
            },
            "type": "scatterpolar"
           }
          ],
          "scatterpolargl": [
           {
            "marker": {
             "colorbar": {
              "outlinewidth": 0,
              "ticks": ""
             }
            },
            "type": "scatterpolargl"
           }
          ],
          "scatterternary": [
           {
            "marker": {
             "colorbar": {
              "outlinewidth": 0,
              "ticks": ""
             }
            },
            "type": "scatterternary"
           }
          ],
          "surface": [
           {
            "colorbar": {
             "outlinewidth": 0,
             "ticks": ""
            },
            "colorscale": [
             [
              0,
              "#0d0887"
             ],
             [
              0.1111111111111111,
              "#46039f"
             ],
             [
              0.2222222222222222,
              "#7201a8"
             ],
             [
              0.3333333333333333,
              "#9c179e"
             ],
             [
              0.4444444444444444,
              "#bd3786"
             ],
             [
              0.5555555555555556,
              "#d8576b"
             ],
             [
              0.6666666666666666,
              "#ed7953"
             ],
             [
              0.7777777777777778,
              "#fb9f3a"
             ],
             [
              0.8888888888888888,
              "#fdca26"
             ],
             [
              1,
              "#f0f921"
             ]
            ],
            "type": "surface"
           }
          ],
          "table": [
           {
            "cells": {
             "fill": {
              "color": "#EBF0F8"
             },
             "line": {
              "color": "white"
             }
            },
            "header": {
             "fill": {
              "color": "#C8D4E3"
             },
             "line": {
              "color": "white"
             }
            },
            "type": "table"
           }
          ]
         },
         "layout": {
          "annotationdefaults": {
           "arrowcolor": "#2a3f5f",
           "arrowhead": 0,
           "arrowwidth": 1
          },
          "autotypenumbers": "strict",
          "coloraxis": {
           "colorbar": {
            "outlinewidth": 0,
            "ticks": ""
           }
          },
          "colorscale": {
           "diverging": [
            [
             0,
             "#8e0152"
            ],
            [
             0.1,
             "#c51b7d"
            ],
            [
             0.2,
             "#de77ae"
            ],
            [
             0.3,
             "#f1b6da"
            ],
            [
             0.4,
             "#fde0ef"
            ],
            [
             0.5,
             "#f7f7f7"
            ],
            [
             0.6,
             "#e6f5d0"
            ],
            [
             0.7,
             "#b8e186"
            ],
            [
             0.8,
             "#7fbc41"
            ],
            [
             0.9,
             "#4d9221"
            ],
            [
             1,
             "#276419"
            ]
           ],
           "sequential": [
            [
             0,
             "#0d0887"
            ],
            [
             0.1111111111111111,
             "#46039f"
            ],
            [
             0.2222222222222222,
             "#7201a8"
            ],
            [
             0.3333333333333333,
             "#9c179e"
            ],
            [
             0.4444444444444444,
             "#bd3786"
            ],
            [
             0.5555555555555556,
             "#d8576b"
            ],
            [
             0.6666666666666666,
             "#ed7953"
            ],
            [
             0.7777777777777778,
             "#fb9f3a"
            ],
            [
             0.8888888888888888,
             "#fdca26"
            ],
            [
             1,
             "#f0f921"
            ]
           ],
           "sequentialminus": [
            [
             0,
             "#0d0887"
            ],
            [
             0.1111111111111111,
             "#46039f"
            ],
            [
             0.2222222222222222,
             "#7201a8"
            ],
            [
             0.3333333333333333,
             "#9c179e"
            ],
            [
             0.4444444444444444,
             "#bd3786"
            ],
            [
             0.5555555555555556,
             "#d8576b"
            ],
            [
             0.6666666666666666,
             "#ed7953"
            ],
            [
             0.7777777777777778,
             "#fb9f3a"
            ],
            [
             0.8888888888888888,
             "#fdca26"
            ],
            [
             1,
             "#f0f921"
            ]
           ]
          },
          "colorway": [
           "#636efa",
           "#EF553B",
           "#00cc96",
           "#ab63fa",
           "#FFA15A",
           "#19d3f3",
           "#FF6692",
           "#B6E880",
           "#FF97FF",
           "#FECB52"
          ],
          "font": {
           "color": "#2a3f5f"
          },
          "geo": {
           "bgcolor": "white",
           "lakecolor": "white",
           "landcolor": "#E5ECF6",
           "showlakes": true,
           "showland": true,
           "subunitcolor": "white"
          },
          "hoverlabel": {
           "align": "left"
          },
          "hovermode": "closest",
          "mapbox": {
           "style": "light"
          },
          "paper_bgcolor": "white",
          "plot_bgcolor": "#E5ECF6",
          "polar": {
           "angularaxis": {
            "gridcolor": "white",
            "linecolor": "white",
            "ticks": ""
           },
           "bgcolor": "#E5ECF6",
           "radialaxis": {
            "gridcolor": "white",
            "linecolor": "white",
            "ticks": ""
           }
          },
          "scene": {
           "xaxis": {
            "backgroundcolor": "#E5ECF6",
            "gridcolor": "white",
            "gridwidth": 2,
            "linecolor": "white",
            "showbackground": true,
            "ticks": "",
            "zerolinecolor": "white"
           },
           "yaxis": {
            "backgroundcolor": "#E5ECF6",
            "gridcolor": "white",
            "gridwidth": 2,
            "linecolor": "white",
            "showbackground": true,
            "ticks": "",
            "zerolinecolor": "white"
           },
           "zaxis": {
            "backgroundcolor": "#E5ECF6",
            "gridcolor": "white",
            "gridwidth": 2,
            "linecolor": "white",
            "showbackground": true,
            "ticks": "",
            "zerolinecolor": "white"
           }
          },
          "shapedefaults": {
           "line": {
            "color": "#2a3f5f"
           }
          },
          "ternary": {
           "aaxis": {
            "gridcolor": "white",
            "linecolor": "white",
            "ticks": ""
           },
           "baxis": {
            "gridcolor": "white",
            "linecolor": "white",
            "ticks": ""
           },
           "bgcolor": "#E5ECF6",
           "caxis": {
            "gridcolor": "white",
            "linecolor": "white",
            "ticks": ""
           }
          },
          "title": {
           "x": 0.05
          },
          "xaxis": {
           "automargin": true,
           "gridcolor": "white",
           "linecolor": "white",
           "ticks": "",
           "title": {
            "standoff": 15
           },
           "zerolinecolor": "white",
           "zerolinewidth": 2
          },
          "yaxis": {
           "automargin": true,
           "gridcolor": "white",
           "linecolor": "white",
           "ticks": "",
           "title": {
            "standoff": 15
           },
           "zerolinecolor": "white",
           "zerolinewidth": 2
          }
         }
        },
        "title": {
         "text": "Streaming MDM Performance Analysis"
        },
        "xaxis": {
         "anchor": "y",
         "domain": [
          0,
          0.45
         ]
        },
        "xaxis2": {
         "anchor": "y2",
         "domain": [
          0.55,
          1
         ]
        },
        "yaxis": {
         "anchor": "x",
         "domain": [
          0.625,
          1
         ]
        },
        "yaxis2": {
         "anchor": "x2",
         "domain": [
          0,
          0.375
         ]
        }
       }
      }
     },
     "metadata": {},
     "output_type": "display_data"
    },
    {
     "name": "stdout",
     "output_type": "stream",
     "text": [
      "✅ Visualizations created!\n"
     ]
    }
   ],
   "source": [
    "# Create visualizations\n",
    "print(\"📈 Creating performance visualizations...\")\n",
    "\n",
    "# Processing time distribution\n",
    "fig = make_subplots(\n",
    "    rows=2, cols=2,\n",
    "    subplot_titles=('Processing Time Distribution', 'Action Distribution',\n",
    "                    'Confidence Distribution', 'Combined Score Distribution'),\n",
    "    specs=[[{'type': 'histogram'}, {'type': 'pie'}],\n",
    "           [{'type': 'pie'}, {'type': 'histogram'}]]\n",
    ")\n",
    "\n",
    "# Processing time histogram\n",
    "fig.add_trace(\n",
    "    go.Histogram(\n",
    "        x=transactions_df['processing_time_ms'], name='Processing Time (ms)'),\n",
    "    row=1, col=1\n",
    ")\n",
    "\n",
    "# Action distribution pie chart\n",
    "action_counts = transactions_df['action'].value_counts()\n",
    "fig.add_trace(\n",
    "    go.Pie(labels=action_counts.index,\n",
    "           values=action_counts.values, name='Actions'),\n",
    "    row=1, col=2\n",
    ")\n",
    "\n",
    "# Confidence distribution pie chart\n",
    "confidence_counts = transactions_df['confidence'].value_counts()\n",
    "fig.add_trace(\n",
    "    go.Pie(labels=confidence_counts.index,\n",
    "           values=confidence_counts.values, name='Confidence'),\n",
    "    row=2, col=1\n",
    ")\n",
    "\n",
    "# Combined score histogram\n",
    "fig.add_trace(\n",
    "    go.Histogram(x=transactions_df['combined_score'], name='Combined Score'),\n",
    "    row=2, col=2\n",
    ")\n",
    "\n",
    "fig.update_layout(\n",
    "    title_text=\"Streaming MDM Performance Analysis\", showlegend=False)\n",
    "fig.show()\n",
    "\n",
    "print(\"✅ Visualizations created!\")"
   ]
  },
  {
   "cell_type": "code",
   "execution_count": 13,
   "metadata": {},
   "outputs": [
    {
     "name": "stdout",
     "output_type": "stream",
     "text": [
      "🎯 4-Strategy Effectiveness Analysis:\n"
     ]
    },
    {
     "data": {
      "text/html": [
       "<div>\n",
       "<style scoped>\n",
       "    .dataframe tbody tr th:only-of-type {\n",
       "        vertical-align: middle;\n",
       "    }\n",
       "\n",
       "    .dataframe tbody tr th {\n",
       "        vertical-align: top;\n",
       "    }\n",
       "\n",
       "    .dataframe thead th {\n",
       "        text-align: right;\n",
       "    }\n",
       "</style>\n",
       "<table border=\"1\" class=\"dataframe\">\n",
       "  <thead>\n",
       "    <tr style=\"text-align: right;\">\n",
       "      <th></th>\n",
       "      <th>Strategy</th>\n",
       "      <th>Records_with_Matches</th>\n",
       "      <th>Average_Score</th>\n",
       "    </tr>\n",
       "  </thead>\n",
       "  <tbody>\n",
       "    <tr>\n",
       "      <th>0</th>\n",
       "      <td>Exact</td>\n",
       "      <td>84</td>\n",
       "      <td>0.840000</td>\n",
       "    </tr>\n",
       "    <tr>\n",
       "      <th>1</th>\n",
       "      <td>Fuzzy</td>\n",
       "      <td>88</td>\n",
       "      <td>0.874365</td>\n",
       "    </tr>\n",
       "    <tr>\n",
       "      <th>2</th>\n",
       "      <td>Vector</td>\n",
       "      <td>83</td>\n",
       "      <td>0.185301</td>\n",
       "    </tr>\n",
       "    <tr>\n",
       "      <th>3</th>\n",
       "      <td>Business</td>\n",
       "      <td>87</td>\n",
       "      <td>0.250000</td>\n",
       "    </tr>\n",
       "  </tbody>\n",
       "</table>\n",
       "</div>"
      ],
      "text/plain": [
       "   Strategy  Records_with_Matches  Average_Score\n",
       "0     Exact                    84       0.840000\n",
       "1     Fuzzy                    88       0.874365\n",
       "2    Vector                    83       0.185301\n",
       "3  Business                    87       0.250000"
      ]
     },
     "metadata": {},
     "output_type": "display_data"
    },
    {
     "data": {
      "application/vnd.plotly.v1+json": {
       "config": {
        "plotlyServerURL": "https://plot.ly"
       },
       "data": [
        {
         "hovertemplate": "Strategy=%{x}<br>Records with Matches=%{y}<extra></extra>",
         "legendgroup": "",
         "marker": {
          "color": "#636efa",
          "pattern": {
           "shape": ""
          }
         },
         "name": "",
         "orientation": "v",
         "showlegend": false,
         "textposition": "auto",
         "type": "bar",
         "x": [
          "Exact",
          "Fuzzy",
          "Vector",
          "Business"
         ],
         "xaxis": "x",
         "y": {
          "bdata": "VFhTVw==",
          "dtype": "i1"
         },
         "yaxis": "y"
        }
       ],
       "layout": {
        "barmode": "relative",
        "legend": {
         "tracegroupgap": 0
        },
        "template": {
         "data": {
          "bar": [
           {
            "error_x": {
             "color": "#2a3f5f"
            },
            "error_y": {
             "color": "#2a3f5f"
            },
            "marker": {
             "line": {
              "color": "#E5ECF6",
              "width": 0.5
             },
             "pattern": {
              "fillmode": "overlay",
              "size": 10,
              "solidity": 0.2
             }
            },
            "type": "bar"
           }
          ],
          "barpolar": [
           {
            "marker": {
             "line": {
              "color": "#E5ECF6",
              "width": 0.5
             },
             "pattern": {
              "fillmode": "overlay",
              "size": 10,
              "solidity": 0.2
             }
            },
            "type": "barpolar"
           }
          ],
          "carpet": [
           {
            "aaxis": {
             "endlinecolor": "#2a3f5f",
             "gridcolor": "white",
             "linecolor": "white",
             "minorgridcolor": "white",
             "startlinecolor": "#2a3f5f"
            },
            "baxis": {
             "endlinecolor": "#2a3f5f",
             "gridcolor": "white",
             "linecolor": "white",
             "minorgridcolor": "white",
             "startlinecolor": "#2a3f5f"
            },
            "type": "carpet"
           }
          ],
          "choropleth": [
           {
            "colorbar": {
             "outlinewidth": 0,
             "ticks": ""
            },
            "type": "choropleth"
           }
          ],
          "contour": [
           {
            "colorbar": {
             "outlinewidth": 0,
             "ticks": ""
            },
            "colorscale": [
             [
              0,
              "#0d0887"
             ],
             [
              0.1111111111111111,
              "#46039f"
             ],
             [
              0.2222222222222222,
              "#7201a8"
             ],
             [
              0.3333333333333333,
              "#9c179e"
             ],
             [
              0.4444444444444444,
              "#bd3786"
             ],
             [
              0.5555555555555556,
              "#d8576b"
             ],
             [
              0.6666666666666666,
              "#ed7953"
             ],
             [
              0.7777777777777778,
              "#fb9f3a"
             ],
             [
              0.8888888888888888,
              "#fdca26"
             ],
             [
              1,
              "#f0f921"
             ]
            ],
            "type": "contour"
           }
          ],
          "contourcarpet": [
           {
            "colorbar": {
             "outlinewidth": 0,
             "ticks": ""
            },
            "type": "contourcarpet"
           }
          ],
          "heatmap": [
           {
            "colorbar": {
             "outlinewidth": 0,
             "ticks": ""
            },
            "colorscale": [
             [
              0,
              "#0d0887"
             ],
             [
              0.1111111111111111,
              "#46039f"
             ],
             [
              0.2222222222222222,
              "#7201a8"
             ],
             [
              0.3333333333333333,
              "#9c179e"
             ],
             [
              0.4444444444444444,
              "#bd3786"
             ],
             [
              0.5555555555555556,
              "#d8576b"
             ],
             [
              0.6666666666666666,
              "#ed7953"
             ],
             [
              0.7777777777777778,
              "#fb9f3a"
             ],
             [
              0.8888888888888888,
              "#fdca26"
             ],
             [
              1,
              "#f0f921"
             ]
            ],
            "type": "heatmap"
           }
          ],
          "histogram": [
           {
            "marker": {
             "pattern": {
              "fillmode": "overlay",
              "size": 10,
              "solidity": 0.2
             }
            },
            "type": "histogram"
           }
          ],
          "histogram2d": [
           {
            "colorbar": {
             "outlinewidth": 0,
             "ticks": ""
            },
            "colorscale": [
             [
              0,
              "#0d0887"
             ],
             [
              0.1111111111111111,
              "#46039f"
             ],
             [
              0.2222222222222222,
              "#7201a8"
             ],
             [
              0.3333333333333333,
              "#9c179e"
             ],
             [
              0.4444444444444444,
              "#bd3786"
             ],
             [
              0.5555555555555556,
              "#d8576b"
             ],
             [
              0.6666666666666666,
              "#ed7953"
             ],
             [
              0.7777777777777778,
              "#fb9f3a"
             ],
             [
              0.8888888888888888,
              "#fdca26"
             ],
             [
              1,
              "#f0f921"
             ]
            ],
            "type": "histogram2d"
           }
          ],
          "histogram2dcontour": [
           {
            "colorbar": {
             "outlinewidth": 0,
             "ticks": ""
            },
            "colorscale": [
             [
              0,
              "#0d0887"
             ],
             [
              0.1111111111111111,
              "#46039f"
             ],
             [
              0.2222222222222222,
              "#7201a8"
             ],
             [
              0.3333333333333333,
              "#9c179e"
             ],
             [
              0.4444444444444444,
              "#bd3786"
             ],
             [
              0.5555555555555556,
              "#d8576b"
             ],
             [
              0.6666666666666666,
              "#ed7953"
             ],
             [
              0.7777777777777778,
              "#fb9f3a"
             ],
             [
              0.8888888888888888,
              "#fdca26"
             ],
             [
              1,
              "#f0f921"
             ]
            ],
            "type": "histogram2dcontour"
           }
          ],
          "mesh3d": [
           {
            "colorbar": {
             "outlinewidth": 0,
             "ticks": ""
            },
            "type": "mesh3d"
           }
          ],
          "parcoords": [
           {
            "line": {
             "colorbar": {
              "outlinewidth": 0,
              "ticks": ""
             }
            },
            "type": "parcoords"
           }
          ],
          "pie": [
           {
            "automargin": true,
            "type": "pie"
           }
          ],
          "scatter": [
           {
            "fillpattern": {
             "fillmode": "overlay",
             "size": 10,
             "solidity": 0.2
            },
            "type": "scatter"
           }
          ],
          "scatter3d": [
           {
            "line": {
             "colorbar": {
              "outlinewidth": 0,
              "ticks": ""
             }
            },
            "marker": {
             "colorbar": {
              "outlinewidth": 0,
              "ticks": ""
             }
            },
            "type": "scatter3d"
           }
          ],
          "scattercarpet": [
           {
            "marker": {
             "colorbar": {
              "outlinewidth": 0,
              "ticks": ""
             }
            },
            "type": "scattercarpet"
           }
          ],
          "scattergeo": [
           {
            "marker": {
             "colorbar": {
              "outlinewidth": 0,
              "ticks": ""
             }
            },
            "type": "scattergeo"
           }
          ],
          "scattergl": [
           {
            "marker": {
             "colorbar": {
              "outlinewidth": 0,
              "ticks": ""
             }
            },
            "type": "scattergl"
           }
          ],
          "scattermap": [
           {
            "marker": {
             "colorbar": {
              "outlinewidth": 0,
              "ticks": ""
             }
            },
            "type": "scattermap"
           }
          ],
          "scattermapbox": [
           {
            "marker": {
             "colorbar": {
              "outlinewidth": 0,
              "ticks": ""
             }
            },
            "type": "scattermapbox"
           }
          ],
          "scatterpolar": [
           {
            "marker": {
             "colorbar": {
              "outlinewidth": 0,
              "ticks": ""
             }
            },
            "type": "scatterpolar"
           }
          ],
          "scatterpolargl": [
           {
            "marker": {
             "colorbar": {
              "outlinewidth": 0,
              "ticks": ""
             }
            },
            "type": "scatterpolargl"
           }
          ],
          "scatterternary": [
           {
            "marker": {
             "colorbar": {
              "outlinewidth": 0,
              "ticks": ""
             }
            },
            "type": "scatterternary"
           }
          ],
          "surface": [
           {
            "colorbar": {
             "outlinewidth": 0,
             "ticks": ""
            },
            "colorscale": [
             [
              0,
              "#0d0887"
             ],
             [
              0.1111111111111111,
              "#46039f"
             ],
             [
              0.2222222222222222,
              "#7201a8"
             ],
             [
              0.3333333333333333,
              "#9c179e"
             ],
             [
              0.4444444444444444,
              "#bd3786"
             ],
             [
              0.5555555555555556,
              "#d8576b"
             ],
             [
              0.6666666666666666,
              "#ed7953"
             ],
             [
              0.7777777777777778,
              "#fb9f3a"
             ],
             [
              0.8888888888888888,
              "#fdca26"
             ],
             [
              1,
              "#f0f921"
             ]
            ],
            "type": "surface"
           }
          ],
          "table": [
           {
            "cells": {
             "fill": {
              "color": "#EBF0F8"
             },
             "line": {
              "color": "white"
             }
            },
            "header": {
             "fill": {
              "color": "#C8D4E3"
             },
             "line": {
              "color": "white"
             }
            },
            "type": "table"
           }
          ]
         },
         "layout": {
          "annotationdefaults": {
           "arrowcolor": "#2a3f5f",
           "arrowhead": 0,
           "arrowwidth": 1
          },
          "autotypenumbers": "strict",
          "coloraxis": {
           "colorbar": {
            "outlinewidth": 0,
            "ticks": ""
           }
          },
          "colorscale": {
           "diverging": [
            [
             0,
             "#8e0152"
            ],
            [
             0.1,
             "#c51b7d"
            ],
            [
             0.2,
             "#de77ae"
            ],
            [
             0.3,
             "#f1b6da"
            ],
            [
             0.4,
             "#fde0ef"
            ],
            [
             0.5,
             "#f7f7f7"
            ],
            [
             0.6,
             "#e6f5d0"
            ],
            [
             0.7,
             "#b8e186"
            ],
            [
             0.8,
             "#7fbc41"
            ],
            [
             0.9,
             "#4d9221"
            ],
            [
             1,
             "#276419"
            ]
           ],
           "sequential": [
            [
             0,
             "#0d0887"
            ],
            [
             0.1111111111111111,
             "#46039f"
            ],
            [
             0.2222222222222222,
             "#7201a8"
            ],
            [
             0.3333333333333333,
             "#9c179e"
            ],
            [
             0.4444444444444444,
             "#bd3786"
            ],
            [
             0.5555555555555556,
             "#d8576b"
            ],
            [
             0.6666666666666666,
             "#ed7953"
            ],
            [
             0.7777777777777778,
             "#fb9f3a"
            ],
            [
             0.8888888888888888,
             "#fdca26"
            ],
            [
             1,
             "#f0f921"
            ]
           ],
           "sequentialminus": [
            [
             0,
             "#0d0887"
            ],
            [
             0.1111111111111111,
             "#46039f"
            ],
            [
             0.2222222222222222,
             "#7201a8"
            ],
            [
             0.3333333333333333,
             "#9c179e"
            ],
            [
             0.4444444444444444,
             "#bd3786"
            ],
            [
             0.5555555555555556,
             "#d8576b"
            ],
            [
             0.6666666666666666,
             "#ed7953"
            ],
            [
             0.7777777777777778,
             "#fb9f3a"
            ],
            [
             0.8888888888888888,
             "#fdca26"
            ],
            [
             1,
             "#f0f921"
            ]
           ]
          },
          "colorway": [
           "#636efa",
           "#EF553B",
           "#00cc96",
           "#ab63fa",
           "#FFA15A",
           "#19d3f3",
           "#FF6692",
           "#B6E880",
           "#FF97FF",
           "#FECB52"
          ],
          "font": {
           "color": "#2a3f5f"
          },
          "geo": {
           "bgcolor": "white",
           "lakecolor": "white",
           "landcolor": "#E5ECF6",
           "showlakes": true,
           "showland": true,
           "subunitcolor": "white"
          },
          "hoverlabel": {
           "align": "left"
          },
          "hovermode": "closest",
          "mapbox": {
           "style": "light"
          },
          "paper_bgcolor": "white",
          "plot_bgcolor": "#E5ECF6",
          "polar": {
           "angularaxis": {
            "gridcolor": "white",
            "linecolor": "white",
            "ticks": ""
           },
           "bgcolor": "#E5ECF6",
           "radialaxis": {
            "gridcolor": "white",
            "linecolor": "white",
            "ticks": ""
           }
          },
          "scene": {
           "xaxis": {
            "backgroundcolor": "#E5ECF6",
            "gridcolor": "white",
            "gridwidth": 2,
            "linecolor": "white",
            "showbackground": true,
            "ticks": "",
            "zerolinecolor": "white"
           },
           "yaxis": {
            "backgroundcolor": "#E5ECF6",
            "gridcolor": "white",
            "gridwidth": 2,
            "linecolor": "white",
            "showbackground": true,
            "ticks": "",
            "zerolinecolor": "white"
           },
           "zaxis": {
            "backgroundcolor": "#E5ECF6",
            "gridcolor": "white",
            "gridwidth": 2,
            "linecolor": "white",
            "showbackground": true,
            "ticks": "",
            "zerolinecolor": "white"
           }
          },
          "shapedefaults": {
           "line": {
            "color": "#2a3f5f"
           }
          },
          "ternary": {
           "aaxis": {
            "gridcolor": "white",
            "linecolor": "white",
            "ticks": ""
           },
           "baxis": {
            "gridcolor": "white",
            "linecolor": "white",
            "ticks": ""
           },
           "bgcolor": "#E5ECF6",
           "caxis": {
            "gridcolor": "white",
            "linecolor": "white",
            "ticks": ""
           }
          },
          "title": {
           "x": 0.05
          },
          "xaxis": {
           "automargin": true,
           "gridcolor": "white",
           "linecolor": "white",
           "ticks": "",
           "title": {
            "standoff": 15
           },
           "zerolinecolor": "white",
           "zerolinewidth": 2
          },
          "yaxis": {
           "automargin": true,
           "gridcolor": "white",
           "linecolor": "white",
           "ticks": "",
           "title": {
            "standoff": 15
           },
           "zerolinecolor": "white",
           "zerolinewidth": 2
          }
         }
        },
        "title": {
         "text": "4-Strategy Matching Effectiveness"
        },
        "xaxis": {
         "anchor": "y",
         "domain": [
          0,
          1
         ],
         "title": {
          "text": "Strategy"
         }
        },
        "yaxis": {
         "anchor": "x",
         "domain": [
          0,
          1
         ],
         "title": {
          "text": "Records with Matches"
         }
        }
       }
      }
     },
     "metadata": {},
     "output_type": "display_data"
    },
    {
     "name": "stdout",
     "output_type": "stream",
     "text": [
      "✅ Strategy analysis complete!\n"
     ]
    }
   ],
   "source": [
    "# Strategy effectiveness analysis\n",
    "print(\"🎯 4-Strategy Effectiveness Analysis:\")\n",
    "\n",
    "strategy_stats = pd.DataFrame({\n",
    "    'Strategy': ['Exact', 'Fuzzy', 'Vector', 'Business'],\n",
    "    'Records_with_Matches': [\n",
    "        (transactions_df['exact_matches'] > 0).sum(),\n",
    "        (transactions_df['fuzzy_matches'] > 0).sum(),\n",
    "        (transactions_df['vector_matches'] > 0).sum(),\n",
    "        (transactions_df['business_matches'] > 0).sum()\n",
    "    ],\n",
    "    'Average_Score': [\n",
    "        transactions_df['exact_score'].mean(),\n",
    "        transactions_df['fuzzy_score'].mean(),\n",
    "        transactions_df['vector_score'].mean(),\n",
    "        transactions_df['business_score'].mean()\n",
    "    ]\n",
    "})\n",
    "\n",
    "display(strategy_stats)\n",
    "\n",
    "# Strategy effectiveness chart\n",
    "fig = px.bar(\n",
    "    strategy_stats,\n",
    "    x='Strategy',\n",
    "    y='Records_with_Matches',\n",
    "    title='4-Strategy Matching Effectiveness',\n",
    "    labels={'Records_with_Matches': 'Records with Matches'}\n",
    ")\n",
    "fig.show()\n",
    "\n",
    "print(\"✅ Strategy analysis complete!\")"
   ]
  },
  {
   "cell_type": "markdown",
   "metadata": {},
   "source": [
    "## 10. Final Golden Record Analysis\n",
    "\n",
    "Analyze the final state of golden records in Spanner."
   ]
  },
  {
   "cell_type": "code",
   "execution_count": 14,
   "metadata": {},
   "outputs": [
    {
     "name": "stdout",
     "output_type": "stream",
     "text": [
      "🏆 Analyzing final golden record state...\n",
      "\n",
      "📊 Final golden entities count: 282\n",
      "\n",
      "🔄 Processing Path Distribution:\n"
     ]
    },
    {
     "data": {
      "text/html": [
       "<div>\n",
       "<style scoped>\n",
       "    .dataframe tbody tr th:only-of-type {\n",
       "        vertical-align: middle;\n",
       "    }\n",
       "\n",
       "    .dataframe tbody tr th {\n",
       "        vertical-align: top;\n",
       "    }\n",
       "\n",
       "    .dataframe thead th {\n",
       "        text-align: right;\n",
       "    }\n",
       "</style>\n",
       "<table border=\"1\" class=\"dataframe\">\n",
       "  <thead>\n",
       "    <tr style=\"text-align: right;\">\n",
       "      <th></th>\n",
       "      <th>processing_path</th>\n",
       "      <th>count</th>\n",
       "    </tr>\n",
       "  </thead>\n",
       "  <tbody>\n",
       "    <tr>\n",
       "      <th>0</th>\n",
       "      <td>batch_migrated</td>\n",
       "      <td>265</td>\n",
       "    </tr>\n",
       "    <tr>\n",
       "      <th>1</th>\n",
       "      <td>stream</td>\n",
       "      <td>17</td>\n",
       "    </tr>\n",
       "  </tbody>\n",
       "</table>\n",
       "</div>"
      ],
      "text/plain": [
       "  processing_path  count\n",
       "0  batch_migrated    265\n",
       "1          stream     17"
      ]
     },
     "metadata": {},
     "output_type": "display_data"
    },
    {
     "name": "stdout",
     "output_type": "stream",
     "text": [
      "\n",
      "📈 Source Record Count Distribution:\n"
     ]
    },
    {
     "data": {
      "text/html": [
       "<div>\n",
       "<style scoped>\n",
       "    .dataframe tbody tr th:only-of-type {\n",
       "        vertical-align: middle;\n",
       "    }\n",
       "\n",
       "    .dataframe tbody tr th {\n",
       "        vertical-align: top;\n",
       "    }\n",
       "\n",
       "    .dataframe thead th {\n",
       "        text-align: right;\n",
       "    }\n",
       "</style>\n",
       "<table border=\"1\" class=\"dataframe\">\n",
       "  <thead>\n",
       "    <tr style=\"text-align: right;\">\n",
       "      <th></th>\n",
       "      <th>source_record_count</th>\n",
       "      <th>entities</th>\n",
       "    </tr>\n",
       "  </thead>\n",
       "  <tbody>\n",
       "    <tr>\n",
       "      <th>0</th>\n",
       "      <td>1</td>\n",
       "      <td>217</td>\n",
       "    </tr>\n",
       "    <tr>\n",
       "      <th>1</th>\n",
       "      <td>2</td>\n",
       "      <td>49</td>\n",
       "    </tr>\n",
       "    <tr>\n",
       "      <th>2</th>\n",
       "      <td>3</td>\n",
       "      <td>15</td>\n",
       "    </tr>\n",
       "    <tr>\n",
       "      <th>3</th>\n",
       "      <td>5</td>\n",
       "      <td>1</td>\n",
       "    </tr>\n",
       "  </tbody>\n",
       "</table>\n",
       "</div>"
      ],
      "text/plain": [
       "   source_record_count  entities\n",
       "0                    1       217\n",
       "1                    2        49\n",
       "2                    3        15\n",
       "3                    5         1"
      ]
     },
     "metadata": {},
     "output_type": "display_data"
    },
    {
     "name": "stdout",
     "output_type": "stream",
     "text": [
      "\n",
      "🔄 Sample Updated Records (Streaming):\n"
     ]
    },
    {
     "data": {
      "text/html": [
       "<div>\n",
       "<style scoped>\n",
       "    .dataframe tbody tr th:only-of-type {\n",
       "        vertical-align: middle;\n",
       "    }\n",
       "\n",
       "    .dataframe tbody tr th {\n",
       "        vertical-align: top;\n",
       "    }\n",
       "\n",
       "    .dataframe thead th {\n",
       "        text-align: right;\n",
       "    }\n",
       "</style>\n",
       "<table border=\"1\" class=\"dataframe\">\n",
       "  <thead>\n",
       "    <tr style=\"text-align: right;\">\n",
       "      <th></th>\n",
       "      <th>entity_id</th>\n",
       "      <th>master_name</th>\n",
       "      <th>master_email</th>\n",
       "      <th>source_count</th>\n",
       "      <th>path</th>\n",
       "      <th>updated_at</th>\n",
       "    </tr>\n",
       "  </thead>\n",
       "  <tbody>\n",
       "    <tr>\n",
       "      <th>0</th>\n",
       "      <td>6bb82b5f-c4de-4964-824a-a60664d2fa88</td>\n",
       "      <td>JENNY LEE</td>\n",
       "      <td>nicholas99@example.org</td>\n",
       "      <td>1</td>\n",
       "      <td>stream</td>\n",
       "      <td>2025-09-24 00:11:13.346612+00:00</td>\n",
       "    </tr>\n",
       "    <tr>\n",
       "      <th>1</th>\n",
       "      <td>324517a1-5359-407d-9439-ba1372dc984f</td>\n",
       "      <td>MICHELLE ANDERSON</td>\n",
       "      <td>kristy39@example.com</td>\n",
       "      <td>2</td>\n",
       "      <td>stream</td>\n",
       "      <td>2025-09-24 00:11:11.611483+00:00</td>\n",
       "    </tr>\n",
       "    <tr>\n",
       "      <th>2</th>\n",
       "      <td>46dfe130-d61c-42d1-b384-53999b6e6676</td>\n",
       "      <td>THOMAS SANTOS</td>\n",
       "      <td>manuel01@example.net</td>\n",
       "      <td>1</td>\n",
       "      <td>stream</td>\n",
       "      <td>2025-09-24 00:11:07.725426+00:00</td>\n",
       "    </tr>\n",
       "    <tr>\n",
       "      <th>3</th>\n",
       "      <td>5d7f3e60-01c2-4f24-8b66-c87696ac797f</td>\n",
       "      <td>PATRICIA BUSH</td>\n",
       "      <td>kdunlap@example.net</td>\n",
       "      <td>2</td>\n",
       "      <td>stream</td>\n",
       "      <td>2025-09-24 00:11:05.969990+00:00</td>\n",
       "    </tr>\n",
       "    <tr>\n",
       "      <th>4</th>\n",
       "      <td>f4c15377-cf29-4b09-9187-3ed480a1f435</td>\n",
       "      <td>VANESSA REED</td>\n",
       "      <td>xanderson@example.net</td>\n",
       "      <td>2</td>\n",
       "      <td>stream</td>\n",
       "      <td>2025-09-24 00:10:56.459707+00:00</td>\n",
       "    </tr>\n",
       "    <tr>\n",
       "      <th>5</th>\n",
       "      <td>7f33b779-63a0-4baf-9b00-8dbb90629579</td>\n",
       "      <td>ELAINE NELSON</td>\n",
       "      <td>robertroach@example.net</td>\n",
       "      <td>2</td>\n",
       "      <td>stream</td>\n",
       "      <td>2025-09-24 00:10:42.862195+00:00</td>\n",
       "    </tr>\n",
       "    <tr>\n",
       "      <th>6</th>\n",
       "      <td>24f6520c-4ae4-44c1-b560-6cc040878672</td>\n",
       "      <td>LISA SAWYER</td>\n",
       "      <td>michael56@example.net</td>\n",
       "      <td>1</td>\n",
       "      <td>stream</td>\n",
       "      <td>2025-09-24 00:10:22.092090+00:00</td>\n",
       "    </tr>\n",
       "    <tr>\n",
       "      <th>7</th>\n",
       "      <td>c226b643-d8b3-4f3e-8b91-63f8e662d565</td>\n",
       "      <td>VINCENT HERRERA</td>\n",
       "      <td>jennifercarter@example.org</td>\n",
       "      <td>2</td>\n",
       "      <td>stream</td>\n",
       "      <td>2025-09-24 00:10:16.456482+00:00</td>\n",
       "    </tr>\n",
       "    <tr>\n",
       "      <th>8</th>\n",
       "      <td>225b974e-eead-45f6-8419-e18555b07d4d</td>\n",
       "      <td>NICHOLAS CHAVEZ</td>\n",
       "      <td>mitchellgriffith@outlook.com</td>\n",
       "      <td>1</td>\n",
       "      <td>stream</td>\n",
       "      <td>2025-09-24 00:10:08.700013+00:00</td>\n",
       "    </tr>\n",
       "    <tr>\n",
       "      <th>9</th>\n",
       "      <td>bf2ea1e3-bc9c-4455-807b-8dfbb9d1315d</td>\n",
       "      <td>ERIC YU</td>\n",
       "      <td>yorkcasey@outlook.com</td>\n",
       "      <td>1</td>\n",
       "      <td>stream</td>\n",
       "      <td>2025-09-24 00:10:04.955328+00:00</td>\n",
       "    </tr>\n",
       "  </tbody>\n",
       "</table>\n",
       "</div>"
      ],
      "text/plain": [
       "                              entity_id        master_name  \\\n",
       "0  6bb82b5f-c4de-4964-824a-a60664d2fa88          JENNY LEE   \n",
       "1  324517a1-5359-407d-9439-ba1372dc984f  MICHELLE ANDERSON   \n",
       "2  46dfe130-d61c-42d1-b384-53999b6e6676      THOMAS SANTOS   \n",
       "3  5d7f3e60-01c2-4f24-8b66-c87696ac797f      PATRICIA BUSH   \n",
       "4  f4c15377-cf29-4b09-9187-3ed480a1f435       VANESSA REED   \n",
       "5  7f33b779-63a0-4baf-9b00-8dbb90629579      ELAINE NELSON   \n",
       "6  24f6520c-4ae4-44c1-b560-6cc040878672        LISA SAWYER   \n",
       "7  c226b643-d8b3-4f3e-8b91-63f8e662d565    VINCENT HERRERA   \n",
       "8  225b974e-eead-45f6-8419-e18555b07d4d    NICHOLAS CHAVEZ   \n",
       "9  bf2ea1e3-bc9c-4455-807b-8dfbb9d1315d            ERIC YU   \n",
       "\n",
       "                   master_email  source_count    path  \\\n",
       "0        nicholas99@example.org             1  stream   \n",
       "1          kristy39@example.com             2  stream   \n",
       "2          manuel01@example.net             1  stream   \n",
       "3           kdunlap@example.net             2  stream   \n",
       "4         xanderson@example.net             2  stream   \n",
       "5       robertroach@example.net             2  stream   \n",
       "6         michael56@example.net             1  stream   \n",
       "7    jennifercarter@example.org             2  stream   \n",
       "8  mitchellgriffith@outlook.com             1  stream   \n",
       "9         yorkcasey@outlook.com             1  stream   \n",
       "\n",
       "                        updated_at  \n",
       "0 2025-09-24 00:11:13.346612+00:00  \n",
       "1 2025-09-24 00:11:11.611483+00:00  \n",
       "2 2025-09-24 00:11:07.725426+00:00  \n",
       "3 2025-09-24 00:11:05.969990+00:00  \n",
       "4 2025-09-24 00:10:56.459707+00:00  \n",
       "5 2025-09-24 00:10:42.862195+00:00  \n",
       "6 2025-09-24 00:10:22.092090+00:00  \n",
       "7 2025-09-24 00:10:16.456482+00:00  \n",
       "8 2025-09-24 00:10:08.700013+00:00  \n",
       "9 2025-09-24 00:10:04.955328+00:00  "
      ]
     },
     "metadata": {},
     "output_type": "display_data"
    },
    {
     "name": "stdout",
     "output_type": "stream",
     "text": [
      "\n",
      "✅ Golden record analysis complete!\n"
     ]
    }
   ],
   "source": [
    "print(\"🏆 Analyzing final golden record state...\")\n",
    "\n",
    "# Get final golden record count\n",
    "final_count = spanner_helper.get_table_count(\"golden_entities\")\n",
    "print(f\"\\n📊 Final golden entities count: {final_count}\")\n",
    "\n",
    "# Analyze processing paths\n",
    "path_query = \"\"\"\n",
    "SELECT processing_path, COUNT(*) as count\n",
    "FROM golden_entities\n",
    "GROUP BY processing_path\n",
    "ORDER BY count DESC\n",
    "\"\"\"\n",
    "\n",
    "path_df = spanner_helper.execute_sql(path_query)\n",
    "if not path_df.empty:\n",
    "    path_df.columns = ['processing_path', 'count']\n",
    "    print(\"\\n🔄 Processing Path Distribution:\")\n",
    "    display(path_df)\n",
    "\n",
    "# Analyze source record counts\n",
    "source_query = \"\"\"\n",
    "SELECT source_record_count, COUNT(*) as entities\n",
    "FROM golden_entities\n",
    "GROUP BY source_record_count\n",
    "ORDER BY source_record_count\n",
    "\"\"\"\n",
    "\n",
    "source_df = spanner_helper.execute_sql(source_query)\n",
    "if not source_df.empty:\n",
    "    source_df.columns = ['source_record_count', 'entities']\n",
    "    print(\"\\n📈 Source Record Count Distribution:\")\n",
    "    display(source_df)\n",
    "\n",
    "# Show sample updated records\n",
    "updated_query = \"\"\"\n",
    "SELECT entity_id, master_name, master_email, source_record_count,\n",
    "       processing_path, updated_at\n",
    "FROM golden_entities\n",
    "WHERE processing_path = 'stream'\n",
    "ORDER BY updated_at DESC\n",
    "LIMIT 10\n",
    "\"\"\"\n",
    "\n",
    "updated_df = spanner_helper.execute_sql(updated_query)\n",
    "if not updated_df.empty:\n",
    "    updated_df.columns = ['entity_id', 'master_name',\n",
    "                          'master_email', 'source_count', 'path', 'updated_at']\n",
    "    print(\"\\n🔄 Sample Updated Records (Streaming):\")\n",
    "    display(updated_df)\n",
    "\n",
    "print(\"\\n✅ Golden record analysis complete!\")"
   ]
  },
  {
   "cell_type": "markdown",
   "metadata": {},
   "source": [
    "## 11. Performance Metrics and Summary\n",
    "\n",
    "Calculate key performance indicators for the 4-strategy streaming MDM pipeline."
   ]
  },
  {
   "cell_type": "code",
   "execution_count": 15,
   "metadata": {},
   "outputs": [
    {
     "name": "stdout",
     "output_type": "stream",
     "text": [
      "📈 Calculating 4-Strategy Streaming MDM Performance Metrics...\n",
      "\n",
      "📊 Pipeline Statistics:\n",
      "  Initial golden records (from BigQuery): 265\n",
      "  Streaming records processed: 100\n",
      "  Final golden records: 282\n",
      "  Net new entities created: 17\n",
      "  Entity consolidation rate: 83.0%\n",
      "\n",
      "⚡ Performance Metrics:\n",
      "  Average processing time: 1922ms\n",
      "  Sub-second guarantee: 0/100 (0.0%)\n",
      "  Target <400ms: 0/100 (0.0%)\n",
      "\n",
      "🎯 4-Strategy Matching Results:\n",
      "  Auto-merge rate: 83/100 (83.0%)\n",
      "  New entity rate: 17/100 (17.0%)\n",
      "  Average confidence score: 0.660\n",
      "\n",
      "✅ Performance analysis complete!\n"
     ]
    }
   ],
   "source": [
    "print(\"📈 Calculating 4-Strategy Streaming MDM Performance Metrics...\")\n",
    "\n",
    "# Overall pipeline statistics\n",
    "initial_golden_count = golden_count if 'golden_count' in locals() else 0\n",
    "final_golden_count = spanner_helper.get_table_count(\"golden_entities\")\n",
    "new_entities_created = final_golden_count - initial_golden_count\n",
    "\n",
    "print(f\"\\n📊 Pipeline Statistics:\")\n",
    "print(f\"  Initial golden records (from BigQuery): {initial_golden_count}\")\n",
    "print(f\"  Streaming records processed: {NUM_STREAMING_RECORDS}\")\n",
    "print(f\"  Final golden records: {final_golden_count}\")\n",
    "print(f\"  Net new entities created: {new_entities_created}\")\n",
    "print(\n",
    "    f\"  Entity consolidation rate: {((NUM_STREAMING_RECORDS - new_entities_created) / NUM_STREAMING_RECORDS * 100):.1f}%\")\n",
    "\n",
    "# Performance metrics from transactions\n",
    "if 'transactions_df' in locals() and not transactions_df.empty:\n",
    "    print(f\"\\n⚡ Performance Metrics:\")\n",
    "    print(\n",
    "        f\"  Average processing time: {transactions_df['processing_time_ms'].mean():.0f}ms\")\n",
    "    print(\n",
    "        f\"  Sub-second guarantee: {(transactions_df['processing_time_ms'] < 1000).sum()}/{len(transactions_df)} ({(transactions_df['processing_time_ms'] < 1000).mean()*100:.1f}%)\")\n",
    "    print(\n",
    "        f\"  Target <400ms: {(transactions_df['processing_time_ms'] < 400).sum()}/{len(transactions_df)} ({(transactions_df['processing_time_ms'] < 400).mean()*100:.1f}%)\")\n",
    "\n",
    "    print(f\"\\n🎯 4-Strategy Matching Results:\")\n",
    "    print(\n",
    "        f\"  Auto-merge rate: {action_counts.get('AUTO_MERGE', 0)}/{NUM_STREAMING_RECORDS} ({action_counts.get('AUTO_MERGE', 0)/NUM_STREAMING_RECORDS*100:.1f}%)\")\n",
    "    print(\n",
    "        f\"  New entity rate: {action_counts.get('CREATE_NEW', 0)}/{NUM_STREAMING_RECORDS} ({action_counts.get('CREATE_NEW', 0)/NUM_STREAMING_RECORDS*100:.1f}%)\")\n",
    "    print(\n",
    "        f\"  Average confidence score: {transactions_df['combined_score'].mean():.3f}\")\n",
    "\n",
    "print(\"\\n✅ Performance analysis complete!\")"
   ]
  },
  {
   "cell_type": "markdown",
   "metadata": {},
   "source": [
    "## 12. Cleanup and Cost Management\n",
    "\n",
    "Optional cleanup to avoid ongoing Spanner charges."
   ]
  },
  {
   "cell_type": "code",
   "execution_count": 16,
   "metadata": {},
   "outputs": [
    {
     "name": "stdout",
     "output_type": "stream",
     "text": [
      "🧹 Demo Cleanup Options:\n",
      "==================================================\n",
      "💰 Current Spanner instance cost: ~$65/month for mdm-streaming-demo\n",
      "📊 Processing units: 100 (regional)\n",
      "🗃️ Database: mdm_streaming\n",
      "\n",
      "⚠️ To avoid ongoing charges, you can delete the Spanner instance:\n",
      "   gcloud spanner instances delete mdm-streaming-demo --quiet\n",
      "\n",
      "📁 Results preserved in:\n",
      "   results/streaming_transactions.csv\n",
      "   This notebook with all outputs\n",
      "\n",
      "💡 The BigQuery golden records remain unchanged for future use.\n",
      "✅ Streaming MDM demo completed successfully!\n"
     ]
    }
   ],
   "source": [
    "print(\"🧹 Demo Cleanup Options:\")\n",
    "print(\"=\" * 50)\n",
    "print(f\"💰 Current Spanner instance cost: ~$65/month for {INSTANCE_ID}\")\n",
    "print(f\"📊 Processing units: 100 (regional)\")\n",
    "print(f\"🗃️ Database: {DATABASE_ID}\")\n",
    "print()\n",
    "print(\"⚠️ To avoid ongoing charges, you can delete the Spanner instance:\")\n",
    "print(f\"   gcloud spanner instances delete {INSTANCE_ID} --quiet\")\n",
    "print()\n",
    "print(\"📁 Results preserved in:\")\n",
    "print(f\"   {csv_file}\")\n",
    "print(f\"   This notebook with all outputs\")\n",
    "print()\n",
    "print(\"💡 The BigQuery golden records remain unchanged for future use.\")\n",
    "print(\"✅ Streaming MDM demo completed successfully!\")"
   ]
  }
 ],
 "metadata": {
  "kernelspec": {
   "display_name": ".venv",
   "language": "python",
   "name": "python3"
  },
  "language_info": {
   "codemirror_mode": {
    "name": "ipython",
    "version": 3
   },
   "file_extension": ".py",
   "mimetype": "text/x-python",
   "name": "python",
   "nbconvert_exporter": "python",
   "pygments_lexer": "ipython3",
   "version": "3.12.11"
  }
 },
 "nbformat": 4,
 "nbformat_minor": 4
}
